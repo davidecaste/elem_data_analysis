{
  "cells": [
    {
      "cell_type": "markdown",
      "metadata": {
        "id": "fx-dre28lyGn"
      },
      "source": [
        "Printed copies of *Elements of Data Science* are available now, with a **full color interior**, from [Lulu.com](https://www.lulu.com/shop/allen-downey/elements-of-data-science/paperback/product-9dyrwn.html)."
      ]
    },
    {
      "cell_type": "markdown",
      "metadata": {
        "id": "L0k-CQnvlyGp"
      },
      "source": [
        "# Loops and Files"
      ]
    },
    {
      "cell_type": "markdown",
      "metadata": {
        "tags": [],
        "id": "6GPzSBMFlyGq"
      },
      "source": [
        "[Click here to run this notebook on Colab](https://colab.research.google.com/github/AllenDowney/ElementsOfDataScience/blob/v1/04_loops.ipynb)."
      ]
    },
    {
      "cell_type": "code",
      "execution_count": 1,
      "metadata": {
        "tags": [],
        "colab": {
          "base_uri": "https://localhost:8080/"
        },
        "id": "qjMU0Rb4lyGq",
        "outputId": "aaf8bc11-2618-4d1c-dbe8-c247d6d28089"
      },
      "outputs": [
        {
          "output_type": "stream",
          "name": "stdout",
          "text": [
            "Downloaded utils.py\n"
          ]
        }
      ],
      "source": [
        "from os.path import basename, exists\n",
        "\n",
        "def download(url):\n",
        "    filename = basename(url)\n",
        "    if not exists(filename):\n",
        "        from urllib.request import urlretrieve\n",
        "\n",
        "        local, _ = urlretrieve(url, filename)\n",
        "        print(\"Downloaded \" + str(local))\n",
        "    return filename\n",
        "\n",
        "download('https://github.com/AllenDowney/ElementsOfDataScience/raw/v1/utils.py')\n",
        "\n",
        "import utils"
      ]
    },
    {
      "cell_type": "markdown",
      "metadata": {
        "id": "t7i8x2f8lyGr"
      },
      "source": [
        "This chapter presents loops, which are used to perform repeated computation, and files, which are used to store data.\n",
        "As an example, we will download the famous book *War and Peace* and write a loop that reads the book and counts the words.\n",
        "This example presents some new computational tools -- it is also an introduction to working with textual data."
      ]
    },
    {
      "cell_type": "markdown",
      "metadata": {
        "id": "M5THMoAAlyGs"
      },
      "source": [
        "## Loops\n",
        "\n",
        "One of the most important elements of computation is repetition, and the most common way to perform repetitive computations is a `for` loop.\n",
        "As a simple example, suppose we want to display the elements of a tuple.  Here's a tuple of three integers:"
      ]
    },
    {
      "cell_type": "code",
      "execution_count": 2,
      "metadata": {
        "id": "5nDUYZa-lyGs"
      },
      "outputs": [],
      "source": [
        "t = (1, 2, 3)"
      ]
    },
    {
      "cell_type": "markdown",
      "metadata": {
        "id": "qbZ8fH8-lyGt"
      },
      "source": [
        "And here's a `for` loop that prints the elements."
      ]
    },
    {
      "cell_type": "code",
      "execution_count": 3,
      "metadata": {
        "colab": {
          "base_uri": "https://localhost:8080/"
        },
        "id": "UuoweUamlyGt",
        "outputId": "4744b8dd-2d80-4a9c-85e6-3c698f4d665f"
      },
      "outputs": [
        {
          "output_type": "stream",
          "name": "stdout",
          "text": [
            "1\n",
            "2\n",
            "3\n"
          ]
        }
      ],
      "source": [
        "for x in t:\n",
        "    print(x)"
      ]
    },
    {
      "cell_type": "markdown",
      "metadata": {
        "id": "c6bxwS1QlyGu"
      },
      "source": [
        "The first line of the loop is a **header** that specifies the tuple, `t`, and a variable name, `x`.  The tuple must already exists, but if `x` does not, the loop will create it.  Note that the header ends with a colon, `:`.\n",
        "\n",
        "Inside the loop is a `print` statement, which displays the value of `x`. So here's what happens:\n",
        "\n",
        "1. When the loop starts, it gets the first element of `t`, which is `1`, and assigns it to `x`.  It executes the `print` statement, which displays the value `1`.\n",
        "\n",
        "2. Then it gets the second element of `t`, which is `2`, and displays it.\n",
        "\n",
        "3. Then it gets the third element of `t`, which is `3`, and displays it.\n",
        "\n",
        "After printing the last element of the tuple, the loop ends.\n",
        "We can also loop through the letters in a string:"
      ]
    },
    {
      "cell_type": "code",
      "execution_count": 4,
      "metadata": {
        "colab": {
          "base_uri": "https://localhost:8080/"
        },
        "id": "4Fii7kW1lyGu",
        "outputId": "93fd712f-1731-4a4a-c48a-f86193041c17"
      },
      "outputs": [
        {
          "output_type": "stream",
          "name": "stdout",
          "text": [
            "D\n",
            "a\n",
            "t\n",
            "a\n"
          ]
        }
      ],
      "source": [
        "word = 'Data'\n",
        "\n",
        "for letter in word:\n",
        "    print(letter)"
      ]
    },
    {
      "cell_type": "markdown",
      "metadata": {
        "id": "ICvEv_ydlyGv"
      },
      "source": [
        "When the loop begins, `word` already exists, but `letter` does not.\n",
        "Again, the loop creates `letter` and assigns values to it.\n",
        "The variable created by the loop is called the **loop variable**.\n",
        "You can give it any name you like -- in this example, I chose `letter` to remind me what kind of value it contains.\n",
        "After the loop ends, the loop variable contains the last value."
      ]
    },
    {
      "cell_type": "code",
      "execution_count": 5,
      "metadata": {
        "colab": {
          "base_uri": "https://localhost:8080/",
          "height": 34
        },
        "id": "fOU-QJyYlyGv",
        "outputId": "e5ffb053-726f-443c-fd02-1157c0bc9c7c"
      },
      "outputs": [
        {
          "output_type": "execute_result",
          "data": {
            "text/plain": [
              "'a'"
            ],
            "application/vnd.google.colaboratory.intrinsic+json": {
              "type": "string"
            }
          },
          "metadata": {},
          "execution_count": 5
        }
      ],
      "source": [
        "letter"
      ]
    },
    {
      "cell_type": "markdown",
      "metadata": {
        "id": "FaeC6M9SlyGw"
      },
      "source": [
        "**Exercise:** Create a list called `sequence` with four elements of any type.\n",
        "Write a `for` loop that prints the elements.\n",
        "Call the loop variable `element`."
      ]
    },
    {
      "cell_type": "code",
      "execution_count": 7,
      "metadata": {
        "colab": {
          "base_uri": "https://localhost:8080/"
        },
        "id": "3jwEMKT0lyGw",
        "outputId": "9b4f8ac3-6bab-4300-b5bc-a8e984737cbf"
      },
      "outputs": [
        {
          "output_type": "stream",
          "name": "stdout",
          "text": [
            "c\n",
            "i\n",
            "a\n",
            "o\n"
          ]
        }
      ],
      "source": [
        "# Solution goes here\n",
        "\n",
        "sequence = list('ciao')\n",
        "\n",
        "for element in sequence:\n",
        "    print(element)"
      ]
    },
    {
      "cell_type": "markdown",
      "metadata": {
        "id": "rsg6pSkilyGw"
      },
      "source": [
        "## Counting with Loops\n",
        "\n",
        "Inside a loop, it is common to use a variable to count the number of times something happens.\n",
        "We've already seen that you can create a variable and give it a value, like this:"
      ]
    },
    {
      "cell_type": "code",
      "execution_count": 8,
      "metadata": {
        "colab": {
          "base_uri": "https://localhost:8080/"
        },
        "id": "e9qsIPRwlyGw",
        "outputId": "a7f11575-98f5-4ad9-cd68-289ddee3347a"
      },
      "outputs": [
        {
          "output_type": "execute_result",
          "data": {
            "text/plain": [
              "0"
            ]
          },
          "metadata": {},
          "execution_count": 8
        }
      ],
      "source": [
        "count = 0\n",
        "count"
      ]
    },
    {
      "cell_type": "markdown",
      "metadata": {
        "id": "7K2oTr76lyGx"
      },
      "source": [
        "If you assign a different value to the same variable, the new value replaces the old one."
      ]
    },
    {
      "cell_type": "code",
      "execution_count": 9,
      "metadata": {
        "colab": {
          "base_uri": "https://localhost:8080/"
        },
        "id": "VJSJpbj5lyGx",
        "outputId": "18659bb5-c96a-414d-e4e3-0988331981a3"
      },
      "outputs": [
        {
          "output_type": "execute_result",
          "data": {
            "text/plain": [
              "1"
            ]
          },
          "metadata": {},
          "execution_count": 9
        }
      ],
      "source": [
        "count = 1\n",
        "count"
      ]
    },
    {
      "cell_type": "markdown",
      "metadata": {
        "id": "PqJLCKKOlyGx"
      },
      "source": [
        "You can increase the value of a variable by reading the old value, adding `1`, and assigning the result back to the original variable."
      ]
    },
    {
      "cell_type": "code",
      "execution_count": 10,
      "metadata": {
        "colab": {
          "base_uri": "https://localhost:8080/"
        },
        "id": "lA9Dlmn5lyGy",
        "outputId": "4bbbe4fd-54b7-415d-d782-a352892babec"
      },
      "outputs": [
        {
          "output_type": "execute_result",
          "data": {
            "text/plain": [
              "2"
            ]
          },
          "metadata": {},
          "execution_count": 10
        }
      ],
      "source": [
        "count = count + 1\n",
        "count"
      ]
    },
    {
      "cell_type": "markdown",
      "metadata": {
        "id": "Kb0IUuO9lyGy"
      },
      "source": [
        "Increasing the value of a variable is called **incrementing** and decreasing the value is called **decrementing**.\n",
        "These operations are so common that there are special operators for them."
      ]
    },
    {
      "cell_type": "code",
      "execution_count": 11,
      "metadata": {
        "colab": {
          "base_uri": "https://localhost:8080/"
        },
        "id": "8SxADwiClyGy",
        "outputId": "41b220b6-21cd-45b7-a3e3-563583f31c37"
      },
      "outputs": [
        {
          "output_type": "execute_result",
          "data": {
            "text/plain": [
              "3"
            ]
          },
          "metadata": {},
          "execution_count": 11
        }
      ],
      "source": [
        "count += 1\n",
        "count"
      ]
    },
    {
      "cell_type": "markdown",
      "metadata": {
        "id": "anOKFElYlyGz"
      },
      "source": [
        "In this example, the `+=` operator reads the value of `count`, adds `1`, and assigns the result back to `count`.\n",
        "Python also provides `-=` and other update operators like `*=` and `/=`."
      ]
    },
    {
      "cell_type": "markdown",
      "metadata": {
        "id": "-1kojN-6lyGz"
      },
      "source": [
        "**Exercise:** The following is a number trick from the website *Learn With Math Games*:\n",
        "\n",
        "> *Finding Someone's Age*\n",
        ">\n",
        "> * Ask the person to multiply the first number of their age by 5.\n",
        ">\n",
        "> * Tell them to add 3.\n",
        ">\n",
        "> * Now tell them to double this figure.\n",
        ">\n",
        "> * Finally, have the person add the second number of their age to the figure and have them tell you the answer.\n",
        ">\n",
        "> * Deduct 6 and you will have their age.\n",
        "\n",
        "Test this algorithm using your age.\n",
        "Use a single variable and update it using `+=` and other update operators."
      ]
    },
    {
      "cell_type": "markdown",
      "metadata": {
        "tags": [],
        "id": "r6ITeWvLlyGz"
      },
      "source": [
        "The original game is at <https://www.learn-with-math-games.com/math-number-tricks.html>"
      ]
    },
    {
      "cell_type": "code",
      "execution_count": 26,
      "metadata": {
        "colab": {
          "base_uri": "https://localhost:8080/"
        },
        "id": "WbDXsSeWlyGz",
        "outputId": "3dcaee6c-3a06-46ea-dc26-8df7e70e103c"
      },
      "outputs": [
        {
          "output_type": "execute_result",
          "data": {
            "text/plain": [
              "31"
            ]
          },
          "metadata": {},
          "execution_count": 26
        }
      ],
      "source": [
        "# Solution goes here\n",
        "age = [3, 1]\n",
        "\n",
        "age[0] *= 5\n",
        "\n",
        "age[0] +=3\n",
        "\n",
        "age[0] *= 2\n",
        "\n",
        "age[0] += age[1]\n",
        "\n",
        "age[0] -=6\n",
        "\n",
        "age[0]"
      ]
    },
    {
      "cell_type": "markdown",
      "metadata": {
        "id": "kZAirrHulyG0"
      },
      "source": [
        "## Files\n",
        "\n",
        "Now that we know how to count, let's see how to read words from a file.\n",
        "As an example, we'll read a file that contains the text of Tolstoy's famous novel, *War and Peace*.\n",
        "We can download it from Project Gutenberg, which is a repository of free books.\n",
        "Instructions are in the notebook for this chapter."
      ]
    },
    {
      "cell_type": "markdown",
      "metadata": {
        "tags": [],
        "id": "Mfo4mnWDlyG0"
      },
      "source": [
        "When you run the following cell, it checks to see whether you already have a file named `2600-0.txt`, which is the name of the file that contains the text of *War and Peace*.\n",
        "If not, it copies the file to your computer.\n",
        "The file is [originally from Project Gutenberg](https://www.gutenberg.org/files/2600/2600-0.txt), but I put a slightly cleaned up version of it in the repository for this book."
      ]
    },
    {
      "cell_type": "code",
      "execution_count": 27,
      "metadata": {
        "tags": [],
        "colab": {
          "base_uri": "https://localhost:8080/"
        },
        "id": "aDH_l6CtlyG1",
        "outputId": "760b6344-bb2a-4f45-c325-b4cf96eda306"
      },
      "outputs": [
        {
          "output_type": "stream",
          "name": "stdout",
          "text": [
            "Downloaded 2600-0.txt\n"
          ]
        }
      ],
      "source": [
        "download('https://github.com/AllenDowney/ElementsOfDataScience/raw/v1/data/2600-0.txt');"
      ]
    },
    {
      "cell_type": "markdown",
      "metadata": {
        "tags": [],
        "id": "keHtKY5vlyG1"
      },
      "source": [
        "If you are running this notebook on Colab, it will copy the file to a \"virtual file system\" on Colab, which means it will disappear if you leave the notebook idle for a while.  In that case, you can download it again later."
      ]
    },
    {
      "cell_type": "markdown",
      "metadata": {
        "id": "UON0NA_slyG1"
      },
      "source": [
        "In order to read the contents of the file, you have to **open** it, which you can do with the `open` function."
      ]
    },
    {
      "cell_type": "code",
      "execution_count": 28,
      "metadata": {
        "tags": [],
        "id": "VXHEfmgTlyG2"
      },
      "outputs": [],
      "source": [
        "# On Windows, it might be necessary to specify the encoding\n",
        "\n",
        "# fp = open('2600-0.txt', encoding='utf-8')"
      ]
    },
    {
      "cell_type": "code",
      "execution_count": 29,
      "metadata": {
        "colab": {
          "base_uri": "https://localhost:8080/"
        },
        "id": "ccmdk5-QlyG2",
        "outputId": "3e6f20cf-5e65-4c51-c64f-5e203626934e"
      },
      "outputs": [
        {
          "output_type": "execute_result",
          "data": {
            "text/plain": [
              "<_io.TextIOWrapper name='2600-0.txt' mode='r' encoding='utf-8'>"
            ]
          },
          "metadata": {},
          "execution_count": 29
        }
      ],
      "source": [
        "fp = open('2600-0.txt')\n",
        "fp"
      ]
    },
    {
      "cell_type": "markdown",
      "metadata": {
        "id": "CaX6xd_alyG2"
      },
      "source": [
        "The result is a `TextIOWrapper`, which is a type of **file pointer**.\n",
        "It contains the name of the file, the mode (which is `r` for \"reading\") and the encoding (which is `UTF` for \"Unicode Transformation Format\").\n",
        "A file pointer is like a bookmark -- it keeps track of which parts of the file you have read.\n",
        "\n",
        "If you use a file pointer in a `for` loop, it loops through the lines in the file.\n",
        "So we can count the number of lines like this:"
      ]
    },
    {
      "cell_type": "code",
      "execution_count": 30,
      "metadata": {
        "id": "2HkIcXgrlyG3"
      },
      "outputs": [],
      "source": [
        "fp = open('2600-0.txt')\n",
        "count = 0\n",
        "for line in fp:\n",
        "    count += 1"
      ]
    },
    {
      "cell_type": "markdown",
      "metadata": {
        "id": "rPH54WeFlyG3"
      },
      "source": [
        "And then display the result."
      ]
    },
    {
      "cell_type": "code",
      "execution_count": 31,
      "metadata": {
        "colab": {
          "base_uri": "https://localhost:8080/"
        },
        "id": "gtf-hDWSlyG3",
        "outputId": "969cbe03-51a0-4d49-f4c3-db1f3ba31163"
      },
      "outputs": [
        {
          "output_type": "execute_result",
          "data": {
            "text/plain": [
              "66050"
            ]
          },
          "metadata": {},
          "execution_count": 31
        }
      ],
      "source": [
        "count"
      ]
    },
    {
      "cell_type": "markdown",
      "metadata": {
        "id": "8qydXJr9lyG3"
      },
      "source": [
        "There are about 66,000 lines in this file."
      ]
    },
    {
      "cell_type": "markdown",
      "metadata": {
        "id": "ol9MBCEtlyG3"
      },
      "source": [
        "## if Statements\n",
        "\n",
        "`if` statements are used to check whether a condition is true and, depending on the result, perform different computations.\n",
        "A condition is an expression whose value is either `True` or `False`.\n",
        "For example, the following expression compares the final value of `count` to a number:"
      ]
    },
    {
      "cell_type": "code",
      "execution_count": 32,
      "metadata": {
        "colab": {
          "base_uri": "https://localhost:8080/"
        },
        "id": "uGHVo37elyG3",
        "outputId": "b71b0f3f-30ed-462a-d040-1916c7184aed"
      },
      "outputs": [
        {
          "output_type": "execute_result",
          "data": {
            "text/plain": [
              "True"
            ]
          },
          "metadata": {},
          "execution_count": 32
        }
      ],
      "source": [
        "count > 60000"
      ]
    },
    {
      "cell_type": "markdown",
      "metadata": {
        "id": "nBuOC3AUlyG3"
      },
      "source": [
        "For *War and Peace*, the result is `True`.\n",
        "We can use this condition in an `if` statement to display a message, or not, depending on the result."
      ]
    },
    {
      "cell_type": "code",
      "execution_count": 33,
      "metadata": {
        "colab": {
          "base_uri": "https://localhost:8080/"
        },
        "id": "WDpZHOJzlyG3",
        "outputId": "846f908c-d4d7-4c5c-940d-a9a8ff59d40a"
      },
      "outputs": [
        {
          "output_type": "stream",
          "name": "stdout",
          "text": [
            "Long book!\n"
          ]
        }
      ],
      "source": [
        "if count > 60000:\n",
        "    print('Long book!')"
      ]
    },
    {
      "cell_type": "markdown",
      "metadata": {
        "id": "TvIaHIILlyG3"
      },
      "source": [
        "The first line specifies the condition we're checking for.\n",
        "Like the header of a `for` statement, the first line of an `if` statement has to end with a colon.\n",
        "\n",
        "If the condition is true, the indented statement runs; otherwise, it doesn't.\n",
        "In the previous example, the condition is true, so the `print` statement runs.\n",
        "In the following example, the condition is false, so the `print` statement doesn't run."
      ]
    },
    {
      "cell_type": "code",
      "execution_count": 34,
      "metadata": {
        "id": "KzdsSAMjlyG3"
      },
      "outputs": [],
      "source": [
        "if count < 1000:\n",
        "    print('Short book!')"
      ]
    },
    {
      "cell_type": "markdown",
      "metadata": {
        "id": "8tv93rrAlyG4"
      },
      "source": [
        "We can put an `if` statement inside a `for` loop.\n",
        "The following example only prints a line from the book when `count` is `0`.\n",
        "The other lines are read, but not displayed."
      ]
    },
    {
      "cell_type": "code",
      "execution_count": 35,
      "metadata": {
        "colab": {
          "base_uri": "https://localhost:8080/"
        },
        "id": "eF__y5folyG4",
        "outputId": "cd6f8e48-8e90-412b-e9ae-dfaef764e6ae"
      },
      "outputs": [
        {
          "output_type": "stream",
          "name": "stdout",
          "text": [
            "The Project Gutenberg EBook of War and Peace, by Leo Tolstoy\n",
            "\n"
          ]
        }
      ],
      "source": [
        "fp = open('2600-0.txt')\n",
        "count = 0\n",
        "for line in fp:\n",
        "    if count == 0:\n",
        "        print(line)\n",
        "    count += 1"
      ]
    },
    {
      "cell_type": "markdown",
      "metadata": {
        "id": "Zr7cSKHDlyG4"
      },
      "source": [
        "Notice that we use `==` to compare values and check if they are equal, not `=`, which is used in assignment statements. Also, notice the indentation in this example:\n",
        "\n",
        "* Statements inside the `for` loop are indented.\n",
        "\n",
        "* The statement inside the `if` statement is indented.\n",
        "\n",
        "* The statement `count += 1` is **outdented** from the previous line, so it ends the `if` statement.  But it is still inside the `for` loop.\n",
        "\n",
        "It is legal in Python to use spaces or tabs for indentation, but the most common convention is to use four spaces, never tabs."
      ]
    },
    {
      "cell_type": "markdown",
      "metadata": {
        "id": "pehsSBdHlyG4"
      },
      "source": [
        "## The `break` Statement\n",
        "\n",
        "If we display the final value of `count`, we see that the loop reads the entire file, but only prints one line:"
      ]
    },
    {
      "cell_type": "code",
      "execution_count": 36,
      "metadata": {
        "colab": {
          "base_uri": "https://localhost:8080/"
        },
        "id": "8ToqFN1MlyG5",
        "outputId": "7c1c6482-b2e2-468f-9248-90bb6715885c"
      },
      "outputs": [
        {
          "output_type": "execute_result",
          "data": {
            "text/plain": [
              "66050"
            ]
          },
          "metadata": {},
          "execution_count": 36
        }
      ],
      "source": [
        "count"
      ]
    },
    {
      "cell_type": "markdown",
      "metadata": {
        "id": "yyrCSqiClyG5"
      },
      "source": [
        "We can avoid reading the whole file by using a `break` statement, like this:"
      ]
    },
    {
      "cell_type": "code",
      "execution_count": 37,
      "metadata": {
        "colab": {
          "base_uri": "https://localhost:8080/"
        },
        "id": "3gywRXRSlyG5",
        "outputId": "e927eb75-c073-4fb9-ddc8-6371be17e560"
      },
      "outputs": [
        {
          "output_type": "stream",
          "name": "stdout",
          "text": [
            "The Project Gutenberg EBook of War and Peace, by Leo Tolstoy\n",
            "\n"
          ]
        }
      ],
      "source": [
        "fp = open('2600-0.txt')\n",
        "count = 0\n",
        "for line in fp:\n",
        "    print(line)\n",
        "    count += 1\n",
        "    if count == 1:\n",
        "        break"
      ]
    },
    {
      "cell_type": "markdown",
      "metadata": {
        "id": "FTtM8b3hlyG5"
      },
      "source": [
        "The `break` statement ends the loop immediately, skipping the rest of the file, as we can confirm by checking the final value of `count`."
      ]
    },
    {
      "cell_type": "code",
      "execution_count": 38,
      "metadata": {
        "colab": {
          "base_uri": "https://localhost:8080/"
        },
        "id": "Cp0mVGBrlyG6",
        "outputId": "7c889c7f-5bef-43d1-b4d5-cc4b28c25778"
      },
      "outputs": [
        {
          "output_type": "execute_result",
          "data": {
            "text/plain": [
              "1"
            ]
          },
          "metadata": {},
          "execution_count": 38
        }
      ],
      "source": [
        "count"
      ]
    },
    {
      "cell_type": "markdown",
      "metadata": {
        "id": "WgT8FbPGlyG6"
      },
      "source": [
        "**Exercise:** Write a loop that prints the first 5 lines of the file and then breaks out of the loop."
      ]
    },
    {
      "cell_type": "code",
      "execution_count": 40,
      "metadata": {
        "colab": {
          "base_uri": "https://localhost:8080/"
        },
        "id": "J3C101snlyG6",
        "outputId": "f944ec9c-eb90-40f6-cd43-7352434bcf93"
      },
      "outputs": [
        {
          "output_type": "stream",
          "name": "stdout",
          "text": [
            "The Project Gutenberg EBook of War and Peace, by Leo Tolstoy\n",
            "\n",
            "\n",
            "\n",
            "This eBook is for the use of anyone anywhere at no cost and with almost\n",
            "\n",
            "no restrictions whatsoever. You may copy it, give it away or re-use\n",
            "\n",
            "it under the terms of the Project Gutenberg License included with this\n",
            "\n"
          ]
        }
      ],
      "source": [
        "# Solution goes here\n",
        "\n",
        "fp = open('2600-0.txt')\n",
        "for index, line in enumerate(fp):\n",
        "    if index < 5:\n",
        "        print(line)\n",
        "    if index == 4:\n",
        "        break"
      ]
    },
    {
      "cell_type": "markdown",
      "metadata": {
        "id": "6-9JcsnalyG6"
      },
      "source": [
        "## Whitespace\n",
        "\n",
        "If we run the loop again and display the final value of `line`, we see the special sequence `\\n` at the end."
      ]
    },
    {
      "cell_type": "code",
      "execution_count": 41,
      "metadata": {
        "colab": {
          "base_uri": "https://localhost:8080/",
          "height": 34
        },
        "id": "sgxA-R7IlyG6",
        "outputId": "312f47cc-4980-4706-f7fd-733b5f1b7105"
      },
      "outputs": [
        {
          "output_type": "execute_result",
          "data": {
            "text/plain": [
              "'The Project Gutenberg EBook of War and Peace, by Leo Tolstoy\\n'"
            ],
            "application/vnd.google.colaboratory.intrinsic+json": {
              "type": "string"
            }
          },
          "metadata": {},
          "execution_count": 41
        }
      ],
      "source": [
        "fp = open('2600-0.txt')\n",
        "count = 0\n",
        "for line in fp:\n",
        "    count += 1\n",
        "    if count == 1:\n",
        "        break\n",
        "\n",
        "line"
      ]
    },
    {
      "cell_type": "markdown",
      "metadata": {
        "id": "id-lnAAGlyG6"
      },
      "source": [
        "This sequence represents a single character, called a **newline**, that puts vertical space between lines.\n",
        "If we use a `print` statement to display `line`, we don't see the special sequence, but we do see extra space after the line."
      ]
    },
    {
      "cell_type": "code",
      "execution_count": 42,
      "metadata": {
        "colab": {
          "base_uri": "https://localhost:8080/"
        },
        "id": "bl4vfvm_lyG7",
        "outputId": "8b3a3d9d-585e-408a-c794-23c5fc64eef0"
      },
      "outputs": [
        {
          "output_type": "stream",
          "name": "stdout",
          "text": [
            "The Project Gutenberg EBook of War and Peace, by Leo Tolstoy\n",
            "\n"
          ]
        }
      ],
      "source": [
        "print(line)"
      ]
    },
    {
      "cell_type": "markdown",
      "metadata": {
        "id": "cWTHZ531lyG7"
      },
      "source": [
        "In other strings, you might see the sequence `\\t`, which represents a tab character.\n",
        "When you print a tab character, it adds enough space to make the next character appear in a column that is a multiple of 8."
      ]
    },
    {
      "cell_type": "code",
      "execution_count": 43,
      "metadata": {
        "colab": {
          "base_uri": "https://localhost:8080/"
        },
        "id": "oFeYxshflyG7",
        "outputId": "40666482-d556-433d-a694-98b695a4acf5"
      },
      "outputs": [
        {
          "output_type": "stream",
          "name": "stdout",
          "text": [
            "|       |       |       |       |       |       \n",
            "a\tbc\tdef\tghij\tklmno\tpqrstu\n"
          ]
        }
      ],
      "source": [
        "print('|       ' * 6)\n",
        "print('a\\tbc\\tdef\\tghij\\tklmno\\tpqrstu')"
      ]
    },
    {
      "cell_type": "markdown",
      "metadata": {
        "id": "ZcUguCBnlyG7"
      },
      "source": [
        "Newline characters, tabs, and spaces are called **whitespace** because when they are printed they leave white space on the page (assuming that the background color is white)."
      ]
    },
    {
      "cell_type": "markdown",
      "metadata": {
        "id": "qBta8BWvlyG7"
      },
      "source": [
        "## Counting Words\n",
        "\n",
        "So far we've counted the lines in a file -- now let's count the words.\n",
        "To split a line into words, we can use a function called `split` that takes a string and returns a list of words.\n",
        "To be more precise, `split` doesn't actually know what a word is -- it just splits the line wherever there's a space or other whitespace character."
      ]
    },
    {
      "cell_type": "code",
      "execution_count": 44,
      "metadata": {
        "colab": {
          "base_uri": "https://localhost:8080/"
        },
        "id": "itnP17LQlyG7",
        "outputId": "0f6e87cc-31d6-4dba-9be2-48e50c85a37a"
      },
      "outputs": [
        {
          "output_type": "execute_result",
          "data": {
            "text/plain": [
              "['The',\n",
              " 'Project',\n",
              " 'Gutenberg',\n",
              " 'EBook',\n",
              " 'of',\n",
              " 'War',\n",
              " 'and',\n",
              " 'Peace,',\n",
              " 'by',\n",
              " 'Leo',\n",
              " 'Tolstoy']"
            ]
          },
          "metadata": {},
          "execution_count": 44
        }
      ],
      "source": [
        "line.split()"
      ]
    },
    {
      "cell_type": "markdown",
      "metadata": {
        "id": "929KT8NmlyG8"
      },
      "source": [
        "Notice that the syntax for `split` is different from other functions we have seen.  Normally when we call a function, we name the function and provide values in parentheses.  So you might have expected to write `split(line)`.  Sadly, that doesn't work."
      ]
    },
    {
      "cell_type": "code",
      "execution_count": 45,
      "metadata": {
        "tags": [],
        "colab": {
          "base_uri": "https://localhost:8080/",
          "height": 54
        },
        "id": "8sNLIgPplyG8",
        "outputId": "9893151c-8ea1-4cc2-c160-48f05a19fd83"
      },
      "outputs": [
        {
          "output_type": "error",
          "ename": "NameError",
          "evalue": "name 'split' is not defined",
          "traceback": [
            "\u001b[0;31mNameError\u001b[0m\u001b[0;31m:\u001b[0m name 'split' is not defined\n"
          ]
        }
      ],
      "source": [
        "%%expect NameError\n",
        "\n",
        "split(line)"
      ]
    },
    {
      "cell_type": "markdown",
      "metadata": {
        "id": "8Rgf61dXlyG8"
      },
      "source": [
        "The problem is that the `split` function belongs to the string `line`.\n",
        "In a sense, the function is attached to the string, so we can only refer to it using the string and the **dot operator**, which is the period between `line` and `split`.\n",
        "For historical reasons, functions like this are called **methods**.\n",
        "\n",
        "Now that we can split a line into a list of words, we can use `len` to get the number of words in each list, and increment `count` accordingly."
      ]
    },
    {
      "cell_type": "code",
      "execution_count": 46,
      "metadata": {
        "colab": {
          "base_uri": "https://localhost:8080/"
        },
        "id": "HTrc7XqilyG8",
        "outputId": "112a1bbd-a61c-4a6a-b75d-5b7e8088d5da"
      },
      "outputs": [
        {
          "output_type": "execute_result",
          "data": {
            "text/plain": [
              "566316"
            ]
          },
          "metadata": {},
          "execution_count": 46
        }
      ],
      "source": [
        "fp = open('2600-0.txt')\n",
        "count = 0\n",
        "for line in fp:\n",
        "    count += len(line.split())\n",
        "\n",
        "count"
      ]
    },
    {
      "cell_type": "markdown",
      "metadata": {
        "id": "m0SXbTi7lyG8"
      },
      "source": [
        "By this count, there are more than half a million words in *War and Peace*.\n",
        "\n",
        "Actually, there aren't quite that many, because the file we got from Project Gutenberg has some introductory material before the text and some license information at the end.\n",
        "To mark the beginning and end of the text, the file includes special lines that begin with `'***'`.\n",
        "We can identify these lines with the `startswith` function, which checks whether a string begins with a particular sequence of characters."
      ]
    },
    {
      "cell_type": "code",
      "execution_count": 47,
      "metadata": {
        "colab": {
          "base_uri": "https://localhost:8080/"
        },
        "id": "jF0OJRdhlyG8",
        "outputId": "a13a62a2-6ddb-43e6-8cd5-c9fc10711f08"
      },
      "outputs": [
        {
          "output_type": "execute_result",
          "data": {
            "text/plain": [
              "True"
            ]
          },
          "metadata": {},
          "execution_count": 47
        }
      ],
      "source": [
        "line = '*** START OF THIS PROJECT GUTENBERG EBOOK WAR AND PEACE ***'\n",
        "line.startswith('***')"
      ]
    },
    {
      "cell_type": "markdown",
      "metadata": {
        "id": "nanIvQGrlyG9"
      },
      "source": [
        "To skip the front matter, we can use a loop to read lines until it finds the first line that starts with this sequence.\n",
        "\n",
        "Then we can use a second loop to read lines and count words until it finds the second line that starts with this sequence."
      ]
    },
    {
      "cell_type": "code",
      "execution_count": 48,
      "metadata": {
        "colab": {
          "base_uri": "https://localhost:8080/"
        },
        "id": "8N-MbAhclyG9",
        "outputId": "8496ca2b-8425-420f-9c67-768dd6c64f76"
      },
      "outputs": [
        {
          "output_type": "stream",
          "name": "stdout",
          "text": [
            "*** START OF THIS PROJECT GUTENBERG EBOOK WAR AND PEACE ***\n",
            "\n",
            "*** END OF THIS PROJECT GUTENBERG EBOOK WAR AND PEACE ***\n",
            "\n"
          ]
        }
      ],
      "source": [
        "fp = open('2600-0.txt')\n",
        "for line in fp:\n",
        "    if line.startswith('***'):\n",
        "        print(line)                               #queste non le conto e scorro fino alla fine dell'header\n",
        "        break\n",
        "\n",
        "count = 0                                         #ora conto\n",
        "for line in fp:\n",
        "    if line.startswith('***'):\n",
        "        print(line)\n",
        "        break\n",
        "    count += len(line.split())"
      ]
    },
    {
      "cell_type": "markdown",
      "metadata": {
        "id": "hMMQIeBllyG9"
      },
      "source": [
        "When the second loop exits, `count` contains the number of words in the text."
      ]
    },
    {
      "cell_type": "code",
      "execution_count": 49,
      "metadata": {
        "colab": {
          "base_uri": "https://localhost:8080/"
        },
        "id": "MYz5B1U5lyG9",
        "outputId": "3a142769-8859-4aaf-a1a0-775718cee795"
      },
      "outputs": [
        {
          "output_type": "execute_result",
          "data": {
            "text/plain": [
              "563299"
            ]
          },
          "metadata": {},
          "execution_count": 49
        }
      ],
      "source": [
        "count"
      ]
    },
    {
      "cell_type": "markdown",
      "metadata": {
        "id": "296ktBUPlyG9"
      },
      "source": [
        "## Summary\n",
        "\n",
        "This chapter presents loops, `if` statements, and the `break` statement.\n",
        "It also introduces tools for working with letters and words, and a simple kind of textual analysis, word counting.\n",
        "\n",
        "In the next chapter we'll continue this example, counting the number of unique words in a text and the number of times each word appears.\n",
        "And we'll see another way to represent a collection of values, a Python dictionary."
      ]
    },
    {
      "cell_type": "markdown",
      "metadata": {
        "tags": [],
        "id": "Z07z7yKOlyG9"
      },
      "source": [
        "*Elements of Data Science*\n",
        "\n",
        "Copyright 2021 [Allen B. Downey](https://allendowney.com)\n",
        "\n",
        "License: [Creative Commons Attribution-NonCommercial-ShareAlike 4.0 International](https://creativecommons.org/licenses/by-nc-sa/4.0/)"
      ]
    }
  ],
  "metadata": {
    "celltoolbar": "Tags",
    "kernelspec": {
      "display_name": "Python 3 (ipykernel)",
      "language": "python",
      "name": "python3"
    },
    "language_info": {
      "codemirror_mode": {
        "name": "ipython",
        "version": 3
      },
      "file_extension": ".py",
      "mimetype": "text/x-python",
      "name": "python",
      "nbconvert_exporter": "python",
      "pygments_lexer": "ipython3",
      "version": "3.10.14"
    },
    "colab": {
      "provenance": []
    }
  },
  "nbformat": 4,
  "nbformat_minor": 0
}