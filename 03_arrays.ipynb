{
  "cells": [
    {
      "cell_type": "markdown",
      "metadata": {
        "id": "XyvKl64Wippt"
      },
      "source": [
        "Printed copies of *Elements of Data Science* are available now, with a **full color interior**, from [Lulu.com](https://www.lulu.com/shop/allen-downey/elements-of-data-science/paperback/product-9dyrwn.html)."
      ]
    },
    {
      "cell_type": "markdown",
      "metadata": {
        "id": "uLbMjgTMippu"
      },
      "source": [
        "# Lists and Arrays"
      ]
    },
    {
      "cell_type": "markdown",
      "metadata": {
        "tags": [],
        "id": "L3FbIzWEippv"
      },
      "source": [
        "[Click here to run this notebook on Colab](https://colab.research.google.com/github/AllenDowney/ElementsOfDataScience/blob/v1/03_arrays.ipynb)."
      ]
    },
    {
      "cell_type": "code",
      "execution_count": 1,
      "metadata": {
        "tags": [],
        "id": "betmnn5dippw",
        "outputId": "6304bb81-e18a-4119-ff4a-7fd99c2c286b",
        "colab": {
          "base_uri": "https://localhost:8080/"
        }
      },
      "outputs": [
        {
          "output_type": "stream",
          "name": "stdout",
          "text": [
            "Downloaded utils.py\n"
          ]
        }
      ],
      "source": [
        "from os.path import basename, exists\n",
        "\n",
        "def download(url):\n",
        "    filename = basename(url)\n",
        "    if not exists(filename):\n",
        "        from urllib.request import urlretrieve\n",
        "\n",
        "        local, _ = urlretrieve(url, filename)\n",
        "        print(\"Downloaded \" + str(local))\n",
        "    return filename\n",
        "\n",
        "download('https://github.com/AllenDowney/ElementsOfDataScience/raw/v1/utils.py')\n",
        "\n",
        "import utils"
      ]
    },
    {
      "cell_type": "markdown",
      "metadata": {
        "id": "RvVrHyAZippx"
      },
      "source": [
        "In the previous chapter we used tuples to represent latitude and longitude.  In this chapter, we'll use tuples more generally to represent a sequence of values.\n",
        "And we'll see two more ways to represent sequences: lists and arrays.\n",
        "\n",
        "You might wonder why we need three ways to represent the same thing.\n",
        "Most of the time we don't, but each of them has different capabilities.\n",
        "For work with data, we will use arrays most of the time.\n",
        "\n",
        "As an example, we will use a small dataset from an article in *The Economist* about the price of sandwiches.\n",
        "It's a silly example, but I'll use it to introduce relative differences and ways to summarize them."
      ]
    },
    {
      "cell_type": "markdown",
      "metadata": {
        "id": "FrKdFjr7ippy"
      },
      "source": [
        "## Tuples\n",
        "\n",
        "A tuple is a sequence of elements.\n",
        "When we use a tuple to represent latitude and longitude, the sequence only contains two elements, and they are both floating-point numbers.\n",
        "But in general a tuple can contain any number of elements, and the elements can be values of any type.\n",
        "For example, here's a tuple of two strings."
      ]
    },
    {
      "cell_type": "code",
      "execution_count": 2,
      "metadata": {
        "id": "q2zMVfDfippy",
        "outputId": "07863abc-4edd-4b64-e9aa-d89c25fc3fbb",
        "colab": {
          "base_uri": "https://localhost:8080/"
        }
      },
      "outputs": [
        {
          "output_type": "execute_result",
          "data": {
            "text/plain": [
              "('Data', 'Science')"
            ]
          },
          "metadata": {},
          "execution_count": 2
        }
      ],
      "source": [
        "('Data', 'Science')"
      ]
    },
    {
      "cell_type": "markdown",
      "metadata": {
        "id": "KsAVbbEOippz"
      },
      "source": [
        "The elements don't have to be the same type.\n",
        "Here's a tuple with a string, an integer, and a floating-point number."
      ]
    },
    {
      "cell_type": "code",
      "execution_count": 3,
      "metadata": {
        "id": "R5GPmeG9ippz",
        "outputId": "3ca21c7b-8f57-427e-b781-0d313dfc347d",
        "colab": {
          "base_uri": "https://localhost:8080/"
        }
      },
      "outputs": [
        {
          "output_type": "execute_result",
          "data": {
            "text/plain": [
              "('one', 2, 3.14159)"
            ]
          },
          "metadata": {},
          "execution_count": 3
        }
      ],
      "source": [
        "('one', 2, 3.14159)"
      ]
    },
    {
      "cell_type": "markdown",
      "metadata": {
        "id": "9V5a1q6Kippz"
      },
      "source": [
        "When you create a tuple, the parentheses are optional, but the commas are required.\n",
        "So how do you think you create a tuple with a single element?\n",
        "You might be tempted to write:"
      ]
    },
    {
      "cell_type": "code",
      "execution_count": 4,
      "metadata": {
        "id": "jM9ONnUJipp1",
        "outputId": "6bfa3cf3-b354-4075-9658-4bf7bee57b5f",
        "colab": {
          "base_uri": "https://localhost:8080/"
        }
      },
      "outputs": [
        {
          "output_type": "execute_result",
          "data": {
            "text/plain": [
              "5"
            ]
          },
          "metadata": {},
          "execution_count": 4
        }
      ],
      "source": [
        "x = (5)\n",
        "x"
      ]
    },
    {
      "cell_type": "code",
      "execution_count": 5,
      "metadata": {
        "tags": [],
        "id": "GLhzmV53ipp1",
        "outputId": "2d94b2f5-427e-40f3-8953-b1663f367976",
        "colab": {
          "base_uri": "https://localhost:8080/"
        }
      },
      "outputs": [
        {
          "output_type": "execute_result",
          "data": {
            "text/plain": [
              "int"
            ]
          },
          "metadata": {},
          "execution_count": 5
        }
      ],
      "source": [
        "type(x)"
      ]
    },
    {
      "cell_type": "markdown",
      "metadata": {
        "id": "vBihNILGipp1"
      },
      "source": [
        "But you will find that the result is just a number, not a tuple.\n",
        "To make a tuple with a single element, you need a comma:"
      ]
    },
    {
      "cell_type": "code",
      "execution_count": 6,
      "metadata": {
        "id": "QqEFwWwQipp2",
        "outputId": "1056ca63-9d12-47f3-f5cc-df9e2b0fee66",
        "colab": {
          "base_uri": "https://localhost:8080/"
        }
      },
      "outputs": [
        {
          "output_type": "execute_result",
          "data": {
            "text/plain": [
              "(5,)"
            ]
          },
          "metadata": {},
          "execution_count": 6
        }
      ],
      "source": [
        "t = (5,)\n",
        "t"
      ]
    },
    {
      "cell_type": "markdown",
      "metadata": {
        "id": "cnv-vWWpipp2"
      },
      "source": [
        "That might look funny, but it does the job."
      ]
    },
    {
      "cell_type": "code",
      "execution_count": 7,
      "metadata": {
        "tags": [],
        "id": "TioWRb-aipp2",
        "outputId": "662e8cd7-db7e-4a45-eae9-30e26756c012",
        "colab": {
          "base_uri": "https://localhost:8080/"
        }
      },
      "outputs": [
        {
          "output_type": "execute_result",
          "data": {
            "text/plain": [
              "tuple"
            ]
          },
          "metadata": {},
          "execution_count": 7
        }
      ],
      "source": [
        "type(t)"
      ]
    },
    {
      "cell_type": "markdown",
      "metadata": {
        "id": "FoEv3u96ipp2"
      },
      "source": [
        "If you have a string, you can convert it to a tuple using the `tuple` function:"
      ]
    },
    {
      "cell_type": "code",
      "execution_count": 8,
      "metadata": {
        "id": "jlHfCNmfipp2",
        "outputId": "efc5a9b1-4e08-4ef9-8799-8e23b6311ab0",
        "colab": {
          "base_uri": "https://localhost:8080/"
        }
      },
      "outputs": [
        {
          "output_type": "execute_result",
          "data": {
            "text/plain": [
              "('D', 'a', 't', 'a', 'S', 'c', 'i', 'e', 'n', 'c', 'e')"
            ]
          },
          "metadata": {},
          "execution_count": 8
        }
      ],
      "source": [
        "tuple('DataScience')"
      ]
    },
    {
      "cell_type": "markdown",
      "metadata": {
        "id": "9mfuV-Pqipp2"
      },
      "source": [
        "The result is a sequence of single-character strings.\n",
        "You can also use the `tuple` function to make an empty tuple -- that is, one that has no elements."
      ]
    },
    {
      "cell_type": "code",
      "execution_count": 9,
      "metadata": {
        "id": "AmQ5Km_-ipp2",
        "outputId": "d74983fb-a250-4772-8ac3-c8dbd1c232be",
        "colab": {
          "base_uri": "https://localhost:8080/"
        }
      },
      "outputs": [
        {
          "output_type": "execute_result",
          "data": {
            "text/plain": [
              "()"
            ]
          },
          "metadata": {},
          "execution_count": 9
        }
      ],
      "source": [
        "tuple()"
      ]
    },
    {
      "cell_type": "markdown",
      "metadata": {
        "id": "wiYQ5O_nipp2"
      },
      "source": [
        "## Lists\n",
        "\n",
        "Python provides another way to store a sequence of elements: a **list**.\n",
        "To create a list, you put a sequence of elements in square brackets."
      ]
    },
    {
      "cell_type": "code",
      "execution_count": 10,
      "metadata": {
        "id": "9Pw_RfW9ipp3",
        "outputId": "2556523a-748f-4c4c-8d67-aff8453bca2f",
        "colab": {
          "base_uri": "https://localhost:8080/"
        }
      },
      "outputs": [
        {
          "output_type": "execute_result",
          "data": {
            "text/plain": [
              "[1, 2, 3]"
            ]
          },
          "metadata": {},
          "execution_count": 10
        }
      ],
      "source": [
        "[1, 2, 3]"
      ]
    },
    {
      "cell_type": "markdown",
      "metadata": {
        "id": "JmRLGqfWipp3"
      },
      "source": [
        "Lists and tuples are very similar.\n",
        "They can contain any number of elements, the elements can be any type, and the elements don't have to be the same type.\n",
        "The difference is that you can modify a list and you can't modify a tuple -- that is, tuples are **immutable**.\n",
        "This difference will matter later, but for now we can ignore it.\n",
        "\n",
        "When you make a list, the brackets are required, but if there is a single element, you don't need a comma.\n",
        "So you can make a list like this:"
      ]
    },
    {
      "cell_type": "code",
      "execution_count": 11,
      "metadata": {
        "id": "QUFZQlrMipp3"
      },
      "outputs": [],
      "source": [
        "single = [5]"
      ]
    },
    {
      "cell_type": "code",
      "execution_count": 12,
      "metadata": {
        "tags": [],
        "id": "bMfrpAmBipp4",
        "outputId": "1a38b01c-efc0-46fd-8662-6d02177d4e16",
        "colab": {
          "base_uri": "https://localhost:8080/"
        }
      },
      "outputs": [
        {
          "output_type": "execute_result",
          "data": {
            "text/plain": [
              "list"
            ]
          },
          "metadata": {},
          "execution_count": 12
        }
      ],
      "source": [
        "type(single)"
      ]
    },
    {
      "cell_type": "markdown",
      "metadata": {
        "id": "NiiGvX99ipp4"
      },
      "source": [
        "It is also possible to make a list with no elements, like this:"
      ]
    },
    {
      "cell_type": "code",
      "execution_count": 13,
      "metadata": {
        "id": "juyiOsCmipp4"
      },
      "outputs": [],
      "source": [
        "empty = []"
      ]
    },
    {
      "cell_type": "code",
      "execution_count": 14,
      "metadata": {
        "tags": [],
        "id": "wVirmh07ipp4",
        "outputId": "0ae2a3ef-9834-4d8e-e77c-3934bb3eda4c",
        "colab": {
          "base_uri": "https://localhost:8080/"
        }
      },
      "outputs": [
        {
          "output_type": "execute_result",
          "data": {
            "text/plain": [
              "list"
            ]
          },
          "metadata": {},
          "execution_count": 14
        }
      ],
      "source": [
        "type(empty)"
      ]
    },
    {
      "cell_type": "markdown",
      "metadata": {
        "id": "D9cDfeNkipp5"
      },
      "source": [
        "The `len` function returns the length (number of elements) in a list or tuple."
      ]
    },
    {
      "cell_type": "code",
      "execution_count": 15,
      "metadata": {
        "id": "NJ3XCK_Kipp5",
        "outputId": "6379dab2-daf6-45f6-a3fb-c20cb755aa5a",
        "colab": {
          "base_uri": "https://localhost:8080/"
        }
      },
      "outputs": [
        {
          "output_type": "execute_result",
          "data": {
            "text/plain": [
              "(3, 1, 0)"
            ]
          },
          "metadata": {},
          "execution_count": 15
        }
      ],
      "source": [
        "len([1, 2, 3]), len(single), len(empty)"
      ]
    },
    {
      "cell_type": "markdown",
      "metadata": {
        "id": "4dbJ4iVRipp5"
      },
      "source": [
        "There's more we could do with lists, but that's enough to get started.\n",
        "In the next section, we'll use lists to store data about sandwich prices."
      ]
    },
    {
      "cell_type": "markdown",
      "metadata": {
        "id": "8hlPHcuAipp5"
      },
      "source": [
        "**Exercise:** Create a list with 4 elements. Then use `type` to confirm that it's a list, and `len` to confirm that it has 4 elements."
      ]
    },
    {
      "cell_type": "code",
      "execution_count": 17,
      "metadata": {
        "id": "O3wYEEqYipp6",
        "outputId": "36ae3c1f-e90c-4d45-cb33-037b92b63875",
        "colab": {
          "base_uri": "https://localhost:8080/"
        }
      },
      "outputs": [
        {
          "output_type": "execute_result",
          "data": {
            "text/plain": [
              "(list, 4)"
            ]
          },
          "metadata": {},
          "execution_count": 17
        }
      ],
      "source": [
        "# Solution goes here\n",
        "\n",
        "x=[0,1,2,3]\n",
        "type(x), len(x)\n"
      ]
    },
    {
      "cell_type": "code",
      "execution_count": null,
      "metadata": {
        "id": "C8q4lIWUipp6"
      },
      "outputs": [],
      "source": [
        "# Solution goes here"
      ]
    },
    {
      "cell_type": "code",
      "execution_count": null,
      "metadata": {
        "id": "KQnpYcUUipp6"
      },
      "outputs": [],
      "source": [
        "# Solution goes here"
      ]
    },
    {
      "cell_type": "markdown",
      "metadata": {
        "id": "5D90UL3nipp6"
      },
      "source": [
        "## Sandwich Prices\n",
        "\n",
        "In September 2019, *The Economist* published an article comparing sandwich prices in Boston and London, called \"Why Americans pay more for lunch than Britons do\"."
      ]
    },
    {
      "cell_type": "markdown",
      "metadata": {
        "tags": [],
        "id": "GBrwz5K1ipp6"
      },
      "source": [
        "You can read the article at <https://www.economist.com/finance-and-economics/2019/09/07/why-americans-pay-more-for-lunch-than-britons-do>."
      ]
    },
    {
      "cell_type": "markdown",
      "metadata": {
        "id": "WWP6kOSjipp7"
      },
      "source": [
        "It includes this graph showing prices of several sandwiches in the two cities:"
      ]
    },
    {
      "cell_type": "markdown",
      "metadata": {
        "tags": [],
        "id": "3DulGM0Mipp7"
      },
      "source": [
        "<img src=\"https://github.com/AllenDowney/ElementsOfDataScience/raw/v1/figs/20190907_FNC941.png\"  width=\"300\">"
      ]
    },
    {
      "cell_type": "markdown",
      "metadata": {
        "tags": [],
        "id": "hEKSwhlEipp7"
      },
      "source": [
        "![](https://github.com/AllenDowney/ElementsOfDataScience/raw/v1/figs/20190907_FNC941.png)"
      ]
    },
    {
      "cell_type": "markdown",
      "metadata": {
        "id": "IdQmTu-lipp8"
      },
      "source": [
        "Here are the sandwich names from the graph, as a list of strings."
      ]
    },
    {
      "cell_type": "code",
      "execution_count": 18,
      "metadata": {
        "id": "Gjr2EZttipp8"
      },
      "outputs": [],
      "source": [
        "name_list = [\n",
        "    'Lobster roll',\n",
        "    'Chicken caesar',\n",
        "    'Bang bang chicken',\n",
        "    'Ham and cheese',\n",
        "    'Tuna and cucumber',\n",
        "    'Egg'\n",
        "]"
      ]
    },
    {
      "cell_type": "markdown",
      "metadata": {
        "id": "xMZH9UQzipp8"
      },
      "source": [
        "I contacted *The Economist* to ask for the data they used to create that graph, and they were kind enough to share it with me.\n",
        "Here are the sandwich prices in Boston:"
      ]
    },
    {
      "cell_type": "code",
      "execution_count": 19,
      "metadata": {
        "id": "Fwq9qHTNipp9"
      },
      "outputs": [],
      "source": [
        "boston_price_list = [9.99, 7.99, 7.49, 7.00, 6.29, 4.99]"
      ]
    },
    {
      "cell_type": "markdown",
      "metadata": {
        "id": "iItWpDsuipp9"
      },
      "source": [
        "Here are the prices in London, converted to dollars at \\$1.25 / £1."
      ]
    },
    {
      "cell_type": "code",
      "execution_count": 20,
      "metadata": {
        "id": "In_cJc2cipp9"
      },
      "outputs": [],
      "source": [
        "london_price_list = [7.5, 5, 4.4, 5, 3.75, 2.25]"
      ]
    },
    {
      "cell_type": "markdown",
      "metadata": {
        "id": "HH4fmDWZipp-"
      },
      "source": [
        "Lists provide some arithmetic operators, but they might not do what you want.\n",
        "For example, the `+` operator works with lists:"
      ]
    },
    {
      "cell_type": "code",
      "execution_count": 21,
      "metadata": {
        "id": "lXlfAEJ2ipp-",
        "outputId": "5e0d5f7f-f95d-4881-a95f-782ea772e43b",
        "colab": {
          "base_uri": "https://localhost:8080/"
        }
      },
      "outputs": [
        {
          "output_type": "execute_result",
          "data": {
            "text/plain": [
              "[9.99, 7.99, 7.49, 7.0, 6.29, 4.99, 7.5, 5, 4.4, 5, 3.75, 2.25]"
            ]
          },
          "metadata": {},
          "execution_count": 21
        }
      ],
      "source": [
        "boston_price_list + london_price_list"
      ]
    },
    {
      "cell_type": "markdown",
      "metadata": {
        "id": "3HvKzyoMipp-"
      },
      "source": [
        "But it concatenates the two lists, which is not very useful in this example.\n",
        "To compute differences between prices, you might try subtracting lists, but it doesn't work."
      ]
    },
    {
      "cell_type": "code",
      "execution_count": 22,
      "metadata": {
        "tags": [],
        "id": "8QZZ_3pAipp-",
        "outputId": "df3de3a6-3d46-435d-a672-399dffc701aa",
        "colab": {
          "base_uri": "https://localhost:8080/",
          "height": 54
        }
      },
      "outputs": [
        {
          "output_type": "error",
          "ename": "TypeError",
          "evalue": "unsupported operand type(s) for -: 'list' and 'list'",
          "traceback": [
            "\u001b[0;31mTypeError\u001b[0m\u001b[0;31m:\u001b[0m unsupported operand type(s) for -: 'list' and 'list'\n"
          ]
        }
      ],
      "source": [
        "%%expect TypeError\n",
        "\n",
        "boston_price_list - london_price_list"
      ]
    },
    {
      "cell_type": "markdown",
      "metadata": {
        "id": "NcXyT-eLipp_"
      },
      "source": [
        "We can solve this problem with NumPy."
      ]
    },
    {
      "cell_type": "markdown",
      "metadata": {
        "id": "Ae53gCjJipp_"
      },
      "source": [
        "## NumPy Arrays\n",
        "\n",
        "We've already seen that the NumPy library provides math functions.\n",
        "It also provides a type of sequence called an **array**.\n",
        "You can create a new array with the `np.array` function, starting with a list or tuple."
      ]
    },
    {
      "cell_type": "code",
      "execution_count": 26,
      "metadata": {
        "id": "vvdwRjPxipp_"
      },
      "outputs": [],
      "source": [
        "import numpy as np\n",
        "\n",
        "np.set_printoptions(legacy='1.25')\n",
        "\n",
        "\n",
        "boston_price_array = np.array(boston_price_list)\n",
        "london_price_array = np.array(london_price_list)"
      ]
    },
    {
      "cell_type": "markdown",
      "metadata": {
        "id": "_ZTkohrtipp_"
      },
      "source": [
        "The type of the result is `numpy.ndarray`."
      ]
    },
    {
      "cell_type": "code",
      "execution_count": 27,
      "metadata": {
        "id": "KEqZpytYipp_",
        "outputId": "514f8036-f47d-4a62-d787-918ca8f9d938",
        "colab": {
          "base_uri": "https://localhost:8080/"
        }
      },
      "outputs": [
        {
          "output_type": "execute_result",
          "data": {
            "text/plain": [
              "numpy.ndarray"
            ]
          },
          "metadata": {},
          "execution_count": 27
        }
      ],
      "source": [
        "type(boston_price_array)"
      ]
    },
    {
      "cell_type": "markdown",
      "metadata": {
        "id": "tt6VX6PqipqA"
      },
      "source": [
        "The \"nd\" stands for \"n-dimensional\", which indicates that NumPy arrays can have any number of dimensions.\n",
        "But for now we will work with one-dimensional sequences.\n",
        "If you display an array, Python displays the elements:"
      ]
    },
    {
      "cell_type": "code",
      "execution_count": 28,
      "metadata": {
        "id": "CaNjRxJRipqA",
        "outputId": "50a5b745-9f27-4601-c5ae-e02e4a8374ee",
        "colab": {
          "base_uri": "https://localhost:8080/"
        }
      },
      "outputs": [
        {
          "output_type": "execute_result",
          "data": {
            "text/plain": [
              "array([9.99, 7.99, 7.49, 7.  , 6.29, 4.99])"
            ]
          },
          "metadata": {},
          "execution_count": 28
        }
      ],
      "source": [
        "boston_price_array"
      ]
    },
    {
      "cell_type": "markdown",
      "metadata": {
        "id": "m94i2PO3ipqA"
      },
      "source": [
        "You can also display the **data type** of the array, which is the type of the elements:"
      ]
    },
    {
      "cell_type": "code",
      "execution_count": 29,
      "metadata": {
        "id": "hbsDD3SgipqA",
        "outputId": "b822f3a2-a3f3-4fca-829b-8506adf77e2e",
        "colab": {
          "base_uri": "https://localhost:8080/"
        }
      },
      "outputs": [
        {
          "output_type": "execute_result",
          "data": {
            "text/plain": [
              "dtype('float64')"
            ]
          },
          "metadata": {},
          "execution_count": 29
        }
      ],
      "source": [
        "boston_price_array.dtype"
      ]
    },
    {
      "cell_type": "markdown",
      "metadata": {
        "id": "LyiV-wj5ipqA"
      },
      "source": [
        "`float64` means that the elements are floating-point numbers that take up 64 bits each.\n",
        "The elements of a NumPy array can be any type, but they all have to be the same type.\n",
        "Most often the elements are numbers, but you can also make an array of strings."
      ]
    },
    {
      "cell_type": "code",
      "execution_count": 30,
      "metadata": {
        "id": "47qY-rhkipqA",
        "outputId": "e72f9984-2027-43ec-d2d2-8b18fbd6fa2d",
        "colab": {
          "base_uri": "https://localhost:8080/"
        }
      },
      "outputs": [
        {
          "output_type": "execute_result",
          "data": {
            "text/plain": [
              "array(['Lobster roll', 'Chicken caesar', 'Bang bang chicken',\n",
              "       'Ham and cheese', 'Tuna and cucumber', 'Egg'], dtype='<U17')"
            ]
          },
          "metadata": {},
          "execution_count": 30
        }
      ],
      "source": [
        "name_array = np.array(name_list)\n",
        "name_array"
      ]
    },
    {
      "cell_type": "markdown",
      "metadata": {
        "id": "zH5SAsqJipqB"
      },
      "source": [
        "In this example, the `dtype` is `<U17`.  The `U` indicates that the elements are Unicode strings.\n",
        "Unicode is the standard Python uses to represent strings.\n",
        "The number `17` is the length of the longest string in the array.\n",
        "\n",
        "Now, here's why NumPy arrays are useful -- they can do arithmetic.\n",
        "For example, to compute the differences between Boston and London prices, we can write:"
      ]
    },
    {
      "cell_type": "code",
      "execution_count": 32,
      "metadata": {
        "id": "7KGjJwcNipqB",
        "outputId": "dc7e691c-77f3-49ca-f375-054c4bfef460",
        "colab": {
          "base_uri": "https://localhost:8080/"
        }
      },
      "outputs": [
        {
          "output_type": "execute_result",
          "data": {
            "text/plain": [
              "(array([17.49, 12.99, 11.89, 12.  , 10.04,  7.24]),\n",
              " array([2.49, 2.99, 3.09, 2.  , 2.54, 2.74]))"
            ]
          },
          "metadata": {},
          "execution_count": 32
        }
      ],
      "source": [
        "differences = boston_price_array - london_price_array\n",
        "sums = boston_price_array + london_price_array\n",
        "\n",
        "sums, differences\n"
      ]
    },
    {
      "cell_type": "markdown",
      "metadata": {
        "id": "cO3w2CxQipqB"
      },
      "source": [
        "Subtraction is done **elementwise** -- that is, NumPy lines up the two arrays and subtracts corresponding elements.\n",
        "The result is a new array."
      ]
    },
    {
      "cell_type": "markdown",
      "metadata": {
        "id": "KkcRVxUcipqC"
      },
      "source": [
        "## Statistical Summaries\n",
        "\n",
        "NumPy provides functions that compute statistical summaries like the mean:"
      ]
    },
    {
      "cell_type": "code",
      "execution_count": 33,
      "metadata": {
        "id": "Sj5dvoB0ipqC",
        "outputId": "d4c498f7-f819-4fb4-ca1c-befc3f69ecdb",
        "colab": {
          "base_uri": "https://localhost:8080/"
        }
      },
      "outputs": [
        {
          "output_type": "execute_result",
          "data": {
            "text/plain": [
              "2.6416666666666666"
            ]
          },
          "metadata": {},
          "execution_count": 33
        }
      ],
      "source": [
        "np.mean(differences)"
      ]
    },
    {
      "cell_type": "markdown",
      "metadata": {
        "id": "lF5kQY6JipqC"
      },
      "source": [
        "So we could describe the difference in prices like this: \"Sandwiches in Boston are more expensive by \\$2.64, on average\".\n",
        "We could also compute the means first, and then compute their difference:"
      ]
    },
    {
      "cell_type": "code",
      "execution_count": 34,
      "metadata": {
        "id": "kcGzLpmhipqC",
        "outputId": "5743263f-dd47-447d-cfb5-07bea99bd262",
        "colab": {
          "base_uri": "https://localhost:8080/"
        }
      },
      "outputs": [
        {
          "output_type": "execute_result",
          "data": {
            "text/plain": [
              "2.6416666666666675"
            ]
          },
          "metadata": {},
          "execution_count": 34
        }
      ],
      "source": [
        "np.mean(boston_price_array) - np.mean(london_price_array)"
      ]
    },
    {
      "cell_type": "markdown",
      "metadata": {
        "id": "dKXGHUafipqC"
      },
      "source": [
        "And that turns out to be the same thing -- the difference in means is the same as the mean of the differences.\n",
        "As an aside, many of the NumPy functions also work with lists, so we could also do this:"
      ]
    },
    {
      "cell_type": "code",
      "execution_count": 35,
      "metadata": {
        "id": "Sodgz6HZipqD",
        "outputId": "b32e466a-5b16-4d68-d04a-c54179561d5e",
        "colab": {
          "base_uri": "https://localhost:8080/"
        }
      },
      "outputs": [
        {
          "output_type": "execute_result",
          "data": {
            "text/plain": [
              "2.6416666666666675"
            ]
          },
          "metadata": {},
          "execution_count": 35
        }
      ],
      "source": [
        "np.mean(boston_price_list) - np.mean(london_price_list)"
      ]
    },
    {
      "cell_type": "markdown",
      "metadata": {
        "id": "GMvfidI_ipqD"
      },
      "source": [
        "**Exercise:** Standard deviation is way to quantify the variability in a set of numbers.  The NumPy function that computes standard deviation is `np.std`.\n",
        "\n",
        "Compute the standard deviation of sandwich prices in Boston and London.  By this measure, which set of prices is more variable?"
      ]
    },
    {
      "cell_type": "code",
      "execution_count": 36,
      "metadata": {
        "id": "UvorcwIqipqD",
        "outputId": "8b94c80a-bc33-45e9-b256-ee01032b44ac",
        "colab": {
          "base_uri": "https://localhost:8080/"
        }
      },
      "outputs": [
        {
          "output_type": "execute_result",
          "data": {
            "text/plain": [
              "(1.5380769017040583, 1.5811388300841898)"
            ]
          },
          "metadata": {},
          "execution_count": 36
        }
      ],
      "source": [
        "# Solution goes here\n",
        "\n",
        "np.std(boston_price_list) , np.std(london_price_list)\n",
        "\n"
      ]
    },
    {
      "cell_type": "markdown",
      "metadata": {
        "id": "GtXQPxCQipqD"
      },
      "source": [
        "## Relative Difference\n",
        "\n",
        "In the previous section we computed differences between prices.\n",
        "But often when we make this kind of comparison, we are interested in **relative differences**, which are differences expressed as a fraction or percentage of a quantity.\n",
        "Taking the lobster roll as an example, the difference in price is:"
      ]
    },
    {
      "cell_type": "code",
      "execution_count": 37,
      "metadata": {
        "id": "0V1bJzaFipqD",
        "outputId": "88504360-ab69-49b0-b285-d0db6bcf8c09",
        "colab": {
          "base_uri": "https://localhost:8080/"
        }
      },
      "outputs": [
        {
          "output_type": "execute_result",
          "data": {
            "text/plain": [
              "2.49"
            ]
          },
          "metadata": {},
          "execution_count": 37
        }
      ],
      "source": [
        "9.99 - 7.5"
      ]
    },
    {
      "cell_type": "markdown",
      "metadata": {
        "id": "11BVeslgipqE"
      },
      "source": [
        "We can express that difference as a fraction of the London price, like this:"
      ]
    },
    {
      "cell_type": "code",
      "execution_count": 38,
      "metadata": {
        "id": "SJj9CaemipqE",
        "outputId": "985a58c8-c94f-4bf7-8ddc-06d3252230c5",
        "colab": {
          "base_uri": "https://localhost:8080/"
        }
      },
      "outputs": [
        {
          "output_type": "execute_result",
          "data": {
            "text/plain": [
              "0.332"
            ]
          },
          "metadata": {},
          "execution_count": 38
        }
      ],
      "source": [
        "(9.99 - 7.5) / 7.5"
      ]
    },
    {
      "cell_type": "markdown",
      "metadata": {
        "id": "7HAyW2x_ipqE"
      },
      "source": [
        "Or as a *percentage* of the London price, like this:"
      ]
    },
    {
      "cell_type": "code",
      "execution_count": 39,
      "metadata": {
        "id": "giwfCTsAipqE",
        "outputId": "ab6cd4a5-ef35-4b9f-ba74-a7cfa9ecc922",
        "colab": {
          "base_uri": "https://localhost:8080/"
        }
      },
      "outputs": [
        {
          "output_type": "execute_result",
          "data": {
            "text/plain": [
              "33.2"
            ]
          },
          "metadata": {},
          "execution_count": 39
        }
      ],
      "source": [
        "(9.99 - 7.5) / 7.5 * 100"
      ]
    },
    {
      "cell_type": "markdown",
      "metadata": {
        "id": "73sPhdvVipqE"
      },
      "source": [
        "So we might say that the lobster roll is 33% more expensive in Boston.\n",
        "But putting London in the denominator was an arbitrary choice.  We could also compute the difference as a percentage of the Boston price:"
      ]
    },
    {
      "cell_type": "code",
      "execution_count": 40,
      "metadata": {
        "id": "GYDk7sHyipqE",
        "outputId": "0eba89ac-d1c2-438a-b782-d2c251b55038",
        "colab": {
          "base_uri": "https://localhost:8080/"
        }
      },
      "outputs": [
        {
          "output_type": "execute_result",
          "data": {
            "text/plain": [
              "24.924924924924927"
            ]
          },
          "metadata": {},
          "execution_count": 40
        }
      ],
      "source": [
        "(9.99 - 7.5) / 9.99 * 100"
      ]
    },
    {
      "cell_type": "markdown",
      "metadata": {
        "id": "g-mjD9K1ipqF"
      },
      "source": [
        "If we do that calculation, we might say the lobster roll is 25% cheaper in London.\n",
        "When you read this kind of comparison, you should make sure you understand which quantity is in the denominator, and you might want to think about why that choice was made.\n",
        "In this example, if you want to make the difference seem bigger, you might put London prices in the denominator.\n",
        "\n",
        "If we do the same calculation with the arrays of prices, we can compute the relative differences for all sandwiches:"
      ]
    },
    {
      "cell_type": "code",
      "execution_count": 41,
      "metadata": {
        "id": "cyLPjix3ipqF",
        "outputId": "dd6d7e84-86a5-4fc7-bf9b-915466f49629",
        "colab": {
          "base_uri": "https://localhost:8080/"
        }
      },
      "outputs": [
        {
          "output_type": "execute_result",
          "data": {
            "text/plain": [
              "array([0.332     , 0.598     , 0.70227273, 0.4       , 0.67733333,\n",
              "       1.21777778])"
            ]
          },
          "metadata": {},
          "execution_count": 41
        }
      ],
      "source": [
        "differences = boston_price_array - london_price_array\n",
        "relative_differences = differences / london_price_array\n",
        "relative_differences"
      ]
    },
    {
      "cell_type": "markdown",
      "metadata": {
        "id": "Dc3geftwipqF"
      },
      "source": [
        "And the percent differences."
      ]
    },
    {
      "cell_type": "code",
      "execution_count": 42,
      "metadata": {
        "id": "6h1XF9z5ipqF",
        "outputId": "f3ac1bba-fee3-44f0-cb4d-8796bc99ab64",
        "colab": {
          "base_uri": "https://localhost:8080/"
        }
      },
      "outputs": [
        {
          "output_type": "execute_result",
          "data": {
            "text/plain": [
              "array([ 33.2       ,  59.8       ,  70.22727273,  40.        ,\n",
              "        67.73333333, 121.77777778])"
            ]
          },
          "metadata": {},
          "execution_count": 42
        }
      ],
      "source": [
        "percent_differences = relative_differences * 100\n",
        "percent_differences"
      ]
    },
    {
      "cell_type": "markdown",
      "metadata": {
        "id": "o_-Y7mkwipqF"
      },
      "source": [
        "## Summarizing Relative Differences\n",
        "\n",
        "Now let's think about how to summarize an array of percentage differences.\n",
        "One option is to report the range, which we can compute with `np.min` and `np.max`."
      ]
    },
    {
      "cell_type": "code",
      "execution_count": 43,
      "metadata": {
        "id": "x4zX6ADJipqG",
        "outputId": "3129da49-363c-464e-b52d-0bbc93fdeab9",
        "colab": {
          "base_uri": "https://localhost:8080/"
        }
      },
      "outputs": [
        {
          "output_type": "execute_result",
          "data": {
            "text/plain": [
              "(33.2, 121.77777777777779)"
            ]
          },
          "metadata": {},
          "execution_count": 43
        }
      ],
      "source": [
        "np.min(percent_differences), np.max(percent_differences)"
      ]
    },
    {
      "cell_type": "markdown",
      "metadata": {
        "id": "Eq0BvDLFipqG"
      },
      "source": [
        "The lobster roll is only 33% more expensive in Boston; the egg sandwich is 121% percent more (that is, more than twice the price)."
      ]
    },
    {
      "cell_type": "markdown",
      "metadata": {
        "id": "YHnuHhsYipqG"
      },
      "source": [
        "**Exercise:** What are the percent differences if we put the Boston prices in the denominator?  What is the range of those differences?  Write a sentence that summarizes the results."
      ]
    },
    {
      "cell_type": "code",
      "execution_count": 44,
      "metadata": {
        "id": "MRFOvV64ipqG",
        "outputId": "e3962f58-c110-4a81-f1cd-3b1c497e152d",
        "colab": {
          "base_uri": "https://localhost:8080/"
        }
      },
      "outputs": [
        {
          "output_type": "execute_result",
          "data": {
            "text/plain": [
              "array([0.24924925, 0.37421777, 0.41255007, 0.28571429, 0.40381558,\n",
              "       0.5490982 ])"
            ]
          },
          "metadata": {},
          "execution_count": 44
        }
      ],
      "source": [
        "# Solution goes here\n",
        "\n",
        "differences_2 = boston_price_array - london_price_array\n",
        "relative_differences_2 = differences / boston_price_array\n",
        "relative_differences_2"
      ]
    },
    {
      "cell_type": "code",
      "execution_count": 45,
      "metadata": {
        "id": "kAIpipbiipqH",
        "outputId": "cd6cc004-f4e9-4afe-9eae-132f721274ac",
        "colab": {
          "base_uri": "https://localhost:8080/"
        }
      },
      "outputs": [
        {
          "output_type": "execute_result",
          "data": {
            "text/plain": [
              "array([24.92492492, 37.42177722, 41.25500668, 28.57142857, 40.38155803,\n",
              "       54.90981964])"
            ]
          },
          "metadata": {},
          "execution_count": 45
        }
      ],
      "source": [
        "# Solution goes here\n",
        "\n",
        "percent_differences_2 = relative_differences_2 * 100\n",
        "percent_differences_2"
      ]
    },
    {
      "cell_type": "code",
      "execution_count": 47,
      "metadata": {
        "id": "Ik2ZqRleipqH",
        "outputId": "ed3cf553-b275-4846-dcf0-ce9362f8a6cf",
        "colab": {
          "base_uri": "https://localhost:8080/"
        }
      },
      "outputs": [
        {
          "output_type": "execute_result",
          "data": {
            "text/plain": [
              "(24.924924924924927, 54.90981963927856)"
            ]
          },
          "metadata": {},
          "execution_count": 47
        }
      ],
      "source": [
        "# Solution goes here\n",
        "\n",
        "np.min(percent_differences_2), np.max(percent_differences_2)"
      ]
    },
    {
      "cell_type": "markdown",
      "metadata": {
        "id": "qPMim9-GipqH"
      },
      "source": [
        "Another way to summarize percentage differences is to report the mean."
      ]
    },
    {
      "cell_type": "code",
      "execution_count": 48,
      "metadata": {
        "id": "J_RzReQ-ipqH",
        "outputId": "efe5e4c6-4f78-466e-a5a7-b85e8cf701e6",
        "colab": {
          "base_uri": "https://localhost:8080/"
        }
      },
      "outputs": [
        {
          "output_type": "execute_result",
          "data": {
            "text/plain": [
              "65.4563973063973"
            ]
          },
          "metadata": {},
          "execution_count": 48
        }
      ],
      "source": [
        "np.mean(percent_differences)"
      ]
    },
    {
      "cell_type": "markdown",
      "metadata": {
        "id": "KicjegwhipqH"
      },
      "source": [
        "So we might say that sandwiches are 65% more expensive in Boston, on average.\n",
        "But another way to summarize the data is to compute the mean price in each city, and then compute the percentage difference of the means:"
      ]
    },
    {
      "cell_type": "code",
      "execution_count": 49,
      "metadata": {
        "id": "rFNXDwAdipqH",
        "outputId": "bf147984-8691-46b8-af49-2833c087d135",
        "colab": {
          "base_uri": "https://localhost:8080/"
        }
      },
      "outputs": [
        {
          "output_type": "execute_result",
          "data": {
            "text/plain": [
              "56.81003584229393"
            ]
          },
          "metadata": {},
          "execution_count": 49
        }
      ],
      "source": [
        "boston_mean = np.mean(boston_price_array)\n",
        "london_mean = np.mean(london_price_array)\n",
        "\n",
        "(boston_mean - london_mean) / london_mean * 100"
      ]
    },
    {
      "cell_type": "markdown",
      "metadata": {
        "id": "pPb5h3lkipqI"
      },
      "source": [
        "Based on this calculation we might say that the average sandwich price is 56% higher in Boston.\n",
        "As this example demonstrates:\n",
        "\n",
        "* With relative and percentage differences, the mean of the differences is not the same as the difference of the means.\n",
        "\n",
        "* When you report data like this, you should think about different ways to summarize the data.\n",
        "\n",
        "* When you read a summary of data like this, make sure you understand what summary was chosen and what it means.\n",
        "\n",
        "In this example, I think the second option (the relative difference in the means) is more meaningful, because it reflects the difference in price between \"baskets of goods\" that include one of each sandwich."
      ]
    },
    {
      "cell_type": "markdown",
      "metadata": {
        "id": "GmCMnjpUipqI"
      },
      "source": [
        "## Debugging\n",
        "\n",
        "So far, most of the exercises have only required a few lines of code.\n",
        "If you made errors along the way, you probably found them quickly.\n",
        "\n",
        "As we go along, the exercises will be more substantial, and you may find yourself spending more time debugging.\n",
        "Here are a couple of suggestions to help you find errors quickly -- and avoid them in the first place.\n",
        "\n",
        "* Most importantly, you should develop code incrementally -- that is, you should write a small amount of code and test it.  If it works, add more code; otherwise, debug what you have.\n",
        "\n",
        "* Conversely, if you have written too much code, and you are having a hard time debugging it, split it into smaller chunks and debug them separately.\n",
        "\n",
        "For example, suppose you want to compute, for each sandwich in the sandwich list, the midpoint of the Boston and London prices.\n",
        "As a first draft, you might write something like this:"
      ]
    },
    {
      "cell_type": "code",
      "execution_count": 50,
      "metadata": {
        "id": "KElwfC1GipqI",
        "outputId": "535ef054-4e02-486c-f9cf-002cc12c523a",
        "colab": {
          "base_uri": "https://localhost:8080/"
        }
      },
      "outputs": [
        {
          "output_type": "execute_result",
          "data": {
            "text/plain": [
              "5.970833333333334"
            ]
          },
          "metadata": {},
          "execution_count": 50
        }
      ],
      "source": [
        "boston_price_list = [9.99, 7.99, 7.49, 7, 6.29, 4.99]\n",
        "london_price_list = [7.5, 5, 4.4, 5, 3.75, 2.25]\n",
        "\n",
        "midpoint_price = np.mean(boston_price_list + london_price_list)\n",
        "midpoint_price"
      ]
    },
    {
      "cell_type": "markdown",
      "metadata": {
        "id": "qOObdM1ripqJ"
      },
      "source": [
        "This code runs, and it produces an answer, but the answer is a single number rather than the list we were expecting.\n",
        "\n",
        "You might have already spotted the error, but let's suppose you did not.\n",
        "To debug this code, I would start by splitting the computation into smaller steps and displaying the intermediate results.\n",
        "For example, we might add the two lists and display the result, like this."
      ]
    },
    {
      "cell_type": "code",
      "execution_count": 51,
      "metadata": {
        "id": "eSx3I184ipqJ",
        "outputId": "073cbdd1-95f9-47fe-bd13-77656fa4f22a",
        "colab": {
          "base_uri": "https://localhost:8080/"
        }
      },
      "outputs": [
        {
          "output_type": "execute_result",
          "data": {
            "text/plain": [
              "[9.99, 7.99, 7.49, 7, 6.29, 4.99, 7.5, 5, 4.4, 5, 3.75, 2.25]"
            ]
          },
          "metadata": {},
          "execution_count": 51
        }
      ],
      "source": [
        "total_price = boston_price_list + london_price_list\n",
        "total_price"
      ]
    },
    {
      "cell_type": "markdown",
      "metadata": {
        "id": "qze6HEj3ipqK"
      },
      "source": [
        "Looking at the result, we see that it did not add the sandwich prices elementwise, as we intended.\n",
        "Because the arguments are lists, the `+` operator concatenates them rather than adding the elements.\n",
        "We can solve this problem by using the arrays rather than the lists."
      ]
    },
    {
      "cell_type": "code",
      "execution_count": 52,
      "metadata": {
        "id": "mq5YpUn3ipqK",
        "outputId": "fe07a9e3-4f5f-4f94-e020-554badb9feb8",
        "colab": {
          "base_uri": "https://localhost:8080/"
        }
      },
      "outputs": [
        {
          "output_type": "execute_result",
          "data": {
            "text/plain": [
              "array([17.49, 12.99, 11.89, 12.  , 10.04,  7.24])"
            ]
          },
          "metadata": {},
          "execution_count": 52
        }
      ],
      "source": [
        "total_price_array = boston_price_array + london_price_array\n",
        "total_price_array"
      ]
    },
    {
      "cell_type": "markdown",
      "metadata": {
        "id": "6MHBfjM1ipqK"
      },
      "source": [
        "And then computing the midpoint of each pair of prices, like this:"
      ]
    },
    {
      "cell_type": "code",
      "execution_count": 53,
      "metadata": {
        "id": "mhVTdfGXipqL",
        "outputId": "311ce545-cf84-4778-b917-1f655f24b76c",
        "colab": {
          "base_uri": "https://localhost:8080/"
        }
      },
      "outputs": [
        {
          "output_type": "execute_result",
          "data": {
            "text/plain": [
              "array([8.745, 6.495, 5.945, 6.   , 5.02 , 3.62 ])"
            ]
          },
          "metadata": {},
          "execution_count": 53
        }
      ],
      "source": [
        "midpoint_price_array = total_price_array / 2\n",
        "midpoint_price_array"
      ]
    },
    {
      "cell_type": "markdown",
      "metadata": {
        "id": "o8kFrwJgipqL"
      },
      "source": [
        "As you gain experience, you will be able to write bigger chunks of code before testing.  But while you are getting started, keep it simple!\n",
        "As a general rule, each line of code should perform a small number of operations, and each cell should contain a small number of statements."
      ]
    },
    {
      "cell_type": "markdown",
      "metadata": {
        "id": "1qF_GzOMipqL"
      },
      "source": [
        "## Summary\n",
        "\n",
        "This chapter presents three ways to represent a sequence of values: tuples, lists, and Numpy arrays.\n",
        "Working with data, we will primarily use arrays.\n",
        "\n",
        "It also introduces three ways to represent differences: absolute, relative, and percentage -- and several ways to summarize a set of values: minimum, maximum, mean, and standard deviation.\n",
        "\n",
        "In the next chapter we'll start working with data files, and we'll use loops to process letters and words."
      ]
    },
    {
      "cell_type": "markdown",
      "metadata": {
        "tags": [],
        "id": "drRtyh6qipqL"
      },
      "source": [
        "*Elements of Data Science*\n",
        "\n",
        "Copyright 2021 [Allen B. Downey](https://allendowney.com)\n",
        "\n",
        "License: [Creative Commons Attribution-NonCommercial-ShareAlike 4.0 International](https://creativecommons.org/licenses/by-nc-sa/4.0/)"
      ]
    }
  ],
  "metadata": {
    "celltoolbar": "Tags",
    "kernelspec": {
      "display_name": "Python 3 (ipykernel)",
      "language": "python",
      "name": "python3"
    },
    "language_info": {
      "codemirror_mode": {
        "name": "ipython",
        "version": 3
      },
      "file_extension": ".py",
      "mimetype": "text/x-python",
      "name": "python",
      "nbconvert_exporter": "python",
      "pygments_lexer": "ipython3",
      "version": "3.10.14"
    },
    "colab": {
      "provenance": []
    }
  },
  "nbformat": 4,
  "nbformat_minor": 0
}