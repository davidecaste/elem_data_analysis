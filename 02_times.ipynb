{
  "cells": [
    {
      "cell_type": "markdown",
      "metadata": {
        "id": "30otELGc0x-w"
      },
      "source": [
        "Printed copies of *Elements of Data Science* are available now, with a **full color interior**, from [Lulu.com](https://www.lulu.com/shop/allen-downey/elements-of-data-science/paperback/product-9dyrwn.html)."
      ]
    },
    {
      "cell_type": "markdown",
      "metadata": {
        "id": "GeKV8gAb0x-z"
      },
      "source": [
        "# Times and Places"
      ]
    },
    {
      "cell_type": "markdown",
      "metadata": {
        "tags": [],
        "id": "lbI1GdZ-0x-0"
      },
      "source": [
        "[Click here to run this notebook on Colab](https://colab.research.google.com/github/AllenDowney/ElementsOfDataScience/blob/v1/02_times.ipynb)."
      ]
    },
    {
      "cell_type": "code",
      "execution_count": 1,
      "metadata": {
        "tags": [],
        "id": "BH-OtSRz0x-1",
        "outputId": "380bcac7-5021-4b16-f153-2e7d55a7e205",
        "colab": {
          "base_uri": "https://localhost:8080/"
        }
      },
      "outputs": [
        {
          "output_type": "stream",
          "name": "stdout",
          "text": [
            "Downloaded utils.py\n"
          ]
        }
      ],
      "source": [
        "from os.path import basename, exists\n",
        "\n",
        "def download(url):\n",
        "    filename = basename(url)\n",
        "    if not exists(filename):\n",
        "        from urllib.request import urlretrieve\n",
        "\n",
        "        local, _ = urlretrieve(url, filename)\n",
        "        print(\"Downloaded \" + str(local))\n",
        "    return filename\n",
        "\n",
        "download('https://raw.githubusercontent.com/AllenDowney/ElementsOfDataScience/v1/utils.py')\n",
        "\n",
        "import utils"
      ]
    },
    {
      "cell_type": "markdown",
      "metadata": {
        "id": "6Sp_-YkX0x-3"
      },
      "source": [
        "The previous chapter introduces variables and two kinds of values: integers and floating-point numbers.\n",
        "This chapter presents these additional types:\n",
        "\n",
        "* Strings, which represent text.\n",
        "\n",
        "* Time stamps, which represent dates and times.\n",
        "\n",
        "* And several ways to represent and display geographical locations.\n",
        "\n",
        "Not every data science project uses all of these types, but many projects use at least one."
      ]
    },
    {
      "cell_type": "markdown",
      "metadata": {
        "id": "GgR4Rhme0x-4"
      },
      "source": [
        "## Strings\n",
        "\n",
        "A **string** is a sequence of letters, numbers, and punctuation marks.\n",
        "In Python you can create a string by enclosing text between single or double quotation marks."
      ]
    },
    {
      "cell_type": "code",
      "execution_count": 2,
      "metadata": {
        "id": "2cKrab530x-5",
        "outputId": "890f0a3f-b206-49bf-c838-2c565bb3d3b0",
        "colab": {
          "base_uri": "https://localhost:8080/",
          "height": 34
        }
      },
      "outputs": [
        {
          "output_type": "execute_result",
          "data": {
            "text/plain": [
              "'Elements'"
            ],
            "application/vnd.google.colaboratory.intrinsic+json": {
              "type": "string"
            }
          },
          "metadata": {},
          "execution_count": 2
        }
      ],
      "source": [
        "'Elements'"
      ]
    },
    {
      "cell_type": "code",
      "execution_count": 3,
      "metadata": {
        "id": "x-Y0Dmo-0x-6",
        "outputId": "46dd5414-2aaa-4e31-8438-dd82691e8730",
        "colab": {
          "base_uri": "https://localhost:8080/",
          "height": 34
        }
      },
      "outputs": [
        {
          "output_type": "execute_result",
          "data": {
            "text/plain": [
              "'of'"
            ],
            "application/vnd.google.colaboratory.intrinsic+json": {
              "type": "string"
            }
          },
          "metadata": {},
          "execution_count": 3
        }
      ],
      "source": [
        "\"of\""
      ]
    },
    {
      "cell_type": "markdown",
      "metadata": {
        "id": "tk2lzQwm0x-7"
      },
      "source": [
        "And you can assign string values to variables."
      ]
    },
    {
      "cell_type": "code",
      "execution_count": 4,
      "metadata": {
        "id": "9k5GZU-C0x-8"
      },
      "outputs": [],
      "source": [
        "first = 'Data'\n",
        "last = \"Science\""
      ]
    },
    {
      "cell_type": "markdown",
      "metadata": {
        "id": "4PIeJIFu0x-9"
      },
      "source": [
        "Some arithmetic operators work with strings, but they might not do what you expect.  For example, the `+` operator **concatenates** two strings -- that is, it creates a new string that contains the first string followed by the second string:"
      ]
    },
    {
      "cell_type": "code",
      "execution_count": 5,
      "metadata": {
        "id": "wuEtAyme0x--",
        "outputId": "1710aa3e-ee23-45bf-b6c3-05aaaaadf8f4",
        "colab": {
          "base_uri": "https://localhost:8080/",
          "height": 34
        }
      },
      "outputs": [
        {
          "output_type": "execute_result",
          "data": {
            "text/plain": [
              "'DataScience'"
            ],
            "application/vnd.google.colaboratory.intrinsic+json": {
              "type": "string"
            }
          },
          "metadata": {},
          "execution_count": 5
        }
      ],
      "source": [
        "first + last"
      ]
    },
    {
      "cell_type": "markdown",
      "metadata": {
        "id": "mx88uAsw0x-_"
      },
      "source": [
        "If you want to put a space between the words, you can use a string that contains a space:"
      ]
    },
    {
      "cell_type": "code",
      "execution_count": 6,
      "metadata": {
        "id": "wzFqob9H0x_A",
        "outputId": "5ff88045-f5f7-4333-8ef1-cc388e9d6606",
        "colab": {
          "base_uri": "https://localhost:8080/",
          "height": 34
        }
      },
      "outputs": [
        {
          "output_type": "execute_result",
          "data": {
            "text/plain": [
              "'Data Science'"
            ],
            "application/vnd.google.colaboratory.intrinsic+json": {
              "type": "string"
            }
          },
          "metadata": {},
          "execution_count": 6
        }
      ],
      "source": [
        "first + ' ' + last"
      ]
    },
    {
      "cell_type": "markdown",
      "metadata": {
        "id": "FbmkXwFW0x_A"
      },
      "source": [
        "Strings are used to store text data like names, addresses, titles, etc.\n",
        "When you read data from a file, you might see values that look like numbers, but they are actually strings, like this:"
      ]
    },
    {
      "cell_type": "code",
      "execution_count": 7,
      "metadata": {
        "id": "wK-QxoaZ0x_A"
      },
      "outputs": [],
      "source": [
        "not_actually_a_number = '123'"
      ]
    },
    {
      "cell_type": "markdown",
      "metadata": {
        "id": "YkJkfbMq0x_B"
      },
      "source": [
        "If you try to do math with these strings, you *might* get an error."
      ]
    },
    {
      "cell_type": "code",
      "execution_count": 8,
      "metadata": {
        "tags": [],
        "id": "S3MLQ0YT0x_B",
        "outputId": "d2a3106f-8331-4e7f-f4f5-4f9f32f1257f",
        "colab": {
          "base_uri": "https://localhost:8080/",
          "height": 54
        }
      },
      "outputs": [
        {
          "output_type": "error",
          "ename": "TypeError",
          "evalue": "can only concatenate str (not \"int\") to str",
          "traceback": [
            "\u001b[0;31mTypeError\u001b[0m\u001b[0;31m:\u001b[0m can only concatenate str (not \"int\") to str\n"
          ]
        }
      ],
      "source": [
        "%%expect TypeError\n",
        "\n",
        "not_actually_a_number + 1"
      ]
    },
    {
      "cell_type": "markdown",
      "metadata": {
        "id": "mP0rVjcw0x_C"
      },
      "source": [
        "But you might not -- instead, you might get a surprising result.\n",
        "For example:"
      ]
    },
    {
      "cell_type": "code",
      "execution_count": 9,
      "metadata": {
        "id": "71Pvcm410x_C",
        "outputId": "45aec993-99f4-41f6-f6dc-c010d7d57ae6",
        "colab": {
          "base_uri": "https://localhost:8080/",
          "height": 34
        }
      },
      "outputs": [
        {
          "output_type": "execute_result",
          "data": {
            "text/plain": [
              "'123123123'"
            ],
            "application/vnd.google.colaboratory.intrinsic+json": {
              "type": "string"
            }
          },
          "metadata": {},
          "execution_count": 9
        }
      ],
      "source": [
        "not_actually_a_number * 3"
      ]
    },
    {
      "cell_type": "markdown",
      "metadata": {
        "id": "UDlR2zO20x_C"
      },
      "source": [
        "If you multiply a string by an integer, Python repeats the string the given number of times.\n",
        "\n",
        "If you have a string that contains only digits, you can convert it to an integer using the `int` function:"
      ]
    },
    {
      "cell_type": "code",
      "execution_count": 10,
      "metadata": {
        "id": "zfXZ-zFM0x_D",
        "outputId": "3dac8cf0-bfb6-42f0-aada-359f88c15a34",
        "colab": {
          "base_uri": "https://localhost:8080/"
        }
      },
      "outputs": [
        {
          "output_type": "execute_result",
          "data": {
            "text/plain": [
              "123"
            ]
          },
          "metadata": {},
          "execution_count": 10
        }
      ],
      "source": [
        "int('123')"
      ]
    },
    {
      "cell_type": "markdown",
      "metadata": {
        "id": "mtMgdXp20x_D"
      },
      "source": [
        "Or you can convert it to a floating-point number using `float`:"
      ]
    },
    {
      "cell_type": "code",
      "execution_count": 11,
      "metadata": {
        "id": "Ew498agc0x_D",
        "outputId": "be8d65dc-c8bf-4197-9c63-650eb85527ce",
        "colab": {
          "base_uri": "https://localhost:8080/"
        }
      },
      "outputs": [
        {
          "output_type": "execute_result",
          "data": {
            "text/plain": [
              "12.3"
            ]
          },
          "metadata": {},
          "execution_count": 11
        }
      ],
      "source": [
        "float('12.3')"
      ]
    },
    {
      "cell_type": "markdown",
      "metadata": {
        "id": "lTYzIQWo0x_E"
      },
      "source": [
        "But if the string contains a decimal point, you can't convert it to an `int`."
      ]
    },
    {
      "cell_type": "code",
      "execution_count": 12,
      "metadata": {
        "tags": [],
        "id": "v8dnJoYW0x_E",
        "outputId": "cf766e74-5dbc-41b4-bef1-acae2eb44b32",
        "colab": {
          "base_uri": "https://localhost:8080/",
          "height": 54
        }
      },
      "outputs": [
        {
          "output_type": "error",
          "ename": "ValueError",
          "evalue": "invalid literal for int() with base 10: '12.3'",
          "traceback": [
            "\u001b[0;31mValueError\u001b[0m\u001b[0;31m:\u001b[0m invalid literal for int() with base 10: '12.3'\n"
          ]
        }
      ],
      "source": [
        "%%expect ValueError\n",
        "\n",
        "int('12.3')"
      ]
    },
    {
      "cell_type": "markdown",
      "metadata": {
        "id": "YdFaiJBl0x_E"
      },
      "source": [
        "Going in the other direction, you can convert any type of value to a string using `str`:"
      ]
    },
    {
      "cell_type": "code",
      "execution_count": 13,
      "metadata": {
        "id": "qfeq9AYY0x_F",
        "outputId": "c6fe590e-3add-45b9-93c6-696f302cc15e",
        "colab": {
          "base_uri": "https://localhost:8080/",
          "height": 34
        }
      },
      "outputs": [
        {
          "output_type": "execute_result",
          "data": {
            "text/plain": [
              "'123'"
            ],
            "application/vnd.google.colaboratory.intrinsic+json": {
              "type": "string"
            }
          },
          "metadata": {},
          "execution_count": 13
        }
      ],
      "source": [
        "str(123)"
      ]
    },
    {
      "cell_type": "code",
      "execution_count": 14,
      "metadata": {
        "id": "9S5mUiYH0x_F",
        "outputId": "37b72444-7226-42cb-ace9-c60237e0879a",
        "colab": {
          "base_uri": "https://localhost:8080/",
          "height": 34
        }
      },
      "outputs": [
        {
          "output_type": "execute_result",
          "data": {
            "text/plain": [
              "'12.3'"
            ],
            "application/vnd.google.colaboratory.intrinsic+json": {
              "type": "string"
            }
          },
          "metadata": {},
          "execution_count": 14
        }
      ],
      "source": [
        "str(12.3)"
      ]
    },
    {
      "cell_type": "markdown",
      "metadata": {
        "tags": [],
        "id": "GJLRWvsA0x_F"
      },
      "source": [
        "**Exercise**: When personal names are stored in a database, they might be stored in variables representing one or more given names, family names, and maybe additional middle names.  For example, a list of early statisticians might include:"
      ]
    },
    {
      "cell_type": "code",
      "execution_count": 15,
      "metadata": {
        "id": "DntBxhPt0x_G"
      },
      "outputs": [],
      "source": [
        "given = 'William'\n",
        "middle = 'Sealy'\n",
        "family = 'Gosset'"
      ]
    },
    {
      "cell_type": "markdown",
      "metadata": {
        "id": "wZXBhSot0x_H"
      },
      "source": [
        "But names are often displayed different ways in different contexts.  For example, the first time you mention someone in a book, you might give all three names, like \"William Sealy Gosset\". But in the index, you might put the family name first, like \"Gosset, William Sealy\".\n",
        "Write Python expressions that use the variables `given`, `middle`, and `family` to display Gosset's name in these two formats."
      ]
    },
    {
      "cell_type": "code",
      "execution_count": 18,
      "metadata": {
        "id": "ljw5Zvzj0x_I",
        "outputId": "dcf2405a-18c3-4e1d-c548-8a9df3ec9700",
        "colab": {
          "base_uri": "https://localhost:8080/",
          "height": 34
        }
      },
      "outputs": [
        {
          "output_type": "execute_result",
          "data": {
            "text/plain": [
              "'William Sealy Gosset'"
            ],
            "application/vnd.google.colaboratory.intrinsic+json": {
              "type": "string"
            }
          },
          "metadata": {},
          "execution_count": 18
        }
      ],
      "source": [
        "# Solution goes here\n",
        "given + ' ' + middle + ' ' + family"
      ]
    },
    {
      "cell_type": "code",
      "execution_count": 19,
      "metadata": {
        "id": "cgZ72-9p0x_J",
        "outputId": "0fb93a81-9d04-42e6-99f8-c217c1550605",
        "colab": {
          "base_uri": "https://localhost:8080/",
          "height": 34
        }
      },
      "outputs": [
        {
          "output_type": "execute_result",
          "data": {
            "text/plain": [
              "'Gosset William Sealy'"
            ],
            "application/vnd.google.colaboratory.intrinsic+json": {
              "type": "string"
            }
          },
          "metadata": {},
          "execution_count": 19
        }
      ],
      "source": [
        "# Solution goes here\n",
        "\n",
        "\n",
        "family + ' ' + given + ' ' + middle"
      ]
    },
    {
      "cell_type": "markdown",
      "metadata": {
        "id": "1wS6SKIN0x_J"
      },
      "source": [
        "## Representing Dates and Times\n",
        "\n",
        "When you read data from a file, you might find that dates and times are represented with strings."
      ]
    },
    {
      "cell_type": "code",
      "execution_count": 20,
      "metadata": {
        "id": "vfbri6FE0x_K"
      },
      "outputs": [],
      "source": [
        "not_really_a_date = 'June 4, 1989'"
      ]
    },
    {
      "cell_type": "markdown",
      "metadata": {
        "id": "m6mb-D1I0x_K"
      },
      "source": [
        "To check the type of a value, we can use the `type` function."
      ]
    },
    {
      "cell_type": "code",
      "execution_count": 21,
      "metadata": {
        "id": "sU1XLRxj0x_L",
        "outputId": "8b726334-6746-4265-accb-fbaedc596ac2",
        "colab": {
          "base_uri": "https://localhost:8080/"
        }
      },
      "outputs": [
        {
          "output_type": "execute_result",
          "data": {
            "text/plain": [
              "str"
            ]
          },
          "metadata": {},
          "execution_count": 21
        }
      ],
      "source": [
        "type(not_really_a_date)"
      ]
    },
    {
      "cell_type": "markdown",
      "metadata": {
        "id": "LNu7FzYB0x_L"
      },
      "source": [
        "The result indicates that the value of `not_really_a_date` is a string.\n",
        "\n",
        "We get the same result with `not_really_a_time`, below:"
      ]
    },
    {
      "cell_type": "code",
      "execution_count": 22,
      "metadata": {
        "id": "D7CT_mQO0x_M",
        "outputId": "ffe11449-8377-42f2-e6a8-781329cfd447",
        "colab": {
          "base_uri": "https://localhost:8080/"
        }
      },
      "outputs": [
        {
          "output_type": "execute_result",
          "data": {
            "text/plain": [
              "str"
            ]
          },
          "metadata": {},
          "execution_count": 22
        }
      ],
      "source": [
        "not_really_a_time = '6:30:00'\n",
        "type(not_really_a_time)"
      ]
    },
    {
      "cell_type": "markdown",
      "metadata": {
        "id": "N84UUvOr0x_M"
      },
      "source": [
        "Strings that represent dates and times are readable for people, but they are not useful for computation.\n",
        "Fortunately, Python provides libraries for working with date and time data -- the one we'll use is called Pandas.\n",
        "As always, we have to import a library before we use it.\n",
        "It is conventional to import Pandas with the abbreviated name `pd`:"
      ]
    },
    {
      "cell_type": "code",
      "execution_count": 23,
      "metadata": {
        "id": "erfG0vxc0x_N"
      },
      "outputs": [],
      "source": [
        "import pandas as pd"
      ]
    },
    {
      "cell_type": "markdown",
      "metadata": {
        "id": "Gttg5Xa80x_N"
      },
      "source": [
        "Pandas provides a type called `Timestamp`, which represents a date and time.\n",
        "If we have a string that contains a time or date, we can convert it to a `Timestamp` like this:"
      ]
    },
    {
      "cell_type": "code",
      "execution_count": 24,
      "metadata": {
        "id": "uFp9jggu0x_O",
        "outputId": "1c47c2b6-3a0b-4a52-9f6b-4c664e5824a0",
        "colab": {
          "base_uri": "https://localhost:8080/"
        }
      },
      "outputs": [
        {
          "output_type": "execute_result",
          "data": {
            "text/plain": [
              "Timestamp('2025-05-23 06:30:00')"
            ]
          },
          "metadata": {},
          "execution_count": 24
        }
      ],
      "source": [
        "pd.Timestamp('6:30:00')"
      ]
    },
    {
      "cell_type": "markdown",
      "metadata": {
        "id": "Otv1kzK-0x_O"
      },
      "source": [
        "Or we can do the same thing using the variable defined above."
      ]
    },
    {
      "cell_type": "code",
      "execution_count": 25,
      "metadata": {
        "id": "qJnD0ibX0x_P",
        "outputId": "710da616-ee0b-44d6-8984-f9eaeb75dda8",
        "colab": {
          "base_uri": "https://localhost:8080/"
        }
      },
      "outputs": [
        {
          "output_type": "execute_result",
          "data": {
            "text/plain": [
              "Timestamp('2025-05-23 06:30:00')"
            ]
          },
          "metadata": {},
          "execution_count": 25
        }
      ],
      "source": [
        "pd.Timestamp(not_really_a_time)"
      ]
    },
    {
      "cell_type": "markdown",
      "metadata": {
        "id": "UJUcehyB0x_P"
      },
      "source": [
        "In this example, the string specifies a time but no date, so Pandas fills in today's date.\n",
        "A `Timestamp` is a value, so you can assign it to a variable."
      ]
    },
    {
      "cell_type": "code",
      "execution_count": 26,
      "metadata": {
        "id": "bDCmSm9n0x_Q",
        "outputId": "c0ab20c5-0338-4b0f-d5c9-192a6c3c554d",
        "colab": {
          "base_uri": "https://localhost:8080/"
        }
      },
      "outputs": [
        {
          "output_type": "execute_result",
          "data": {
            "text/plain": [
              "Timestamp('1967-05-11 00:00:00')"
            ]
          },
          "metadata": {},
          "execution_count": 26
        }
      ],
      "source": [
        "date_of_birth = pd.Timestamp('May 11, 1967')\n",
        "date_of_birth"
      ]
    },
    {
      "cell_type": "markdown",
      "metadata": {
        "id": "tmYboryL0x_R"
      },
      "source": [
        "If the string specifies a date but no time, Pandas fills in midnight as the default time.\n",
        "\n",
        "If you assign the `Timestamp` to a variable, you can use the variable name to get the year, month, and day, like this:"
      ]
    },
    {
      "cell_type": "code",
      "execution_count": 27,
      "metadata": {
        "id": "izezVqFg0x_R",
        "outputId": "8f0ad01b-8e38-4ee4-c0b5-0c2c2df3cf3a",
        "colab": {
          "base_uri": "https://localhost:8080/"
        }
      },
      "outputs": [
        {
          "output_type": "execute_result",
          "data": {
            "text/plain": [
              "(1967, 5, 11)"
            ]
          },
          "metadata": {},
          "execution_count": 27
        }
      ],
      "source": [
        "date_of_birth.year, date_of_birth.month, date_of_birth.day"
      ]
    },
    {
      "cell_type": "markdown",
      "metadata": {
        "id": "mlos2tkG0x_S"
      },
      "source": [
        "You can also get the name of the month and the day of the week."
      ]
    },
    {
      "cell_type": "code",
      "execution_count": 28,
      "metadata": {
        "id": "XWgWyA6A0x_S",
        "outputId": "c2064bd0-8010-43c2-9e83-fa2ab6886451",
        "colab": {
          "base_uri": "https://localhost:8080/"
        }
      },
      "outputs": [
        {
          "output_type": "execute_result",
          "data": {
            "text/plain": [
              "('Thursday', 'May')"
            ]
          },
          "metadata": {},
          "execution_count": 28
        }
      ],
      "source": [
        "date_of_birth.day_name(), date_of_birth.month_name()"
      ]
    },
    {
      "cell_type": "markdown",
      "metadata": {
        "id": "LgcPIjDf0x_T"
      },
      "source": [
        "`Timestamp` provides a function called `now` that returns the current date and time."
      ]
    },
    {
      "cell_type": "code",
      "execution_count": 30,
      "metadata": {
        "id": "nnDIwSNv0x_T",
        "outputId": "a495913f-ba95-4a26-9d16-93ecad55f232",
        "colab": {
          "base_uri": "https://localhost:8080/"
        }
      },
      "outputs": [
        {
          "output_type": "execute_result",
          "data": {
            "text/plain": [
              "Timestamp('2025-05-23 11:12:47.838482')"
            ]
          },
          "metadata": {},
          "execution_count": 30
        }
      ],
      "source": [
        "now = pd.Timestamp.now()\n",
        "now"
      ]
    },
    {
      "cell_type": "markdown",
      "metadata": {
        "id": "q79WH4cS0x_U"
      },
      "source": [
        "**Exercise:** Use the value of `now` to display the name of the current month and day of the week."
      ]
    },
    {
      "cell_type": "code",
      "execution_count": 31,
      "metadata": {
        "id": "XQee7vFQ0x_U",
        "outputId": "5d6f8034-ecd6-4ea0-c6f8-20d72cb32739",
        "colab": {
          "base_uri": "https://localhost:8080/"
        }
      },
      "outputs": [
        {
          "output_type": "execute_result",
          "data": {
            "text/plain": [
              "('May', 'Friday')"
            ]
          },
          "metadata": {},
          "execution_count": 31
        }
      ],
      "source": [
        "# Solution goes here\n",
        "\n",
        "now = pd.Timestamp.now()\n",
        "now.month_name(), now.day_name()\n"
      ]
    },
    {
      "cell_type": "markdown",
      "metadata": {
        "id": "MW_Daq0_0x_V"
      },
      "source": [
        "## Timedelta\n",
        "\n",
        "`Timestamp` values support some arithmetic operations.\n",
        "For example, you can compute the difference between two `Timestamp` objects:"
      ]
    },
    {
      "cell_type": "code",
      "execution_count": 32,
      "metadata": {
        "id": "J1_be8lN0x_V",
        "outputId": "d9eb0b61-05b8-4083-b3ff-319ba252a007",
        "colab": {
          "base_uri": "https://localhost:8080/"
        }
      },
      "outputs": [
        {
          "output_type": "execute_result",
          "data": {
            "text/plain": [
              "Timedelta('21197 days 11:13:25.192192')"
            ]
          },
          "metadata": {},
          "execution_count": 32
        }
      ],
      "source": [
        "age = now - date_of_birth\n",
        "age"
      ]
    },
    {
      "cell_type": "markdown",
      "metadata": {
        "id": "yHHEPFQU0x_V"
      },
      "source": [
        "The result is a `Timedelta` that represents the current age of someone born on `date_of_birth`.\n",
        "The `Timedelta` contains `components` that store the number of days, hours, etc. between the two `Timestamp` values."
      ]
    },
    {
      "cell_type": "markdown",
      "metadata": {
        "tags": [],
        "id": "xmGRmViL0x_W"
      },
      "source": [
        "The `wrap` function splits the output onto multiple lines so it doesn't run off the page."
      ]
    },
    {
      "cell_type": "code",
      "execution_count": 33,
      "metadata": {
        "id": "3kDaTz5O0x_W",
        "outputId": "51c04f50-77b6-4533-89b0-4ac205070279",
        "colab": {
          "base_uri": "https://localhost:8080/"
        }
      },
      "outputs": [
        {
          "output_type": "stream",
          "name": "stdout",
          "text": [
            "Components(days=21197, hours=11, minutes=13, seconds=25,\n",
            "    milliseconds=192, microseconds=192, nanoseconds=0)\n"
          ]
        }
      ],
      "source": [
        "from utils import wrap\n",
        "\n",
        "wrap(age.components)"
      ]
    },
    {
      "cell_type": "markdown",
      "metadata": {
        "id": "8-1bocrt0x_X"
      },
      "source": [
        "You can get one of the components like this:"
      ]
    },
    {
      "cell_type": "code",
      "execution_count": 34,
      "metadata": {
        "id": "9R-tDWDw0x_X",
        "outputId": "2314a6dc-61d8-47dc-f8dc-d94201ea5dcd",
        "colab": {
          "base_uri": "https://localhost:8080/"
        }
      },
      "outputs": [
        {
          "output_type": "execute_result",
          "data": {
            "text/plain": [
              "21197"
            ]
          },
          "metadata": {},
          "execution_count": 34
        }
      ],
      "source": [
        "age.days"
      ]
    },
    {
      "cell_type": "markdown",
      "metadata": {
        "id": "tS2qs18E0x_Y"
      },
      "source": [
        "It might seem strange to measure a large interval in days rather than years.\n",
        "The problem is that the duration of a year is not clearly defined.\n",
        "Most years are `365` days, but some are `366`.\n",
        "The average calendar year is `365.24` days, which is a very good approximation of a solar year, but even that's not exact.\n",
        "\n",
        "Expressing a duration in days is clearly defined -- but it is not easy to interpret.\n",
        "To express `age` in years, we can divide by `365.24`:"
      ]
    },
    {
      "cell_type": "code",
      "execution_count": 35,
      "metadata": {
        "id": "E79LReDM0x_Y",
        "outputId": "833971ba-b6f7-484c-8fde-21a4905f46a2",
        "colab": {
          "base_uri": "https://localhost:8080/"
        }
      },
      "outputs": [
        {
          "output_type": "execute_result",
          "data": {
            "text/plain": [
              "58.03581206877669"
            ]
          },
          "metadata": {},
          "execution_count": 35
        }
      ],
      "source": [
        "age.days / 365.24"
      ]
    },
    {
      "cell_type": "markdown",
      "metadata": {
        "id": "0eSJSPHB0x_Y"
      },
      "source": [
        "But people usually report their ages in integer years.  We can use the Numpy `floor` function to round down:"
      ]
    },
    {
      "cell_type": "code",
      "execution_count": 36,
      "metadata": {
        "id": "k2ZPCidQ0x_Z",
        "outputId": "fbce57f7-e10c-47a6-a6c6-0c17ea8b4a16",
        "colab": {
          "base_uri": "https://localhost:8080/"
        }
      },
      "outputs": [
        {
          "output_type": "execute_result",
          "data": {
            "text/plain": [
              "np.float64(58.0)"
            ]
          },
          "metadata": {},
          "execution_count": 36
        }
      ],
      "source": [
        "import numpy as np\n",
        "\n",
        "np.floor(age.days / 365.24)"
      ]
    },
    {
      "cell_type": "markdown",
      "metadata": {
        "id": "DqT3sjzE0x_Z"
      },
      "source": [
        "Or the `ceil` function (which stands for \"ceiling\") to round up:"
      ]
    },
    {
      "cell_type": "code",
      "execution_count": 37,
      "metadata": {
        "id": "i4yVDrvl0x_a",
        "outputId": "448c41d7-65e7-42d0-a447-e02fd537810f",
        "colab": {
          "base_uri": "https://localhost:8080/"
        }
      },
      "outputs": [
        {
          "output_type": "execute_result",
          "data": {
            "text/plain": [
              "np.float64(59.0)"
            ]
          },
          "metadata": {},
          "execution_count": 37
        }
      ],
      "source": [
        "np.ceil(age.days / 365.24)"
      ]
    },
    {
      "cell_type": "markdown",
      "metadata": {
        "id": "cGQyY8ko0x_a"
      },
      "source": [
        "We can also compare `Timestamp` values to see which comes first.\n",
        "For example, let's see if a person with a given birthdate has already had a birthday this year.\n",
        "Here's a new `Timestamp` with the year from `now` and the month and day from `date_of_birth`."
      ]
    },
    {
      "cell_type": "code",
      "execution_count": 38,
      "metadata": {
        "id": "xAarWJ9g0x_b",
        "outputId": "b90d0401-a376-4e10-c06c-57073e050e99",
        "colab": {
          "base_uri": "https://localhost:8080/"
        }
      },
      "outputs": [
        {
          "output_type": "execute_result",
          "data": {
            "text/plain": [
              "Timestamp('2025-05-11 00:00:00')"
            ]
          },
          "metadata": {},
          "execution_count": 38
        }
      ],
      "source": [
        "bday_this_year = pd.Timestamp(now.year,\n",
        "                              date_of_birth.month,\n",
        "                              date_of_birth.day)\n",
        "bday_this_year"
      ]
    },
    {
      "cell_type": "markdown",
      "metadata": {
        "id": "G6NZVNyY0x_b"
      },
      "source": [
        "The result represents the person's birthday this year.\n",
        "Now we can use the \"greater than\" operator, `>`, to check whether `now` is later than the birthday:"
      ]
    },
    {
      "cell_type": "code",
      "execution_count": 39,
      "metadata": {
        "id": "oJViqPSj0x_c",
        "outputId": "3a2e0500-bdf2-45c4-cd87-378860005d01",
        "colab": {
          "base_uri": "https://localhost:8080/"
        }
      },
      "outputs": [
        {
          "output_type": "execute_result",
          "data": {
            "text/plain": [
              "True"
            ]
          },
          "metadata": {},
          "execution_count": 39
        }
      ],
      "source": [
        "now > bday_this_year"
      ]
    },
    {
      "cell_type": "markdown",
      "metadata": {
        "id": "VziCgQ6j0x_c"
      },
      "source": [
        "The result is either `True` or `False`.\n",
        "These values belong to a type called `bool`.\n",
        "The name comes from \"Boolean algebra\", which is a branch of algebra where all values are either true or false."
      ]
    },
    {
      "cell_type": "code",
      "execution_count": 40,
      "metadata": {
        "id": "yW69jpZl0x_c",
        "outputId": "81d96c27-7baa-41ff-9d44-26759699170d",
        "colab": {
          "base_uri": "https://localhost:8080/"
        }
      },
      "outputs": [
        {
          "output_type": "execute_result",
          "data": {
            "text/plain": [
              "bool"
            ]
          },
          "metadata": {},
          "execution_count": 40
        }
      ],
      "source": [
        "type(True)"
      ]
    },
    {
      "cell_type": "code",
      "execution_count": 41,
      "metadata": {
        "id": "uCJO7sdQ0x_c",
        "outputId": "540ae1cc-fc30-42c1-904d-216eb8722884",
        "colab": {
          "base_uri": "https://localhost:8080/"
        }
      },
      "outputs": [
        {
          "output_type": "execute_result",
          "data": {
            "text/plain": [
              "bool"
            ]
          },
          "metadata": {},
          "execution_count": 41
        }
      ],
      "source": [
        "type(False)"
      ]
    },
    {
      "cell_type": "markdown",
      "metadata": {
        "id": "Ct38MX_70x_d"
      },
      "source": [
        "**Exercise:** Any two people with different birthdays have a \"Double Day\" when one is twice as old as the other.\n",
        "Suppose you are given two `Timestamp` values, `d1` and `d2`, that represent birthdays for two people.  Use `Timestamp` arithmetic to compute their double day.\n",
        "With the following dates, the result should be December 19, 2009."
      ]
    },
    {
      "cell_type": "code",
      "execution_count": 46,
      "metadata": {
        "id": "V4BFSO8c0x_d"
      },
      "outputs": [],
      "source": [
        "d1 = pd.Timestamp('2003-07-12')\n",
        "d2 = pd.Timestamp('2006-09-30')"
      ]
    },
    {
      "cell_type": "code",
      "execution_count": 53,
      "metadata": {
        "id": "PCmiBU760x_d",
        "outputId": "e155db83-914e-4b63-aaf0-846c93f5b15f",
        "colab": {
          "base_uri": "https://localhost:8080/"
        }
      },
      "outputs": [
        {
          "output_type": "execute_result",
          "data": {
            "text/plain": [
              "Timestamp('2009-12-19 00:00:00')"
            ]
          },
          "metadata": {},
          "execution_count": 53
        }
      ],
      "source": [
        "# Solution goes here\n",
        "from datetime import timedelta, date\n",
        "d2-d1\n",
        "\n",
        "d2 + timedelta((d2-d1).days)"
      ]
    },
    {
      "cell_type": "markdown",
      "metadata": {
        "id": "VyF3g8p-0x_e"
      },
      "source": [
        "## Representing Location\n",
        "\n",
        "In addition to times and dates, we might also want to represent locations, especially if we are working with geographical data.\n",
        "There are many ways to represent locations, but the most common, at least for global data, is latitude and longitude.\n",
        "When stored in a string, latitude and longitude are expressed in degrees with compass directions N, S, E, and W.\n",
        "For example, this string represents the location of Boston, Massachusetts, USA:"
      ]
    },
    {
      "cell_type": "code",
      "execution_count": 54,
      "metadata": {
        "id": "JcnCbyxm0x_e"
      },
      "outputs": [],
      "source": [
        "lat_lon_string = '42.3601° N, 71.0589° W'"
      ]
    },
    {
      "cell_type": "markdown",
      "metadata": {
        "id": "o9Q1eTzt0x_e"
      },
      "source": [
        "But for purposes of computation it is more common to represent longitude and latitude with two floating-point numbers, with\n",
        "\n",
        "* Positive latitude for locations in the northern hemisphere, negative latitude for the southern hemisphere, and\n",
        "\n",
        "* Positive longitude locations in the eastern hemisphere and negative longitude for the western hemisphere.\n",
        "\n",
        "The location of the origin and the orientation of positive and negative are arbitrary choices that were made for historical reasons.\n",
        "Here's how we might represent the location of Boston with two variables."
      ]
    },
    {
      "cell_type": "code",
      "execution_count": 55,
      "metadata": {
        "id": "SFCkHgMs0x_e"
      },
      "outputs": [],
      "source": [
        "lat = 42.3601\n",
        "lon = -71.0589"
      ]
    },
    {
      "cell_type": "markdown",
      "metadata": {
        "id": "0jZWTgpq0x_f"
      },
      "source": [
        "It is also possible to combine two numbers into a composite value and assign it to a single variable:"
      ]
    },
    {
      "cell_type": "code",
      "execution_count": 56,
      "metadata": {
        "id": "_lmQdx150x_f",
        "outputId": "e5b993ee-f874-4835-ffef-e69c1f3b455c",
        "colab": {
          "base_uri": "https://localhost:8080/"
        }
      },
      "outputs": [
        {
          "output_type": "execute_result",
          "data": {
            "text/plain": [
              "(42.3601, -71.0589)"
            ]
          },
          "metadata": {},
          "execution_count": 56
        }
      ],
      "source": [
        "boston = lat, lon\n",
        "boston"
      ]
    },
    {
      "cell_type": "markdown",
      "metadata": {
        "id": "j5wcDh0n0x_f"
      },
      "source": [
        "The type of this variable is `tuple`, which is a mathematical term for a value that contains a sequence of elements.\n",
        "Math people pronounce it \"tuh' ple\", but computational people usually say \"too' ple\".\n",
        "Either is fine."
      ]
    },
    {
      "cell_type": "code",
      "execution_count": 57,
      "metadata": {
        "id": "UP5RJtuK0x_g",
        "outputId": "1b7e3b9a-c30d-47a0-91b7-a135f5853359",
        "colab": {
          "base_uri": "https://localhost:8080/"
        }
      },
      "outputs": [
        {
          "output_type": "execute_result",
          "data": {
            "text/plain": [
              "tuple"
            ]
          },
          "metadata": {},
          "execution_count": 57
        }
      ],
      "source": [
        "type(boston)"
      ]
    },
    {
      "cell_type": "markdown",
      "metadata": {
        "id": "VrFDxvUZ0x_g"
      },
      "source": [
        "If you have a tuple with two elements, you can assign them to two variables, like this:"
      ]
    },
    {
      "cell_type": "code",
      "execution_count": 58,
      "metadata": {
        "id": "NGH9dn9y0x_g",
        "outputId": "76ed9375-05e1-49ba-c20d-ff8bf0f366cf",
        "colab": {
          "base_uri": "https://localhost:8080/"
        }
      },
      "outputs": [
        {
          "output_type": "execute_result",
          "data": {
            "text/plain": [
              "42.3601"
            ]
          },
          "metadata": {},
          "execution_count": 58
        }
      ],
      "source": [
        "y, x = boston\n",
        "y"
      ]
    },
    {
      "cell_type": "code",
      "execution_count": 59,
      "metadata": {
        "id": "ztGohHBF0x_g",
        "outputId": "0c534251-9f90-42f8-93fb-4de71d2f6c8d",
        "colab": {
          "base_uri": "https://localhost:8080/"
        }
      },
      "outputs": [
        {
          "output_type": "execute_result",
          "data": {
            "text/plain": [
              "-71.0589"
            ]
          },
          "metadata": {},
          "execution_count": 59
        }
      ],
      "source": [
        "x"
      ]
    },
    {
      "cell_type": "markdown",
      "metadata": {
        "id": "enBTy_zF0x_h"
      },
      "source": [
        "Notice that I assigned latitude to `y` and longitude to `x`, because a `y` coordinate usually goes up and down like latitude, and an `x` coordinate usually goes side-to-side like longitude."
      ]
    },
    {
      "cell_type": "markdown",
      "metadata": {
        "id": "gcCwNp6i0x_h"
      },
      "source": [
        "**Exercise:** Find the latitude and longitude of the place you were born or someplace you think of as your \"home town\".\n",
        "Make a tuple of floating-point numbers that represents that location."
      ]
    },
    {
      "cell_type": "code",
      "execution_count": null,
      "metadata": {
        "id": "2pJeYFa-0x_h"
      },
      "outputs": [],
      "source": [
        "# Solution goes here"
      ]
    },
    {
      "cell_type": "markdown",
      "metadata": {
        "id": "k7FV5IpS0x_h"
      },
      "source": [
        "## Calculating Distance\n",
        "\n",
        "If you are given two tuples that represent locations, you can compute the approximate distance between them, along the surface of the globe, using the haversine function:\n",
        "\n",
        "$\\mathrm{haversine}(\\theta)=\\sin^2(\\theta/2)$\n",
        "\n",
        "Where $\\theta$ is an angle in radians.\n",
        "We can compute this function in Python like this:"
      ]
    },
    {
      "cell_type": "code",
      "execution_count": 62,
      "metadata": {
        "id": "JFXxyL660x_i",
        "outputId": "e739aae8-ce0f-40e5-cf51-fce8f1480ea7",
        "colab": {
          "base_uri": "https://localhost:8080/"
        }
      },
      "outputs": [
        {
          "output_type": "execute_result",
          "data": {
            "text/plain": [
              "0.22984884706593015"
            ]
          },
          "metadata": {},
          "execution_count": 62
        }
      ],
      "source": [
        "import numpy as np\n",
        "\n",
        "np.set_printoptions(legacy='1.25')\n",
        "\n",
        "θ = 1\n",
        "np.sin(θ/2)**2"
      ]
    },
    {
      "cell_type": "markdown",
      "metadata": {
        "id": "bgrK_vuS0x_i"
      },
      "source": [
        "You can use Greek letters in variable names, but there is currently no way to type them in Jupyter/Colab, so I usually copy them from a web page and paste them in.\n",
        "To avoid the inconvenience, it is common to write out letter names, like this:"
      ]
    },
    {
      "cell_type": "code",
      "execution_count": 64,
      "metadata": {
        "id": "pI2PKALS0x_i",
        "outputId": "407eb28b-f587-49c0-901d-d959a1105f99",
        "colab": {
          "base_uri": "https://localhost:8080/"
        }
      },
      "outputs": [
        {
          "output_type": "execute_result",
          "data": {
            "text/plain": [
              "0.22984884706593015"
            ]
          },
          "metadata": {},
          "execution_count": 64
        }
      ],
      "source": [
        "theta = 1\n",
        "np.sin(theta/2)**2"
      ]
    },
    {
      "cell_type": "markdown",
      "metadata": {
        "id": "EvUeaWpl0x_j"
      },
      "source": [
        "Remember that the operator for exponentiation is `**`.\n",
        "In some other languages it's `^`, which is also an operator in Python, but it performs another operation altogether."
      ]
    },
    {
      "cell_type": "markdown",
      "metadata": {
        "tags": [],
        "id": "ZjYnxVw70x_k"
      },
      "source": [
        "**Exercise:** Try out the previous expression, replacing `**` with `^`, and see what error message you get.  Remember this message in case you see it in the future!"
      ]
    },
    {
      "cell_type": "code",
      "execution_count": 65,
      "metadata": {
        "id": "k803IgMe0x_k",
        "outputId": "b035694c-7a72-4684-bb75-003e83ed4abe",
        "colab": {
          "base_uri": "https://localhost:8080/",
          "height": 54
        }
      },
      "outputs": [
        {
          "output_type": "error",
          "ename": "TypeError",
          "evalue": "ufunc 'bitwise_xor' not supported for the input types, and the inputs could not be safely coerced to any supported types according to the casting rule ''safe''",
          "traceback": [
            "\u001b[0;31mTypeError\u001b[0m\u001b[0;31m:\u001b[0m ufunc 'bitwise_xor' not supported for the input types, and the inputs could not be safely coerced to any supported types according to the casting rule ''safe''\n"
          ]
        }
      ],
      "source": [
        "# Solution goes here\n",
        "\n",
        "theta = 1\n",
        "np.sin(theta/2)^2"
      ]
    },
    {
      "cell_type": "markdown",
      "metadata": {
        "id": "yKoknx7m0x_m"
      },
      "source": [
        "## Defining Functions\n",
        "\n",
        "If we are planning to use an expression like `np.sin(theta/2)**2` more than a few times, we can define a new function that computes it, like this:"
      ]
    },
    {
      "cell_type": "code",
      "execution_count": 66,
      "metadata": {
        "id": "EX510-vE0x_m"
      },
      "outputs": [],
      "source": [
        "def haversine(theta):\n",
        "    \"\"\"Compute the haversine function of theta.\"\"\"\n",
        "    return np.sin(theta/2)**2"
      ]
    },
    {
      "cell_type": "markdown",
      "metadata": {
        "id": "HcWXegJl0x_m"
      },
      "source": [
        "On the first line, `def` indicates that we are defining a function.\n",
        "The second line is a triple-quoted string, which is a **comment**: it describes what the function does, but has no effect when the program runs.\n",
        "On the third line, `return` indicates the result of the function.\n",
        "\n",
        "When you run the previous cell, it creates a new variable called `haversine`.  You can display its value like this:"
      ]
    },
    {
      "cell_type": "code",
      "execution_count": 67,
      "metadata": {
        "id": "vLRXAVvG0x_m",
        "outputId": "ab1ba6f2-f234-4618-9441-3532e2b05b22",
        "colab": {
          "base_uri": "https://localhost:8080/",
          "height": 104
        }
      },
      "outputs": [
        {
          "output_type": "execute_result",
          "data": {
            "text/plain": [
              "<function __main__.haversine(theta)>"
            ],
            "text/html": [
              "<div style=\"max-width:800px; border: 1px solid var(--colab-border-color);\"><style>\n",
              "      pre.function-repr-contents {\n",
              "        overflow-x: auto;\n",
              "        padding: 8px 12px;\n",
              "        max-height: 500px;\n",
              "      }\n",
              "\n",
              "      pre.function-repr-contents.function-repr-contents-collapsed {\n",
              "        cursor: pointer;\n",
              "        max-height: 100px;\n",
              "      }\n",
              "    </style>\n",
              "    <pre style=\"white-space: initial; background:\n",
              "         var(--colab-secondary-surface-color); padding: 8px 12px;\n",
              "         border-bottom: 1px solid var(--colab-border-color);\"><b>haversine</b><br/>def haversine(theta)</pre><pre class=\"function-repr-contents function-repr-contents-collapsed\" style=\"\"><a class=\"filepath\" style=\"display:none\" href=\"#\">/content/&lt;ipython-input-66-1a2b5f3601fc&gt;</a>Compute the haversine function of theta.</pre></div>"
            ]
          },
          "metadata": {},
          "execution_count": 67
        }
      ],
      "source": [
        "haversine"
      ]
    },
    {
      "cell_type": "markdown",
      "metadata": {
        "id": "nXnRq7w20x_n"
      },
      "source": [
        "And you can display its type like this:"
      ]
    },
    {
      "cell_type": "code",
      "execution_count": 68,
      "metadata": {
        "id": "YXfpup5U0x_n",
        "outputId": "aba41053-67fd-4590-b23e-361053a7cb67",
        "colab": {
          "base_uri": "https://localhost:8080/"
        }
      },
      "outputs": [
        {
          "output_type": "execute_result",
          "data": {
            "text/plain": [
              "function"
            ]
          },
          "metadata": {},
          "execution_count": 68
        }
      ],
      "source": [
        "type(haversine)"
      ]
    },
    {
      "cell_type": "markdown",
      "metadata": {
        "id": "3X987hqg0x_o"
      },
      "source": [
        "So `haversine` is a variable that refers to a function.\n",
        "To run the function and compute a result, we have to **call** the function and provide a value for `theta`:"
      ]
    },
    {
      "cell_type": "code",
      "execution_count": 69,
      "metadata": {
        "id": "XqiFd-Y90x_p",
        "outputId": "9ae0a89a-38db-44b0-9447-aad8566616fb",
        "colab": {
          "base_uri": "https://localhost:8080/"
        }
      },
      "outputs": [
        {
          "output_type": "execute_result",
          "data": {
            "text/plain": [
              "0.22984884706593015"
            ]
          },
          "metadata": {},
          "execution_count": 69
        }
      ],
      "source": [
        "haversine(1)"
      ]
    },
    {
      "cell_type": "markdown",
      "metadata": {
        "id": "Nltu6O1I0x_p"
      },
      "source": [
        "When you define a function, you create a new variable.  But the function doesn't actually run until you call it."
      ]
    },
    {
      "cell_type": "markdown",
      "metadata": {
        "id": "wL66Ba6G0x_q"
      },
      "source": [
        "## Haversine Distance\n",
        "\n",
        "Now we can use `haversine` as part of a function that computes haversine distances.\n",
        "I won't explain this function in as much detail, but if you read through it, you can get a sense of how it works."
      ]
    },
    {
      "cell_type": "code",
      "execution_count": 70,
      "metadata": {
        "id": "h6MRqGid0x_q"
      },
      "outputs": [],
      "source": [
        "def haversine_distance(coord1, coord2):\n",
        "    \"\"\"Haversine distance between two locations.\n",
        "\n",
        "    coord1: lat-lon as tuple of float\n",
        "    coord2: lat-lon as tuple of float\n",
        "\n",
        "    returns: distance in km\n",
        "    \"\"\"\n",
        "    R = 6372.8  # Earth radius in km\n",
        "    lat1, lon1 = coord1\n",
        "    lat2, lon2 = coord2\n",
        "\n",
        "    phi1, phi2 = np.radians(lat1), np.radians(lat2)\n",
        "    dphi = np.radians(lat2 - lat1)\n",
        "    dlambda = np.radians(lon2 - lon1)\n",
        "\n",
        "    a = haversine(dphi) + np.cos(phi1) * np.cos(phi2) * haversine(dlambda)\n",
        "\n",
        "    distance = 2 * R * np.arctan2(np.sqrt(a), np.sqrt(1 - a))\n",
        "\n",
        "    return distance"
      ]
    },
    {
      "cell_type": "markdown",
      "metadata": {
        "id": "vhcHyuD_0x_r"
      },
      "source": [
        "When we call this function, we provide two tuples; each is a latitude-longitude pair.\n",
        "We already have a tuple that represents the location of Boston.\n",
        "Now here's a tuple that represents the location of London, England, UK:"
      ]
    },
    {
      "cell_type": "code",
      "execution_count": 71,
      "metadata": {
        "id": "TUSdJWah0x_r"
      },
      "outputs": [],
      "source": [
        "london = 51.5074, -0.1278"
      ]
    },
    {
      "cell_type": "markdown",
      "metadata": {
        "id": "DUM2k-oD0x_s"
      },
      "source": [
        "And here's the haversine distance between Boston and London."
      ]
    },
    {
      "cell_type": "code",
      "execution_count": 72,
      "metadata": {
        "id": "prtMiR-40x_s",
        "outputId": "ef459ad0-8b79-4481-c52f-b7fb80d40553",
        "colab": {
          "base_uri": "https://localhost:8080/"
        }
      },
      "outputs": [
        {
          "output_type": "execute_result",
          "data": {
            "text/plain": [
              "5265.656325981015"
            ]
          },
          "metadata": {},
          "execution_count": 72
        }
      ],
      "source": [
        "haversine_distance(boston, london)"
      ]
    },
    {
      "cell_type": "markdown",
      "metadata": {
        "id": "hKH6X6vk0x_s"
      },
      "source": [
        "The actual geographic distance is slightly different because Earth is not a perfect sphere.  But the error of this estimate is less than 1%."
      ]
    },
    {
      "cell_type": "markdown",
      "metadata": {
        "id": "s2YnD4kX0x_t"
      },
      "source": [
        "**Exercise:** Use `haversine_distance` to compute the distance between Boston and your home town from the previous exercise. If possible, use an online map to check the result."
      ]
    },
    {
      "cell_type": "code",
      "execution_count": null,
      "metadata": {
        "id": "Mlj_RZNg0x_t"
      },
      "outputs": [],
      "source": [
        "# Solution goes here"
      ]
    },
    {
      "cell_type": "markdown",
      "metadata": {
        "id": "-nJ8yGM_0x_t"
      },
      "source": [
        "## Geopandas\n",
        "\n",
        "Python provides libraries for working with geographical data.  One of the most popular is Geopandas, which is based on Pandas and another library called Shapely.\n",
        "Shapely provides `Point` and `LineString` values, which we'll use to represent geographic locations and lines between them."
      ]
    },
    {
      "cell_type": "code",
      "execution_count": 73,
      "metadata": {
        "id": "mZH1HXnH0x_t"
      },
      "outputs": [],
      "source": [
        "from shapely.geometry import Point, LineString"
      ]
    },
    {
      "cell_type": "markdown",
      "metadata": {
        "id": "Z156Psmn0x_u"
      },
      "source": [
        "We can use the tuples we defined in the previous section to create Shapely `Point` values, but we have to reverse the order of the coordinates, providing them in `x`-`y` order rather than `lat`-`lon` order, because that's the order the `Point` function expects."
      ]
    },
    {
      "cell_type": "code",
      "execution_count": 74,
      "metadata": {
        "id": "Qs1mhwuz0x_u"
      },
      "outputs": [],
      "source": [
        "lat, lon = boston\n",
        "p1 = Point(lon, lat)"
      ]
    },
    {
      "cell_type": "code",
      "execution_count": 75,
      "metadata": {
        "id": "sQPritnU0x_u"
      },
      "outputs": [],
      "source": [
        "lat, lon = london\n",
        "p2 = Point(lon, lat)"
      ]
    },
    {
      "cell_type": "markdown",
      "metadata": {
        "tags": [],
        "id": "FRKGQLRK0x_v"
      },
      "source": [
        "If we display a `Point` value, we get a graphical representation, but not a very useful one."
      ]
    },
    {
      "cell_type": "code",
      "execution_count": 76,
      "metadata": {
        "tags": [],
        "id": "p4SI0wOM0x_v",
        "outputId": "6129baf5-3aa2-4844-dc7f-44c8e62ac1ea",
        "colab": {
          "base_uri": "https://localhost:8080/",
          "height": 120
        }
      },
      "outputs": [
        {
          "output_type": "execute_result",
          "data": {
            "text/plain": [
              "<POINT (-71.059 42.36)>"
            ],
            "image/svg+xml": "<svg xmlns=\"http://www.w3.org/2000/svg\" xmlns:xlink=\"http://www.w3.org/1999/xlink\" width=\"100.0\" height=\"100.0\" viewBox=\"-72.0589 41.3601 2.0 2.0\" preserveAspectRatio=\"xMinYMin meet\"><g transform=\"matrix(1,0,0,-1,0,84.7202)\"><circle cx=\"-71.0589\" cy=\"42.3601\" r=\"0.06\" stroke=\"#555555\" stroke-width=\"0.02\" fill=\"#66cc99\" opacity=\"0.6\" /></g></svg>"
          },
          "metadata": {},
          "execution_count": 76
        }
      ],
      "source": [
        "p1"
      ]
    },
    {
      "cell_type": "markdown",
      "metadata": {
        "id": "jKRwYOSZ0x_w"
      },
      "source": [
        "We can use the points we just defined to create a `LineString`:"
      ]
    },
    {
      "cell_type": "code",
      "execution_count": 77,
      "metadata": {
        "id": "yhy7Ihpr0x_w"
      },
      "outputs": [],
      "source": [
        "line = LineString([p1, p2])"
      ]
    },
    {
      "cell_type": "markdown",
      "metadata": {
        "tags": [],
        "id": "mSpj6uxv0x_w"
      },
      "source": [
        "If we display the result, we get another not very useful graphical representation."
      ]
    },
    {
      "cell_type": "code",
      "execution_count": null,
      "metadata": {
        "tags": [],
        "id": "aXxaOy7F0x_x"
      },
      "outputs": [],
      "source": [
        "line"
      ]
    },
    {
      "cell_type": "markdown",
      "metadata": {
        "tags": [],
        "id": "4KS6i2b10x_x"
      },
      "source": [
        "The following cell installs Geopandas, if necessary."
      ]
    },
    {
      "cell_type": "code",
      "execution_count": 78,
      "metadata": {
        "tags": [],
        "id": "HNlBVS-x0x_y",
        "outputId": "3598e54f-310f-44d8-cfed-67dbba231758",
        "colab": {
          "base_uri": "https://localhost:8080/"
        }
      },
      "outputs": [
        {
          "output_type": "stream",
          "name": "stdout",
          "text": [
            "Collecting geodatasets\n",
            "  Downloading geodatasets-2024.8.0-py3-none-any.whl.metadata (5.4 kB)\n",
            "Requirement already satisfied: pooch in /usr/local/lib/python3.11/dist-packages (from geodatasets) (1.8.2)\n",
            "Requirement already satisfied: platformdirs>=2.5.0 in /usr/local/lib/python3.11/dist-packages (from pooch->geodatasets) (4.3.8)\n",
            "Requirement already satisfied: packaging>=20.0 in /usr/local/lib/python3.11/dist-packages (from pooch->geodatasets) (24.2)\n",
            "Requirement already satisfied: requests>=2.19.0 in /usr/local/lib/python3.11/dist-packages (from pooch->geodatasets) (2.32.3)\n",
            "Requirement already satisfied: charset-normalizer<4,>=2 in /usr/local/lib/python3.11/dist-packages (from requests>=2.19.0->pooch->geodatasets) (3.4.2)\n",
            "Requirement already satisfied: idna<4,>=2.5 in /usr/local/lib/python3.11/dist-packages (from requests>=2.19.0->pooch->geodatasets) (3.10)\n",
            "Requirement already satisfied: urllib3<3,>=1.21.1 in /usr/local/lib/python3.11/dist-packages (from requests>=2.19.0->pooch->geodatasets) (2.4.0)\n",
            "Requirement already satisfied: certifi>=2017.4.17 in /usr/local/lib/python3.11/dist-packages (from requests>=2.19.0->pooch->geodatasets) (2025.4.26)\n",
            "Downloading geodatasets-2024.8.0-py3-none-any.whl (20 kB)\n",
            "Installing collected packages: geodatasets\n",
            "Successfully installed geodatasets-2024.8.0\n"
          ]
        }
      ],
      "source": [
        "try:\n",
        "    import geopandas\n",
        "except ImportError:\n",
        "    !pip install geopandas\n",
        "\n",
        "try:\n",
        "    import geodatasets\n",
        "except ImportError:\n",
        "    !pip install geodatasets"
      ]
    },
    {
      "cell_type": "markdown",
      "metadata": {
        "id": "2W5CXkGl0x_y"
      },
      "source": [
        "Now we can use Geopandas to show these points and lines on a map.\n",
        "The following cells load a map of the world and plot it."
      ]
    },
    {
      "cell_type": "code",
      "execution_count": 79,
      "metadata": {
        "id": "3FHIW4GC0x_y",
        "outputId": "24c7aa06-960e-4b98-a430-4f3859506e90",
        "colab": {
          "base_uri": "https://localhost:8080/"
        }
      },
      "outputs": [
        {
          "output_type": "stream",
          "name": "stderr",
          "text": [
            "Downloading file 'ne_110m_land.zip' from 'https://naciscdn.org/naturalearth/110m/physical/ne_110m_land.zip' to '/root/.cache/geodatasets'.\n"
          ]
        }
      ],
      "source": [
        "from geodatasets import fetch\n",
        "\n",
        "fetch('naturalearth.land')"
      ]
    },
    {
      "cell_type": "code",
      "execution_count": 80,
      "metadata": {
        "id": "6A9KFJDG0x_y"
      },
      "outputs": [],
      "source": [
        "from geodatasets import get_path\n",
        "\n",
        "path = get_path('naturalearth.land')"
      ]
    },
    {
      "cell_type": "code",
      "execution_count": 81,
      "metadata": {
        "id": "eKTMysbN0x_y",
        "outputId": "3ed86c1a-c450-4db7-f8b5-9b8d335689c5",
        "colab": {
          "base_uri": "https://localhost:8080/",
          "height": 217
        }
      },
      "outputs": [
        {
          "output_type": "display_data",
          "data": {
            "text/plain": [
              "<Figure size 450x262.5 with 1 Axes>"
            ],
            "image/png": "[encoded data removed]"
          },
          "metadata": {}
        }
      ],
      "source": [
        "import geopandas as gpd\n",
        "\n",
        "world = gpd.read_file(path)\n",
        "world.plot(color='white', edgecolor='gray');"
      ]
    },
    {
      "cell_type": "markdown",
      "metadata": {
        "id": "Cna0CfXV0x_z"
      },
      "source": [
        "By default, Geopandas uses an equirectangular projection, which provides a misleading picture of relative land areas.\n",
        "Other projections are available that show land areas accurately, but they can be misleading in other ways.\n",
        "You can't make a map without making visualization decisions.\n",
        "\n",
        "Now let's put dots on the map for Boston and London.\n",
        "First, we have to put the `Point` values and the `LineString` into a `GeoSeries`."
      ]
    },
    {
      "cell_type": "code",
      "execution_count": 82,
      "metadata": {
        "id": "oz5BQCDU0x_z"
      },
      "outputs": [],
      "source": [
        "t = [p1, p2, line]\n",
        "series = gpd.GeoSeries(t)"
      ]
    },
    {
      "cell_type": "markdown",
      "metadata": {
        "id": "mEdHswp50x_z"
      },
      "source": [
        "Here's a first attempt to plot the maps and the lines together:"
      ]
    },
    {
      "cell_type": "code",
      "execution_count": 83,
      "metadata": {
        "id": "kvrX4XZK0x_0",
        "outputId": "5ae4f7e0-a627-4cce-953f-3dcb30e31a92",
        "colab": {
          "base_uri": "https://localhost:8080/",
          "height": 294
        }
      },
      "outputs": [
        {
          "output_type": "display_data",
          "data": {
            "text/plain": [
              "<Figure size 450x262.5 with 1 Axes>"
            ],
            "image/png": "[encoded data removed]"
          },
          "metadata": {}
        },
        {
          "output_type": "display_data",
          "data": {
            "text/plain": [
              "<Figure size 450x262.5 with 1 Axes>"
            ],
            "image/png": "[encoded data removed]"
          },
          "metadata": {}
        }
      ],
      "source": [
        "# plot the map\n",
        "world.plot(color='white', edgecolor='gray')\n",
        "\n",
        "# plot Boston, London, and the line\n",
        "series.plot();"
      ]
    },
    {
      "cell_type": "markdown",
      "metadata": {
        "id": "kHG5mLGH0x_0"
      },
      "source": [
        "The two plots are on different axes, which is not what we want in this case.\n",
        "\n",
        "To get the points and the map on the same axes, we have to use a function from Matplotlib, which is a visualization library we will use extensively.  We'll import it like this."
      ]
    },
    {
      "cell_type": "code",
      "execution_count": 84,
      "metadata": {
        "id": "HlsLEpTN0x_0"
      },
      "outputs": [],
      "source": [
        "import matplotlib.pyplot as plt"
      ]
    },
    {
      "cell_type": "markdown",
      "metadata": {
        "id": "fbIanv1Y0x_0"
      },
      "source": [
        "From Matplotlib, we'll use the function `gca`, which stands for \"get current axes\".\n",
        "With the result we can tell `plot` to put the points and lines on the current axes, rather than create a new one."
      ]
    },
    {
      "cell_type": "code",
      "execution_count": 85,
      "metadata": {
        "id": "nCUJNtMM0x_1",
        "outputId": "6ef493d1-04bb-4393-974d-77edcd319160",
        "colab": {
          "base_uri": "https://localhost:8080/",
          "height": 217
        }
      },
      "outputs": [
        {
          "output_type": "display_data",
          "data": {
            "text/plain": [
              "<Figure size 450x262.5 with 1 Axes>"
            ],
            "image/png": "[encoded data removed]"
          },
          "metadata": {}
        }
      ],
      "source": [
        "ax = plt.gca()\n",
        "world.plot(color='white', edgecolor='gray', ax=ax)\n",
        "series.plot(ax=ax);"
      ]
    },
    {
      "cell_type": "markdown",
      "metadata": {
        "tags": [],
        "id": "0Inm7Fl40x_1"
      },
      "source": [
        "Finally, `plt` provides a function called `figure` we can use to set the figure size."
      ]
    },
    {
      "cell_type": "code",
      "execution_count": 86,
      "metadata": {
        "tags": [],
        "id": "YpJ6fLkH0x_1",
        "outputId": "9a83b721-ab21-4879-f5f7-f3d2ad9f107c",
        "colab": {
          "base_uri": "https://localhost:8080/",
          "height": 385
        }
      },
      "outputs": [
        {
          "output_type": "display_data",
          "data": {
            "text/plain": [
              "<Figure size 900x900 with 1 Axes>"
            ],
            "image/png": "[encoded data removed]"
          },
          "metadata": {}
        }
      ],
      "source": [
        "plt.figure(figsize=(12, 12))\n",
        "ax = plt.gca()\n",
        "\n",
        "# plot the map\n",
        "world.plot(color='white', edgecolor='gray', ax=ax)\n",
        "\n",
        "# plot Boston, London, and the line\n",
        "series.plot(ax=ax);"
      ]
    },
    {
      "cell_type": "markdown",
      "metadata": {
        "id": "cJMbECE30x_1"
      },
      "source": [
        "**Exercise:** Modify the code in this section to plot a point that shows the home town you chose in a previous exercise and a line from there to Boston."
      ]
    },
    {
      "cell_type": "markdown",
      "metadata": {
        "tags": [],
        "id": "nD0PEID60x_1"
      },
      "source": [
        "Then go to [this online survey](https://forms.gle/2LDcqxJmcWY3Q3X47) and answer the questions there.\n",
        "When you are done, [run this notebook](https://colab.research.google.com/github/AllenDowney/ElementsOfDataScience/blob/v1/geo_example.ipynb) to see the results."
      ]
    },
    {
      "cell_type": "markdown",
      "metadata": {
        "id": "Tyy-9-Wx0x_2"
      },
      "source": [
        "## Summary\n",
        "\n",
        "This chapter presents three new data types: strings to represent letters and words, `Timestamp` objects to represent dates and times, and tuples to represent latitude, longitude pairs.\n",
        "It also introduces Geopandas, a library for working with location data.\n",
        "\n",
        "In the next chapter we'll see two ways to represent a collection of data, a Python list and a Numpy array."
      ]
    },
    {
      "cell_type": "markdown",
      "metadata": {
        "tags": [],
        "id": "v34NiQmL0x_2"
      },
      "source": [
        "*Elements of Data Science*\n",
        "\n",
        "Copyright 2021 [Allen B. Downey](https://allendowney.com)\n",
        "\n",
        "License: [Creative Commons Attribution-NonCommercial-ShareAlike 4.0 International](https://creativecommons.org/licenses/by-nc-sa/4.0/)"
      ]
    }
  ],
  "metadata": {
    "celltoolbar": "Tags",
    "kernelspec": {
      "display_name": "Python 3 (ipykernel)",
      "language": "python",
      "name": "python3"
    },
    "language_info": {
      "codemirror_mode": {
        "name": "ipython",
        "version": 3
      },
      "file_extension": ".py",
      "mimetype": "text/x-python",
      "name": "python",
      "nbconvert_exporter": "python",
      "pygments_lexer": "ipython3",
      "version": "3.10.14"
    },
    "colab": {
      "provenance": []
    }
  },
  "nbformat": 4,
  "nbformat_minor": 0
}