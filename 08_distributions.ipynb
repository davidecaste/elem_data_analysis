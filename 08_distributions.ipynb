{
  "cells": [
    {
      "cell_type": "markdown",
      "metadata": {
        "id": "ZW8OLjNyRdIn"
      },
      "source": [
        "Printed copies of *Elements of Data Science* are available now, with a **full color interior**, from [Lulu.com](https://www.lulu.com/shop/allen-downey/elements-of-data-science/paperback/product-9dyrwn.html)."
      ]
    },
    {
      "cell_type": "markdown",
      "metadata": {
        "id": "XG6E0hqIRdIq"
      },
      "source": [
        "# Distributions"
      ]
    },
    {
      "cell_type": "markdown",
      "metadata": {
        "tags": [],
        "id": "UVyrGfZJRdIt"
      },
      "source": [
        "[Click here to run this notebook on Colab](https://colab.research.google.com/github/AllenDowney/ElementsOfDataScience/blob/v1/08_distributions.ipynb)."
      ]
    },
    {
      "cell_type": "code",
      "execution_count": 1,
      "metadata": {
        "tags": [],
        "colab": {
          "base_uri": "https://localhost:8080/"
        },
        "id": "A49eBrBzRdIt",
        "outputId": "3c6bcd87-e2e1-4cb0-f378-a3c9f628ae00"
      },
      "outputs": [
        {
          "output_type": "stream",
          "name": "stdout",
          "text": [
            "Downloaded utils.py\n"
          ]
        }
      ],
      "source": [
        "from os.path import basename, exists\n",
        "\n",
        "def download(url):\n",
        "    filename = basename(url)\n",
        "    if not exists(filename):\n",
        "        from urllib.request import urlretrieve\n",
        "\n",
        "        local, _ = urlretrieve(url, filename)\n",
        "        print(\"Downloaded \" + str(local))\n",
        "    return filename\n",
        "\n",
        "download('https://raw.githubusercontent.com/AllenDowney/ElementsOfDataScience/v1/utils.py')\n",
        "\n",
        "import utils"
      ]
    },
    {
      "cell_type": "markdown",
      "metadata": {
        "id": "AiKQw4YARdIv"
      },
      "source": [
        "In this chapter we'll see three ways to describe a distribution:\n",
        "\n",
        "* A probability mass function (PMF), which represents a set of values and the number of times each one appears in a dataset.\n",
        "\n",
        "* A cumulative distribution function (CDF), which contains the same information as a PMF in a form that makes it easier to visualize, make comparisons, and perform some computations.\n",
        "\n",
        "* A kernel density estimate (KDE), which is like a smooth, continuous version of a histogram.\n",
        "\n",
        "As examples, we'll use data from the General Social Survey (GSS) to look at distributions of age and income, and to explore the relationship between income and education.\n",
        "But we'll start with one of the most important ideas in statistics, the distribution."
      ]
    },
    {
      "cell_type": "markdown",
      "metadata": {
        "id": "8vVguecTRdIv"
      },
      "source": [
        "## Distributions\n",
        "\n",
        "A distribution is a set of values and their corresponding probabilities.  For example, if you roll a six-sided die, there are six possible outcomes -- the numbers 1 through 6 -- and they all have the same probability, $1/6$.\n",
        "We can represent this distribution of outcomes with a table, like this:\n",
        "\n",
        "\n",
        "| Outcome       | 1     | 2     | 3     | 4     | 5     | 6     |\n",
        "| :-----        | ----- | ----- | ----- | ----- | ----- | ----- |\n",
        "| Probability   | 1/6   | 1/6   | 1/6   | 1/6   | 1/6   | 1/6   |\n",
        "\n",
        "\n",
        "More generally, a distribution can have any number of values, the values can be any type, and the probabilities do not have to be equal.\n",
        "To represent distributions in Python, we'll use a library called `empiricaldist`, which stands for \"empirical distribution\", where \"empirical\" means it is based on data rather than a mathematical formula."
      ]
    },
    {
      "cell_type": "markdown",
      "metadata": {
        "tags": [],
        "id": "4h1COI2PRdIw"
      },
      "source": [
        "The following cell checks whether `empiricaldist` is installed and installs it if necessary."
      ]
    },
    {
      "cell_type": "code",
      "execution_count": 2,
      "metadata": {
        "tags": [],
        "colab": {
          "base_uri": "https://localhost:8080/"
        },
        "id": "E7nJXmwURdIx",
        "outputId": "09110b7c-ade3-4ae3-a82a-7f4c13da2c20"
      },
      "outputs": [
        {
          "output_type": "stream",
          "name": "stdout",
          "text": [
            "Collecting empiricaldist\n",
            "  Downloading empiricaldist-0.8.0.tar.gz (12 kB)\n",
            "  Installing build dependencies ... \u001b[?25l\u001b[?25hdone\n",
            "  Getting requirements to build wheel ... \u001b[?25l\u001b[?25hdone\n",
            "  Preparing metadata (pyproject.toml) ... \u001b[?25l\u001b[?25hdone\n",
            "Requirement already satisfied: matplotlib in /usr/local/lib/python3.11/dist-packages (from empiricaldist) (3.10.0)\n",
            "Requirement already satisfied: numpy in /usr/local/lib/python3.11/dist-packages (from empiricaldist) (2.0.2)\n",
            "Requirement already satisfied: pandas in /usr/local/lib/python3.11/dist-packages (from empiricaldist) (2.2.2)\n",
            "Requirement already satisfied: scipy in /usr/local/lib/python3.11/dist-packages (from empiricaldist) (1.15.3)\n",
            "Requirement already satisfied: contourpy>=1.0.1 in /usr/local/lib/python3.11/dist-packages (from matplotlib->empiricaldist) (1.3.2)\n",
            "Requirement already satisfied: cycler>=0.10 in /usr/local/lib/python3.11/dist-packages (from matplotlib->empiricaldist) (0.12.1)\n",
            "Requirement already satisfied: fonttools>=4.22.0 in /usr/local/lib/python3.11/dist-packages (from matplotlib->empiricaldist) (4.58.0)\n",
            "Requirement already satisfied: kiwisolver>=1.3.1 in /usr/local/lib/python3.11/dist-packages (from matplotlib->empiricaldist) (1.4.8)\n",
            "Requirement already satisfied: packaging>=20.0 in /usr/local/lib/python3.11/dist-packages (from matplotlib->empiricaldist) (24.2)\n",
            "Requirement already satisfied: pillow>=8 in /usr/local/lib/python3.11/dist-packages (from matplotlib->empiricaldist) (11.2.1)\n",
            "Requirement already satisfied: pyparsing>=2.3.1 in /usr/local/lib/python3.11/dist-packages (from matplotlib->empiricaldist) (3.2.3)\n",
            "Requirement already satisfied: python-dateutil>=2.7 in /usr/local/lib/python3.11/dist-packages (from matplotlib->empiricaldist) (2.9.0.post0)\n",
            "Requirement already satisfied: pytz>=2020.1 in /usr/local/lib/python3.11/dist-packages (from pandas->empiricaldist) (2025.2)\n",
            "Requirement already satisfied: tzdata>=2022.7 in /usr/local/lib/python3.11/dist-packages (from pandas->empiricaldist) (2025.2)\n",
            "Requirement already satisfied: six>=1.5 in /usr/local/lib/python3.11/dist-packages (from python-dateutil>=2.7->matplotlib->empiricaldist) (1.17.0)\n",
            "Building wheels for collected packages: empiricaldist\n",
            "  Building wheel for empiricaldist (pyproject.toml) ... \u001b[?25l\u001b[?25hdone\n",
            "  Created wheel for empiricaldist: filename=empiricaldist-0.8.0-py3-none-any.whl size=12587 sha256=a3f6f38a876e3233d325b429256acb70abba3be6eece27ef6ef9694eb73caed3\n",
            "  Stored in directory: /root/.cache/pip/wheels/ca/a9/1f/90c7a8a37ac37ff0fa0a27b2152f9b24be8910448ab93992f8\n",
            "Successfully built empiricaldist\n",
            "Installing collected packages: empiricaldist\n",
            "Successfully installed empiricaldist-0.8.0\n"
          ]
        }
      ],
      "source": [
        "try:\n",
        "    import empiricaldist\n",
        "except ImportError:\n",
        "    !pip install empiricaldist"
      ]
    },
    {
      "cell_type": "markdown",
      "metadata": {
        "id": "amXHHYZLRdIx"
      },
      "source": [
        "`empiricaldist` provides an object type called `Pmf`, which stands for \"probability mass function\".\n",
        "A `Pmf` object contains a set of possible outcomes and their probabilities.\n",
        "For example, here's a `Pmf` that represents the outcome of rolling a six-sided die:"
      ]
    },
    {
      "cell_type": "code",
      "execution_count": 5,
      "metadata": {
        "id": "CjHkiU4VRdIy"
      },
      "outputs": [],
      "source": [
        "from empiricaldist import Pmf\n",
        "\n",
        "outcomes = [1,2,3,4,5,6]\n",
        "die = Pmf(1/6, outcomes)"
      ]
    },
    {
      "cell_type": "markdown",
      "metadata": {
        "id": "J7S5qo54RdIz"
      },
      "source": [
        "The first argument is the probability of the outcomes; the second argument is the list of outcomes.\n",
        "We can display the result like this."
      ]
    },
    {
      "cell_type": "code",
      "execution_count": 6,
      "metadata": {
        "colab": {
          "base_uri": "https://localhost:8080/",
          "height": 272
        },
        "id": "_sP63cpTRdIz",
        "outputId": "4697746b-19bb-45e1-a0eb-3640ae6854ba"
      },
      "outputs": [
        {
          "output_type": "execute_result",
          "data": {
            "text/plain": [
              "1    0.166667\n",
              "2    0.166667\n",
              "3    0.166667\n",
              "4    0.166667\n",
              "5    0.166667\n",
              "6    0.166667\n",
              "dtype: float64"
            ],
            "text/html": [
              "<div>\n",
              "<style scoped>\n",
              "    .dataframe tbody tr th:only-of-type {\n",
              "        vertical-align: middle;\n",
              "    }\n",
              "\n",
              "    .dataframe tbody tr th {\n",
              "        vertical-align: top;\n",
              "    }\n",
              "\n",
              "    .dataframe thead th {\n",
              "        text-align: right;\n",
              "    }\n",
              "</style>\n",
              "<table border=\"1\" class=\"dataframe\">\n",
              "  <thead>\n",
              "    <tr style=\"text-align: right;\">\n",
              "      <th></th>\n",
              "      <th>0</th>\n",
              "    </tr>\n",
              "  </thead>\n",
              "  <tbody>\n",
              "    <tr>\n",
              "      <th>1</th>\n",
              "      <td>0.166667</td>\n",
              "    </tr>\n",
              "    <tr>\n",
              "      <th>2</th>\n",
              "      <td>0.166667</td>\n",
              "    </tr>\n",
              "    <tr>\n",
              "      <th>3</th>\n",
              "      <td>0.166667</td>\n",
              "    </tr>\n",
              "    <tr>\n",
              "      <th>4</th>\n",
              "      <td>0.166667</td>\n",
              "    </tr>\n",
              "    <tr>\n",
              "      <th>5</th>\n",
              "      <td>0.166667</td>\n",
              "    </tr>\n",
              "    <tr>\n",
              "      <th>6</th>\n",
              "      <td>0.166667</td>\n",
              "    </tr>\n",
              "  </tbody>\n",
              "</table>\n",
              "</div><br><label><b>dtype:</b> float64</label>"
            ]
          },
          "metadata": {},
          "execution_count": 6
        }
      ],
      "source": [
        "die"
      ]
    },
    {
      "cell_type": "markdown",
      "metadata": {
        "id": "kgAioVq5RdI0"
      },
      "source": [
        "A `Pmf` object is a specialized version of a Pandas `Series`, so it provides all of the methods of a `Series`, plus some additional methods we'll see soon."
      ]
    },
    {
      "cell_type": "markdown",
      "metadata": {
        "id": "D6BVW2afRdI0"
      },
      "source": [
        "## The General Social Survey\n",
        "\n",
        "We'll use `Pmf` objects to represent distributions of values from a new dataset, the General Social Survey (GSS).\n",
        "The GSS surveys a representative sample of adult residents of the U.S. and asks questions about demographics, personal history, and beliefs about social and political issues.\n",
        "It is widely used by politicians, policy makers, and researchers.\n",
        "\n",
        "The GSS dataset contains hundreds of columns.\n",
        "I selected just a few and saved the extract in an HDF file, which is more compact than the original fixed-width file, and faster to read.\n",
        "Instructions for downloading the file are in the notebook for this chapter."
      ]
    },
    {
      "cell_type": "code",
      "execution_count": 7,
      "metadata": {
        "id": "QhbNuWfyRdI0"
      },
      "outputs": [],
      "source": [
        "data_file = 'gss_extract_2022.hdf'"
      ]
    },
    {
      "cell_type": "markdown",
      "metadata": {
        "tags": [],
        "id": "Z33XHqJgRdI0"
      },
      "source": [
        "The following cells download the data extract."
      ]
    },
    {
      "cell_type": "code",
      "execution_count": 8,
      "metadata": {
        "tags": [],
        "colab": {
          "base_uri": "https://localhost:8080/",
          "height": 52
        },
        "id": "82_5U2_2RdI1",
        "outputId": "b1fc3416-039c-4071-b4e7-987db2033158"
      },
      "outputs": [
        {
          "output_type": "stream",
          "name": "stdout",
          "text": [
            "Downloaded gss_extract_2022.hdf\n"
          ]
        },
        {
          "output_type": "execute_result",
          "data": {
            "text/plain": [
              "'gss_extract_2022.hdf'"
            ],
            "application/vnd.google.colaboratory.intrinsic+json": {
              "type": "string"
            }
          },
          "metadata": {},
          "execution_count": 8
        }
      ],
      "source": [
        "download('https://github.com/AllenDowney/ElementsOfDataScience/raw/v1/data/' + data_file)"
      ]
    },
    {
      "cell_type": "markdown",
      "metadata": {
        "id": "uOu1pfE_RdI1"
      },
      "source": [
        "We'll use the Pandas `read_hdf` function to read the data file and load `gss`, which is a `DataFrame`."
      ]
    },
    {
      "cell_type": "code",
      "execution_count": 9,
      "metadata": {
        "colab": {
          "base_uri": "https://localhost:8080/"
        },
        "id": "XiZ1-SuGRdI1",
        "outputId": "1f489af5-cc80-4445-f660-6aca0bb87666"
      },
      "outputs": [
        {
          "output_type": "execute_result",
          "data": {
            "text/plain": [
              "(72390, 9)"
            ]
          },
          "metadata": {},
          "execution_count": 9
        }
      ],
      "source": [
        "import pandas as pd\n",
        "\n",
        "gss = pd.read_hdf(data_file, 'gss')\n",
        "gss.shape"
      ]
    },
    {
      "cell_type": "markdown",
      "metadata": {
        "id": "QakPrdZrRdI2"
      },
      "source": [
        "`gss` has one row for each respondent and one column for each question in the extract.\n",
        "Here are the first few rows."
      ]
    },
    {
      "cell_type": "code",
      "execution_count": 10,
      "metadata": {
        "colab": {
          "base_uri": "https://localhost:8080/",
          "height": 206
        },
        "id": "Ar1GEbRhRdI2",
        "outputId": "f1ea3a40-d386-4036-b9a4-92bd92f45f8d"
      },
      "outputs": [
        {
          "output_type": "execute_result",
          "data": {
            "text/plain": [
              "   year  id   age  educ  degree  sex  gunlaw  grass  realinc\n",
              "0  1972   1  23.0  16.0     3.0  2.0     1.0    NaN  18951.0\n",
              "1  1972   2  70.0  10.0     0.0  1.0     1.0    NaN  24366.0\n",
              "2  1972   3  48.0  12.0     1.0  2.0     1.0    NaN  24366.0\n",
              "3  1972   4  27.0  17.0     3.0  2.0     1.0    NaN  30458.0\n",
              "4  1972   5  61.0  12.0     1.0  2.0     1.0    NaN  50763.0"
            ],
            "text/html": [
              "\n",
              "  <div id=\"df-943cd0c9-ec0e-4877-af60-acbcd9573394\" class=\"colab-df-container\">\n",
              "    <div>\n",
              "<style scoped>\n",
              "    .dataframe tbody tr th:only-of-type {\n",
              "        vertical-align: middle;\n",
              "    }\n",
              "\n",
              "    .dataframe tbody tr th {\n",
              "        vertical-align: top;\n",
              "    }\n",
              "\n",
              "    .dataframe thead th {\n",
              "        text-align: right;\n",
              "    }\n",
              "</style>\n",
              "<table border=\"1\" class=\"dataframe\">\n",
              "  <thead>\n",
              "    <tr style=\"text-align: right;\">\n",
              "      <th></th>\n",
              "      <th>year</th>\n",
              "      <th>id</th>\n",
              "      <th>age</th>\n",
              "      <th>educ</th>\n",
              "      <th>degree</th>\n",
              "      <th>sex</th>\n",
              "      <th>gunlaw</th>\n",
              "      <th>grass</th>\n",
              "      <th>realinc</th>\n",
              "    </tr>\n",
              "  </thead>\n",
              "  <tbody>\n",
              "    <tr>\n",
              "      <th>0</th>\n",
              "      <td>1972</td>\n",
              "      <td>1</td>\n",
              "      <td>23.0</td>\n",
              "      <td>16.0</td>\n",
              "      <td>3.0</td>\n",
              "      <td>2.0</td>\n",
              "      <td>1.0</td>\n",
              "      <td>NaN</td>\n",
              "      <td>18951.0</td>\n",
              "    </tr>\n",
              "    <tr>\n",
              "      <th>1</th>\n",
              "      <td>1972</td>\n",
              "      <td>2</td>\n",
              "      <td>70.0</td>\n",
              "      <td>10.0</td>\n",
              "      <td>0.0</td>\n",
              "      <td>1.0</td>\n",
              "      <td>1.0</td>\n",
              "      <td>NaN</td>\n",
              "      <td>24366.0</td>\n",
              "    </tr>\n",
              "    <tr>\n",
              "      <th>2</th>\n",
              "      <td>1972</td>\n",
              "      <td>3</td>\n",
              "      <td>48.0</td>\n",
              "      <td>12.0</td>\n",
              "      <td>1.0</td>\n",
              "      <td>2.0</td>\n",
              "      <td>1.0</td>\n",
              "      <td>NaN</td>\n",
              "      <td>24366.0</td>\n",
              "    </tr>\n",
              "    <tr>\n",
              "      <th>3</th>\n",
              "      <td>1972</td>\n",
              "      <td>4</td>\n",
              "      <td>27.0</td>\n",
              "      <td>17.0</td>\n",
              "      <td>3.0</td>\n",
              "      <td>2.0</td>\n",
              "      <td>1.0</td>\n",
              "      <td>NaN</td>\n",
              "      <td>30458.0</td>\n",
              "    </tr>\n",
              "    <tr>\n",
              "      <th>4</th>\n",
              "      <td>1972</td>\n",
              "      <td>5</td>\n",
              "      <td>61.0</td>\n",
              "      <td>12.0</td>\n",
              "      <td>1.0</td>\n",
              "      <td>2.0</td>\n",
              "      <td>1.0</td>\n",
              "      <td>NaN</td>\n",
              "      <td>50763.0</td>\n",
              "    </tr>\n",
              "  </tbody>\n",
              "</table>\n",
              "</div>\n",
              "    <div class=\"colab-df-buttons\">\n",
              "\n",
              "  <div class=\"colab-df-container\">\n",
              "    <button class=\"colab-df-convert\" onclick=\"convertToInteractive('df-943cd0c9-ec0e-4877-af60-acbcd9573394')\"\n",
              "            title=\"Convert this dataframe to an interactive table.\"\n",
              "            style=\"display:none;\">\n",
              "\n",
              "  <svg xmlns=\"http://www.w3.org/2000/svg\" height=\"24px\" viewBox=\"0 -960 960 960\">\n",
              "    <path d=\"M120-120v-720h720v720H120Zm60-500h600v-160H180v160Zm220 220h160v-160H400v160Zm0 220h160v-160H400v160ZM180-400h160v-160H180v160Zm440 0h160v-160H620v160ZM180-180h160v-160H180v160Zm440 0h160v-160H620v160Z\"/>\n",
              "  </svg>\n",
              "    </button>\n",
              "\n",
              "  <style>\n",
              "    .colab-df-container {\n",
              "      display:flex;\n",
              "      gap: 12px;\n",
              "    }\n",
              "\n",
              "    .colab-df-convert {\n",
              "      background-color: #E8F0FE;\n",
              "      border: none;\n",
              "      border-radius: 50%;\n",
              "      cursor: pointer;\n",
              "      display: none;\n",
              "      fill: #1967D2;\n",
              "      height: 32px;\n",
              "      padding: 0 0 0 0;\n",
              "      width: 32px;\n",
              "    }\n",
              "\n",
              "    .colab-df-convert:hover {\n",
              "      background-color: #E2EBFA;\n",
              "      box-shadow: 0px 1px 2px rgba(60, 64, 67, 0.3), 0px 1px 3px 1px rgba(60, 64, 67, 0.15);\n",
              "      fill: #174EA6;\n",
              "    }\n",
              "\n",
              "    .colab-df-buttons div {\n",
              "      margin-bottom: 4px;\n",
              "    }\n",
              "\n",
              "    [theme=dark] .colab-df-convert {\n",
              "      background-color: #3B4455;\n",
              "      fill: #D2E3FC;\n",
              "    }\n",
              "\n",
              "    [theme=dark] .colab-df-convert:hover {\n",
              "      background-color: #434B5C;\n",
              "      box-shadow: 0px 1px 3px 1px rgba(0, 0, 0, 0.15);\n",
              "      filter: drop-shadow(0px 1px 2px rgba(0, 0, 0, 0.3));\n",
              "      fill: #FFFFFF;\n",
              "    }\n",
              "  </style>\n",
              "\n",
              "    <script>\n",
              "      const buttonEl =\n",
              "        document.querySelector('#df-943cd0c9-ec0e-4877-af60-acbcd9573394 button.colab-df-convert');\n",
              "      buttonEl.style.display =\n",
              "        google.colab.kernel.accessAllowed ? 'block' : 'none';\n",
              "\n",
              "      async function convertToInteractive(key) {\n",
              "        const element = document.querySelector('#df-943cd0c9-ec0e-4877-af60-acbcd9573394');\n",
              "        const dataTable =\n",
              "          await google.colab.kernel.invokeFunction('convertToInteractive',\n",
              "                                                    [key], {});\n",
              "        if (!dataTable) return;\n",
              "\n",
              "        const docLinkHtml = 'Like what you see? Visit the ' +\n",
              "          '<a target=\"_blank\" href=https://colab.research.google.com/notebooks/data_table.ipynb>data table notebook</a>'\n",
              "          + ' to learn more about interactive tables.';\n",
              "        element.innerHTML = '';\n",
              "        dataTable['output_type'] = 'display_data';\n",
              "        await google.colab.output.renderOutput(dataTable, element);\n",
              "        const docLink = document.createElement('div');\n",
              "        docLink.innerHTML = docLinkHtml;\n",
              "        element.appendChild(docLink);\n",
              "      }\n",
              "    </script>\n",
              "  </div>\n",
              "\n",
              "\n",
              "    <div id=\"df-642cd4e6-dcff-4ed6-b091-f5ce099f6c34\">\n",
              "      <button class=\"colab-df-quickchart\" onclick=\"quickchart('df-642cd4e6-dcff-4ed6-b091-f5ce099f6c34')\"\n",
              "                title=\"Suggest charts\"\n",
              "                style=\"display:none;\">\n",
              "\n",
              "<svg xmlns=\"http://www.w3.org/2000/svg\" height=\"24px\"viewBox=\"0 0 24 24\"\n",
              "     width=\"24px\">\n",
              "    <g>\n",
              "        <path d=\"M19 3H5c-1.1 0-2 .9-2 2v14c0 1.1.9 2 2 2h14c1.1 0 2-.9 2-2V5c0-1.1-.9-2-2-2zM9 17H7v-7h2v7zm4 0h-2V7h2v10zm4 0h-2v-4h2v4z\"/>\n",
              "    </g>\n",
              "</svg>\n",
              "      </button>\n",
              "\n",
              "<style>\n",
              "  .colab-df-quickchart {\n",
              "      --bg-color: #E8F0FE;\n",
              "      --fill-color: #1967D2;\n",
              "      --hover-bg-color: #E2EBFA;\n",
              "      --hover-fill-color: #174EA6;\n",
              "      --disabled-fill-color: #AAA;\n",
              "      --disabled-bg-color: #DDD;\n",
              "  }\n",
              "\n",
              "  [theme=dark] .colab-df-quickchart {\n",
              "      --bg-color: #3B4455;\n",
              "      --fill-color: #D2E3FC;\n",
              "      --hover-bg-color: #434B5C;\n",
              "      --hover-fill-color: #FFFFFF;\n",
              "      --disabled-bg-color: #3B4455;\n",
              "      --disabled-fill-color: #666;\n",
              "  }\n",
              "\n",
              "  .colab-df-quickchart {\n",
              "    background-color: var(--bg-color);\n",
              "    border: none;\n",
              "    border-radius: 50%;\n",
              "    cursor: pointer;\n",
              "    display: none;\n",
              "    fill: var(--fill-color);\n",
              "    height: 32px;\n",
              "    padding: 0;\n",
              "    width: 32px;\n",
              "  }\n",
              "\n",
              "  .colab-df-quickchart:hover {\n",
              "    background-color: var(--hover-bg-color);\n",
              "    box-shadow: 0 1px 2px rgba(60, 64, 67, 0.3), 0 1px 3px 1px rgba(60, 64, 67, 0.15);\n",
              "    fill: var(--button-hover-fill-color);\n",
              "  }\n",
              "\n",
              "  .colab-df-quickchart-complete:disabled,\n",
              "  .colab-df-quickchart-complete:disabled:hover {\n",
              "    background-color: var(--disabled-bg-color);\n",
              "    fill: var(--disabled-fill-color);\n",
              "    box-shadow: none;\n",
              "  }\n",
              "\n",
              "  .colab-df-spinner {\n",
              "    border: 2px solid var(--fill-color);\n",
              "    border-color: transparent;\n",
              "    border-bottom-color: var(--fill-color);\n",
              "    animation:\n",
              "      spin 1s steps(1) infinite;\n",
              "  }\n",
              "\n",
              "  @keyframes spin {\n",
              "    0% {\n",
              "      border-color: transparent;\n",
              "      border-bottom-color: var(--fill-color);\n",
              "      border-left-color: var(--fill-color);\n",
              "    }\n",
              "    20% {\n",
              "      border-color: transparent;\n",
              "      border-left-color: var(--fill-color);\n",
              "      border-top-color: var(--fill-color);\n",
              "    }\n",
              "    30% {\n",
              "      border-color: transparent;\n",
              "      border-left-color: var(--fill-color);\n",
              "      border-top-color: var(--fill-color);\n",
              "      border-right-color: var(--fill-color);\n",
              "    }\n",
              "    40% {\n",
              "      border-color: transparent;\n",
              "      border-right-color: var(--fill-color);\n",
              "      border-top-color: var(--fill-color);\n",
              "    }\n",
              "    60% {\n",
              "      border-color: transparent;\n",
              "      border-right-color: var(--fill-color);\n",
              "    }\n",
              "    80% {\n",
              "      border-color: transparent;\n",
              "      border-right-color: var(--fill-color);\n",
              "      border-bottom-color: var(--fill-color);\n",
              "    }\n",
              "    90% {\n",
              "      border-color: transparent;\n",
              "      border-bottom-color: var(--fill-color);\n",
              "    }\n",
              "  }\n",
              "</style>\n",
              "\n",
              "      <script>\n",
              "        async function quickchart(key) {\n",
              "          const quickchartButtonEl =\n",
              "            document.querySelector('#' + key + ' button');\n",
              "          quickchartButtonEl.disabled = true;  // To prevent multiple clicks.\n",
              "          quickchartButtonEl.classList.add('colab-df-spinner');\n",
              "          try {\n",
              "            const charts = await google.colab.kernel.invokeFunction(\n",
              "                'suggestCharts', [key], {});\n",
              "          } catch (error) {\n",
              "            console.error('Error during call to suggestCharts:', error);\n",
              "          }\n",
              "          quickchartButtonEl.classList.remove('colab-df-spinner');\n",
              "          quickchartButtonEl.classList.add('colab-df-quickchart-complete');\n",
              "        }\n",
              "        (() => {\n",
              "          let quickchartButtonEl =\n",
              "            document.querySelector('#df-642cd4e6-dcff-4ed6-b091-f5ce099f6c34 button');\n",
              "          quickchartButtonEl.style.display =\n",
              "            google.colab.kernel.accessAllowed ? 'block' : 'none';\n",
              "        })();\n",
              "      </script>\n",
              "    </div>\n",
              "\n",
              "    </div>\n",
              "  </div>\n"
            ],
            "application/vnd.google.colaboratory.intrinsic+json": {
              "type": "dataframe",
              "variable_name": "gss",
              "summary": "{\n  \"name\": \"gss\",\n  \"rows\": 72390,\n  \"fields\": [\n    {\n      \"column\": \"year\",\n      \"properties\": {\n        \"dtype\": \"int16\",\n        \"num_unique_values\": 34,\n        \"samples\": [\n          1989,\n          1994,\n          2010\n        ],\n        \"semantic_type\": \"\",\n        \"description\": \"\"\n      }\n    },\n    {\n      \"column\": \"id\",\n      \"properties\": {\n        \"dtype\": \"int16\",\n        \"num_unique_values\": 4510,\n        \"samples\": [\n          3035,\n          545,\n          158\n        ],\n        \"semantic_type\": \"\",\n        \"description\": \"\"\n      }\n    },\n    {\n      \"column\": \"age\",\n      \"properties\": {\n        \"dtype\": \"number\",\n        \"std\": 17.600417122951797,\n        \"min\": 18.0,\n        \"max\": 89.0,\n        \"num_unique_values\": 72,\n        \"samples\": [\n          61.0,\n          66.0,\n          71.0\n        ],\n        \"semantic_type\": \"\",\n        \"description\": \"\"\n      }\n    },\n    {\n      \"column\": \"educ\",\n      \"properties\": {\n        \"dtype\": \"number\",\n        \"std\": 3.182372066667582,\n        \"min\": 0.0,\n        \"max\": 20.0,\n        \"num_unique_values\": 21,\n        \"samples\": [\n          16.0,\n          5.0,\n          2.0\n        ],\n        \"semantic_type\": \"\",\n        \"description\": \"\"\n      }\n    },\n    {\n      \"column\": \"degree\",\n      \"properties\": {\n        \"dtype\": \"number\",\n        \"std\": 1.2014849515629502,\n        \"min\": 0.0,\n        \"max\": 4.0,\n        \"num_unique_values\": 5,\n        \"samples\": [\n          0.0,\n          2.0,\n          1.0\n        ],\n        \"semantic_type\": \"\",\n        \"description\": \"\"\n      }\n    },\n    {\n      \"column\": \"sex\",\n      \"properties\": {\n        \"dtype\": \"number\",\n        \"std\": 0.49667654038953324,\n        \"min\": 1.0,\n        \"max\": 2.0,\n        \"num_unique_values\": 2,\n        \"samples\": [\n          1.0,\n          2.0\n        ],\n        \"semantic_type\": \"\",\n        \"description\": \"\"\n      }\n    },\n    {\n      \"column\": \"gunlaw\",\n      \"properties\": {\n        \"dtype\": \"number\",\n        \"std\": 0.43137038838518027,\n        \"min\": 1.0,\n        \"max\": 2.0,\n        \"num_unique_values\": 2,\n        \"samples\": [\n          2.0,\n          1.0\n        ],\n        \"semantic_type\": \"\",\n        \"description\": \"\"\n      }\n    },\n    {\n      \"column\": \"grass\",\n      \"properties\": {\n        \"dtype\": \"number\",\n        \"std\": 0.4693824783065502,\n        \"min\": 1.0,\n        \"max\": 2.0,\n        \"num_unique_values\": 2,\n        \"samples\": [\n          1.0,\n          2.0\n        ],\n        \"semantic_type\": \"\",\n        \"description\": \"\"\n      }\n    },\n    {\n      \"column\": \"realinc\",\n      \"properties\": {\n        \"dtype\": \"number\",\n        \"std\": 30883.226093993086,\n        \"min\": 218.0,\n        \"max\": 162607.0,\n        \"num_unique_values\": 649,\n        \"samples\": [\n          4905.0,\n          6273.0\n        ],\n        \"semantic_type\": \"\",\n        \"description\": \"\"\n      }\n    }\n  ]\n}"
            }
          },
          "metadata": {},
          "execution_count": 10
        }
      ],
      "source": [
        "gss.head()"
      ]
    },
    {
      "cell_type": "markdown",
      "metadata": {
        "id": "t_kVzcJsRdI3"
      },
      "source": [
        "I'll explain these columns as we go along, but if you want more information, you can read the online documentation at <https://gssdataexplorer.norc.org>.\n",
        "In the GSS documentation, you'll see that they use the term \"variable\" for a column that contains answers to survey questions."
      ]
    },
    {
      "cell_type": "markdown",
      "metadata": {
        "id": "kyAxun5LRdI3"
      },
      "source": [
        "## Distribution of Education\n",
        "\n",
        "To get started with this dataset, let's look at the `educ` column, which records the number of years of education for each respondent.\n",
        "We can select this column from the `DataFrame` like this:"
      ]
    },
    {
      "cell_type": "code",
      "execution_count": 11,
      "metadata": {
        "id": "O6MY0phMRdI3"
      },
      "outputs": [],
      "source": [
        "educ = gss['educ']"
      ]
    },
    {
      "cell_type": "markdown",
      "metadata": {
        "id": "67PuwqzGRdI4"
      },
      "source": [
        "To see what the distribution of the responses looks like, we can use the `hist` method to plot a histogram."
      ]
    },
    {
      "cell_type": "code",
      "execution_count": 12,
      "metadata": {
        "colab": {
          "base_uri": "https://localhost:8080/",
          "height": 281
        },
        "id": "rslLghJeRdI4",
        "outputId": "2246fec9-4498-4e5b-e2ee-5681062d29f4"
      },
      "outputs": [
        {
          "output_type": "display_data",
          "data": {
            "text/plain": [
              "<Figure size 450x262.5 with 1 Axes>"
            ],
            "image/png": "[encoded data removed]"
          },
          "metadata": {}
        }
      ],
      "source": [
        "import matplotlib.pyplot as plt\n",
        "\n",
        "educ.hist(grid=False)\n",
        "plt.xlabel('Years of education')\n",
        "plt.ylabel('Number of respondents')\n",
        "plt.title('Histogram of education level');"
      ]
    },
    {
      "cell_type": "markdown",
      "metadata": {
        "id": "ZTWpoPdKRdI4"
      },
      "source": [
        "Based on the histogram, we can see the general shape of the distribution and the central tendency -- it looks like the peak is near 12 years of education.\n",
        "But a histogram is not the best way to visualize this distribution because it obscures some important details.\n",
        "\n",
        "An alternative is to use a `Pmf` object.\n",
        "The function `Pmf.from_seq` takes any kind of sequence -- like a list, tuple, or Pandas `Series` -- and computes the distribution of the values."
      ]
    },
    {
      "cell_type": "code",
      "execution_count": 13,
      "metadata": {
        "colab": {
          "base_uri": "https://localhost:8080/",
          "height": 121
        },
        "id": "7ZKRq_tPRdI4",
        "outputId": "93fd943a-42be-4592-9175-64c9692a3ac9"
      },
      "outputs": [
        {
          "output_type": "execute_result",
          "data": {
            "text/plain": [
              "empiricaldist.empiricaldist.Pmf"
            ],
            "text/html": [
              "<div style=\"max-width:800px; border: 1px solid var(--colab-border-color);\"><style>\n",
              "      pre.function-repr-contents {\n",
              "        overflow-x: auto;\n",
              "        padding: 8px 12px;\n",
              "        max-height: 500px;\n",
              "      }\n",
              "\n",
              "      pre.function-repr-contents.function-repr-contents-collapsed {\n",
              "        cursor: pointer;\n",
              "        max-height: 100px;\n",
              "      }\n",
              "    </style>\n",
              "    <pre style=\"white-space: initial; background:\n",
              "         var(--colab-secondary-surface-color); padding: 8px 12px;\n",
              "         border-bottom: 1px solid var(--colab-border-color);\"><b>empiricaldist.empiricaldist.Pmf</b><br/>def __call__(qs)</pre><pre class=\"function-repr-contents function-repr-contents-collapsed\" style=\"\"><a class=\"filepath\" style=\"display:none\" href=\"#\">/usr/local/lib/python3.11/dist-packages/empiricaldist/empiricaldist.py</a>Represents a probability Mass Function (PMF).</pre>\n",
              "      <script>\n",
              "      if (google.colab.kernel.accessAllowed && google.colab.files && google.colab.files.view) {\n",
              "        for (const element of document.querySelectorAll('.filepath')) {\n",
              "          element.style.display = 'block'\n",
              "          element.onclick = (event) => {\n",
              "            event.preventDefault();\n",
              "            event.stopPropagation();\n",
              "            google.colab.files.view(element.textContent, 395);\n",
              "          };\n",
              "        }\n",
              "      }\n",
              "      for (const element of document.querySelectorAll('.function-repr-contents')) {\n",
              "        element.onclick = (event) => {\n",
              "          event.preventDefault();\n",
              "          event.stopPropagation();\n",
              "          element.classList.toggle('function-repr-contents-collapsed');\n",
              "        };\n",
              "      }\n",
              "      </script>\n",
              "      </div>"
            ]
          },
          "metadata": {},
          "execution_count": 13
        }
      ],
      "source": [
        "pmf_educ = Pmf.from_seq(educ, normalize=False)\n",
        "type(pmf_educ)"
      ]
    },
    {
      "cell_type": "markdown",
      "metadata": {
        "id": "MYh6ZIPaRdI4"
      },
      "source": [
        "With the keyword argument `normalize=False`, the result contains counts rather than probabilities.\n",
        "Here are the first few values in `educ` and their counts."
      ]
    },
    {
      "cell_type": "code",
      "execution_count": 17,
      "metadata": {
        "colab": {
          "base_uri": "https://localhost:8080/",
          "height": 192
        },
        "id": "YJg26u8WRdI5",
        "outputId": "818a0a42-7259-4e10-8946-d2cdb6ac57f3"
      },
      "outputs": [
        {
          "output_type": "execute_result",
          "data": {
            "text/plain": [
              "educ\n",
              "0.0    177\n",
              "1.0     49\n",
              "2.0    158\n",
              "Name: , dtype: int64"
            ],
            "text/html": [
              "<div>\n",
              "<style scoped>\n",
              "    .dataframe tbody tr th:only-of-type {\n",
              "        vertical-align: middle;\n",
              "    }\n",
              "\n",
              "    .dataframe tbody tr th {\n",
              "        vertical-align: top;\n",
              "    }\n",
              "\n",
              "    .dataframe thead th {\n",
              "        text-align: right;\n",
              "    }\n",
              "</style>\n",
              "<table border=\"1\" class=\"dataframe\">\n",
              "  <thead>\n",
              "    <tr style=\"text-align: right;\">\n",
              "      <th></th>\n",
              "      <th></th>\n",
              "    </tr>\n",
              "    <tr>\n",
              "      <th>educ</th>\n",
              "      <th></th>\n",
              "    </tr>\n",
              "  </thead>\n",
              "  <tbody>\n",
              "    <tr>\n",
              "      <th>0.0</th>\n",
              "      <td>177</td>\n",
              "    </tr>\n",
              "    <tr>\n",
              "      <th>1.0</th>\n",
              "      <td>49</td>\n",
              "    </tr>\n",
              "    <tr>\n",
              "      <th>2.0</th>\n",
              "      <td>158</td>\n",
              "    </tr>\n",
              "  </tbody>\n",
              "</table>\n",
              "</div><br><label><b>dtype:</b> int64</label>"
            ]
          },
          "metadata": {},
          "execution_count": 17
        }
      ],
      "source": [
        "pmf_educ.head()"
      ]
    },
    {
      "cell_type": "markdown",
      "metadata": {
        "id": "lRQMIdVrRdI6"
      },
      "source": [
        "In this dataset, there are 177 respondents who report that they have no formal education, and 49 who have only one year.\n",
        "Here are the last few values."
      ]
    },
    {
      "cell_type": "code",
      "execution_count": 18,
      "metadata": {
        "colab": {
          "base_uri": "https://localhost:8080/",
          "height": 192
        },
        "id": "q6r74Ux9RdI6",
        "outputId": "b7f2e500-427a-4e4e-e280-e4d938597221"
      },
      "outputs": [
        {
          "output_type": "execute_result",
          "data": {
            "text/plain": [
              "educ\n",
              "18.0    2945\n",
              "19.0    1112\n",
              "20.0    1803\n",
              "Name: , dtype: int64"
            ],
            "text/html": [
              "<div>\n",
              "<style scoped>\n",
              "    .dataframe tbody tr th:only-of-type {\n",
              "        vertical-align: middle;\n",
              "    }\n",
              "\n",
              "    .dataframe tbody tr th {\n",
              "        vertical-align: top;\n",
              "    }\n",
              "\n",
              "    .dataframe thead th {\n",
              "        text-align: right;\n",
              "    }\n",
              "</style>\n",
              "<table border=\"1\" class=\"dataframe\">\n",
              "  <thead>\n",
              "    <tr style=\"text-align: right;\">\n",
              "      <th></th>\n",
              "      <th></th>\n",
              "    </tr>\n",
              "    <tr>\n",
              "      <th>educ</th>\n",
              "      <th></th>\n",
              "    </tr>\n",
              "  </thead>\n",
              "  <tbody>\n",
              "    <tr>\n",
              "      <th>18.0</th>\n",
              "      <td>2945</td>\n",
              "    </tr>\n",
              "    <tr>\n",
              "      <th>19.0</th>\n",
              "      <td>1112</td>\n",
              "    </tr>\n",
              "    <tr>\n",
              "      <th>20.0</th>\n",
              "      <td>1803</td>\n",
              "    </tr>\n",
              "  </tbody>\n",
              "</table>\n",
              "</div><br><label><b>dtype:</b> int64</label>"
            ]
          },
          "metadata": {},
          "execution_count": 18
        }
      ],
      "source": [
        "pmf_educ.tail()"
      ]
    },
    {
      "cell_type": "markdown",
      "metadata": {
        "id": "Jrw0fe8SRdI7"
      },
      "source": [
        "There are 1803 respondents who report that they have 20 or more years of formal education, which probably means they attended college and graduate school.\n",
        "We can use the bracket operator to look up a value in `pmf_educ` and get the corresponding count."
      ]
    },
    {
      "cell_type": "code",
      "execution_count": 21,
      "metadata": {
        "colab": {
          "base_uri": "https://localhost:8080/"
        },
        "id": "-we8WeOnRdI8",
        "outputId": "e32d7279-a895-4cd8-9d6f-98453952d01d"
      },
      "outputs": [
        {
          "output_type": "execute_result",
          "data": {
            "text/plain": [
              "np.int64(1803)"
            ]
          },
          "metadata": {},
          "execution_count": 21
        }
      ],
      "source": [
        "pmf_educ[20]"
      ]
    },
    {
      "cell_type": "markdown",
      "metadata": {
        "id": "sQai00z-RdI8"
      },
      "source": [
        "Often when we make a `Pmf`, we want to know the *fraction* of respondents with each value, rather than the counts.\n",
        "We can do that by setting `normalize=True`.\n",
        "Then we get a **normalized** `Pmf`, which means that the fractions add up to 1."
      ]
    },
    {
      "cell_type": "code",
      "execution_count": 22,
      "metadata": {
        "colab": {
          "base_uri": "https://localhost:8080/",
          "height": 192
        },
        "id": "YWIFlsRiRdI8",
        "outputId": "e764dc92-0798-47f3-a3c9-fad58af51388"
      },
      "outputs": [
        {
          "output_type": "execute_result",
          "data": {
            "text/plain": [
              "educ\n",
              "0.0    0.002454\n",
              "1.0    0.000679\n",
              "2.0    0.002191\n",
              "Name: , dtype: float64"
            ],
            "text/html": [
              "<div>\n",
              "<style scoped>\n",
              "    .dataframe tbody tr th:only-of-type {\n",
              "        vertical-align: middle;\n",
              "    }\n",
              "\n",
              "    .dataframe tbody tr th {\n",
              "        vertical-align: top;\n",
              "    }\n",
              "\n",
              "    .dataframe thead th {\n",
              "        text-align: right;\n",
              "    }\n",
              "</style>\n",
              "<table border=\"1\" class=\"dataframe\">\n",
              "  <thead>\n",
              "    <tr style=\"text-align: right;\">\n",
              "      <th></th>\n",
              "      <th></th>\n",
              "    </tr>\n",
              "    <tr>\n",
              "      <th>educ</th>\n",
              "      <th></th>\n",
              "    </tr>\n",
              "  </thead>\n",
              "  <tbody>\n",
              "    <tr>\n",
              "      <th>0.0</th>\n",
              "      <td>0.002454</td>\n",
              "    </tr>\n",
              "    <tr>\n",
              "      <th>1.0</th>\n",
              "      <td>0.000679</td>\n",
              "    </tr>\n",
              "    <tr>\n",
              "      <th>2.0</th>\n",
              "      <td>0.002191</td>\n",
              "    </tr>\n",
              "  </tbody>\n",
              "</table>\n",
              "</div><br><label><b>dtype:</b> float64</label>"
            ]
          },
          "metadata": {},
          "execution_count": 22
        }
      ],
      "source": [
        "pmf_educ_norm = Pmf.from_seq(educ, normalize=True)\n",
        "pmf_educ_norm.head()"
      ]
    },
    {
      "cell_type": "markdown",
      "metadata": {
        "id": "OeaFiiHBRdI8"
      },
      "source": [
        "Now if we use the bracket operator to look up a value, the result is a fraction rather than a count."
      ]
    },
    {
      "cell_type": "code",
      "execution_count": 23,
      "metadata": {
        "colab": {
          "base_uri": "https://localhost:8080/"
        },
        "id": "Tmp5nle_RdI8",
        "outputId": "971838dc-8a28-463d-9062-e5c716ea3d6a"
      },
      "outputs": [
        {
          "output_type": "execute_result",
          "data": {
            "text/plain": [
              "np.float64(0.0249975737241255)"
            ]
          },
          "metadata": {},
          "execution_count": 23
        }
      ],
      "source": [
        "pmf_educ_norm[20]"
      ]
    },
    {
      "cell_type": "markdown",
      "metadata": {
        "id": "R76-kXImRdI9"
      },
      "source": [
        "The result indicates that about 2.5% of the respondents have 20 years of education.\n",
        "But we can also interpret this result as a probability -- if we choose a random respondent, the probability is 2.5% that they have 20 years of education.\n",
        "\n",
        "When a `Pmf` contains probabilities, we can say that it represents a proper probability mass function, or PMF.\n",
        "With apologies for confusing notation, I'll use `Pmf` to mean a kind of Python object, and PMF to mean the concept of a probability mass function.\n",
        "\n",
        "`Pmf` provides a `bar` method that plots the values and their probabilities as a bar chart."
      ]
    },
    {
      "cell_type": "code",
      "execution_count": 24,
      "metadata": {
        "colab": {
          "base_uri": "https://localhost:8080/",
          "height": 281
        },
        "id": "A8SaM9XxRdI9",
        "outputId": "49b8e097-b3f1-4269-e130-54c3e93e5c31"
      },
      "outputs": [
        {
          "output_type": "display_data",
          "data": {
            "text/plain": [
              "<Figure size 450x262.5 with 1 Axes>"
            ],
            "image/png": "[encoded data removed]"
          },
          "metadata": {}
        }
      ],
      "source": [
        "pmf_educ_norm.bar(label='educ')\n",
        "\n",
        "plt.xlabel('Years of education')\n",
        "plt.xticks(range(0, 21, 4))\n",
        "plt.ylabel('PMF')\n",
        "plt.title('Distribution of years of education')\n",
        "plt.legend();"
      ]
    },
    {
      "cell_type": "markdown",
      "metadata": {
        "id": "AAOJyT-VRdI9"
      },
      "source": [
        "In this figure, we can see that the most common value is 12 years, but there are also peaks at 14 and 16, which correspond to two and four years of college.\n",
        "For this data, plotting the `Pmf` is probably a better choice than the histogram.\n",
        "The `Pmf` shows all unique values, so we can see where the peaks are."
      ]
    },
    {
      "cell_type": "markdown",
      "metadata": {
        "id": "XEHNryu8RdI-"
      },
      "source": [
        "**Exercise:** Let's look at the `year` column in the `DataFrame`, which represents the year each respondent was interviewed.\n",
        "Make an unnormalized `Pmf` for `year` and plot the result as a bar chart.\n",
        "Use the bracket operator to look up the number of respondents interviewed in 2022."
      ]
    },
    {
      "cell_type": "code",
      "execution_count": 28,
      "metadata": {
        "colab": {
          "base_uri": "https://localhost:8080/"
        },
        "id": "WYajYub2RdI-",
        "outputId": "faf89f7a-dd18-4f14-d2f4-d68be5605646"
      },
      "outputs": [
        {
          "output_type": "execute_result",
          "data": {
            "text/plain": [
              "np.int64(3544)"
            ]
          },
          "metadata": {},
          "execution_count": 28
        }
      ],
      "source": [
        "# Solution goes here\n",
        "\n",
        "years = gss['year']\n",
        "pmf_years = Pmf.from_seq(years, normalize = False)\n",
        "\n",
        "pmf_years[2022]"
      ]
    },
    {
      "cell_type": "code",
      "execution_count": 31,
      "metadata": {
        "colab": {
          "base_uri": "https://localhost:8080/",
          "height": 281
        },
        "id": "1Z0l7M4yRdI_",
        "outputId": "21bade19-790a-4021-87e2-6653f8d6e1f8"
      },
      "outputs": [
        {
          "output_type": "display_data",
          "data": {
            "text/plain": [
              "<Figure size 450x262.5 with 1 Axes>"
            ],
            "image/png": "[encoded data removed]"
          },
          "metadata": {}
        }
      ],
      "source": [
        "# Solution goes here\n",
        "\n",
        "pmf_years.bar(label = 'years')\n",
        "\n",
        "plt.xlabel('Years of interview')\n",
        "plt.xticks(range(1970, 2025, 5))\n",
        "plt.ylabel('Count')\n",
        "plt.title('Interviewees per year')\n",
        "plt.legend();"
      ]
    },
    {
      "cell_type": "code",
      "execution_count": null,
      "metadata": {
        "id": "lVJUwNYdRdI_"
      },
      "outputs": [],
      "source": [
        "# Solution goes here"
      ]
    },
    {
      "cell_type": "markdown",
      "metadata": {
        "id": "9JAOk5O0RdI_"
      },
      "source": [
        "## Cumulative Distribution Functions\n",
        "\n",
        "If we compute the cumulative sum of a PMF, the result is a cumulative distribution function (CDF).\n",
        "To see what that means, and why it is useful, let's look at a simple example.\n",
        "Suppose we have a sequence of five values."
      ]
    },
    {
      "cell_type": "code",
      "execution_count": 32,
      "metadata": {
        "id": "Skgy1Lg7RdI_"
      },
      "outputs": [],
      "source": [
        "values = 1, 2, 2, 3, 5"
      ]
    },
    {
      "cell_type": "markdown",
      "metadata": {
        "id": "XVq7d4SDRdJA"
      },
      "source": [
        "Here's the `Pmf` of these values."
      ]
    },
    {
      "cell_type": "code",
      "execution_count": 33,
      "metadata": {
        "colab": {
          "base_uri": "https://localhost:8080/",
          "height": 192
        },
        "id": "w92dPYosRdJA",
        "outputId": "9efc125b-4a9b-4965-d8a9-6382c2e89510"
      },
      "outputs": [
        {
          "output_type": "execute_result",
          "data": {
            "text/plain": [
              "1    0.2\n",
              "2    0.4\n",
              "3    0.2\n",
              "5    0.2\n",
              "Name: , dtype: float64"
            ],
            "text/html": [
              "<div>\n",
              "<style scoped>\n",
              "    .dataframe tbody tr th:only-of-type {\n",
              "        vertical-align: middle;\n",
              "    }\n",
              "\n",
              "    .dataframe tbody tr th {\n",
              "        vertical-align: top;\n",
              "    }\n",
              "\n",
              "    .dataframe thead th {\n",
              "        text-align: right;\n",
              "    }\n",
              "</style>\n",
              "<table border=\"1\" class=\"dataframe\">\n",
              "  <thead>\n",
              "    <tr style=\"text-align: right;\">\n",
              "      <th></th>\n",
              "      <th></th>\n",
              "    </tr>\n",
              "  </thead>\n",
              "  <tbody>\n",
              "    <tr>\n",
              "      <th>1</th>\n",
              "      <td>0.2</td>\n",
              "    </tr>\n",
              "    <tr>\n",
              "      <th>2</th>\n",
              "      <td>0.4</td>\n",
              "    </tr>\n",
              "    <tr>\n",
              "      <th>3</th>\n",
              "      <td>0.2</td>\n",
              "    </tr>\n",
              "    <tr>\n",
              "      <th>5</th>\n",
              "      <td>0.2</td>\n",
              "    </tr>\n",
              "  </tbody>\n",
              "</table>\n",
              "</div><br><label><b>dtype:</b> float64</label>"
            ]
          },
          "metadata": {},
          "execution_count": 33
        }
      ],
      "source": [
        "pmf = Pmf.from_seq(values)\n",
        "pmf"
      ]
    },
    {
      "cell_type": "markdown",
      "metadata": {
        "id": "JA3jTwv9RdJA"
      },
      "source": [
        "If you draw a random value from `values`, the `Pmf` tells you the chance of getting `x`, for any value of `x`.\n",
        "\n",
        "* The probability of the value `1` is `0.2`,\n",
        "\n",
        "* The probability of the value `2` is `0.4`, and\n",
        "\n",
        "* The probabilities for `3` and `5` are `0.2` each.\n",
        "\n",
        "The `Pmf` object has a method called `make_cdf` that computes the cumulative sum of the probabilities in the `Pmf` and returns a `Cdf` object."
      ]
    },
    {
      "cell_type": "code",
      "execution_count": 34,
      "metadata": {
        "colab": {
          "base_uri": "https://localhost:8080/",
          "height": 192
        },
        "id": "YKLvhYsGRdJA",
        "outputId": "1cc8ef09-3a01-4f3b-9e75-0dc1debdc60d"
      },
      "outputs": [
        {
          "output_type": "execute_result",
          "data": {
            "text/plain": [
              "1    0.2\n",
              "2    0.6\n",
              "3    0.8\n",
              "5    1.0\n",
              "Name: , dtype: float64"
            ],
            "text/html": [
              "<div>\n",
              "<style scoped>\n",
              "    .dataframe tbody tr th:only-of-type {\n",
              "        vertical-align: middle;\n",
              "    }\n",
              "\n",
              "    .dataframe tbody tr th {\n",
              "        vertical-align: top;\n",
              "    }\n",
              "\n",
              "    .dataframe thead th {\n",
              "        text-align: right;\n",
              "    }\n",
              "</style>\n",
              "<table border=\"1\" class=\"dataframe\">\n",
              "  <thead>\n",
              "    <tr style=\"text-align: right;\">\n",
              "      <th></th>\n",
              "      <th></th>\n",
              "    </tr>\n",
              "  </thead>\n",
              "  <tbody>\n",
              "    <tr>\n",
              "      <th>1</th>\n",
              "      <td>0.2</td>\n",
              "    </tr>\n",
              "    <tr>\n",
              "      <th>2</th>\n",
              "      <td>0.6</td>\n",
              "    </tr>\n",
              "    <tr>\n",
              "      <th>3</th>\n",
              "      <td>0.8</td>\n",
              "    </tr>\n",
              "    <tr>\n",
              "      <th>5</th>\n",
              "      <td>1.0</td>\n",
              "    </tr>\n",
              "  </tbody>\n",
              "</table>\n",
              "</div><br><label><b>dtype:</b> float64</label>"
            ]
          },
          "metadata": {},
          "execution_count": 34
        }
      ],
      "source": [
        "cdf = pmf.make_cdf()\n",
        "cdf"
      ]
    },
    {
      "cell_type": "markdown",
      "metadata": {
        "id": "XF4i71uSRdJB"
      },
      "source": [
        "If you draw a random value from `values`, the `Cdf` tells you the chance of getting a value *less than or equal to* `x`, for any given `x`.\n",
        "\n",
        "* The `Cdf` of `1` is `0.2` because one of the five values is less than or equal to 1,\n",
        "\n",
        "* The `Cdf` of `2` is `0.6` because three of the five values are less than or equal to `2`,\n",
        "\n",
        "* The `Cdf` of `3` is `0.8` because four of the five values are less than or equal to `3`,\n",
        "\n",
        "* The `Cdf` of `5` is `1.0` because all of the values are less than or equal to `5`.\n",
        "\n",
        "If we make a `Cdf` from a proper `Pmf`, where the probabilities add up to 1, the result represents a proper CDF.\n",
        "As with `Pmf` and PMF, I'll use `Cdf` to refer to a Python object and CDF to refer to the concept."
      ]
    },
    {
      "cell_type": "markdown",
      "metadata": {
        "id": "EvtdvQT-RdJB"
      },
      "source": [
        "## CDF of Age\n",
        "\n",
        "To see why CDFs are useful, let's consider the distribution of ages for respondents in the General Social Survey.\n",
        "The column we'll use is `age`."
      ]
    },
    {
      "cell_type": "markdown",
      "metadata": {
        "tags": [],
        "id": "iG5UOQ50RdJB"
      },
      "source": [
        "Documentation of `age` is at <https://gssdataexplorer.norc.org/variables/53/vshow>."
      ]
    },
    {
      "cell_type": "markdown",
      "metadata": {
        "id": "0USo6ahGRdJB"
      },
      "source": [
        "According to the codebook, the range of the values is from `18` to `89`, where `89` means \"89 or older\".\n",
        "The special codes `98` and `99` mean \"Don't know\" and \"Didn't answer\".\n",
        "We can use `replace` to replace the special codes with `NaN`."
      ]
    },
    {
      "cell_type": "code",
      "execution_count": 40,
      "metadata": {
        "colab": {
          "base_uri": "https://localhost:8080/"
        },
        "id": "9TLLMg-gRdJB",
        "outputId": "e742a235-9a40-4270-a961-a13fdc9f6f5a"
      },
      "outputs": [
        {
          "output_type": "execute_result",
          "data": {
            "text/plain": [
              "89.0"
            ]
          },
          "metadata": {},
          "execution_count": 40
        }
      ],
      "source": [
        "age = gss['age']\n"
      ]
    },
    {
      "cell_type": "markdown",
      "metadata": {
        "id": "r9_FgPX8RdJB"
      },
      "source": [
        "`empiricaldist` provides a `Cdf.from_seq` function that takes any kind of sequence and computes the CDF of the values."
      ]
    },
    {
      "cell_type": "code",
      "execution_count": 36,
      "metadata": {
        "id": "R9alcSmKRdJC"
      },
      "outputs": [],
      "source": [
        "from empiricaldist import Cdf\n",
        "\n",
        "cdf_age = Cdf.from_seq(age)"
      ]
    },
    {
      "cell_type": "markdown",
      "metadata": {
        "id": "PeanxKMPRdJC"
      },
      "source": [
        "The result is a `Cdf` object, which provides a method called `plot` that plots the CDF as a line."
      ]
    },
    {
      "cell_type": "code",
      "execution_count": 37,
      "metadata": {
        "colab": {
          "base_uri": "https://localhost:8080/",
          "height": 281
        },
        "id": "EJzZwsJeRdJC",
        "outputId": "e0110cc3-2a39-4546-fc26-f3c71bfcb26a"
      },
      "outputs": [
        {
          "output_type": "display_data",
          "data": {
            "text/plain": [
              "<Figure size 450x262.5 with 1 Axes>"
            ],
            "image/png": "[encoded data removed]"
          },
          "metadata": {}
        }
      ],
      "source": [
        "cdf_age.plot()\n",
        "\n",
        "plt.xlabel('Age (years)')\n",
        "plt.ylabel('CDF')\n",
        "plt.title('Distribution of age');"
      ]
    },
    {
      "cell_type": "markdown",
      "metadata": {
        "id": "WkFRJrqxRdJC"
      },
      "source": [
        "The x-axis is the ages, from 18 to 89.\n",
        "The y-axis is the cumulative probabilities, from 0 to 1.\n",
        "The `Cdf` object can be used as a function, so if you give it an age, it returns the corresponding probability in a NumPy array."
      ]
    },
    {
      "cell_type": "code",
      "execution_count": 38,
      "metadata": {
        "colab": {
          "base_uri": "https://localhost:8080/"
        },
        "id": "ife_yXOuRdJC",
        "outputId": "207acd05-ccc7-4604-81b8-7558c87a9490"
      },
      "outputs": [
        {
          "output_type": "execute_result",
          "data": {
            "text/plain": [
              "array(0.62121445)"
            ]
          },
          "metadata": {},
          "execution_count": 38
        }
      ],
      "source": [
        "q = 51\n",
        "p = cdf_age(q)\n",
        "p"
      ]
    },
    {
      "cell_type": "markdown",
      "metadata": {
        "id": "6mUXQ9YjRdJC"
      },
      "source": [
        "`q` stands for \"quantity\", which is another name for a value in a distribution.\n",
        "`p` stands for probability, which is the result.\n",
        "In this example, the quantity is age 51, and the corresponding probability is about 0.62.\n",
        "That means that about 62% of the respondents are age 51 or younger.\n",
        "The arrow in the following figure shows how you could read this value from the CDF, at least approximately."
      ]
    },
    {
      "cell_type": "code",
      "execution_count": 41,
      "metadata": {
        "tags": [],
        "id": "Hcpbcq3SRdJD"
      },
      "outputs": [],
      "source": [
        "def draw_line(p, q, x):\n",
        "    xs = [q, q, x]\n",
        "    ys = [0, p, p]\n",
        "    plt.plot(xs, ys, ':', color='gray')\n",
        "\n",
        "def draw_arrow_left(p, q, x):\n",
        "    dx = 3\n",
        "    dy = 0.025\n",
        "    xs = [x+dx, x, x+dx]\n",
        "    ys = [p-dy, p, p+dy]\n",
        "    plt.plot(xs, ys, ':', color='gray')\n",
        "\n",
        "def draw_arrow_down(p, q, y):\n",
        "    dx = 1.25\n",
        "    dy = 0.045\n",
        "    xs = [q-dx, q, q+dx]\n",
        "    ys = [y+dy, y, y+dy]\n",
        "    plt.plot(xs, ys, ':', color='gray')"
      ]
    },
    {
      "cell_type": "code",
      "execution_count": 50,
      "metadata": {
        "tags": [],
        "colab": {
          "base_uri": "https://localhost:8080/",
          "height": 281
        },
        "id": "MZDSjVV6RdJD",
        "outputId": "c558fdf3-f38e-4c81-98e0-570f0e23f3cd"
      },
      "outputs": [
        {
          "output_type": "display_data",
          "data": {
            "text/plain": [
              "<Figure size 450x262.5 with 1 Axes>"
            ],
            "image/png": "[encoded data removed]"
          },
          "metadata": {}
        }
      ],
      "source": [
        "cdf_age.plot()\n",
        "\n",
        "x = 17\n",
        "draw_line(p, q, x)\n",
        "draw_arrow_left(p, q, x)\n",
        "\n",
        "plt.xlabel('Age (years)')\n",
        "plt.xlim(x-1, 91)\n",
        "plt.ylabel('CDF')\n",
        "plt.title('Distribution of age');"
      ]
    },
    {
      "cell_type": "markdown",
      "metadata": {
        "id": "PfVTLgipRdJD"
      },
      "source": [
        "The CDF is an invertible function, which means that if you have a probability, `p`, you can look up the corresponding quantity, `q`.\n",
        "The `Cdf` object provides a method called `inverse` that computes the inverse of the cumulative distribution function."
      ]
    },
    {
      "cell_type": "code",
      "execution_count": 51,
      "metadata": {
        "colab": {
          "base_uri": "https://localhost:8080/"
        },
        "id": "LjalYxUZRdJD",
        "outputId": "76f31b39-7561-4ea5-9f15-260bbbde709b"
      },
      "outputs": [
        {
          "output_type": "execute_result",
          "data": {
            "text/plain": [
              "array(32.)"
            ]
          },
          "metadata": {},
          "execution_count": 51
        }
      ],
      "source": [
        "p1 = 0.25\n",
        "q1 = cdf_age.inverse(p1)\n",
        "q1"
      ]
    },
    {
      "cell_type": "markdown",
      "metadata": {
        "id": "VYeenChTRdJE"
      },
      "source": [
        "In this example, we look up the probability 0.25 and the result is 32.\n",
        "That means that 25% of the respondents are age 32 or less.\n",
        "Another way to say the same thing is \"age 32 is the 25th percentile of this distribution\".\n",
        "\n",
        "If we look up probability 0.75, it returns 60, so 75% of the respondents are 60 or younger."
      ]
    },
    {
      "cell_type": "code",
      "execution_count": 52,
      "metadata": {
        "colab": {
          "base_uri": "https://localhost:8080/"
        },
        "id": "SR9vCn2eRdJE",
        "outputId": "58418d39-722c-46d5-d3d4-b22677cb62d1"
      },
      "outputs": [
        {
          "output_type": "execute_result",
          "data": {
            "text/plain": [
              "array(60.)"
            ]
          },
          "metadata": {},
          "execution_count": 52
        }
      ],
      "source": [
        "p2 = 0.75\n",
        "q2 = cdf_age.inverse(p2)\n",
        "q2"
      ]
    },
    {
      "cell_type": "markdown",
      "metadata": {
        "id": "3OuxMkYDRdJE"
      },
      "source": [
        "In the following figure, the arrows show how you could read these values from the CDF."
      ]
    },
    {
      "cell_type": "code",
      "execution_count": 53,
      "metadata": {
        "tags": [],
        "colab": {
          "base_uri": "https://localhost:8080/",
          "height": 281
        },
        "id": "GUHQVqgiRdJE",
        "outputId": "eb367cdd-cc82-45d5-dc2f-d130d823ed07"
      },
      "outputs": [
        {
          "output_type": "display_data",
          "data": {
            "text/plain": [
              "<Figure size 450x262.5 with 1 Axes>"
            ],
            "image/png": "[encoded data removed]"
          },
          "metadata": {}
        }
      ],
      "source": [
        "cdf_age.plot()\n",
        "\n",
        "x = 17\n",
        "draw_line(p1, q1, x)\n",
        "draw_arrow_down(p1, q1, 0)\n",
        "\n",
        "draw_line(p2, q2, x)\n",
        "draw_arrow_down(p2, q2, 0)\n",
        "\n",
        "plt.xlabel('Age (years)')\n",
        "plt.xlim(x-1, 91)\n",
        "plt.ylabel('CDF')\n",
        "plt.title('Distribution of age');"
      ]
    },
    {
      "cell_type": "markdown",
      "metadata": {
        "id": "RHuIevBQRdJE"
      },
      "source": [
        "The distance from the 25th to the 75th percentile is called the **interquartile range** or IQR.\n",
        "It measures the spread of the distribution, so it is similar to standard deviation or variance.\n",
        "Because it is based on percentiles, it doesn't get thrown off by outliers as much as standard deviation does.\n",
        "So IQR is more **robust** than variance, which means it works well even if there are errors in the data or extreme values."
      ]
    },
    {
      "cell_type": "markdown",
      "metadata": {
        "id": "K40xl9ZfRdJF"
      },
      "source": [
        "**Exercise:**  Using `cdf_age`, compute the fraction of respondents in the GSS dataset who are *older* than `65`.\n",
        "Recall that the CDF computes the fraction who are less than or equal to a value, so the complement is the fraction who exceed a value."
      ]
    },
    {
      "cell_type": "code",
      "execution_count": 56,
      "metadata": {
        "colab": {
          "base_uri": "https://localhost:8080/"
        },
        "id": "DxxJU-BBRdJF",
        "outputId": "0b332324-46a3-4682-e4fe-990714110eed"
      },
      "outputs": [
        {
          "output_type": "execute_result",
          "data": {
            "text/plain": [
              "np.float64(0.37878555172365647)"
            ]
          },
          "metadata": {},
          "execution_count": 56
        }
      ],
      "source": [
        "# Solution goes here\n",
        "def older(n):\n",
        "    return 1 - cdf_age(n)\n",
        "\n",
        "older(51)"
      ]
    },
    {
      "cell_type": "markdown",
      "metadata": {
        "id": "hL-LyqsrRdJF"
      },
      "source": [
        "**Exercise:** The distribution of income in almost every country is long-tailed, which means there are a small number of people with very high incomes.\n",
        "In the GSS dataset, the `realinc` column represents total household income, converted to 1986 dollars.\n",
        "We can get a sense of the shape of this distribution by plotting the CDF.\n",
        "Select `realinc` from the `gss` dataset, make a `Cdf` called `cdf_income`, and plot it.  Remember to label the axes!\n",
        "\n",
        "Because the tail of the distribution extends to the right, the mean is greater than the median.\n",
        "Use the `Cdf` object to compute the fraction of respondents whose income is at or below the mean."
      ]
    },
    {
      "cell_type": "code",
      "execution_count": 102,
      "metadata": {
        "colab": {
          "base_uri": "https://localhost:8080/",
          "height": 281
        },
        "id": "TyW5BRZsRdJF",
        "outputId": "4826e0e4-fd93-49c2-9d3f-a06b3696ce82"
      },
      "outputs": [
        {
          "output_type": "display_data",
          "data": {
            "text/plain": [
              "<Figure size 450x262.5 with 1 Axes>"
            ],
            "image/png": "[encoded data removed]"
          },
          "metadata": {}
        }
      ],
      "source": [
        "# Solution goes here\n",
        "\n",
        "inc = gss['realinc']\n",
        "\n",
        "inc.hist(bins = 200)\n",
        "\n",
        "plt.xlabel('Income in 1986 dollars')\n",
        "plt.ylabel('Count')\n",
        "plt.title('Distribution of income');"
      ]
    },
    {
      "cell_type": "code",
      "execution_count": 86,
      "metadata": {
        "colab": {
          "base_uri": "https://localhost:8080/",
          "height": 281
        },
        "id": "Fiqeb4tfRdJF",
        "outputId": "89c2dee2-2c6e-49dc-856d-7bd2ee5a3946"
      },
      "outputs": [
        {
          "output_type": "display_data",
          "data": {
            "text/plain": [
              "<Figure size 450x262.5 with 1 Axes>"
            ],
            "image/png": "[encoded data removed]"
          },
          "metadata": {}
        }
      ],
      "source": [
        "# Solution goes here\n",
        "\n",
        "cdf_income = Cdf.from_seq(inc)\n",
        "\n",
        "cdf_income.plot()\n",
        "\n",
        "plt.xlabel('Income in 1986 dollars')\n",
        "plt.ylabel('CDF')\n",
        "plt.title('Cumulative distribution of income');"
      ]
    },
    {
      "cell_type": "markdown",
      "metadata": {
        "id": "HXrnoGcpRdJG"
      },
      "source": [
        "## Comparing Distributions\n",
        "\n",
        "So far we've seen two ways to represent distributions, PMFs and CDFs.\n",
        "Now we'll use PMFs and CDFs to compare distributions, and we'll see the pros and cons of each.\n",
        "One way to compare distributions is to plot multiple PMFs on the same axes.\n",
        "For example, suppose we want to compare the distribution of age for male and female respondents.\n",
        "First we'll create a Boolean `Series` that's true for male respondents and another that's true for female respondents."
      ]
    },
    {
      "cell_type": "code",
      "execution_count": 103,
      "metadata": {
        "id": "hVXkAmkHRdJG"
      },
      "outputs": [],
      "source": [
        "male = (gss['sex'] == 1)\n",
        "female = (gss['sex'] == 2)"
      ]
    },
    {
      "cell_type": "markdown",
      "metadata": {
        "id": "ntHp99Q0RdJG"
      },
      "source": [
        "We can use these `Series` to select ages for male and female respondents."
      ]
    },
    {
      "cell_type": "code",
      "execution_count": 104,
      "metadata": {
        "id": "PS3eo3S1RdJG"
      },
      "outputs": [],
      "source": [
        "male_age = age[male]\n",
        "female_age = age[female]"
      ]
    },
    {
      "cell_type": "markdown",
      "metadata": {
        "id": "McxCEsQhRdJH"
      },
      "source": [
        "And plot a PMF for each."
      ]
    },
    {
      "cell_type": "code",
      "execution_count": 105,
      "metadata": {
        "colab": {
          "base_uri": "https://localhost:8080/",
          "height": 281
        },
        "id": "LjSzHp5fRdJH",
        "outputId": "dd28c093-9305-40bc-8d82-701aa430bbbe"
      },
      "outputs": [
        {
          "output_type": "display_data",
          "data": {
            "text/plain": [
              "<Figure size 450x262.5 with 1 Axes>"
            ],
            "image/png": "[encoded data removed]"
          },
          "metadata": {}
        }
      ],
      "source": [
        "pmf_male_age = Pmf.from_seq(male_age)\n",
        "pmf_male_age.plot(label='Male')\n",
        "\n",
        "pmf_female_age = Pmf.from_seq(female_age)\n",
        "pmf_female_age.plot(label='Female')\n",
        "\n",
        "plt.xlabel('Age (years)')\n",
        "plt.ylabel('PMF')\n",
        "plt.title('Distribution of age by sex')\n",
        "plt.legend();"
      ]
    },
    {
      "cell_type": "markdown",
      "metadata": {
        "id": "aOG8GnGfRdJH"
      },
      "source": [
        "A plot as variable as this is often described as **noisy**.\n",
        "If we ignore the noise, it looks like the PMF is higher for men between ages 40 and 50,\n",
        "and higher for women between ages 70 and 80.\n",
        "But both of those differences might be due to randomness.\n",
        "\n",
        "Now let's do the same thing with CDFs -- everything is the same except we replace `Pmf` with `Cdf`."
      ]
    },
    {
      "cell_type": "code",
      "execution_count": 106,
      "metadata": {
        "colab": {
          "base_uri": "https://localhost:8080/",
          "height": 281
        },
        "id": "CfoZOVHFRdJH",
        "outputId": "7ed648ef-7b6c-46c5-aa68-f190eb727910"
      },
      "outputs": [
        {
          "output_type": "display_data",
          "data": {
            "text/plain": [
              "<Figure size 450x262.5 with 1 Axes>"
            ],
            "image/png": "[encoded data removed]"
          },
          "metadata": {}
        }
      ],
      "source": [
        "cdf_male_age = Cdf.from_seq(male_age)\n",
        "cdf_male_age.plot(label='Male')\n",
        "\n",
        "cdf_female_age = Cdf.from_seq(female_age)\n",
        "cdf_female_age.plot(label='Female')\n",
        "\n",
        "plt.xlabel('Age (years)')\n",
        "plt.ylabel('CDF')\n",
        "plt.title('Distribution of age by sex')\n",
        "plt.legend();"
      ]
    },
    {
      "cell_type": "markdown",
      "metadata": {
        "id": "Ba0IEvAGRdJI"
      },
      "source": [
        "Because CDFs smooth out randomness, they provide a better view of real differences between distributions.\n",
        "In this case, the lines are close together until age 40 -- after that, the CDF is higher for men than women.\n",
        "\n",
        "So what does that mean?\n",
        "One way to interpret the difference is that the fraction of men below a given age is generally more than the fraction of women below the same age.\n",
        "For example, about 77% of men are 60 or less, compared to 75% of women."
      ]
    },
    {
      "cell_type": "code",
      "execution_count": 107,
      "metadata": {
        "colab": {
          "base_uri": "https://localhost:8080/"
        },
        "id": "wcB2SJ2_RdJI",
        "outputId": "e3891ca4-b04c-44b3-af3b-34f2f515732a"
      },
      "outputs": [
        {
          "output_type": "execute_result",
          "data": {
            "text/plain": [
              "(array(0.7721998), array(0.7474241))"
            ]
          },
          "metadata": {},
          "execution_count": 107
        }
      ],
      "source": [
        "cdf_male_age(60), cdf_female_age(60)"
      ]
    },
    {
      "cell_type": "markdown",
      "metadata": {
        "id": "l1NTGT3GRdJI"
      },
      "source": [
        "Going the other way, we could also compare percentiles.\n",
        "For example, the median age woman is older than the median age man, by about one year."
      ]
    },
    {
      "cell_type": "code",
      "execution_count": 108,
      "metadata": {
        "colab": {
          "base_uri": "https://localhost:8080/"
        },
        "id": "Rzr_S0i5RdJI",
        "outputId": "2488cb9d-4cb8-4af8-fe41-29bd7bf7ff0b"
      },
      "outputs": [
        {
          "output_type": "execute_result",
          "data": {
            "text/plain": [
              "(array(44.), array(45.))"
            ]
          },
          "metadata": {},
          "execution_count": 108
        }
      ],
      "source": [
        "cdf_male_age.inverse(0.5), cdf_female_age.inverse(0.5)"
      ]
    },
    {
      "cell_type": "markdown",
      "metadata": {
        "id": "5ml7PDtWRdJI"
      },
      "source": [
        "**Exercise:** What fraction of men are over 80?  What fraction of women?"
      ]
    },
    {
      "cell_type": "code",
      "execution_count": 109,
      "metadata": {
        "colab": {
          "base_uri": "https://localhost:8080/"
        },
        "id": "nrkCG6IiRdJI",
        "outputId": "df4680b7-eeff-4332-ffef-40b852084220"
      },
      "outputs": [
        {
          "output_type": "execute_result",
          "data": {
            "text/plain": [
              "(np.float64(0.026898335015136277), np.float64(0.03813081300609189))"
            ]
          },
          "metadata": {},
          "execution_count": 109
        }
      ],
      "source": [
        "# Solution goes here\n",
        "\n",
        "1 - cdf_male_age(80), 1 - cdf_female_age(80)"
      ]
    },
    {
      "cell_type": "markdown",
      "metadata": {
        "id": "08phx_InRdJJ"
      },
      "source": [
        "## Comparing Incomes\n",
        "\n",
        "As another example, let's look at household income and compare the distribution before and after 1995 (I chose 1995 because it's roughly the midpoint of the survey).\n",
        "We'll make two Boolean `Series` objects to select respondents interviewed before and after 1995."
      ]
    },
    {
      "cell_type": "code",
      "execution_count": 110,
      "metadata": {
        "id": "0f2jNeCERdJJ"
      },
      "outputs": [],
      "source": [
        "pre95 = (gss['year'] < 1995)\n",
        "post95 = (gss['year'] >= 1995)"
      ]
    },
    {
      "cell_type": "markdown",
      "metadata": {
        "id": "X-d2kZCiRdJK"
      },
      "source": [
        "Now we can plot the PMFs of `realinc`, which records household income converted to 1986 dollars."
      ]
    },
    {
      "cell_type": "code",
      "execution_count": 111,
      "metadata": {
        "colab": {
          "base_uri": "https://localhost:8080/",
          "height": 281
        },
        "id": "buk2HA0YRdJK",
        "outputId": "1a3ca00b-4b5b-4faf-cdf0-cab5ba12d23b"
      },
      "outputs": [
        {
          "output_type": "display_data",
          "data": {
            "text/plain": [
              "<Figure size 450x262.5 with 1 Axes>"
            ],
            "image/png": "[encoded data removed]"
          },
          "metadata": {}
        }
      ],
      "source": [
        "realinc = gss['realinc']\n",
        "\n",
        "Pmf.from_seq(realinc[pre95]).plot(label='Before 1995')\n",
        "Pmf.from_seq(realinc[post95]).plot(label='After 1995')\n",
        "\n",
        "plt.xlabel('Income (1986 USD)')\n",
        "plt.ylabel('PMF')\n",
        "plt.title('Distribution of income')\n",
        "plt.legend();"
      ]
    },
    {
      "cell_type": "markdown",
      "metadata": {
        "id": "flyUcncDRdJM"
      },
      "source": [
        "There are a lot of unique values in this distribution, and none of them appear very often.  As a result, the PMF is so noisy and we can't really see the shape of the distribution.\n",
        "It's also hard to compare the distributions.\n",
        "It looks like there are more people with high incomes after 1995, but it's hard to tell.  We can get a clearer picture with a CDF."
      ]
    },
    {
      "cell_type": "code",
      "execution_count": 114,
      "metadata": {
        "colab": {
          "base_uri": "https://localhost:8080/",
          "height": 281
        },
        "id": "lioSOfd0RdJN",
        "outputId": "d1bef460-a76b-4275-a51f-2871f2ea9d11"
      },
      "outputs": [
        {
          "output_type": "display_data",
          "data": {
            "text/plain": [
              "<Figure size 450x262.5 with 1 Axes>"
            ],
            "image/png": "[encoded data removed]"
          },
          "metadata": {}
        }
      ],
      "source": [
        "Cdf.from_seq(realinc[pre95]).plot(label='Before 1995')\n",
        "Cdf.from_seq(realinc[post95]).plot(label='After 1995')\n",
        "\n",
        "plt.xlabel('Income (1986 USD)')\n",
        "plt.ylabel('CDF')\n",
        "plt.title('Distribution of income')\n",
        "plt.legend();"
      ]
    },
    {
      "cell_type": "markdown",
      "metadata": {
        "id": "lojoKqAJRdJO"
      },
      "source": [
        "Below $30,000 the CDFs are almost identical; above that, we can see that the post-1995 distribution is shifted to the right.\n",
        "In other words, the fraction of people with high incomes is about the same, but the income of high earners has increased.\n",
        "\n",
        "In general, I recommend CDFs for exploratory analysis.\n",
        "They give you a clear view of the distribution, without too much noise, and they are good for comparing distributions."
      ]
    },
    {
      "cell_type": "markdown",
      "metadata": {
        "id": "2FrfzgJRRdJP"
      },
      "source": [
        "**Exercise:** Let's compare incomes for different levels of education in the GSS dataset.\n",
        "We'll use the `degree` column, which represents the highest degree each respondent has earned.\n",
        "In this column, the value `1` indicates a high school diploma, `2` indicates an Associate's degree, and `3` indicates a Bachelor's degree.\n",
        "\n",
        "Compute and plot the distribution of income for each group.\n",
        "Remember to label the CDFs, display a legend, and label the axes.\n",
        "Write a few sentences that describe and interpret the results."
      ]
    },
    {
      "cell_type": "code",
      "execution_count": 113,
      "metadata": {
        "tags": [],
        "id": "6f51Ily6RdJP"
      },
      "outputs": [],
      "source": [
        "# You can use the following Boolean Series objects to select groups from `realinc`\n",
        "\n",
        "# Select educ\n",
        "degree = gss['degree']\n",
        "\n",
        "# Bachelor's degree\n",
        "bach = (degree == 3)\n",
        "\n",
        "# Associate degree\n",
        "assc = (degree == 2)\n",
        "\n",
        "# High school\n",
        "high = (degree == 1)"
      ]
    },
    {
      "cell_type": "code",
      "execution_count": 115,
      "metadata": {
        "colab": {
          "base_uri": "https://localhost:8080/",
          "height": 281
        },
        "id": "MnvKJidsRdJQ",
        "outputId": "a8a1bab9-e788-46a0-8e77-3e9fd09da4ce"
      },
      "outputs": [
        {
          "output_type": "display_data",
          "data": {
            "text/plain": [
              "<Figure size 450x262.5 with 1 Axes>"
            ],
            "image/png": "[encoded data removed]"
          },
          "metadata": {}
        }
      ],
      "source": [
        "# Solution goes here\n",
        "\n",
        "Cdf.from_seq(realinc[bach]).plot(label=\"Bachelor's degree\")\n",
        "Cdf.from_seq(realinc[assc]).plot(label=\"Associate's degree\")\n",
        "Cdf.from_seq(realinc[high]).plot(label=\"High school diploma\")\n",
        "\n",
        "plt.xlabel('Income (1986 USD)')\n",
        "plt.ylabel('CDF')\n",
        "plt.title('Distribution of income')\n",
        "plt.legend();"
      ]
    },
    {
      "cell_type": "code",
      "execution_count": null,
      "metadata": {
        "id": "QrAMOcZtRdJQ"
      },
      "outputs": [],
      "source": [
        "# Solution goes here"
      ]
    },
    {
      "cell_type": "markdown",
      "metadata": {
        "id": "PnB0jxMoRdJQ"
      },
      "source": [
        "## Modeling Distributions\n",
        "\n",
        "Some distributions have names.\n",
        "For example, you might be familiar with the normal distribution, also called the Gaussian distribution or the bell curve.\n",
        "And you might have heard of others like the exponential distribution, binomial distribution, or maybe Poisson distribution.\n",
        "These \"distributions with names\" are called **theoretical** because they are based on mathematical functions, as contrasted with empirical distributions, which are based on data.\n",
        "\n",
        "Many things we measure have distributions that are well approximated by theoretical distributions, so these distributions are sometimes good models for the real world.\n",
        "In this context, what I mean by a **model** is a simplified description of the world that is accurate enough for its intended purpose.\n",
        "\n",
        "To check whether a theoretical distribution is a good model for a dataset, we can compare the CDF of the data to the CDF of a normal distribution with the same mean and standard deviation.\n",
        "I'll demonstrate with a sample from a normal distribution, then we'll try it with real data.\n",
        "\n",
        "The following statement uses NumPy's `random` library to generate 1000 values from a normal distribution with mean 10 and standard deviation 1."
      ]
    },
    {
      "cell_type": "code",
      "execution_count": 116,
      "metadata": {
        "tags": [],
        "id": "iv6KbO51RdJR"
      },
      "outputs": [],
      "source": [
        "import numpy as np\n",
        "\n",
        "np.random.seed(17)"
      ]
    },
    {
      "cell_type": "code",
      "execution_count": 117,
      "metadata": {
        "id": "IeOUdSGARdJR"
      },
      "outputs": [],
      "source": [
        "sample = np.random.normal(10, 1, size=1000)"
      ]
    },
    {
      "cell_type": "markdown",
      "metadata": {
        "id": "vzW7M1yqRdJR"
      },
      "source": [
        "Here's what the empirical distribution of the sample looks like."
      ]
    },
    {
      "cell_type": "code",
      "execution_count": 118,
      "metadata": {
        "colab": {
          "base_uri": "https://localhost:8080/",
          "height": 265
        },
        "id": "aO4bFg66RdJR",
        "outputId": "b54599f2-7c12-4e05-a242-6eefe856c2ea"
      },
      "outputs": [
        {
          "output_type": "display_data",
          "data": {
            "text/plain": [
              "<Figure size 450x262.5 with 1 Axes>"
            ],
            "image/png": "[encoded data removed]"
          },
          "metadata": {}
        }
      ],
      "source": [
        "cdf_sample = Cdf.from_seq(sample)\n",
        "cdf_sample.plot(label='Random sample')\n",
        "\n",
        "plt.xlabel('x')\n",
        "plt.ylabel('CDF')\n",
        "plt.legend();"
      ]
    },
    {
      "cell_type": "markdown",
      "metadata": {
        "id": "LvLoaPwLRdJR"
      },
      "source": [
        "Now let's compute the CDF of a normal distribution with the actual values of the mean and standard deviation."
      ]
    },
    {
      "cell_type": "code",
      "execution_count": 119,
      "metadata": {
        "id": "MpKcZx6gRdJS"
      },
      "outputs": [],
      "source": [
        "from scipy.stats import norm\n",
        "\n",
        "qs = np.linspace(6, 14)\n",
        "ps = norm(10, 1).cdf(qs)"
      ]
    },
    {
      "cell_type": "markdown",
      "metadata": {
        "id": "EDhlOBhWRdJS"
      },
      "source": [
        "First we import `norm` from `scipy.stats`, which is a collection of functions related to statistics.\n",
        "Then we use `linspace()` to create an array of equally-spaced values from 6 to 14 -- those are the `qs` where we will evaluate the normal CDF.\n",
        "Next, `norm(10, 1)` creates an object that represents a normal distribution with mean 10 and standard deviation 1.\n",
        "Finally, `cdf` computes the CDF of the normal distribution, evaluated at each of the `qs`.\n",
        "|\n",
        "I'll plot the normal CDF with a gray line and then plot the CDF of the data again."
      ]
    },
    {
      "cell_type": "code",
      "execution_count": 120,
      "metadata": {
        "colab": {
          "base_uri": "https://localhost:8080/",
          "height": 265
        },
        "id": "EgUQwrUaRdJS",
        "outputId": "4577346f-bda0-43bb-9b3e-a324f136a087"
      },
      "outputs": [
        {
          "output_type": "display_data",
          "data": {
            "text/plain": [
              "<Figure size 450x262.5 with 1 Axes>"
            ],
            "image/png": "[encoded data removed]"
          },
          "metadata": {}
        }
      ],
      "source": [
        "plt.plot(qs, ps, color='gray', label='Normal CDF')\n",
        "cdf_sample.plot(label='Random sample')\n",
        "\n",
        "plt.xlabel('x')\n",
        "plt.ylabel('CDF')\n",
        "plt.legend();"
      ]
    },
    {
      "cell_type": "markdown",
      "metadata": {
        "id": "GOJ1q276RdJS"
      },
      "source": [
        "The CDF of the random sample agrees with the normal model -- which is not surprising because the data were actually sampled from a normal distribution.\n",
        "When we collect data in the real world, we do not expect it to fit a normal distribution as well as this.\n",
        "In the next exercise, we'll try it and see."
      ]
    },
    {
      "cell_type": "markdown",
      "metadata": {
        "id": "-lRZulwlRdJS"
      },
      "source": [
        "**Exercise:** In many datasets, the distribution of income is approximately **lognormal**, which means that the logarithms of the incomes fit a normal distribution.  Let's see whether that's true for the GSS data.\n",
        "\n",
        "* Extract `realinc` from `gss` and compute the logarithms of the incomes using `np.log10()`.\n",
        "\n",
        "* Compute the mean and standard deviation of the log-transformed incomes.\n",
        "\n",
        "* Use `norm` to make a normal distribution with the same mean and standard deviation as the log-transformed incomes.\n",
        "\n",
        "* Plot the CDF of the normal distribution.\n",
        "\n",
        "* Compute and plot the CDF of the log-transformed incomes.\n",
        "\n",
        "How similar are the CDFs of the log-transformed incomes and the normal distribution?"
      ]
    },
    {
      "cell_type": "code",
      "execution_count": 130,
      "metadata": {
        "tags": [],
        "id": "keN7tLDeRdJT"
      },
      "outputs": [],
      "source": [
        "# Extract realinc and compute its log\n",
        "\n",
        "realinc = gss['realinc']\n",
        "log_realinc = np.log10(realinc)\n",
        "\n",
        "cdf_log = Cdf.from_seq(log_realinc)"
      ]
    },
    {
      "cell_type": "code",
      "execution_count": 126,
      "metadata": {
        "id": "Dsy0QBSzRdJT"
      },
      "outputs": [],
      "source": [
        "# Solution goes here\n",
        "\n",
        "mean = log_realinc.mean()\n",
        "std = log_realinc.std()\n"
      ]
    },
    {
      "cell_type": "code",
      "execution_count": 132,
      "metadata": {
        "colab": {
          "base_uri": "https://localhost:8080/",
          "height": 265
        },
        "id": "yJ6tb2huRdJT",
        "outputId": "d9d72ebd-f053-41db-a93f-e788cb3e6e72"
      },
      "outputs": [
        {
          "output_type": "display_data",
          "data": {
            "text/plain": [
              "<Figure size 450x262.5 with 1 Axes>"
            ],
            "image/png": "[encoded data removed]"
          },
          "metadata": {}
        }
      ],
      "source": [
        "# Solution goes here\n",
        "qs = np.linspace(0, 6)\n",
        "ps = norm(mean, std).cdf(qs)\n",
        "\n",
        "plt.plot(qs, ps, color='gray', label='Normal CDF')\n",
        "\n",
        "plt.xlabel('x')\n",
        "plt.ylabel('CDF')\n",
        "plt.legend();"
      ]
    },
    {
      "cell_type": "code",
      "execution_count": 131,
      "metadata": {
        "colab": {
          "base_uri": "https://localhost:8080/",
          "height": 265
        },
        "id": "udKSe0zWRdJT",
        "outputId": "74dd927a-c9c7-4a88-c5d9-7714564d2d57"
      },
      "outputs": [
        {
          "output_type": "display_data",
          "data": {
            "text/plain": [
              "<Figure size 450x262.5 with 1 Axes>"
            ],
            "image/png": "[encoded data removed]"
          },
          "metadata": {}
        }
      ],
      "source": [
        "# Solution goes here\n",
        "\n",
        "cdf_log.plot(label = 'CDF of logarithm of income')\n",
        "plt.xlabel('log(income)')\n",
        "plt.ylabel('CDF')\n",
        "plt.legend()\n",
        ";"
      ]
    },
    {
      "cell_type": "code",
      "execution_count": 135,
      "metadata": {
        "colab": {
          "base_uri": "https://localhost:8080/",
          "height": 282
        },
        "id": "PYQdNI6YRdJT",
        "outputId": "9e46aba3-0f22-471d-c831-dadbd3f22739"
      },
      "outputs": [
        {
          "output_type": "execute_result",
          "data": {
            "text/plain": [
              "''"
            ],
            "application/vnd.google.colaboratory.intrinsic+json": {
              "type": "string"
            }
          },
          "metadata": {},
          "execution_count": 135
        },
        {
          "output_type": "display_data",
          "data": {
            "text/plain": [
              "<Figure size 450x262.5 with 1 Axes>"
            ],
            "image/png": "[encoded data removed]"
          },
          "metadata": {}
        }
      ],
      "source": [
        "# Solution goes here\n",
        "qs = np.linspace(0, 5.5)\n",
        "ps = norm(mean, std).cdf(qs)\n",
        "\n",
        "plt.plot(qs, ps, color='gray', label='Normal CDF')\n",
        "\n",
        "\n",
        "cdf_log.plot(label = 'CDF of logarithm of income')\n",
        "plt.xlabel('log(income)')\n",
        "plt.ylabel('CDF')\n",
        "plt.legend()\n",
        ";"
      ]
    },
    {
      "cell_type": "markdown",
      "metadata": {
        "id": "aMsSSqP5RdJU"
      },
      "source": [
        "## Kernel Density Estimation\n",
        "\n",
        "We have seen two ways to represent distributions, PMFs and CDFs.\n",
        "Now we'll learn another way: a probability density function, or PDF.\n",
        "The `norm` function, which we used to compute the normal CDF, can also compute the normal PDF."
      ]
    },
    {
      "cell_type": "code",
      "execution_count": 136,
      "metadata": {
        "id": "Mj5K6rCIRdJU"
      },
      "outputs": [],
      "source": [
        "xs = np.linspace(6, 14)\n",
        "ys = norm(10, 1).pdf(xs)"
      ]
    },
    {
      "cell_type": "markdown",
      "metadata": {
        "id": "ZFBYH8WMRdJU"
      },
      "source": [
        "Here's what it looks like."
      ]
    },
    {
      "cell_type": "code",
      "execution_count": 137,
      "metadata": {
        "colab": {
          "base_uri": "https://localhost:8080/",
          "height": 281
        },
        "id": "L2ytxlGqRdJU",
        "outputId": "4c28d864-d98a-4553-ad18-db010eac8686"
      },
      "outputs": [
        {
          "output_type": "display_data",
          "data": {
            "text/plain": [
              "<Figure size 450x262.5 with 1 Axes>"
            ],
            "image/png": "[encoded data removed]"
          },
          "metadata": {}
        }
      ],
      "source": [
        "plt.plot(xs, ys, color='gray', label='Normal PDF')\n",
        "\n",
        "plt.xlabel('x')\n",
        "plt.ylabel('PDF')\n",
        "plt.title('Normal density function')\n",
        "plt.legend();"
      ]
    },
    {
      "cell_type": "markdown",
      "metadata": {
        "id": "pV4cgFANRdJU"
      },
      "source": [
        "The normal PDF is the classic \"bell curve\".\n",
        "Now, it is tempting to compare the PMF of the data to the PDF of the normal distribution, but that doesn't work.\n",
        "Let's see what happens if we try:"
      ]
    },
    {
      "cell_type": "code",
      "execution_count": 138,
      "metadata": {
        "colab": {
          "base_uri": "https://localhost:8080/",
          "height": 281
        },
        "id": "mSOU2w3uRdJV",
        "outputId": "a5bc5bcd-c217-4cc6-dbe9-7d359c4f6d74"
      },
      "outputs": [
        {
          "output_type": "display_data",
          "data": {
            "text/plain": [
              "<Figure size 450x262.5 with 1 Axes>"
            ],
            "image/png": "[encoded data removed]"
          },
          "metadata": {}
        }
      ],
      "source": [
        "plt.plot(xs, ys, color='gray', label='Normal PDF')\n",
        "\n",
        "pmf_sample = Pmf.from_seq(sample)\n",
        "pmf_sample.plot(label='Random sample')\n",
        "\n",
        "plt.xlabel('x')\n",
        "plt.ylabel('PDF')\n",
        "plt.title('Normal density function')\n",
        "plt.legend();"
      ]
    },
    {
      "cell_type": "markdown",
      "metadata": {
        "id": "kNZVHsXKRdJV"
      },
      "source": [
        "The PMF of the sample is a flat line across the bottom.\n",
        "In the random sample, every value is unique, so they all have the same probability, one in 1000.\n",
        "\n",
        "However, we can use the points in the sample to estimate the PDF of the distribution they came from.\n",
        "This process is called **kernel density estimation**, or KDE.\n",
        "To generate a KDE plot, we'll use the Seaborn library, imported as `sns`.\n",
        "Seaborn provides `kdeplot`, which takes the sample, estimates the PDF, and plots it."
      ]
    },
    {
      "cell_type": "code",
      "execution_count": 139,
      "metadata": {
        "colab": {
          "base_uri": "https://localhost:8080/",
          "height": 281
        },
        "id": "M57yVnz5RdJV",
        "outputId": "ea1d9666-52cb-4f87-d5df-ee1d2578d20b"
      },
      "outputs": [
        {
          "output_type": "display_data",
          "data": {
            "text/plain": [
              "<Figure size 450x262.5 with 1 Axes>"
            ],
            "image/png": "[encoded data removed]"
          },
          "metadata": {}
        }
      ],
      "source": [
        "import seaborn as sns\n",
        "\n",
        "sns.kdeplot(sample, label='Estimated sample PDF')\n",
        "\n",
        "plt.xlabel('x')\n",
        "plt.ylabel('PDF')\n",
        "plt.title('Normal density function')\n",
        "plt.legend();"
      ]
    },
    {
      "cell_type": "markdown",
      "metadata": {
        "id": "OlvLfam5RdJV"
      },
      "source": [
        "Now we can compare the KDE plot and the normal PDF."
      ]
    },
    {
      "cell_type": "code",
      "execution_count": 144,
      "metadata": {
        "colab": {
          "base_uri": "https://localhost:8080/",
          "height": 281
        },
        "id": "-KBtzsbeRdJV",
        "outputId": "954de3e1-ba6f-4725-a6aa-b3b9729f8f70"
      },
      "outputs": [
        {
          "output_type": "display_data",
          "data": {
            "text/plain": [
              "<Figure size 450x262.5 with 1 Axes>"
            ],
            "image/png": "[encoded data removed]"
          },
          "metadata": {}
        }
      ],
      "source": [
        "plt.plot(xs, ys, color='gray', label='Normal PDF')\n",
        "sns.kdeplot(sample, label='Estimated sample PDF')\n",
        "\n",
        "plt.xlabel('x')\n",
        "plt.ylabel('PDF')\n",
        "plt.title('Normal density function')\n",
        "plt.legend();"
      ]
    },
    {
      "cell_type": "markdown",
      "metadata": {
        "id": "aT_osR8-RdJW"
      },
      "source": [
        "The KDE plot matches the normal PDF well.\n",
        "We can see places where the data deviate from the model, but because we know the data really came from a normal distribution, we know those deviations are due to random sampling.\n",
        "\n",
        "Comparing PDFs is a sensitive way to look for differences, but often it is too sensitive -- it can be hard to tell whether apparent differences mean anything, or if they are just random, as in this case."
      ]
    },
    {
      "cell_type": "markdown",
      "metadata": {
        "id": "ptDMzft5RdJW"
      },
      "source": [
        "**Exercise:** In a previous exercise, we used CDFs to see if the distribution of income fits a lognormal distribution.  We can make the same comparison using a PDF and KDE.\n",
        "\n",
        "* Again, extract `realinc` from `gss` and compute its logarithm using `np.log10()`.\n",
        "\n",
        "* Compute the mean and standard deviation of the log-transformed incomes.\n",
        "\n",
        "* Use `norm` to make a normal distribution with the same mean and standard deviation as the log-transformed incomes.\n",
        "\n",
        "* Plot the PDF of the normal distribution.\n",
        "\n",
        "* Use `sns.kdeplot()` to estimate and plot the density of the log-transformed incomes."
      ]
    },
    {
      "cell_type": "code",
      "execution_count": 141,
      "metadata": {
        "tags": [],
        "id": "c9Via2CGRdJX"
      },
      "outputs": [],
      "source": [
        "# Extract realinc and compute its log\n",
        "\n",
        "realinc = gss['realinc']\n",
        "log_realinc = np.log10(realinc)"
      ]
    },
    {
      "cell_type": "code",
      "execution_count": 143,
      "metadata": {
        "colab": {
          "base_uri": "https://localhost:8080/",
          "height": 265
        },
        "id": "NvkUffu7RdJX",
        "outputId": "8764be56-552b-4078-b00e-1bffae730cf0"
      },
      "outputs": [
        {
          "output_type": "display_data",
          "data": {
            "text/plain": [
              "<Figure size 450x262.5 with 1 Axes>"
            ],
            "image/png": "[encoded data removed]"
          },
          "metadata": {}
        }
      ],
      "source": [
        "# Solution goes here\n",
        "\n",
        "mean = log_realinc.mean()\n",
        "std = log_realinc.std()\n",
        "\n",
        "qs = np.linspace(0, 6)\n",
        "ps = norm(mean, std).pdf(qs)\n",
        "\n",
        "plt.plot(qs, ps, color='gray', label='Normal PDF')\n",
        "\n",
        "plt.xlabel('x')\n",
        "plt.ylabel('PDF')\n",
        "plt.legend();"
      ]
    },
    {
      "cell_type": "code",
      "execution_count": 149,
      "metadata": {
        "colab": {
          "base_uri": "https://localhost:8080/",
          "height": 267
        },
        "id": "KLFegP2-RdJX",
        "outputId": "b480804a-af58-4a4b-f42e-24501e4c8747"
      },
      "outputs": [
        {
          "output_type": "display_data",
          "data": {
            "text/plain": [
              "<Figure size 450x262.5 with 1 Axes>"
            ],
            "image/png": "[encoded data removed]"
          },
          "metadata": {}
        }
      ],
      "source": [
        "# Solution goes here\n",
        "\n",
        "sns.kdeplot(log_realinc, label='Estimated PDF of log(real_inc)')\n",
        "plt.xlabel('log(income)')\n",
        "plt.ylabel('PDF')\n",
        "plt.legend();"
      ]
    },
    {
      "cell_type": "code",
      "execution_count": 150,
      "metadata": {
        "colab": {
          "base_uri": "https://localhost:8080/",
          "height": 267
        },
        "id": "W40DOSuYRdJX",
        "outputId": "893d7ed3-e9d3-4dfe-cbd8-cc57fa4c5b21"
      },
      "outputs": [
        {
          "output_type": "display_data",
          "data": {
            "text/plain": [
              "<Figure size 450x262.5 with 1 Axes>"
            ],
            "image/png": "[encoded data removed]"
          },
          "metadata": {}
        }
      ],
      "source": [
        "# Solution goes here\n",
        "\n",
        "plt.plot(qs, ps, color='gray', label='Normal PDF')\n",
        "\n",
        "sns.kdeplot(log_realinc, label='Estimated PDF of log(real_inc)')\n",
        "plt.xlabel('log(income)')\n",
        "plt.ylabel('PDF')\n",
        "plt.legend();"
      ]
    },
    {
      "cell_type": "markdown",
      "metadata": {
        "id": "gARTmwqFRdJY"
      },
      "source": [
        "## Summary\n",
        "\n",
        "In this chapter, we've seen three ways to visualize distributions: PMFs, CDFs, and KDE plots.\n",
        "In general, I use CDFs when I am exploring data -- that way, I get the best view of what's going on without getting distracted by noise.\n",
        "Then, if I am presenting results to an audience unfamiliar with CDFs, I might use a PMF if the dataset contains a small number of unique values, or KDE if there are many unique values."
      ]
    },
    {
      "cell_type": "markdown",
      "metadata": {
        "tags": [],
        "id": "rBQTag-lRdJY"
      },
      "source": [
        "*Elements of Data Science*\n",
        "\n",
        "Copyright 2021 [Allen B. Downey](https://allendowney.com)\n",
        "\n",
        "License: [Creative Commons Attribution-NonCommercial-ShareAlike 4.0 International](https://creativecommons.org/licenses/by-nc-sa/4.0/)"
      ]
    },
    {
      "cell_type": "code",
      "execution_count": null,
      "metadata": {
        "id": "e1Aq5izORdJY"
      },
      "outputs": [],
      "source": []
    }
  ],
  "metadata": {
    "celltoolbar": "Tags",
    "kernelspec": {
      "display_name": "Python 3 (ipykernel)",
      "language": "python",
      "name": "python3"
    },
    "language_info": {
      "codemirror_mode": {
        "name": "ipython",
        "version": 3
      },
      "file_extension": ".py",
      "mimetype": "text/x-python",
      "name": "python",
      "nbconvert_exporter": "python",
      "pygments_lexer": "ipython3",
      "version": "3.10.14"
    },
    "colab": {
      "provenance": []
    }
  },
  "nbformat": 4,
  "nbformat_minor": 0
}