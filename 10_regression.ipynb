{
  "cells": [
    {
      "cell_type": "markdown",
      "metadata": {
        "id": "s87JTwgD27Ot"
      },
      "source": [
        "Printed copies of *Elements of Data Science* are available now, with a **full color interior**, from [Lulu.com](https://www.lulu.com/shop/allen-downey/elements-of-data-science/paperback/product-9dyrwn.html)."
      ]
    },
    {
      "cell_type": "markdown",
      "metadata": {
        "id": "UcyNdzZS27Ou"
      },
      "source": [
        "# Regression"
      ]
    },
    {
      "cell_type": "code",
      "execution_count": 1,
      "metadata": {
        "tags": [],
        "colab": {
          "base_uri": "https://localhost:8080/"
        },
        "id": "71F075db27Ov",
        "outputId": "d2fb7719-266c-4b71-f04e-391eae20114b"
      },
      "outputs": [
        {
          "output_type": "stream",
          "name": "stdout",
          "text": [
            "Downloaded utils.py\n"
          ]
        }
      ],
      "source": [
        "from os.path import basename, exists\n",
        "\n",
        "def download(url):\n",
        "    filename = basename(url)\n",
        "    if not exists(filename):\n",
        "        from urllib.request import urlretrieve\n",
        "\n",
        "        local, _ = urlretrieve(url, filename)\n",
        "        print(\"Downloaded \" + str(local))\n",
        "    return filename\n",
        "\n",
        "download('https://raw.githubusercontent.com/AllenDowney/ElementsOfDataScience/v1/utils.py')\n",
        "\n",
        "import utils"
      ]
    },
    {
      "cell_type": "markdown",
      "metadata": {
        "tags": [],
        "id": "om_5DJGF27Ox"
      },
      "source": [
        "[Click here to run this notebook on Colab](https://colab.research.google.com/github/AllenDowney/ElementsOfDataScience/blob/v1/10_regression.ipynb)."
      ]
    },
    {
      "cell_type": "markdown",
      "metadata": {
        "id": "2CU1j0PV27Oy"
      },
      "source": [
        "In the previous chapter we used simple linear regression to quantify the relationship between two variables.\n",
        "In this chapter we'll get farther into regression, including multiple regression and one of my all-time favorite tools, logistic regression.\n",
        "These tools will allow us to explore relationships among sets of variables.\n",
        "As an example, we will use data from the General Social Survey (GSS) to explore the relationship between education, sex, age, and income.\n",
        "\n",
        "The GSS dataset contains hundreds of columns.\n",
        "We'll work with an extract that contains just the columns we need, as we did in Chapter 8.\n",
        "Instructions for downloading the extract are in the notebook for this chapter."
      ]
    },
    {
      "cell_type": "code",
      "execution_count": 2,
      "metadata": {
        "tags": [],
        "colab": {
          "base_uri": "https://localhost:8080/"
        },
        "id": "JTUCO2C527Oy",
        "outputId": "52770830-c63a-4580-bebc-9df94983043b"
      },
      "outputs": [
        {
          "output_type": "stream",
          "name": "stdout",
          "text": [
            "Downloaded gss_extract_2022.hdf\n"
          ]
        }
      ],
      "source": [
        "download('https://github.com/AllenDowney/ElementsOfDataScience/' +\n",
        "         'raw/v1/data/gss_extract_2022.hdf');"
      ]
    },
    {
      "cell_type": "markdown",
      "metadata": {
        "id": "O2kXs8aE27Oz"
      },
      "source": [
        "We can read the `DataFrame` like this and display the first few rows."
      ]
    },
    {
      "cell_type": "code",
      "execution_count": 3,
      "metadata": {
        "colab": {
          "base_uri": "https://localhost:8080/",
          "height": 206
        },
        "id": "no_LZ1a927Oz",
        "outputId": "d2714237-caf0-4ff5-db39-e335857f10dd"
      },
      "outputs": [
        {
          "output_type": "execute_result",
          "data": {
            "text/plain": [
              "   year  id   age  educ  degree  sex  gunlaw  grass  realinc\n",
              "0  1972   1  23.0  16.0     3.0  2.0     1.0    NaN  18951.0\n",
              "1  1972   2  70.0  10.0     0.0  1.0     1.0    NaN  24366.0\n",
              "2  1972   3  48.0  12.0     1.0  2.0     1.0    NaN  24366.0\n",
              "3  1972   4  27.0  17.0     3.0  2.0     1.0    NaN  30458.0\n",
              "4  1972   5  61.0  12.0     1.0  2.0     1.0    NaN  50763.0"
            ],
            "text/html": [
              "\n",
              "  <div id=\"df-255293bb-1390-4663-b8e8-68e7125f55c4\" class=\"colab-df-container\">\n",
              "    <div>\n",
              "<style scoped>\n",
              "    .dataframe tbody tr th:only-of-type {\n",
              "        vertical-align: middle;\n",
              "    }\n",
              "\n",
              "    .dataframe tbody tr th {\n",
              "        vertical-align: top;\n",
              "    }\n",
              "\n",
              "    .dataframe thead th {\n",
              "        text-align: right;\n",
              "    }\n",
              "</style>\n",
              "<table border=\"1\" class=\"dataframe\">\n",
              "  <thead>\n",
              "    <tr style=\"text-align: right;\">\n",
              "      <th></th>\n",
              "      <th>year</th>\n",
              "      <th>id</th>\n",
              "      <th>age</th>\n",
              "      <th>educ</th>\n",
              "      <th>degree</th>\n",
              "      <th>sex</th>\n",
              "      <th>gunlaw</th>\n",
              "      <th>grass</th>\n",
              "      <th>realinc</th>\n",
              "    </tr>\n",
              "  </thead>\n",
              "  <tbody>\n",
              "    <tr>\n",
              "      <th>0</th>\n",
              "      <td>1972</td>\n",
              "      <td>1</td>\n",
              "      <td>23.0</td>\n",
              "      <td>16.0</td>\n",
              "      <td>3.0</td>\n",
              "      <td>2.0</td>\n",
              "      <td>1.0</td>\n",
              "      <td>NaN</td>\n",
              "      <td>18951.0</td>\n",
              "    </tr>\n",
              "    <tr>\n",
              "      <th>1</th>\n",
              "      <td>1972</td>\n",
              "      <td>2</td>\n",
              "      <td>70.0</td>\n",
              "      <td>10.0</td>\n",
              "      <td>0.0</td>\n",
              "      <td>1.0</td>\n",
              "      <td>1.0</td>\n",
              "      <td>NaN</td>\n",
              "      <td>24366.0</td>\n",
              "    </tr>\n",
              "    <tr>\n",
              "      <th>2</th>\n",
              "      <td>1972</td>\n",
              "      <td>3</td>\n",
              "      <td>48.0</td>\n",
              "      <td>12.0</td>\n",
              "      <td>1.0</td>\n",
              "      <td>2.0</td>\n",
              "      <td>1.0</td>\n",
              "      <td>NaN</td>\n",
              "      <td>24366.0</td>\n",
              "    </tr>\n",
              "    <tr>\n",
              "      <th>3</th>\n",
              "      <td>1972</td>\n",
              "      <td>4</td>\n",
              "      <td>27.0</td>\n",
              "      <td>17.0</td>\n",
              "      <td>3.0</td>\n",
              "      <td>2.0</td>\n",
              "      <td>1.0</td>\n",
              "      <td>NaN</td>\n",
              "      <td>30458.0</td>\n",
              "    </tr>\n",
              "    <tr>\n",
              "      <th>4</th>\n",
              "      <td>1972</td>\n",
              "      <td>5</td>\n",
              "      <td>61.0</td>\n",
              "      <td>12.0</td>\n",
              "      <td>1.0</td>\n",
              "      <td>2.0</td>\n",
              "      <td>1.0</td>\n",
              "      <td>NaN</td>\n",
              "      <td>50763.0</td>\n",
              "    </tr>\n",
              "  </tbody>\n",
              "</table>\n",
              "</div>\n",
              "    <div class=\"colab-df-buttons\">\n",
              "\n",
              "  <div class=\"colab-df-container\">\n",
              "    <button class=\"colab-df-convert\" onclick=\"convertToInteractive('df-255293bb-1390-4663-b8e8-68e7125f55c4')\"\n",
              "            title=\"Convert this dataframe to an interactive table.\"\n",
              "            style=\"display:none;\">\n",
              "\n",
              "  <svg xmlns=\"http://www.w3.org/2000/svg\" height=\"24px\" viewBox=\"0 -960 960 960\">\n",
              "    <path d=\"M120-120v-720h720v720H120Zm60-500h600v-160H180v160Zm220 220h160v-160H400v160Zm0 220h160v-160H400v160ZM180-400h160v-160H180v160Zm440 0h160v-160H620v160ZM180-180h160v-160H180v160Zm440 0h160v-160H620v160Z\"/>\n",
              "  </svg>\n",
              "    </button>\n",
              "\n",
              "  <style>\n",
              "    .colab-df-container {\n",
              "      display:flex;\n",
              "      gap: 12px;\n",
              "    }\n",
              "\n",
              "    .colab-df-convert {\n",
              "      background-color: #E8F0FE;\n",
              "      border: none;\n",
              "      border-radius: 50%;\n",
              "      cursor: pointer;\n",
              "      display: none;\n",
              "      fill: #1967D2;\n",
              "      height: 32px;\n",
              "      padding: 0 0 0 0;\n",
              "      width: 32px;\n",
              "    }\n",
              "\n",
              "    .colab-df-convert:hover {\n",
              "      background-color: #E2EBFA;\n",
              "      box-shadow: 0px 1px 2px rgba(60, 64, 67, 0.3), 0px 1px 3px 1px rgba(60, 64, 67, 0.15);\n",
              "      fill: #174EA6;\n",
              "    }\n",
              "\n",
              "    .colab-df-buttons div {\n",
              "      margin-bottom: 4px;\n",
              "    }\n",
              "\n",
              "    [theme=dark] .colab-df-convert {\n",
              "      background-color: #3B4455;\n",
              "      fill: #D2E3FC;\n",
              "    }\n",
              "\n",
              "    [theme=dark] .colab-df-convert:hover {\n",
              "      background-color: #434B5C;\n",
              "      box-shadow: 0px 1px 3px 1px rgba(0, 0, 0, 0.15);\n",
              "      filter: drop-shadow(0px 1px 2px rgba(0, 0, 0, 0.3));\n",
              "      fill: #FFFFFF;\n",
              "    }\n",
              "  </style>\n",
              "\n",
              "    <script>\n",
              "      const buttonEl =\n",
              "        document.querySelector('#df-255293bb-1390-4663-b8e8-68e7125f55c4 button.colab-df-convert');\n",
              "      buttonEl.style.display =\n",
              "        google.colab.kernel.accessAllowed ? 'block' : 'none';\n",
              "\n",
              "      async function convertToInteractive(key) {\n",
              "        const element = document.querySelector('#df-255293bb-1390-4663-b8e8-68e7125f55c4');\n",
              "        const dataTable =\n",
              "          await google.colab.kernel.invokeFunction('convertToInteractive',\n",
              "                                                    [key], {});\n",
              "        if (!dataTable) return;\n",
              "\n",
              "        const docLinkHtml = 'Like what you see? Visit the ' +\n",
              "          '<a target=\"_blank\" href=https://colab.research.google.com/notebooks/data_table.ipynb>data table notebook</a>'\n",
              "          + ' to learn more about interactive tables.';\n",
              "        element.innerHTML = '';\n",
              "        dataTable['output_type'] = 'display_data';\n",
              "        await google.colab.output.renderOutput(dataTable, element);\n",
              "        const docLink = document.createElement('div');\n",
              "        docLink.innerHTML = docLinkHtml;\n",
              "        element.appendChild(docLink);\n",
              "      }\n",
              "    </script>\n",
              "  </div>\n",
              "\n",
              "\n",
              "    <div id=\"df-0d0d16a1-022b-4d58-8d54-91888eca2470\">\n",
              "      <button class=\"colab-df-quickchart\" onclick=\"quickchart('df-0d0d16a1-022b-4d58-8d54-91888eca2470')\"\n",
              "                title=\"Suggest charts\"\n",
              "                style=\"display:none;\">\n",
              "\n",
              "<svg xmlns=\"http://www.w3.org/2000/svg\" height=\"24px\"viewBox=\"0 0 24 24\"\n",
              "     width=\"24px\">\n",
              "    <g>\n",
              "        <path d=\"M19 3H5c-1.1 0-2 .9-2 2v14c0 1.1.9 2 2 2h14c1.1 0 2-.9 2-2V5c0-1.1-.9-2-2-2zM9 17H7v-7h2v7zm4 0h-2V7h2v10zm4 0h-2v-4h2v4z\"/>\n",
              "    </g>\n",
              "</svg>\n",
              "      </button>\n",
              "\n",
              "<style>\n",
              "  .colab-df-quickchart {\n",
              "      --bg-color: #E8F0FE;\n",
              "      --fill-color: #1967D2;\n",
              "      --hover-bg-color: #E2EBFA;\n",
              "      --hover-fill-color: #174EA6;\n",
              "      --disabled-fill-color: #AAA;\n",
              "      --disabled-bg-color: #DDD;\n",
              "  }\n",
              "\n",
              "  [theme=dark] .colab-df-quickchart {\n",
              "      --bg-color: #3B4455;\n",
              "      --fill-color: #D2E3FC;\n",
              "      --hover-bg-color: #434B5C;\n",
              "      --hover-fill-color: #FFFFFF;\n",
              "      --disabled-bg-color: #3B4455;\n",
              "      --disabled-fill-color: #666;\n",
              "  }\n",
              "\n",
              "  .colab-df-quickchart {\n",
              "    background-color: var(--bg-color);\n",
              "    border: none;\n",
              "    border-radius: 50%;\n",
              "    cursor: pointer;\n",
              "    display: none;\n",
              "    fill: var(--fill-color);\n",
              "    height: 32px;\n",
              "    padding: 0;\n",
              "    width: 32px;\n",
              "  }\n",
              "\n",
              "  .colab-df-quickchart:hover {\n",
              "    background-color: var(--hover-bg-color);\n",
              "    box-shadow: 0 1px 2px rgba(60, 64, 67, 0.3), 0 1px 3px 1px rgba(60, 64, 67, 0.15);\n",
              "    fill: var(--button-hover-fill-color);\n",
              "  }\n",
              "\n",
              "  .colab-df-quickchart-complete:disabled,\n",
              "  .colab-df-quickchart-complete:disabled:hover {\n",
              "    background-color: var(--disabled-bg-color);\n",
              "    fill: var(--disabled-fill-color);\n",
              "    box-shadow: none;\n",
              "  }\n",
              "\n",
              "  .colab-df-spinner {\n",
              "    border: 2px solid var(--fill-color);\n",
              "    border-color: transparent;\n",
              "    border-bottom-color: var(--fill-color);\n",
              "    animation:\n",
              "      spin 1s steps(1) infinite;\n",
              "  }\n",
              "\n",
              "  @keyframes spin {\n",
              "    0% {\n",
              "      border-color: transparent;\n",
              "      border-bottom-color: var(--fill-color);\n",
              "      border-left-color: var(--fill-color);\n",
              "    }\n",
              "    20% {\n",
              "      border-color: transparent;\n",
              "      border-left-color: var(--fill-color);\n",
              "      border-top-color: var(--fill-color);\n",
              "    }\n",
              "    30% {\n",
              "      border-color: transparent;\n",
              "      border-left-color: var(--fill-color);\n",
              "      border-top-color: var(--fill-color);\n",
              "      border-right-color: var(--fill-color);\n",
              "    }\n",
              "    40% {\n",
              "      border-color: transparent;\n",
              "      border-right-color: var(--fill-color);\n",
              "      border-top-color: var(--fill-color);\n",
              "    }\n",
              "    60% {\n",
              "      border-color: transparent;\n",
              "      border-right-color: var(--fill-color);\n",
              "    }\n",
              "    80% {\n",
              "      border-color: transparent;\n",
              "      border-right-color: var(--fill-color);\n",
              "      border-bottom-color: var(--fill-color);\n",
              "    }\n",
              "    90% {\n",
              "      border-color: transparent;\n",
              "      border-bottom-color: var(--fill-color);\n",
              "    }\n",
              "  }\n",
              "</style>\n",
              "\n",
              "      <script>\n",
              "        async function quickchart(key) {\n",
              "          const quickchartButtonEl =\n",
              "            document.querySelector('#' + key + ' button');\n",
              "          quickchartButtonEl.disabled = true;  // To prevent multiple clicks.\n",
              "          quickchartButtonEl.classList.add('colab-df-spinner');\n",
              "          try {\n",
              "            const charts = await google.colab.kernel.invokeFunction(\n",
              "                'suggestCharts', [key], {});\n",
              "          } catch (error) {\n",
              "            console.error('Error during call to suggestCharts:', error);\n",
              "          }\n",
              "          quickchartButtonEl.classList.remove('colab-df-spinner');\n",
              "          quickchartButtonEl.classList.add('colab-df-quickchart-complete');\n",
              "        }\n",
              "        (() => {\n",
              "          let quickchartButtonEl =\n",
              "            document.querySelector('#df-0d0d16a1-022b-4d58-8d54-91888eca2470 button');\n",
              "          quickchartButtonEl.style.display =\n",
              "            google.colab.kernel.accessAllowed ? 'block' : 'none';\n",
              "        })();\n",
              "      </script>\n",
              "    </div>\n",
              "\n",
              "    </div>\n",
              "  </div>\n"
            ],
            "application/vnd.google.colaboratory.intrinsic+json": {
              "type": "dataframe",
              "variable_name": "gss",
              "summary": "{\n  \"name\": \"gss\",\n  \"rows\": 72390,\n  \"fields\": [\n    {\n      \"column\": \"year\",\n      \"properties\": {\n        \"dtype\": \"int16\",\n        \"num_unique_values\": 34,\n        \"samples\": [\n          1989,\n          1994,\n          2010\n        ],\n        \"semantic_type\": \"\",\n        \"description\": \"\"\n      }\n    },\n    {\n      \"column\": \"id\",\n      \"properties\": {\n        \"dtype\": \"int16\",\n        \"num_unique_values\": 4510,\n        \"samples\": [\n          3035,\n          545,\n          158\n        ],\n        \"semantic_type\": \"\",\n        \"description\": \"\"\n      }\n    },\n    {\n      \"column\": \"age\",\n      \"properties\": {\n        \"dtype\": \"number\",\n        \"std\": 17.600417122951797,\n        \"min\": 18.0,\n        \"max\": 89.0,\n        \"num_unique_values\": 72,\n        \"samples\": [\n          61.0,\n          66.0,\n          71.0\n        ],\n        \"semantic_type\": \"\",\n        \"description\": \"\"\n      }\n    },\n    {\n      \"column\": \"educ\",\n      \"properties\": {\n        \"dtype\": \"number\",\n        \"std\": 3.182372066667582,\n        \"min\": 0.0,\n        \"max\": 20.0,\n        \"num_unique_values\": 21,\n        \"samples\": [\n          16.0,\n          5.0,\n          2.0\n        ],\n        \"semantic_type\": \"\",\n        \"description\": \"\"\n      }\n    },\n    {\n      \"column\": \"degree\",\n      \"properties\": {\n        \"dtype\": \"number\",\n        \"std\": 1.2014849515629502,\n        \"min\": 0.0,\n        \"max\": 4.0,\n        \"num_unique_values\": 5,\n        \"samples\": [\n          0.0,\n          2.0,\n          1.0\n        ],\n        \"semantic_type\": \"\",\n        \"description\": \"\"\n      }\n    },\n    {\n      \"column\": \"sex\",\n      \"properties\": {\n        \"dtype\": \"number\",\n        \"std\": 0.49667654038953324,\n        \"min\": 1.0,\n        \"max\": 2.0,\n        \"num_unique_values\": 2,\n        \"samples\": [\n          1.0,\n          2.0\n        ],\n        \"semantic_type\": \"\",\n        \"description\": \"\"\n      }\n    },\n    {\n      \"column\": \"gunlaw\",\n      \"properties\": {\n        \"dtype\": \"number\",\n        \"std\": 0.43137038838518027,\n        \"min\": 1.0,\n        \"max\": 2.0,\n        \"num_unique_values\": 2,\n        \"samples\": [\n          2.0,\n          1.0\n        ],\n        \"semantic_type\": \"\",\n        \"description\": \"\"\n      }\n    },\n    {\n      \"column\": \"grass\",\n      \"properties\": {\n        \"dtype\": \"number\",\n        \"std\": 0.4693824783065502,\n        \"min\": 1.0,\n        \"max\": 2.0,\n        \"num_unique_values\": 2,\n        \"samples\": [\n          1.0,\n          2.0\n        ],\n        \"semantic_type\": \"\",\n        \"description\": \"\"\n      }\n    },\n    {\n      \"column\": \"realinc\",\n      \"properties\": {\n        \"dtype\": \"number\",\n        \"std\": 30883.226093993086,\n        \"min\": 218.0,\n        \"max\": 162607.0,\n        \"num_unique_values\": 649,\n        \"samples\": [\n          4905.0,\n          6273.0\n        ],\n        \"semantic_type\": \"\",\n        \"description\": \"\"\n      }\n    }\n  ]\n}"
            }
          },
          "metadata": {},
          "execution_count": 3
        }
      ],
      "source": [
        "import pandas as pd\n",
        "\n",
        "gss = pd.read_hdf('gss_extract_2022.hdf', 'gss')\n",
        "gss.head()"
      ]
    },
    {
      "cell_type": "markdown",
      "metadata": {
        "id": "5122tg7227Oz"
      },
      "source": [
        "We'll start with a simple regression, estimating the parameters of real income as a function of years of education.\n",
        "First we'll select the subset of the data where both variables are valid."
      ]
    },
    {
      "cell_type": "code",
      "execution_count": 4,
      "metadata": {
        "id": "N0WwNjZ527O0"
      },
      "outputs": [],
      "source": [
        "data = gss.dropna(subset=['realinc', 'educ'])\n",
        "xs = data['educ']\n",
        "ys = data['realinc']"
      ]
    },
    {
      "cell_type": "markdown",
      "metadata": {
        "id": "aurqp-iK27O1"
      },
      "source": [
        "Now we can use `linregress` to fit a line to the data."
      ]
    },
    {
      "cell_type": "code",
      "execution_count": 5,
      "metadata": {
        "colab": {
          "base_uri": "https://localhost:8080/"
        },
        "id": "gAdxnU6R27O2",
        "outputId": "d83fa859-0b84-498d-fbf7-fce935698b18"
      },
      "outputs": [
        {
          "output_type": "execute_result",
          "data": {
            "text/plain": [
              "{'slope': np.float64(3631.0761003894995),\n",
              " 'intercept': np.float64(-15007.453640508655),\n",
              " 'rvalue': np.float64(0.37169252259280877),\n",
              " 'pvalue': np.float64(0.0),\n",
              " 'stderr': np.float64(35.625290800764),\n",
              " 'intercept_stderr': np.float64(480.07467595184363)}"
            ]
          },
          "metadata": {},
          "execution_count": 5
        }
      ],
      "source": [
        "from scipy.stats import linregress\n",
        "res = linregress(xs, ys)\n",
        "res._asdict()"
      ]
    },
    {
      "cell_type": "markdown",
      "metadata": {
        "id": "DDWtZEKl27O2"
      },
      "source": [
        "The estimated slope is about 3450, which means that each additional year of education is associated with an additional $3450 of income."
      ]
    },
    {
      "cell_type": "markdown",
      "metadata": {
        "id": "Y98bLEDM27O2"
      },
      "source": [
        "## Regression with StatsModels\n",
        "\n",
        "SciPy doesn't do multiple regression, so we'll switch to a new library, StatsModels.\n",
        "Here's the import statement."
      ]
    },
    {
      "cell_type": "code",
      "execution_count": 6,
      "metadata": {
        "id": "doxUv2ir27O3"
      },
      "outputs": [],
      "source": [
        "import statsmodels.formula.api as smf"
      ]
    },
    {
      "cell_type": "markdown",
      "metadata": {
        "id": "PyRQrqcZ27O3"
      },
      "source": [
        "To fit a regression model, we'll use `ols`, which stands for \"ordinary least squares\", another name for regression."
      ]
    },
    {
      "cell_type": "code",
      "execution_count": 7,
      "metadata": {
        "id": "mTber5vs27O3"
      },
      "outputs": [],
      "source": [
        "results = smf.ols('realinc ~ educ', data=data).fit()"
      ]
    },
    {
      "cell_type": "markdown",
      "metadata": {
        "id": "AUjsal4d27O4"
      },
      "source": [
        "The first argument is a **formula string** that specifies that we want to regress income as a function of education.\n",
        "The second argument is the `DataFrame` containing the subset of valid data.\n",
        "The names in the formula string correspond to columns in the `DataFrame`.\n",
        "\n",
        "The result from `ols` is an object that represents the model -- it provides a function called `fit` that does the actual computation."
      ]
    },
    {
      "cell_type": "code",
      "execution_count": 8,
      "metadata": {
        "tags": [],
        "colab": {
          "base_uri": "https://localhost:8080/",
          "height": 139
        },
        "id": "QD1FVi0k27O4",
        "outputId": "5548ae69-b0ce-49af-c66a-37e7badbc249"
      },
      "outputs": [
        {
          "output_type": "execute_result",
          "data": {
            "text/plain": [
              "statsmodels.regression.linear_model.RegressionResultsWrapper"
            ],
            "text/html": [
              "<div style=\"max-width:800px; border: 1px solid var(--colab-border-color);\"><style>\n",
              "      pre.function-repr-contents {\n",
              "        overflow-x: auto;\n",
              "        padding: 8px 12px;\n",
              "        max-height: 500px;\n",
              "      }\n",
              "\n",
              "      pre.function-repr-contents.function-repr-contents-collapsed {\n",
              "        cursor: pointer;\n",
              "        max-height: 100px;\n",
              "      }\n",
              "    </style>\n",
              "    <pre style=\"white-space: initial; background:\n",
              "         var(--colab-secondary-surface-color); padding: 8px 12px;\n",
              "         border-bottom: 1px solid var(--colab-border-color);\"><b>statsmodels.regression.linear_model.RegressionResultsWrapper</b><br/>def __init__(results)</pre><pre class=\"function-repr-contents function-repr-contents-collapsed\" style=\"\"><a class=\"filepath\" style=\"display:none\" href=\"#\">/usr/local/lib/python3.11/dist-packages/statsmodels/regression/linear_model.py</a>Class which wraps a statsmodels estimation Results class and steps in to\n",
              "reattach metadata to results (if available)</pre>\n",
              "      <script>\n",
              "      if (google.colab.kernel.accessAllowed && google.colab.files && google.colab.files.view) {\n",
              "        for (const element of document.querySelectorAll('.filepath')) {\n",
              "          element.style.display = 'block'\n",
              "          element.onclick = (event) => {\n",
              "            event.preventDefault();\n",
              "            event.stopPropagation();\n",
              "            google.colab.files.view(element.textContent, 3243);\n",
              "          };\n",
              "        }\n",
              "      }\n",
              "      for (const element of document.querySelectorAll('.function-repr-contents')) {\n",
              "        element.onclick = (event) => {\n",
              "          event.preventDefault();\n",
              "          event.stopPropagation();\n",
              "          element.classList.toggle('function-repr-contents-collapsed');\n",
              "        };\n",
              "      }\n",
              "      </script>\n",
              "      </div>"
            ]
          },
          "metadata": {},
          "execution_count": 8
        }
      ],
      "source": [
        "type(results)"
      ]
    },
    {
      "cell_type": "markdown",
      "metadata": {
        "id": "-zeaaKwU27O4"
      },
      "source": [
        "The result is a `RegressionResultsWrapper`, which contains a `Series` called `params`, which contains the estimated intercept and the slope associated with `educ`."
      ]
    },
    {
      "cell_type": "code",
      "execution_count": 9,
      "metadata": {
        "colab": {
          "base_uri": "https://localhost:8080/",
          "height": 147
        },
        "id": "y2SG2Mab27O4",
        "outputId": "5ee293b3-f3b0-451e-c589-11531395a85f"
      },
      "outputs": [
        {
          "output_type": "execute_result",
          "data": {
            "text/plain": [
              "Intercept   -15007.453641\n",
              "educ          3631.076100\n",
              "dtype: float64"
            ],
            "text/html": [
              "<div>\n",
              "<style scoped>\n",
              "    .dataframe tbody tr th:only-of-type {\n",
              "        vertical-align: middle;\n",
              "    }\n",
              "\n",
              "    .dataframe tbody tr th {\n",
              "        vertical-align: top;\n",
              "    }\n",
              "\n",
              "    .dataframe thead th {\n",
              "        text-align: right;\n",
              "    }\n",
              "</style>\n",
              "<table border=\"1\" class=\"dataframe\">\n",
              "  <thead>\n",
              "    <tr style=\"text-align: right;\">\n",
              "      <th></th>\n",
              "      <th>0</th>\n",
              "    </tr>\n",
              "  </thead>\n",
              "  <tbody>\n",
              "    <tr>\n",
              "      <th>Intercept</th>\n",
              "      <td>-15007.453641</td>\n",
              "    </tr>\n",
              "    <tr>\n",
              "      <th>educ</th>\n",
              "      <td>3631.076100</td>\n",
              "    </tr>\n",
              "  </tbody>\n",
              "</table>\n",
              "</div><br><label><b>dtype:</b> float64</label>"
            ]
          },
          "metadata": {},
          "execution_count": 9
        }
      ],
      "source": [
        "results.params"
      ]
    },
    {
      "cell_type": "markdown",
      "metadata": {
        "id": "wbUx6fM727O5"
      },
      "source": [
        "The results from Statsmodels are the same as the results we got from SciPy, so that's good!"
      ]
    },
    {
      "cell_type": "markdown",
      "metadata": {
        "id": "beafm5E427O5"
      },
      "source": [
        "**Exercise:** Let's run another regression using SciPy and StatsModels, and confirm we get the same results.\n",
        "Compute the regression of `realinc` as a function of `age` using SciPy's `linregress` and then using StatsModels' `ols`.\n",
        "Confirm that the intercept and slope are the same.\n",
        "Remember to use `dropna` to select the rows with valid data in both columns."
      ]
    },
    {
      "cell_type": "code",
      "execution_count": 11,
      "metadata": {
        "colab": {
          "base_uri": "https://localhost:8080/"
        },
        "id": "_AXVG0dz27O6",
        "outputId": "78877a4a-422f-46ec-c8cb-f1e78192bf96"
      },
      "outputs": [
        {
          "output_type": "execute_result",
          "data": {
            "text/plain": [
              "{'slope': np.float64(-35.777496403061036),\n",
              " 'intercept': np.float64(34148.79417109003),\n",
              " 'rvalue': np.float64(-0.02000684524772686),\n",
              " 'pvalue': np.float64(3.728019377398043e-07),\n",
              " 'stderr': np.float64(7.038831749655493),\n",
              " 'intercept_stderr': np.float64(346.12532772697745)}"
            ]
          },
          "metadata": {},
          "execution_count": 11
        }
      ],
      "source": [
        "# Solution goes here\n",
        "data = gss.dropna(subset=['realinc', 'age'])\n",
        "xs = data['age']\n",
        "ys = data['realinc']\n",
        "\n",
        "\n",
        "res = linregress(xs, ys)\n",
        "res._asdict()"
      ]
    },
    {
      "cell_type": "code",
      "execution_count": 16,
      "metadata": {
        "colab": {
          "base_uri": "https://localhost:8080/",
          "height": 147
        },
        "id": "NbOxsSXz27O6",
        "outputId": "33985e7b-2ccd-4841-a576-5268eff25c73"
      },
      "outputs": [
        {
          "output_type": "execute_result",
          "data": {
            "text/plain": [
              "Intercept    34148.794171\n",
              "age            -35.777496\n",
              "dtype: float64"
            ],
            "text/html": [
              "<div>\n",
              "<style scoped>\n",
              "    .dataframe tbody tr th:only-of-type {\n",
              "        vertical-align: middle;\n",
              "    }\n",
              "\n",
              "    .dataframe tbody tr th {\n",
              "        vertical-align: top;\n",
              "    }\n",
              "\n",
              "    .dataframe thead th {\n",
              "        text-align: right;\n",
              "    }\n",
              "</style>\n",
              "<table border=\"1\" class=\"dataframe\">\n",
              "  <thead>\n",
              "    <tr style=\"text-align: right;\">\n",
              "      <th></th>\n",
              "      <th>0</th>\n",
              "    </tr>\n",
              "  </thead>\n",
              "  <tbody>\n",
              "    <tr>\n",
              "      <th>Intercept</th>\n",
              "      <td>34148.794171</td>\n",
              "    </tr>\n",
              "    <tr>\n",
              "      <th>age</th>\n",
              "      <td>-35.777496</td>\n",
              "    </tr>\n",
              "  </tbody>\n",
              "</table>\n",
              "</div><br><label><b>dtype:</b> float64</label>"
            ]
          },
          "metadata": {},
          "execution_count": 16
        }
      ],
      "source": [
        "# Solution goes here\n",
        "\n",
        "results = smf.ols('realinc ~ age', data = data).fit()\n",
        "\n",
        "results.params"
      ]
    },
    {
      "cell_type": "markdown",
      "metadata": {
        "id": "oqLWQ6VO27O8"
      },
      "source": [
        "## Multiple Regression\n",
        "\n",
        "In the previous section, we saw that income depends on education, and in the exercise we saw that it also depends on `age`.\n",
        "Now let's put them together in a single model."
      ]
    },
    {
      "cell_type": "code",
      "execution_count": 17,
      "metadata": {
        "colab": {
          "base_uri": "https://localhost:8080/",
          "height": 178
        },
        "id": "s05Eis6l27O8",
        "outputId": "aca3dc56-7aa3-4044-e659-76a0adc5e72a"
      },
      "outputs": [
        {
          "output_type": "execute_result",
          "data": {
            "text/plain": [
              "Intercept   -17999.726908\n",
              "educ          3665.108238\n",
              "age             55.071802\n",
              "dtype: float64"
            ],
            "text/html": [
              "<div>\n",
              "<style scoped>\n",
              "    .dataframe tbody tr th:only-of-type {\n",
              "        vertical-align: middle;\n",
              "    }\n",
              "\n",
              "    .dataframe tbody tr th {\n",
              "        vertical-align: top;\n",
              "    }\n",
              "\n",
              "    .dataframe thead th {\n",
              "        text-align: right;\n",
              "    }\n",
              "</style>\n",
              "<table border=\"1\" class=\"dataframe\">\n",
              "  <thead>\n",
              "    <tr style=\"text-align: right;\">\n",
              "      <th></th>\n",
              "      <th>0</th>\n",
              "    </tr>\n",
              "  </thead>\n",
              "  <tbody>\n",
              "    <tr>\n",
              "      <th>Intercept</th>\n",
              "      <td>-17999.726908</td>\n",
              "    </tr>\n",
              "    <tr>\n",
              "      <th>educ</th>\n",
              "      <td>3665.108238</td>\n",
              "    </tr>\n",
              "    <tr>\n",
              "      <th>age</th>\n",
              "      <td>55.071802</td>\n",
              "    </tr>\n",
              "  </tbody>\n",
              "</table>\n",
              "</div><br><label><b>dtype:</b> float64</label>"
            ]
          },
          "metadata": {},
          "execution_count": 17
        }
      ],
      "source": [
        "results = smf.ols('realinc ~ educ + age', data=gss).fit()\n",
        "results.params"
      ]
    },
    {
      "cell_type": "markdown",
      "metadata": {
        "id": "U_iZL7Wb27O8"
      },
      "source": [
        "In this model, `realinc` is the variable we are trying to explain or predict, which is called the **dependent variable** because it depends on the the other variables -- or at least we expect it to.\n",
        "The other variables, `educ` and `age`, are called **independent variables** or sometimes \"predictors\".\n",
        "The `+` sign indicates that we expect the contributions of the independent variables to be additive.\n",
        "\n",
        "The result contains an intercept and two slopes, which estimate the average contribution of each predictor with the other predictor held constant.\n",
        "\n",
        "* The estimated slope for `educ` is about 3665 -- so if we compare two people with the same age, and one has an additional year of education, we expect their income to be higher by $3514.\n",
        "\n",
        "* The estimated slope for `age` is about 55 -- so if we compare two people with the same education, and one is a year older, we expect their income to be higher by $55.\n",
        "\n",
        "In this model, the contribution of age is quite small, but as we'll see in the next section that might be misleading."
      ]
    },
    {
      "cell_type": "markdown",
      "metadata": {
        "id": "POtK0W1F27O8"
      },
      "source": [
        "## Grouping by Age\n",
        "\n",
        "Let's look more closely at the relationship between income and age.\n",
        "We'll use a Pandas method we have not seen before, called `groupby`, to divide the `DataFrame` into age groups."
      ]
    },
    {
      "cell_type": "code",
      "execution_count": 18,
      "metadata": {
        "colab": {
          "base_uri": "https://localhost:8080/",
          "height": 256
        },
        "id": "JanBpg3u27PD",
        "outputId": "f811b053-8719-449a-d11e-e40f731c686b"
      },
      "outputs": [
        {
          "output_type": "execute_result",
          "data": {
            "text/plain": [
              "pandas.core.groupby.generic.DataFrameGroupBy"
            ],
            "text/html": [
              "<div style=\"max-width:800px; border: 1px solid var(--colab-border-color);\"><style>\n",
              "      pre.function-repr-contents {\n",
              "        overflow-x: auto;\n",
              "        padding: 8px 12px;\n",
              "        max-height: 500px;\n",
              "      }\n",
              "\n",
              "      pre.function-repr-contents.function-repr-contents-collapsed {\n",
              "        cursor: pointer;\n",
              "        max-height: 100px;\n",
              "      }\n",
              "    </style>\n",
              "    <pre style=\"white-space: initial; background:\n",
              "         var(--colab-secondary-surface-color); padding: 8px 12px;\n",
              "         border-bottom: 1px solid var(--colab-border-color);\"><b>pandas.core.groupby.generic.DataFrameGroupBy</b><br/>def __init__(obj: NDFrameT, keys: _KeysArgType | None=None, axis: Axis=0, level: IndexLabel | None=None, grouper: ops.BaseGrouper | None=None, exclusions: frozenset[Hashable] | None=None, selection: IndexLabel | None=None, as_index: bool=True, sort: bool=True, group_keys: bool=True, observed: bool | lib.NoDefault=lib.no_default, dropna: bool=True) -&gt; None</pre><pre class=\"function-repr-contents function-repr-contents-collapsed\" style=\"\"><a class=\"filepath\" style=\"display:none\" href=\"#\">/usr/local/lib/python3.11/dist-packages/pandas/core/groupby/generic.py</a>Class for grouping and aggregating relational data.\n",
              "\n",
              "See aggregate, transform, and apply functions on this object.\n",
              "\n",
              "It&#x27;s easiest to use obj.groupby(...) to use GroupBy, but you can also do:\n",
              "\n",
              "::\n",
              "\n",
              "    grouped = groupby(obj, ...)\n",
              "\n",
              "Parameters\n",
              "----------\n",
              "obj : pandas object\n",
              "axis : int, default 0\n",
              "level : int, default None\n",
              "    Level of MultiIndex\n",
              "groupings : list of Grouping objects\n",
              "    Most users should ignore this\n",
              "exclusions : array-like, optional\n",
              "    List of columns to exclude\n",
              "name : str\n",
              "    Most users should ignore this\n",
              "\n",
              "Returns\n",
              "-------\n",
              "**Attributes**\n",
              "groups : dict\n",
              "    {group name -&gt; group labels}\n",
              "len(grouped) : int\n",
              "    Number of groups\n",
              "\n",
              "Notes\n",
              "-----\n",
              "After grouping, see aggregate, apply, and transform functions. Here are\n",
              "some other brief notes about usage. When grouping by multiple groups, the\n",
              "result index will be a MultiIndex (hierarchical) by default.\n",
              "\n",
              "Iteration produces (key, group) tuples, i.e. chunking the data by group. So\n",
              "you can write code like:\n",
              "\n",
              "::\n",
              "\n",
              "    grouped = obj.groupby(keys, axis=axis)\n",
              "    for key, group in grouped:\n",
              "        # do something with the data\n",
              "\n",
              "Function calls on GroupBy, if not specially implemented, &quot;dispatch&quot; to the\n",
              "grouped data. So if you group a DataFrame and wish to invoke the std()\n",
              "method on each group, you can simply do:\n",
              "\n",
              "::\n",
              "\n",
              "    df.groupby(mapper).std()\n",
              "\n",
              "rather than\n",
              "\n",
              "::\n",
              "\n",
              "    df.groupby(mapper).aggregate(np.std)\n",
              "\n",
              "You can pass arguments to these &quot;wrapped&quot; functions, too.\n",
              "\n",
              "See the online documentation for full exposition on these topics and much\n",
              "more</pre>\n",
              "      <script>\n",
              "      if (google.colab.kernel.accessAllowed && google.colab.files && google.colab.files.view) {\n",
              "        for (const element of document.querySelectorAll('.filepath')) {\n",
              "          element.style.display = 'block'\n",
              "          element.onclick = (event) => {\n",
              "            event.preventDefault();\n",
              "            event.stopPropagation();\n",
              "            google.colab.files.view(element.textContent, 1329);\n",
              "          };\n",
              "        }\n",
              "      }\n",
              "      for (const element of document.querySelectorAll('.function-repr-contents')) {\n",
              "        element.onclick = (event) => {\n",
              "          event.preventDefault();\n",
              "          event.stopPropagation();\n",
              "          element.classList.toggle('function-repr-contents-collapsed');\n",
              "        };\n",
              "      }\n",
              "      </script>\n",
              "      </div>"
            ]
          },
          "metadata": {},
          "execution_count": 18
        }
      ],
      "source": [
        "grouped = gss.groupby('age')\n",
        "type(grouped)"
      ]
    },
    {
      "cell_type": "markdown",
      "metadata": {
        "id": "SIt0Gej827PD"
      },
      "source": [
        "The result is a `GroupBy` object that contains one group for each value of `age`.\n",
        "The `GroupBy` object behaves like a `DataFrame` in many ways.\n",
        "You can use brackets to select a column, like `realinc` in this example, and then invoke a method like `mean`."
      ]
    },
    {
      "cell_type": "code",
      "execution_count": 19,
      "metadata": {
        "id": "mF84pRH_27PD"
      },
      "outputs": [],
      "source": [
        "mean_income_by_age = grouped['realinc'].mean()"
      ]
    },
    {
      "cell_type": "markdown",
      "metadata": {
        "id": "xhKweeuB27PE"
      },
      "source": [
        "The result is a Pandas `Series` that contains the mean income for each age group, which we can plot like this."
      ]
    },
    {
      "cell_type": "code",
      "execution_count": 20,
      "metadata": {
        "colab": {
          "base_uri": "https://localhost:8080/",
          "height": 281
        },
        "id": "JmdmO0Od27PE",
        "outputId": "d44422a9-1696-403b-befa-64caef68f8cc"
      },
      "outputs": [
        {
          "output_type": "display_data",
          "data": {
            "text/plain": [
              "<Figure size 450x262.5 with 1 Axes>"
            ],
            "image/png": "[encoded data removed]"
          },
          "metadata": {}
        }
      ],
      "source": [
        "import matplotlib.pyplot as plt\n",
        "\n",
        "plt.plot(mean_income_by_age, 'o', alpha=0.5)\n",
        "plt.xlabel('Age (years)')\n",
        "plt.ylabel('Income (1986 $)')\n",
        "plt.title('Average income, grouped by age');"
      ]
    },
    {
      "cell_type": "markdown",
      "metadata": {
        "id": "DRZBCkmN27PF"
      },
      "source": [
        "Average income increases from age 20 to age 50, then starts to fall.\n",
        "And that explains why the estimated slope is so small, because the relationship is non-linear.\n",
        "To describe a non-linear relationship, we'll create a new variable called `age2` that equals `age` squared -- so it is called a **quadratic term**."
      ]
    },
    {
      "cell_type": "code",
      "execution_count": 21,
      "metadata": {
        "id": "98tdUhkc27PF"
      },
      "outputs": [],
      "source": [
        "gss['age2'] = gss['age']**2"
      ]
    },
    {
      "cell_type": "markdown",
      "metadata": {
        "id": "q-wGXfUk27PG"
      },
      "source": [
        "Now we can run a regression with both `age` and `age2` on the right side."
      ]
    },
    {
      "cell_type": "code",
      "execution_count": 25,
      "metadata": {
        "colab": {
          "base_uri": "https://localhost:8080/",
          "height": 210
        },
        "id": "IrGYz9Vk27PG",
        "outputId": "268f44cd-41ab-4739-da2e-8b93d28c96fe"
      },
      "outputs": [
        {
          "output_type": "execute_result",
          "data": {
            "text/plain": [
              "Intercept   -52599.674844\n",
              "educ          3464.870685\n",
              "age           1779.196367\n",
              "age2           -17.445272\n",
              "dtype: float64"
            ],
            "text/html": [
              "<div>\n",
              "<style scoped>\n",
              "    .dataframe tbody tr th:only-of-type {\n",
              "        vertical-align: middle;\n",
              "    }\n",
              "\n",
              "    .dataframe tbody tr th {\n",
              "        vertical-align: top;\n",
              "    }\n",
              "\n",
              "    .dataframe thead th {\n",
              "        text-align: right;\n",
              "    }\n",
              "</style>\n",
              "<table border=\"1\" class=\"dataframe\">\n",
              "  <thead>\n",
              "    <tr style=\"text-align: right;\">\n",
              "      <th></th>\n",
              "      <th>0</th>\n",
              "    </tr>\n",
              "  </thead>\n",
              "  <tbody>\n",
              "    <tr>\n",
              "      <th>Intercept</th>\n",
              "      <td>-52599.674844</td>\n",
              "    </tr>\n",
              "    <tr>\n",
              "      <th>educ</th>\n",
              "      <td>3464.870685</td>\n",
              "    </tr>\n",
              "    <tr>\n",
              "      <th>age</th>\n",
              "      <td>1779.196367</td>\n",
              "    </tr>\n",
              "    <tr>\n",
              "      <th>age2</th>\n",
              "      <td>-17.445272</td>\n",
              "    </tr>\n",
              "  </tbody>\n",
              "</table>\n",
              "</div><br><label><b>dtype:</b> float64</label>"
            ]
          },
          "metadata": {},
          "execution_count": 25
        }
      ],
      "source": [
        "model = smf.ols('realinc ~ educ + age + age2', data=gss)\n",
        "results = model.fit()\n",
        "results.params"
      ]
    },
    {
      "cell_type": "markdown",
      "metadata": {
        "id": "bFjP_FCu27PG"
      },
      "source": [
        "In this model, the slope associated with `age` is substantial, about $1779 per year.\n",
        "\n",
        "The slope associated with `age2` is about -$17.\n",
        "It might be unexpected that it is negative -- we'll see why in the next section.\n",
        "But first, here are two exercises where you can practice using `groupby` and `ols`."
      ]
    },
    {
      "cell_type": "markdown",
      "metadata": {
        "id": "GmMbwr7s27PG"
      },
      "source": [
        "**Exercise:** Let's explore the relationship between income and education.\n",
        "First, group `gss` by `educ`.\n",
        "From the resulting `GroupBy` object, extract `realinc` and compute the mean.\n",
        "Then plot mean income in each education group.\n",
        "What can you say about the relationship between these variables?\n",
        "Does it look like a linear relationship?"
      ]
    },
    {
      "cell_type": "markdown",
      "source": [],
      "metadata": {
        "id": "cx0qv6FI7F9-"
      }
    },
    {
      "cell_type": "code",
      "execution_count": 24,
      "metadata": {
        "colab": {
          "base_uri": "https://localhost:8080/",
          "height": 281
        },
        "id": "BRbCdU4e27PH",
        "outputId": "0590cc4c-786c-4ebf-8f13-cfcb25054fd3"
      },
      "outputs": [
        {
          "output_type": "display_data",
          "data": {
            "text/plain": [
              "<Figure size 450x262.5 with 1 Axes>"
            ],
            "image/png": "[encoded data removed]"
          },
          "metadata": {}
        }
      ],
      "source": [
        "# Solution goes here\n",
        "\n",
        "plt.plot(mean_income_by_educ, 'o', alpha=0.5)\n",
        "plt.xlabel('Years of education')\n",
        "plt.ylabel('Income (1986 $)')\n",
        "plt.title('Average income, grouped by educational levels');"
      ]
    },
    {
      "cell_type": "markdown",
      "metadata": {
        "id": "3j9oavBS27PH"
      },
      "source": [
        "**Exercise:** The graph in the previous exercise suggests that the relationship between income and education is non-linear.  So let's try fitting a non-linear model.\n",
        "\n",
        "- Add a column named `educ2` to the `gss` DataFrame -- it should contain the values from `educ` squared.  \n",
        "\n",
        "- Run a regression that uses `educ`, `educ2`, `age`, and `age2` to predict `realinc`.\n"
      ]
    },
    {
      "cell_type": "code",
      "execution_count": 28,
      "metadata": {
        "colab": {
          "base_uri": "https://localhost:8080/",
          "height": 241
        },
        "id": "VBOCNd-K27PH",
        "outputId": "02c36fd9-2229-4127-b3de-a70ecb235998"
      },
      "outputs": [
        {
          "output_type": "execute_result",
          "data": {
            "text/plain": [
              "Intercept   -26336.766346\n",
              "educ          -706.074107\n",
              "educ2          165.962552\n",
              "age           1728.454811\n",
              "age2           -17.207513\n",
              "dtype: float64"
            ],
            "text/html": [
              "<div>\n",
              "<style scoped>\n",
              "    .dataframe tbody tr th:only-of-type {\n",
              "        vertical-align: middle;\n",
              "    }\n",
              "\n",
              "    .dataframe tbody tr th {\n",
              "        vertical-align: top;\n",
              "    }\n",
              "\n",
              "    .dataframe thead th {\n",
              "        text-align: right;\n",
              "    }\n",
              "</style>\n",
              "<table border=\"1\" class=\"dataframe\">\n",
              "  <thead>\n",
              "    <tr style=\"text-align: right;\">\n",
              "      <th></th>\n",
              "      <th>0</th>\n",
              "    </tr>\n",
              "  </thead>\n",
              "  <tbody>\n",
              "    <tr>\n",
              "      <th>Intercept</th>\n",
              "      <td>-26336.766346</td>\n",
              "    </tr>\n",
              "    <tr>\n",
              "      <th>educ</th>\n",
              "      <td>-706.074107</td>\n",
              "    </tr>\n",
              "    <tr>\n",
              "      <th>educ2</th>\n",
              "      <td>165.962552</td>\n",
              "    </tr>\n",
              "    <tr>\n",
              "      <th>age</th>\n",
              "      <td>1728.454811</td>\n",
              "    </tr>\n",
              "    <tr>\n",
              "      <th>age2</th>\n",
              "      <td>-17.207513</td>\n",
              "    </tr>\n",
              "  </tbody>\n",
              "</table>\n",
              "</div><br><label><b>dtype:</b> float64</label>"
            ]
          },
          "metadata": {},
          "execution_count": 28
        }
      ],
      "source": [
        "# Solution goes here\n",
        "\n",
        "gss['educ2'] = gss['educ']**2\n",
        "\n",
        "model = smf.ols('realinc ~ educ + educ2 + age + age2', data=gss)\n",
        "results = model.fit()\n",
        "results.params"
      ]
    },
    {
      "cell_type": "markdown",
      "metadata": {
        "id": "OX7EMweJ27PI"
      },
      "source": [
        "## Visualizing regression results\n",
        "\n",
        "In the previous section we ran a multiple regression model to characterize the relationships between income, age, and education.\n",
        "Because the model includes quadratic terms, the parameters are hard to interpret.\n",
        "For example, you might notice that the parameter for `educ` is negative, and that might be a surprise, because it suggests that higher education is associated with lower income.\n",
        "But the parameter for `educ2` is positive, and that makes a big difference.\n",
        "In this section we'll see a way to interpret the model visually and validate it against data.\n",
        "\n",
        "Here's the model from the previous exercise."
      ]
    },
    {
      "cell_type": "code",
      "execution_count": 27,
      "metadata": {
        "colab": {
          "base_uri": "https://localhost:8080/",
          "height": 241
        },
        "id": "qlJkrCLg27PI",
        "outputId": "7665cb62-fbb0-469c-dbdb-6327ed3502df"
      },
      "outputs": [
        {
          "output_type": "execute_result",
          "data": {
            "text/plain": [
              "Intercept   -26336.766346\n",
              "educ          -706.074107\n",
              "educ2          165.962552\n",
              "age           1728.454811\n",
              "age2           -17.207513\n",
              "dtype: float64"
            ],
            "text/html": [
              "<div>\n",
              "<style scoped>\n",
              "    .dataframe tbody tr th:only-of-type {\n",
              "        vertical-align: middle;\n",
              "    }\n",
              "\n",
              "    .dataframe tbody tr th {\n",
              "        vertical-align: top;\n",
              "    }\n",
              "\n",
              "    .dataframe thead th {\n",
              "        text-align: right;\n",
              "    }\n",
              "</style>\n",
              "<table border=\"1\" class=\"dataframe\">\n",
              "  <thead>\n",
              "    <tr style=\"text-align: right;\">\n",
              "      <th></th>\n",
              "      <th>0</th>\n",
              "    </tr>\n",
              "  </thead>\n",
              "  <tbody>\n",
              "    <tr>\n",
              "      <th>Intercept</th>\n",
              "      <td>-26336.766346</td>\n",
              "    </tr>\n",
              "    <tr>\n",
              "      <th>educ</th>\n",
              "      <td>-706.074107</td>\n",
              "    </tr>\n",
              "    <tr>\n",
              "      <th>educ2</th>\n",
              "      <td>165.962552</td>\n",
              "    </tr>\n",
              "    <tr>\n",
              "      <th>age</th>\n",
              "      <td>1728.454811</td>\n",
              "    </tr>\n",
              "    <tr>\n",
              "      <th>age2</th>\n",
              "      <td>-17.207513</td>\n",
              "    </tr>\n",
              "  </tbody>\n",
              "</table>\n",
              "</div><br><label><b>dtype:</b> float64</label>"
            ]
          },
          "metadata": {},
          "execution_count": 27
        }
      ],
      "source": [
        "gss['educ2'] = gss['educ']**2\n",
        "\n",
        "model = smf.ols('realinc ~ educ + educ2 + age + age2', data=gss)\n",
        "results = model.fit()\n",
        "results.params"
      ]
    },
    {
      "cell_type": "markdown",
      "metadata": {
        "id": "InVT7h_V27PJ"
      },
      "source": [
        "The `results` object provides a method called `predict` that uses the estimated parameters to generate predictions.\n",
        "It takes a `DataFrame` as a parameter and returns a `Series` with a prediction for each row in the `DataFrame`.\n",
        "To use it, we'll create a new `DataFrame` with `age` running from 18 to 89, and `age2` set to `age` squared."
      ]
    },
    {
      "cell_type": "code",
      "execution_count": 29,
      "metadata": {
        "id": "2X4aB0bL27PJ"
      },
      "outputs": [],
      "source": [
        "import numpy as np\n",
        "\n",
        "df = pd.DataFrame()\n",
        "df['age'] = np.linspace(18, 89)\n",
        "df['age2'] = df['age']**2"
      ]
    },
    {
      "cell_type": "markdown",
      "metadata": {
        "id": "DiFUGi9Y27PJ"
      },
      "source": [
        "Next, we'll pick a level for `educ`, like 12 years, which is the most common value.\n",
        "When you assign a single value to a column in a `DataFrame`, Pandas makes a copy for each row."
      ]
    },
    {
      "cell_type": "code",
      "execution_count": 30,
      "metadata": {
        "id": "N0m1YUbU27PJ"
      },
      "outputs": [],
      "source": [
        "df['educ'] = 12\n",
        "df['educ2'] = df['educ']**2"
      ]
    },
    {
      "cell_type": "markdown",
      "metadata": {
        "id": "0msD_Or527PK"
      },
      "source": [
        "Then we can use `results` to predict the average income for each age group, holding education constant."
      ]
    },
    {
      "cell_type": "code",
      "execution_count": 33,
      "metadata": {
        "id": "51dL-XeX27PK"
      },
      "outputs": [],
      "source": [
        "pred12 = results.predict(df)\n"
      ]
    },
    {
      "cell_type": "markdown",
      "metadata": {
        "id": "W9NppSYc27PL"
      },
      "source": [
        "The result from `predict` is a `Series` with one prediction for each row.\n",
        "So we can plot it with age on the x-axis and the predicted income for each age group on the y-axis.\n",
        "And we'll plot the data for comparison."
      ]
    },
    {
      "cell_type": "code",
      "execution_count": 34,
      "metadata": {
        "colab": {
          "base_uri": "https://localhost:8080/",
          "height": 281
        },
        "id": "X3Uprj9B27PL",
        "outputId": "0eaa96c3-4c79-4fc1-abe7-a4250d2e8058"
      },
      "outputs": [
        {
          "output_type": "display_data",
          "data": {
            "text/plain": [
              "<Figure size 450x262.5 with 1 Axes>"
            ],
            "image/png": "[encoded data removed]"
          },
          "metadata": {}
        }
      ],
      "source": [
        "plt.plot(mean_income_by_age, 'o', alpha=0.5)\n",
        "plt.plot(df['age'], pred12, label='High school', color='C4')\n",
        "\n",
        "plt.xlabel('Age (years)')\n",
        "plt.ylabel('Income (1986 $)')\n",
        "plt.title('Income versus age, grouped by education level')\n",
        "plt.legend();"
      ]
    },
    {
      "cell_type": "markdown",
      "metadata": {
        "id": "PMorRr_b27PL"
      },
      "source": [
        "The dots show the average income in each age group.\n",
        "The line shows the predictions generated by the model, holding education constant.\n",
        "This plot shows the shape of the model, a downward-facing parabola.\n",
        "\n",
        "We can do the same thing with other levels of education, like 14 years, which is the nominal time to earn an Associate's degree, and 16 years, which is the nominal time to earn a Bachelor's degree."
      ]
    },
    {
      "cell_type": "code",
      "execution_count": 35,
      "metadata": {
        "id": "zFe9Unis27PM"
      },
      "outputs": [],
      "source": [
        "df['educ'] = 16\n",
        "df['educ2'] = df['educ']**2\n",
        "pred16 = results.predict(df)\n",
        "\n",
        "df['educ'] = 14\n",
        "df['educ2'] = df['educ']**2\n",
        "pred14 = results.predict(df)"
      ]
    },
    {
      "cell_type": "code",
      "execution_count": 36,
      "metadata": {
        "colab": {
          "base_uri": "https://localhost:8080/",
          "height": 281
        },
        "id": "qcQhI3_A27PM",
        "outputId": "e67405cc-0a2c-4359-eb56-dd79f51a5202"
      },
      "outputs": [
        {
          "output_type": "display_data",
          "data": {
            "text/plain": [
              "<Figure size 450x262.5 with 1 Axes>"
            ],
            "image/png": "[encoded data removed]"
          },
          "metadata": {}
        }
      ],
      "source": [
        "plt.plot(mean_income_by_age, 'o', alpha=0.5)\n",
        "plt.plot(df['age'], pred16, ':', label='Bachelor')\n",
        "plt.plot(df['age'], pred14, '--', label='Associate')\n",
        "plt.plot(df['age'], pred12, label='High school', color='C4')\n",
        "\n",
        "plt.xlabel('Age (years)')\n",
        "plt.ylabel('Income (1986 $)')\n",
        "plt.title('Income versus age, grouped by education level')\n",
        "plt.legend();"
      ]
    },
    {
      "cell_type": "markdown",
      "metadata": {
        "id": "vFDrz6xG27PM"
      },
      "source": [
        "The lines show expected income as a function of age for three levels of education.\n",
        "This visualization helps validate the model, since we can compare the predictions with the data.\n",
        "And it helps us interpret the model since we can see the separate contributions of age and education.\n",
        "\n",
        "Sometimes we can understand a model by looking at its parameters, but often it is better to look at its predictions.\n",
        "In the exercises, you'll have a chance to run a multiple regression, generate predictions, and visualize the results."
      ]
    },
    {
      "cell_type": "markdown",
      "metadata": {
        "id": "n8xR3KIp27PM"
      },
      "source": [
        "**Exercise:** At this point, we have a model that predicts income using age and education, and we've plotted predictions for different age groups, holding education constant.\n",
        "Now let's see what it predicts for different levels of education, holding age constant.\n",
        "\n",
        "- Create an empty `DataFrame` named `df`.\n",
        "\n",
        "- Using `np.linspace()`, add a column named `educ` to `df` with a range of values from `0` to `20`.\n",
        "\n",
        "- Add a column named `educ2` with the values from `educ` squared.\n",
        "\n",
        "- Add a column named `age` with the constant value `30`.\n",
        "\n",
        "- Add a column named `age2` with the values from `age` squared.\n",
        "\n",
        "- Use the `results` object and `df` to generate expected income as a function of education."
      ]
    },
    {
      "cell_type": "code",
      "execution_count": 38,
      "metadata": {
        "id": "_ItDFkAY27PM"
      },
      "outputs": [],
      "source": [
        "# Solution goes here\n",
        "\n",
        "df = pd.DataFrame()\n",
        "df['educ'] = np.linspace(0, 20)\n",
        "df['educ2'] = df['educ']**2\n",
        "df['age'] = 30\n",
        "df['age2'] = df['age']**2\n",
        "\n",
        "prd30 = results.predict(df)"
      ]
    },
    {
      "cell_type": "markdown",
      "metadata": {
        "id": "PlWeHwc827PN"
      },
      "source": [
        "**Exercise:** Now let's visualize the results from the previous exercise.\n",
        "\n",
        "- Group the GSS data by `educ` and compute the mean income in each education group.\n",
        "\n",
        "- Plot mean income for each education group as a scatter plot.\n",
        "\n",
        "- Plot the predictions from the previous exercise.\n",
        "\n",
        "How do the predictions compare with the data?"
      ]
    },
    {
      "cell_type": "code",
      "execution_count": 41,
      "metadata": {
        "colab": {
          "base_uri": "https://localhost:8080/",
          "height": 281
        },
        "id": "XAFzyPex27PN",
        "outputId": "cbbd9039-3102-4a91-e0de-6e6fb7b5ff6e"
      },
      "outputs": [
        {
          "output_type": "display_data",
          "data": {
            "text/plain": [
              "<Figure size 450x262.5 with 1 Axes>"
            ],
            "image/png": "[encoded data removed]"
          },
          "metadata": {}
        }
      ],
      "source": [
        "# Solution goes here\n",
        "\n",
        "\n",
        "grouped2 = gss.groupby('educ')\n",
        "mean_income_by_educ = grouped2['realinc'].mean()\n",
        "\n",
        "\n",
        "plt.plot(mean_income_by_educ, 'o', alpha=0.5)\n",
        "plt.plot(df['educ'], prd30, ':', label='30')\n",
        "plt.xlabel('Years of education')\n",
        "plt.ylabel('Income (1986 $)')\n",
        "plt.title('Average income vs educational level, grouped by age');"
      ]
    },
    {
      "cell_type": "markdown",
      "metadata": {
        "id": "_eYr0XqO27PN"
      },
      "source": [
        "## Categorical Variables\n",
        "\n",
        "Most of the variables we have used so far -- like income, age, and education -- are numerical.\n",
        "But variables like sex and race are **categorical** -- that is, each respondent belongs to one of a specified set of categories.\n",
        "If there are only two categories, the variable is **binary**.\n",
        "\n",
        "With StatsModels, it is easy to include a categorical variable as part of a regression model.\n",
        "Here's an example:"
      ]
    },
    {
      "cell_type": "code",
      "execution_count": 42,
      "metadata": {
        "colab": {
          "base_uri": "https://localhost:8080/",
          "height": 272
        },
        "id": "8foRAltG27PN",
        "outputId": "f0822c7c-cc91-402a-b14a-310a07efad07"
      },
      "outputs": [
        {
          "output_type": "execute_result",
          "data": {
            "text/plain": [
              "Intercept       -24635.767539\n",
              "C(sex)[T.2.0]    -4891.439306\n",
              "educ              -496.623120\n",
              "educ2              156.898221\n",
              "age               1720.274097\n",
              "age2               -17.097853\n",
              "dtype: float64"
            ],
            "text/html": [
              "<div>\n",
              "<style scoped>\n",
              "    .dataframe tbody tr th:only-of-type {\n",
              "        vertical-align: middle;\n",
              "    }\n",
              "\n",
              "    .dataframe tbody tr th {\n",
              "        vertical-align: top;\n",
              "    }\n",
              "\n",
              "    .dataframe thead th {\n",
              "        text-align: right;\n",
              "    }\n",
              "</style>\n",
              "<table border=\"1\" class=\"dataframe\">\n",
              "  <thead>\n",
              "    <tr style=\"text-align: right;\">\n",
              "      <th></th>\n",
              "      <th>0</th>\n",
              "    </tr>\n",
              "  </thead>\n",
              "  <tbody>\n",
              "    <tr>\n",
              "      <th>Intercept</th>\n",
              "      <td>-24635.767539</td>\n",
              "    </tr>\n",
              "    <tr>\n",
              "      <th>C(sex)[T.2.0]</th>\n",
              "      <td>-4891.439306</td>\n",
              "    </tr>\n",
              "    <tr>\n",
              "      <th>educ</th>\n",
              "      <td>-496.623120</td>\n",
              "    </tr>\n",
              "    <tr>\n",
              "      <th>educ2</th>\n",
              "      <td>156.898221</td>\n",
              "    </tr>\n",
              "    <tr>\n",
              "      <th>age</th>\n",
              "      <td>1720.274097</td>\n",
              "    </tr>\n",
              "    <tr>\n",
              "      <th>age2</th>\n",
              "      <td>-17.097853</td>\n",
              "    </tr>\n",
              "  </tbody>\n",
              "</table>\n",
              "</div><br><label><b>dtype:</b> float64</label>"
            ]
          },
          "metadata": {},
          "execution_count": 42
        }
      ],
      "source": [
        "formula = 'realinc ~ educ + educ2 + age + age2 + C(sex)'\n",
        "results = smf.ols(formula, data=gss).fit()\n",
        "results.params"
      ]
    },
    {
      "cell_type": "markdown",
      "metadata": {
        "id": "sH0ezWSe27PN"
      },
      "source": [
        "In the formula string, the letter `C` indicates that `sex` is a categorical variable.\n",
        "The regression treats the value `sex=1`, which is male, as the reference group, and reports the difference associated with the value `sex=2`, which is female.\n",
        "So the results indicate that income for women is about $4156 less than for men, after controlling for age and education.\n",
        "However, note that `realinc` represents household income.\n",
        "If the respondent is married, it includes both their own income and their spouse's.\n",
        "So we cannot interpret this result as an estimate of a gender gap in income."
      ]
    },
    {
      "cell_type": "markdown",
      "metadata": {
        "id": "TIxqhgc827PN"
      },
      "source": [
        "## Logistic Regression\n",
        "\n",
        "In the previous section, we added a categorical variable on the right side of a regression formula -- that is, we used it as a predictive variable.\n",
        "\n",
        "But what if the categorical variable is on the left side of the regression formula -- that is, it's the value we are trying to predict?\n",
        "In that case, we can use **logistic regression**.\n",
        "\n",
        "As an example, one of the GSS questions asks \"Would you favor or oppose a law which would require a person to obtain a police permit before he or she could buy a gun?\"\n",
        "The responses are in a column called `gunlaw` -- here are the values.  "
      ]
    },
    {
      "cell_type": "code",
      "execution_count": 43,
      "metadata": {
        "colab": {
          "base_uri": "https://localhost:8080/",
          "height": 178
        },
        "id": "81-F6acC27PN",
        "outputId": "03fdd5b9-63f7-47e3-a440-f853ada551ea"
      },
      "outputs": [
        {
          "output_type": "execute_result",
          "data": {
            "text/plain": [
              "gunlaw\n",
              "1.0    36367\n",
              "2.0    11940\n",
              "Name: count, dtype: int64"
            ],
            "text/html": [
              "<div>\n",
              "<style scoped>\n",
              "    .dataframe tbody tr th:only-of-type {\n",
              "        vertical-align: middle;\n",
              "    }\n",
              "\n",
              "    .dataframe tbody tr th {\n",
              "        vertical-align: top;\n",
              "    }\n",
              "\n",
              "    .dataframe thead th {\n",
              "        text-align: right;\n",
              "    }\n",
              "</style>\n",
              "<table border=\"1\" class=\"dataframe\">\n",
              "  <thead>\n",
              "    <tr style=\"text-align: right;\">\n",
              "      <th></th>\n",
              "      <th>count</th>\n",
              "    </tr>\n",
              "    <tr>\n",
              "      <th>gunlaw</th>\n",
              "      <th></th>\n",
              "    </tr>\n",
              "  </thead>\n",
              "  <tbody>\n",
              "    <tr>\n",
              "      <th>1.0</th>\n",
              "      <td>36367</td>\n",
              "    </tr>\n",
              "    <tr>\n",
              "      <th>2.0</th>\n",
              "      <td>11940</td>\n",
              "    </tr>\n",
              "  </tbody>\n",
              "</table>\n",
              "</div><br><label><b>dtype:</b> int64</label>"
            ]
          },
          "metadata": {},
          "execution_count": 43
        }
      ],
      "source": [
        "gss['gunlaw'].value_counts()"
      ]
    },
    {
      "cell_type": "markdown",
      "metadata": {
        "id": "0_xrv3Cp27PN"
      },
      "source": [
        "`1` means yes and `2` means no, so most respondents are in favor.\n",
        "\n",
        "Before we can use this variable in a logistic regression, we have to recode it so `1` means \"yes\" and `0` means \"no\".\n",
        "We can do that by replacing `2` with `0`."
      ]
    },
    {
      "cell_type": "code",
      "execution_count": 44,
      "metadata": {
        "id": "j6Yjqm6A27PN"
      },
      "outputs": [],
      "source": [
        "gss['gunlaw'] = gss['gunlaw'].replace([2], [0])"
      ]
    },
    {
      "cell_type": "markdown",
      "metadata": {
        "tags": [],
        "id": "CwF5wbJh27PN"
      },
      "source": [
        "We can use `value_counts` to check the results."
      ]
    },
    {
      "cell_type": "code",
      "execution_count": 45,
      "metadata": {
        "tags": [],
        "colab": {
          "base_uri": "https://localhost:8080/",
          "height": 178
        },
        "id": "R8A6QtBo27PN",
        "outputId": "6ac632a8-7a64-45dc-b8d5-e9fab04c72d8"
      },
      "outputs": [
        {
          "output_type": "execute_result",
          "data": {
            "text/plain": [
              "gunlaw\n",
              "1.0    36367\n",
              "0.0    11940\n",
              "Name: count, dtype: int64"
            ],
            "text/html": [
              "<div>\n",
              "<style scoped>\n",
              "    .dataframe tbody tr th:only-of-type {\n",
              "        vertical-align: middle;\n",
              "    }\n",
              "\n",
              "    .dataframe tbody tr th {\n",
              "        vertical-align: top;\n",
              "    }\n",
              "\n",
              "    .dataframe thead th {\n",
              "        text-align: right;\n",
              "    }\n",
              "</style>\n",
              "<table border=\"1\" class=\"dataframe\">\n",
              "  <thead>\n",
              "    <tr style=\"text-align: right;\">\n",
              "      <th></th>\n",
              "      <th>count</th>\n",
              "    </tr>\n",
              "    <tr>\n",
              "      <th>gunlaw</th>\n",
              "      <th></th>\n",
              "    </tr>\n",
              "  </thead>\n",
              "  <tbody>\n",
              "    <tr>\n",
              "      <th>1.0</th>\n",
              "      <td>36367</td>\n",
              "    </tr>\n",
              "    <tr>\n",
              "      <th>0.0</th>\n",
              "      <td>11940</td>\n",
              "    </tr>\n",
              "  </tbody>\n",
              "</table>\n",
              "</div><br><label><b>dtype:</b> int64</label>"
            ]
          },
          "metadata": {},
          "execution_count": 45
        }
      ],
      "source": [
        "gss['gunlaw'].value_counts()"
      ]
    },
    {
      "cell_type": "markdown",
      "metadata": {
        "id": "ufrw3Rtw27PO"
      },
      "source": [
        "To run logistic regression, we'll use `logit`, which is named for the logit function, which is related to logistic regression."
      ]
    },
    {
      "cell_type": "code",
      "execution_count": 86,
      "metadata": {
        "colab": {
          "base_uri": "https://localhost:8080/"
        },
        "id": "mQyUiSA227PO",
        "outputId": "af2c0a21-e099-4560-c6d3-e6cd917b863f"
      },
      "outputs": [
        {
          "output_type": "stream",
          "name": "stdout",
          "text": [
            "Optimization terminated successfully.\n",
            "         Current function value: 0.544026\n",
            "         Iterations 5\n"
          ]
        }
      ],
      "source": [
        "formula = 'gunlaw ~ age + age2 + educ + educ2 + C(sex)'\n",
        "results = smf.logit(formula, data=gss).fit()"
      ]
    },
    {
      "cell_type": "markdown",
      "metadata": {
        "id": "AzEUWPQ827PO"
      },
      "source": [
        "Estimating the parameters for the logistic model is an iterative process, so the output contains information about the number of iterations.\n",
        "Other than that, everything is the same as what we have seen before.\n",
        "Here are the estimated parameters."
      ]
    },
    {
      "cell_type": "code",
      "execution_count": 87,
      "metadata": {
        "colab": {
          "base_uri": "https://localhost:8080/",
          "height": 272
        },
        "id": "isKuXc1f27PO",
        "outputId": "f7108263-0274-4025-dfa0-aa175f0945b6"
      },
      "outputs": [
        {
          "output_type": "execute_result",
          "data": {
            "text/plain": [
              "Intercept        1.483746\n",
              "C(sex)[T.2.0]    0.740717\n",
              "age             -0.021274\n",
              "age2             0.000216\n",
              "educ            -0.098093\n",
              "educ2            0.005557\n",
              "dtype: float64"
            ],
            "text/html": [
              "<div>\n",
              "<style scoped>\n",
              "    .dataframe tbody tr th:only-of-type {\n",
              "        vertical-align: middle;\n",
              "    }\n",
              "\n",
              "    .dataframe tbody tr th {\n",
              "        vertical-align: top;\n",
              "    }\n",
              "\n",
              "    .dataframe thead th {\n",
              "        text-align: right;\n",
              "    }\n",
              "</style>\n",
              "<table border=\"1\" class=\"dataframe\">\n",
              "  <thead>\n",
              "    <tr style=\"text-align: right;\">\n",
              "      <th></th>\n",
              "      <th>0</th>\n",
              "    </tr>\n",
              "  </thead>\n",
              "  <tbody>\n",
              "    <tr>\n",
              "      <th>Intercept</th>\n",
              "      <td>1.483746</td>\n",
              "    </tr>\n",
              "    <tr>\n",
              "      <th>C(sex)[T.2.0]</th>\n",
              "      <td>0.740717</td>\n",
              "    </tr>\n",
              "    <tr>\n",
              "      <th>age</th>\n",
              "      <td>-0.021274</td>\n",
              "    </tr>\n",
              "    <tr>\n",
              "      <th>age2</th>\n",
              "      <td>0.000216</td>\n",
              "    </tr>\n",
              "    <tr>\n",
              "      <th>educ</th>\n",
              "      <td>-0.098093</td>\n",
              "    </tr>\n",
              "    <tr>\n",
              "      <th>educ2</th>\n",
              "      <td>0.005557</td>\n",
              "    </tr>\n",
              "  </tbody>\n",
              "</table>\n",
              "</div><br><label><b>dtype:</b> float64</label>"
            ]
          },
          "metadata": {},
          "execution_count": 87
        }
      ],
      "source": [
        "results.params"
      ]
    },
    {
      "cell_type": "markdown",
      "metadata": {
        "id": "0jwUkToR27PO"
      },
      "source": [
        "The parameters are in the form of **log odds** -- I won't explain them in detail here, except to say that positive values make the outcome more likely and negative values make the outcome less likely.\n",
        "For example, the parameter associated with `sex=2` is `0.74`, which indicates that women are more likely to support this form of gun control.\n",
        "\n",
        "To see how much more likely, we can generate predictions, as we did with linear regression.\n",
        "As an example, we'll generate predictions for different ages and sexes, with education held constant.\n",
        "First we need a `DataFrame` with a range of values for `age` and a fixed value of `educ`."
      ]
    },
    {
      "cell_type": "code",
      "execution_count": 88,
      "metadata": {
        "id": "jVuOY6UI27PO"
      },
      "outputs": [],
      "source": [
        "df = pd.DataFrame()\n",
        "df['age'] = np.linspace(18, 89)\n",
        "df['educ'] = 12"
      ]
    },
    {
      "cell_type": "markdown",
      "metadata": {
        "id": "MgVM-rBE27PO"
      },
      "source": [
        "Then we can compute `age2` and `educ2`."
      ]
    },
    {
      "cell_type": "code",
      "execution_count": 89,
      "metadata": {
        "id": "M_tc08jf27PP"
      },
      "outputs": [],
      "source": [
        "df['age2'] = df['age']**2\n",
        "df['educ2'] = df['educ']**2"
      ]
    },
    {
      "cell_type": "markdown",
      "metadata": {
        "id": "949TQ7pT27PP"
      },
      "source": [
        "We can generate predictions for men like this."
      ]
    },
    {
      "cell_type": "code",
      "execution_count": 90,
      "metadata": {
        "id": "4afbfYI_27PQ"
      },
      "outputs": [],
      "source": [
        "df['sex'] = 1\n",
        "pred_male = results.predict(df)"
      ]
    },
    {
      "cell_type": "markdown",
      "metadata": {
        "id": "nDEz6FLh27PQ"
      },
      "source": [
        "And for women like this."
      ]
    },
    {
      "cell_type": "code",
      "execution_count": 91,
      "metadata": {
        "id": "9FPEKEoC27PQ"
      },
      "outputs": [],
      "source": [
        "df['sex'] = 2\n",
        "pred_female = results.predict(df)"
      ]
    },
    {
      "cell_type": "markdown",
      "metadata": {
        "id": "WROedWec27PQ"
      },
      "source": [
        "Now, to visualize the results, we'll start by plotting the data.\n",
        "As we've done before, we'll divide the respondents into age groups and compute the mean in each group.\n",
        "The mean of a binary variable is the fraction of people in favor.\n",
        "Then we can plot the predictions."
      ]
    },
    {
      "cell_type": "code",
      "execution_count": 93,
      "metadata": {
        "colab": {
          "base_uri": "https://localhost:8080/",
          "height": 281
        },
        "id": "gQ-HDUwT27PQ",
        "outputId": "cbb2ce63-e0ff-499d-df8c-2358a1700a11"
      },
      "outputs": [
        {
          "output_type": "display_data",
          "data": {
            "text/plain": [
              "<Figure size 450x262.5 with 1 Axes>"
            ],
            "image/png": "[encoded data removed]"
          },
          "metadata": {}
        }
      ],
      "source": [
        "grouped = gss.groupby('age')\n",
        "favor_by_age = grouped['gunlaw'].mean()\n",
        "\n",
        "plt.plot(favor_by_age, 'o', alpha=0.5)\n",
        "plt.plot(df['age'], pred_female, label='Female')\n",
        "plt.plot(df['age'], pred_male, '--', label='Male')\n",
        "\n",
        "plt.xlabel('Age')\n",
        "plt.ylabel('Probability of favoring gun law')\n",
        "plt.title('Support for gun law versus age, grouped by sex')\n",
        "plt.legend();"
      ]
    },
    {
      "cell_type": "markdown",
      "metadata": {
        "id": "UNOLUlEL27PQ"
      },
      "source": [
        "According to the model, people near age 50 are least likely to support gun control (at least as this question was posed).\n",
        "And women are more likely to support it than men, by about 15 percentage points.\n",
        "\n",
        "Logistic regression is a powerful tool for exploring relationships between a binary variable and the factors that predict it.\n",
        "In the exercises, you'll explore the factors that predict support for legalizing marijuana."
      ]
    },
    {
      "cell_type": "markdown",
      "metadata": {
        "id": "LCIXVdiU27PQ"
      },
      "source": [
        "**Exercise:** In the GSS dataset, the variable `grass` records responses to the question \"Do you think the use of marijuana should be made legal or not?\"\n",
        "Let's use logistic regression to explore relationships between this variable and age, sex, and education level.\n",
        "\n",
        "\n",
        "1. First, use `replace` to recode the `grass` column so that `1` means yes and `0` means no.  Use `value_counts` to check.\n",
        "\n",
        "2. Next, use the StatsModels function `logit` to predict `grass` using the variables `age`, `age2`, `educ`, and `educ2`, along with `sex` as a categorical variable.  Display the parameters.  Are men or women more likely to support legalization?\n",
        "\n",
        "3. To generate predictions, start with an empty DataFrame.  Add a column called `age` that contains a sequence of values from 18 to 89.  Add a column called `educ` and set it to 12 years.  Then compute a column, `age2`, which is the square of `age`, and a column, `educ2`, which is the square of `educ`.\n",
        "\n",
        "4. Use `predict` to generate predictions for men (`sex=1`) and women (`sex=2`).\n",
        "\n",
        "5. Generate a plot that shows (a) the average level of support for legalizing marijuana in each age group, (b) the level of support the model predicts for men as a function of age, and (c) the level of support predicted for women as a function of age."
      ]
    },
    {
      "cell_type": "code",
      "execution_count": 94,
      "metadata": {
        "colab": {
          "base_uri": "https://localhost:8080/",
          "height": 178
        },
        "id": "SbydCCSm27PR",
        "outputId": "e8d926c5-bf5d-4edd-8a6d-5accd964d05f"
      },
      "outputs": [
        {
          "output_type": "execute_result",
          "data": {
            "text/plain": [
              "grass\n",
              "0.0    25997\n",
              "1.0    12672\n",
              "Name: count, dtype: int64"
            ],
            "text/html": [
              "<div>\n",
              "<style scoped>\n",
              "    .dataframe tbody tr th:only-of-type {\n",
              "        vertical-align: middle;\n",
              "    }\n",
              "\n",
              "    .dataframe tbody tr th {\n",
              "        vertical-align: top;\n",
              "    }\n",
              "\n",
              "    .dataframe thead th {\n",
              "        text-align: right;\n",
              "    }\n",
              "</style>\n",
              "<table border=\"1\" class=\"dataframe\">\n",
              "  <thead>\n",
              "    <tr style=\"text-align: right;\">\n",
              "      <th></th>\n",
              "      <th>count</th>\n",
              "    </tr>\n",
              "    <tr>\n",
              "      <th>grass</th>\n",
              "      <th></th>\n",
              "    </tr>\n",
              "  </thead>\n",
              "  <tbody>\n",
              "    <tr>\n",
              "      <th>0.0</th>\n",
              "      <td>25997</td>\n",
              "    </tr>\n",
              "    <tr>\n",
              "      <th>1.0</th>\n",
              "      <td>12672</td>\n",
              "    </tr>\n",
              "  </tbody>\n",
              "</table>\n",
              "</div><br><label><b>dtype:</b> int64</label>"
            ]
          },
          "metadata": {},
          "execution_count": 94
        }
      ],
      "source": [
        "# Solution goes here\n",
        "\n",
        "gss['grass'] = gss['grass'].replace(2,0)\n",
        "gss['grass'].value_counts()"
      ]
    },
    {
      "cell_type": "code",
      "execution_count": 95,
      "metadata": {
        "colab": {
          "base_uri": "https://localhost:8080/",
          "height": 324
        },
        "id": "Tgzjs7vW27PR",
        "outputId": "670640b1-1867-437b-fd56-0c4b7482213e"
      },
      "outputs": [
        {
          "output_type": "stream",
          "name": "stdout",
          "text": [
            "Optimization terminated successfully.\n",
            "         Current function value: 0.605895\n",
            "         Iterations 6\n"
          ]
        },
        {
          "output_type": "execute_result",
          "data": {
            "text/plain": [
              "Intercept       -1.971358\n",
              "C(sex)[T.2.0]   -0.373592\n",
              "age             -0.015406\n",
              "age2             0.000004\n",
              "educ             0.221171\n",
              "educ2           -0.004209\n",
              "dtype: float64"
            ],
            "text/html": [
              "<div>\n",
              "<style scoped>\n",
              "    .dataframe tbody tr th:only-of-type {\n",
              "        vertical-align: middle;\n",
              "    }\n",
              "\n",
              "    .dataframe tbody tr th {\n",
              "        vertical-align: top;\n",
              "    }\n",
              "\n",
              "    .dataframe thead th {\n",
              "        text-align: right;\n",
              "    }\n",
              "</style>\n",
              "<table border=\"1\" class=\"dataframe\">\n",
              "  <thead>\n",
              "    <tr style=\"text-align: right;\">\n",
              "      <th></th>\n",
              "      <th>0</th>\n",
              "    </tr>\n",
              "  </thead>\n",
              "  <tbody>\n",
              "    <tr>\n",
              "      <th>Intercept</th>\n",
              "      <td>-1.971358</td>\n",
              "    </tr>\n",
              "    <tr>\n",
              "      <th>C(sex)[T.2.0]</th>\n",
              "      <td>-0.373592</td>\n",
              "    </tr>\n",
              "    <tr>\n",
              "      <th>age</th>\n",
              "      <td>-0.015406</td>\n",
              "    </tr>\n",
              "    <tr>\n",
              "      <th>age2</th>\n",
              "      <td>0.000004</td>\n",
              "    </tr>\n",
              "    <tr>\n",
              "      <th>educ</th>\n",
              "      <td>0.221171</td>\n",
              "    </tr>\n",
              "    <tr>\n",
              "      <th>educ2</th>\n",
              "      <td>-0.004209</td>\n",
              "    </tr>\n",
              "  </tbody>\n",
              "</table>\n",
              "</div><br><label><b>dtype:</b> float64</label>"
            ]
          },
          "metadata": {},
          "execution_count": 95
        }
      ],
      "source": [
        "# Solution goes here\n",
        "formula = 'grass ~ age + age2 + educ + educ2 + C(sex)'\n",
        "results = smf.logit(formula, data=gss).fit()\n",
        "\n",
        "results.params"
      ]
    },
    {
      "cell_type": "code",
      "execution_count": 96,
      "metadata": {
        "id": "2zJam_JK27PR"
      },
      "outputs": [],
      "source": [
        "# Solution goes here\n",
        "\n",
        "df = pd.DataFrame()\n",
        "df['age'] = np.linspace(18, 89)\n",
        "df['educ'] = 12\n",
        "df['age2'] = df['age']**2\n",
        "df['educ2'] = df['educ']**2"
      ]
    },
    {
      "cell_type": "code",
      "execution_count": 97,
      "metadata": {
        "id": "znw6S32p27PR"
      },
      "outputs": [],
      "source": [
        "# Solution goes here\n",
        "\n",
        "df['sex'] = 1\n",
        "pred_male = results.predict(df)\n",
        "\n",
        "\n",
        "df['sex'] = 2\n",
        "pred_female = results.predict(df)"
      ]
    },
    {
      "cell_type": "code",
      "execution_count": 98,
      "metadata": {
        "colab": {
          "base_uri": "https://localhost:8080/",
          "height": 281
        },
        "id": "WRKbPUcV27PR",
        "outputId": "5d4bfbe3-5540-4033-c8a3-a2a43abc3cb6"
      },
      "outputs": [
        {
          "output_type": "display_data",
          "data": {
            "text/plain": [
              "<Figure size 450x262.5 with 1 Axes>"
            ],
            "image/png": "[encoded data removed]"
          },
          "metadata": {}
        }
      ],
      "source": [
        "# Solution goes heregrouped = gss.groupby('age')\n",
        "favor_by_age = grouped['grass'].mean()\n",
        "\n",
        "plt.plot(favor_by_age, 'o', alpha=0.5)\n",
        "plt.plot(df['age'], pred_female, label='Female')\n",
        "plt.plot(df['age'], pred_male, '--', label='Male')\n",
        "\n",
        "plt.xlabel('Age')\n",
        "plt.ylabel('Probability of favoring legalization of marijuana')\n",
        "plt.title('Support for legalization of marijuana versus age, grouped by sex')\n",
        "plt.legend();"
      ]
    },
    {
      "cell_type": "markdown",
      "metadata": {
        "id": "tx-H4Yv927PS"
      },
      "source": [
        "## Summary\n",
        "\n",
        "At this point, I'd like to summarize the topics we've covered so far, and make some connections that might clarify the big picture.\n",
        "A central theme of this book is **exploratory data analysis**, which is a process and set of tools for exploring a dataset, visualizing distributions, and discovering relationships between variables.\n",
        "The last four chapters demonstrate the steps of this process:\n",
        "\n",
        "- Chapter 7 is about importing and cleaning data, and checking for errors and other special conditions.  This might not be the most exciting part of the process, but time spent understanding data can save you from embarrassing errors.\n",
        "\n",
        "- Chapter 8 is about exploring variables one at a time, visualizing distributions using PMFs, CDFs, and KDE, and choosing appropriate summary statistics.\n",
        "\n",
        "- In Chapter 9 we explored relationships between variables two at a time, using scatter plots and other visualizations; and we quantified those relationships using correlation and simple regression.\n",
        "\n",
        "- Finally, in this chapter, we explored multivariate relationships using multiple regression and logistic regression."
      ]
    },
    {
      "cell_type": "markdown",
      "metadata": {
        "id": "oqCKQA2m27PS"
      },
      "source": [
        "We moved through a lot of material quickly, but if you practice and apply these methods to other questions and datasets, you will learn more as you go.\n",
        "In the next chapter, we will move on to a new topic, resampling, which is a versatile tool for statistical inference."
      ]
    },
    {
      "cell_type": "markdown",
      "metadata": {
        "tags": [],
        "id": "6-8ePt-227PS"
      },
      "source": [
        "Having finished this chapter, you might appreciate [this xkcd cartoon](https://xkcd.com/2048/).\n",
        "\n",
        "<img src=\"https://imgs.xkcd.com/comics/curve_fitting_2x.png\" width=\"400\">"
      ]
    },
    {
      "cell_type": "markdown",
      "metadata": {
        "tags": [],
        "id": "wKRDFeJ227PS"
      },
      "source": [
        "*Elements of Data Science*\n",
        "\n",
        "Copyright 2021 [Allen B. Downey](https://allendowney.com)\n",
        "\n",
        "License: [Creative Commons Attribution-NonCommercial-ShareAlike 4.0 International](https://creativecommons.org/licenses/by-nc-sa/4.0/)"
      ]
    }
  ],
  "metadata": {
    "celltoolbar": "Tags",
    "kernelspec": {
      "display_name": "Python 3 (ipykernel)",
      "language": "python",
      "name": "python3"
    },
    "language_info": {
      "codemirror_mode": {
        "name": "ipython",
        "version": 3
      },
      "file_extension": ".py",
      "mimetype": "text/x-python",
      "name": "python",
      "nbconvert_exporter": "python",
      "pygments_lexer": "ipython3",
      "version": "3.10.14"
    },
    "colab": {
      "provenance": []
    }
  },
  "nbformat": 4,
  "nbformat_minor": 0
}