{
  "cells": [
    {
      "cell_type": "markdown",
      "metadata": {
        "id": "zwkTeqSuHNcQ"
      },
      "source": [
        "Printed copies of *Elements of Data Science* are available now, with a **full color interior**, from [Lulu.com](https://www.lulu.com/shop/allen-downey/elements-of-data-science/paperback/product-9dyrwn.html)."
      ]
    },
    {
      "cell_type": "markdown",
      "metadata": {
        "id": "q8BAoHq-HNcS"
      },
      "source": [
        "# Resampling"
      ]
    },
    {
      "cell_type": "code",
      "execution_count": 1,
      "metadata": {
        "tags": [],
        "id": "eUkYAVwkHNcU",
        "outputId": "fc2e3178-e4a2-4e36-d423-bd01c9d8f1fc",
        "colab": {
          "base_uri": "https://localhost:8080/"
        }
      },
      "outputs": [
        {
          "output_type": "stream",
          "name": "stdout",
          "text": [
            "Downloaded utils.py\n"
          ]
        }
      ],
      "source": [
        "from os.path import basename, exists\n",
        "\n",
        "def download(url):\n",
        "    filename = basename(url)\n",
        "    if not exists(filename):\n",
        "        from urllib.request import urlretrieve\n",
        "\n",
        "        local, _ = urlretrieve(url, filename)\n",
        "        print(\"Downloaded \" + str(local))\n",
        "    return filename\n",
        "\n",
        "download('https://raw.githubusercontent.com/AllenDowney/ElementsOfDataScience/v1/utils.py')\n",
        "\n",
        "import utils"
      ]
    },
    {
      "cell_type": "markdown",
      "metadata": {
        "tags": [],
        "id": "6budxETDHNcW"
      },
      "source": [
        "[Click here to run this notebook on Colab](https://colab.research.google.com/github/AllenDowney/ElementsOfDataScience/blob/v1/11_resampling.ipynb)."
      ]
    },
    {
      "cell_type": "markdown",
      "metadata": {
        "id": "zKiWTv9sHNcX"
      },
      "source": [
        "This chapter introduces **resampling methods**, which are used to quantify the precision of an estimate.\n",
        "As a first example, we'll use results from a medical trial to estimate the efficacy of the vaccine."
      ]
    },
    {
      "cell_type": "markdown",
      "metadata": {
        "id": "DsU4OAx-HNcX"
      },
      "source": [
        "## Vaccine Testing\n",
        "\n",
        "Suppose you read a report about a new vaccine and the manufacturer says it is 67% effective at preventing disease.\n",
        "You might wonder where that number comes from, what it means, and how confident we should be that it is correct.\n",
        "Results like this often come from a randomized controlled trial (RCT), which works like this:\n",
        "\n",
        "* You recruit a large group of volunteers and divide them into two groups at random: the \"treatment group\" receives the vaccine; the \"control group\" does not.\n",
        "\n",
        "* Then you follow both groups for a period of time and record the number of people in each group who are diagnosed with the disease.\n",
        "\n",
        "As an example, suppose you recruit 43,783 participants and they are assigned to groups with approximately the same size."
      ]
    },
    {
      "cell_type": "code",
      "execution_count": 2,
      "metadata": {
        "id": "0qjxKm9nHNcY"
      },
      "outputs": [],
      "source": [
        "n_control = 21885\n",
        "n_treatment = 21911"
      ]
    },
    {
      "cell_type": "markdown",
      "metadata": {
        "id": "2IJilDorHNcZ"
      },
      "source": [
        "During the observation period, 468 people are diagnosed with the disease: 352 in the control group and 116 in the treatment group."
      ]
    },
    {
      "cell_type": "code",
      "execution_count": 3,
      "metadata": {
        "id": "Lr-czeIVHNca"
      },
      "outputs": [],
      "source": [
        "k_control = 352\n",
        "k_treatment = 116"
      ]
    },
    {
      "cell_type": "markdown",
      "metadata": {
        "id": "SBeWLSY2HNcc"
      },
      "source": [
        "We can use these results to compute the risk of getting the disease for each group, in cases per 1000 people"
      ]
    },
    {
      "cell_type": "code",
      "execution_count": 4,
      "metadata": {
        "id": "CVJzo8qZHNce",
        "outputId": "b816f97b-5874-4272-df38-5c7420b6d5dd",
        "colab": {
          "base_uri": "https://localhost:8080/"
        }
      },
      "outputs": [
        {
          "output_type": "execute_result",
          "data": {
            "text/plain": [
              "16.084075851039522"
            ]
          },
          "metadata": {},
          "execution_count": 4
        }
      ],
      "source": [
        "risk_control = k_control / n_control * 1000\n",
        "risk_control"
      ]
    },
    {
      "cell_type": "code",
      "execution_count": 5,
      "metadata": {
        "id": "zoRDeKyCHNcf",
        "outputId": "08a2c250-9e92-4a12-c36c-9b9a46edca87",
        "colab": {
          "base_uri": "https://localhost:8080/"
        }
      },
      "outputs": [
        {
          "output_type": "execute_result",
          "data": {
            "text/plain": [
              "5.294144493633334"
            ]
          },
          "metadata": {},
          "execution_count": 5
        }
      ],
      "source": [
        "risk_treatment = k_treatment / n_treatment * 1000\n",
        "risk_treatment"
      ]
    },
    {
      "cell_type": "markdown",
      "metadata": {
        "id": "-W9Z5A5ZHNcg"
      },
      "source": [
        "The risk is substantially lower in the treatment group -- about 5 per 1000, compared to 16 -- which suggests that the vaccine is effective.\n",
        "We can summarize these results by computing relative risk, which is the ratio of the two risks:"
      ]
    },
    {
      "cell_type": "code",
      "execution_count": 6,
      "metadata": {
        "id": "nam_MvNvHNcg",
        "outputId": "392bf7f7-f501-45e1-df0b-eb7581714040",
        "colab": {
          "base_uri": "https://localhost:8080/"
        }
      },
      "outputs": [
        {
          "output_type": "execute_result",
          "data": {
            "text/plain": [
              "0.3291544097817203"
            ]
          },
          "metadata": {},
          "execution_count": 6
        }
      ],
      "source": [
        "relative_risk = risk_treatment / risk_control\n",
        "relative_risk"
      ]
    },
    {
      "cell_type": "markdown",
      "metadata": {
        "id": "PQpQuEbHHNch"
      },
      "source": [
        "The relative risk is about 0.33, which means that the risk of disease in the treatment group is 33% of the risk in the control group.\n",
        "Equivalently, we could report the complement of relative risk, which is **efficacy**:"
      ]
    },
    {
      "cell_type": "code",
      "execution_count": 7,
      "metadata": {
        "id": "r2cwVWw4HNch",
        "outputId": "3b8f796c-d5b1-4f0d-bc94-89a7c7510d76",
        "colab": {
          "base_uri": "https://localhost:8080/"
        }
      },
      "outputs": [
        {
          "output_type": "execute_result",
          "data": {
            "text/plain": [
              "0.6708455902182797"
            ]
          },
          "metadata": {},
          "execution_count": 7
        }
      ],
      "source": [
        "efficacy = 1 - relative_risk\n",
        "efficacy"
      ]
    },
    {
      "cell_type": "markdown",
      "metadata": {
        "id": "Ci3lXEvGHNch"
      },
      "source": [
        "In this example the efficacy is 0.67, which means that the vaccine reduces the risk of disease by 67%.\n",
        "That's good news, but as skeptical data scientists, we should not assume that it is perfectly accurate.\n",
        "There are any number of things that might have gone wrong.\n",
        "\n",
        "For example, if people in the treatment group know they have been vaccinated, they might take fewer precautions to prevent disease, and people in the control group might be more careful.\n",
        "That would affect the estimated efficacy, which is why a lot of trials are \"blinded\", meaning that the subjects don't know which group they are in.\n",
        "\n",
        "The estimate would also be less accurate if people in either group don't follow the protocol.\n",
        "For example, someone in the treatment group might not complete treatment, or someone in the control group might receive treatment from another source.\n",
        "And there are many other possible sources of error, including honest mistakes and deliberate fraud."
      ]
    },
    {
      "cell_type": "markdown",
      "metadata": {
        "id": "n9D7SDwpHNch"
      },
      "source": [
        "In general it is hard to know whether estimates like this are accurate; nevertheless, there are things we can do to assess their quality.\n",
        "When estimates are reported in scientific journals, they almost always include one of two measurements of uncertainty: a standard error or a confidence interval.\n",
        "In the next section, I'll explain what they mean and show how to compute them."
      ]
    },
    {
      "cell_type": "markdown",
      "metadata": {
        "id": "PBInarp5HNci"
      },
      "source": [
        "## Simulating One Group\n",
        "\n",
        "In the example, there are 21,911 people in the treatment group and 116 of them got the disease, so the estimated risk is about 5 cases per 1000 people."
      ]
    },
    {
      "cell_type": "code",
      "execution_count": 8,
      "metadata": {
        "id": "e0h04m1UHNci",
        "outputId": "643c6fbc-1f8b-41d2-fb2d-1ab3c917673f",
        "colab": {
          "base_uri": "https://localhost:8080/"
        }
      },
      "outputs": [
        {
          "output_type": "execute_result",
          "data": {
            "text/plain": [
              "(21911, 116, 5.294144493633334)"
            ]
          },
          "metadata": {},
          "execution_count": 8
        }
      ],
      "source": [
        "n_treatment, k_treatment, risk_treatment"
      ]
    },
    {
      "cell_type": "markdown",
      "metadata": {
        "id": "R4OcvGtBHNcj"
      },
      "source": [
        "But it's easy to imagine that there might have been a few more cases, or fewer, just by chance.\n",
        "For example, if there had been 10 more cases, the estimated risk would be 5.8 per 1000, and if there had been 10 fewer, it would be 4.8."
      ]
    },
    {
      "cell_type": "code",
      "execution_count": 9,
      "metadata": {
        "id": "rEInp38THNcj",
        "outputId": "2fccd464-b7f0-4f32-84bb-689772931a4d",
        "colab": {
          "base_uri": "https://localhost:8080/"
        }
      },
      "outputs": [
        {
          "output_type": "execute_result",
          "data": {
            "text/plain": [
              "5.750536260325863"
            ]
          },
          "metadata": {},
          "execution_count": 9
        }
      ],
      "source": [
        "(k_treatment + 10) / n_treatment * 1000"
      ]
    },
    {
      "cell_type": "code",
      "execution_count": 10,
      "metadata": {
        "id": "cEDqDceXHNcj",
        "outputId": "67069ead-289b-467b-a9e6-e4e38db6e8d5",
        "colab": {
          "base_uri": "https://localhost:8080/"
        }
      },
      "outputs": [
        {
          "output_type": "execute_result",
          "data": {
            "text/plain": [
              "4.837752726940806"
            ]
          },
          "metadata": {},
          "execution_count": 10
        }
      ],
      "source": [
        "(k_treatment - 10) / n_treatment * 1000"
      ]
    },
    {
      "cell_type": "markdown",
      "metadata": {
        "id": "plfGVFrqHNck"
      },
      "source": [
        "That's a big enough difference that we should wonder how much variability there is in the estimate due to random variation.\n",
        "We'll answer that question in three steps:\n",
        "\n",
        "* We'll write a function that uses a random number generator to simulate the trial.\n",
        "\n",
        "* Then we'll run the function many times to see how much the estimate varies.\n",
        "\n",
        "* And we'll summarize the results.\n",
        "\n",
        "To simulate the trial, we'll use the `bernoulli` object from SciPy, which provides a function called `rvs` that simulates what we can think of as biased coin tosses.\n",
        "For example, suppose we flip 10 coins where the probability is 70% that each coin comes up heads.\n",
        "We can simulate that scenario like this."
      ]
    },
    {
      "cell_type": "code",
      "execution_count": 11,
      "metadata": {
        "id": "O1whxWzOHNck",
        "outputId": "f814ccb3-d85f-4b0d-adaa-4e0f44d0fda6",
        "colab": {
          "base_uri": "https://localhost:8080/"
        }
      },
      "outputs": [
        {
          "output_type": "execute_result",
          "data": {
            "text/plain": [
              "array([1, 1, 0, 1, 1, 1, 1, 1, 1, 1])"
            ]
          },
          "metadata": {},
          "execution_count": 11
        }
      ],
      "source": [
        "from scipy.stats import bernoulli\n",
        "\n",
        "bernoulli.rvs(p=0.7, size=10)"
      ]
    },
    {
      "cell_type": "markdown",
      "metadata": {
        "id": "gxkC3TsZHNck"
      },
      "source": [
        "The result is an array where `1` represents heads and `0` represents tails.\n",
        "\n",
        "We can use this function to simulate a group of `n` patients, where the probability is `p` that each of them gets the disease."
      ]
    },
    {
      "cell_type": "code",
      "execution_count": 12,
      "metadata": {
        "id": "_T9uhxixHNcl"
      },
      "outputs": [],
      "source": [
        "def simulate_group(n, p):\n",
        "    k = bernoulli.rvs(p, size=n).sum()\n",
        "    risk = k / n * 1000\n",
        "    return risk"
      ]
    },
    {
      "cell_type": "markdown",
      "metadata": {
        "id": "JTBL_wPMHNcl"
      },
      "source": [
        "This function uses `rvs` to generate an array of `1`s and `0`s, adds them up the number of cases, and returns the risk in cases per 1000 people.\n",
        "Here's how we call this function, passing as arguments the size of the treatment group and the estimated risk as a proportion:"
      ]
    },
    {
      "cell_type": "code",
      "execution_count": 15,
      "metadata": {
        "id": "Ug6e4bhZHNcl",
        "outputId": "808609a3-97b0-4974-acd7-7842f9755646",
        "colab": {
          "base_uri": "https://localhost:8080/"
        }
      },
      "outputs": [
        {
          "output_type": "execute_result",
          "data": {
            "text/plain": [
              "np.float64(5.613618730318105)"
            ]
          },
          "metadata": {},
          "execution_count": 15
        }
      ],
      "source": [
        "p = k_treatment / n_treatment\n",
        "simulate_group(n_treatment, p)"
      ]
    },
    {
      "cell_type": "markdown",
      "metadata": {
        "id": "rxlXnxQwHNcl"
      },
      "source": [
        "The result is a risk from a single simulated trial.\n",
        "If we run this function many times, it's like running the trial over and over."
      ]
    },
    {
      "cell_type": "code",
      "execution_count": 16,
      "metadata": {
        "tags": [],
        "id": "9LIZmSP3HNcm"
      },
      "outputs": [],
      "source": [
        "import numpy as np\n",
        "\n",
        "np.random.seed(17)"
      ]
    },
    {
      "cell_type": "code",
      "execution_count": 18,
      "metadata": {
        "id": "gf2ZZL2-HNcm",
        "outputId": "5d99c26a-ac58-4c45-eb7a-8a874f0800e6",
        "colab": {
          "base_uri": "https://localhost:8080/"
        }
      },
      "outputs": [
        {
          "output_type": "execute_result",
          "data": {
            "text/plain": [
              "[np.float64(4.929031080279311),\n",
              " np.float64(5.020309433617817),\n",
              " np.float64(5.111587786956323),\n",
              " np.float64(4.837752726940806),\n",
              " np.float64(5.431062023641094),\n",
              " np.float64(4.335721783579024),\n",
              " np.float64(5.887453790333622),\n",
              " np.float64(4.929031080279311),\n",
              " np.float64(4.700835196933047),\n",
              " np.float64(5.567979553648852),\n",
              " np.float64(5.248505316964082),\n",
              " np.float64(5.431062023641094),\n",
              " np.float64(5.020309433617817),\n",
              " np.float64(5.476701200310346),\n",
              " np.float64(5.157226963625576),\n",
              " np.float64(5.750536260325863),\n",
              " np.float64(5.111587786956323),\n",
              " np.float64(4.381360960248277),\n",
              " np.float64(5.06594861028707),\n",
              " np.float64(5.476701200310346),\n",
              " np.float64(4.746474373602299),\n",
              " np.float64(5.613618730318105),\n",
              " np.float64(5.70489708365661),\n",
              " np.float64(4.746474373602299),\n",
              " np.float64(6.48076308703391),\n",
              " np.float64(5.111587786956323),\n",
              " np.float64(5.613618730318105),\n",
              " np.float64(5.06594861028707),\n",
              " np.float64(5.567979553648852),\n",
              " np.float64(5.431062023641094),\n",
              " np.float64(5.294144493633334),\n",
              " np.float64(5.70489708365661),\n",
              " np.float64(5.476701200310346),\n",
              " np.float64(4.929031080279311),\n",
              " np.float64(5.522340376979599),\n",
              " np.float64(4.700835196933047),\n",
              " np.float64(5.567979553648852),\n",
              " np.float64(4.929031080279311),\n",
              " np.float64(4.563917666925289),\n",
              " np.float64(4.244443430240518),\n",
              " np.float64(5.020309433617817),\n",
              " np.float64(4.974670256948564),\n",
              " np.float64(5.567979553648852),\n",
              " np.float64(4.700835196933047),\n",
              " np.float64(4.335721783579024),\n",
              " np.float64(5.659257906987357),\n",
              " np.float64(4.929031080279311),\n",
              " np.float64(5.841814613664369),\n",
              " np.float64(5.157226963625576),\n",
              " np.float64(5.613618730318105),\n",
              " np.float64(5.339783670302587),\n",
              " np.float64(5.841814613664369),\n",
              " np.float64(6.070010497010633),\n",
              " np.float64(4.518278490256036),\n",
              " np.float64(5.796175436995117),\n",
              " np.float64(5.157226963625576),\n",
              " np.float64(5.202866140294829),\n",
              " np.float64(4.609556843594541),\n",
              " np.float64(5.339783670302587),\n",
              " np.float64(5.020309433617817),\n",
              " np.float64(5.248505316964082),\n",
              " np.float64(5.70489708365661),\n",
              " np.float64(4.746474373602299),\n",
              " np.float64(5.202866140294829),\n",
              " np.float64(5.38542284697184),\n",
              " np.float64(5.796175436995117),\n",
              " np.float64(6.16128885034914),\n",
              " np.float64(5.339783670302587),\n",
              " np.float64(5.157226963625576),\n",
              " np.float64(4.563917666925289),\n",
              " np.float64(5.476701200310346),\n",
              " np.float64(5.202866140294829),\n",
              " np.float64(6.298206380356898),\n",
              " np.float64(6.435123910364657),\n",
              " np.float64(5.659257906987357),\n",
              " np.float64(5.567979553648852),\n",
              " np.float64(5.522340376979599),\n",
              " np.float64(5.659257906987357),\n",
              " np.float64(4.883391903610059),\n",
              " np.float64(5.476701200310346),\n",
              " np.float64(5.476701200310346),\n",
              " np.float64(5.202866140294829),\n",
              " np.float64(5.887453790333622),\n",
              " np.float64(4.974670256948564),\n",
              " np.float64(5.38542284697184),\n",
              " np.float64(5.202866140294829),\n",
              " np.float64(5.70489708365661),\n",
              " np.float64(5.202866140294829),\n",
              " np.float64(5.659257906987357),\n",
              " np.float64(5.38542284697184),\n",
              " np.float64(5.522340376979599),\n",
              " np.float64(5.70489708365661),\n",
              " np.float64(5.339783670302587),\n",
              " np.float64(5.294144493633334),\n",
              " np.float64(4.837752726940806),\n",
              " np.float64(4.746474373602299),\n",
              " np.float64(5.339783670302587),\n",
              " np.float64(4.381360960248277),\n",
              " np.float64(5.476701200310346),\n",
              " np.float64(6.16128885034914),\n",
              " np.float64(5.202866140294829),\n",
              " np.float64(5.339783670302587),\n",
              " np.float64(5.202866140294829),\n",
              " np.float64(6.070010497010633),\n",
              " np.float64(4.974670256948564),\n",
              " np.float64(5.522340376979599),\n",
              " np.float64(4.472639313586783),\n",
              " np.float64(4.472639313586783),\n",
              " np.float64(4.518278490256036),\n",
              " np.float64(6.252567203687645),\n",
              " np.float64(5.157226963625576),\n",
              " np.float64(5.659257906987357),\n",
              " np.float64(5.38542284697184),\n",
              " np.float64(4.746474373602299),\n",
              " np.float64(4.883391903610059),\n",
              " np.float64(5.613618730318105),\n",
              " np.float64(5.978732143672128),\n",
              " np.float64(5.339783670302587),\n",
              " np.float64(5.933092967002875),\n",
              " np.float64(5.613618730318105),\n",
              " np.float64(4.381360960248277),\n",
              " np.float64(4.883391903610059),\n",
              " np.float64(5.750536260325863),\n",
              " np.float64(5.248505316964082),\n",
              " np.float64(4.381360960248277),\n",
              " np.float64(5.248505316964082),\n",
              " np.float64(4.974670256948564),\n",
              " np.float64(5.431062023641094),\n",
              " np.float64(5.248505316964082),\n",
              " np.float64(5.294144493633334),\n",
              " np.float64(5.157226963625576),\n",
              " np.float64(5.476701200310346),\n",
              " np.float64(4.746474373602299),\n",
              " np.float64(5.887453790333622),\n",
              " np.float64(5.111587786956323),\n",
              " np.float64(4.746474373602299),\n",
              " np.float64(5.522340376979599),\n",
              " np.float64(5.613618730318105),\n",
              " np.float64(5.476701200310346),\n",
              " np.float64(5.796175436995117),\n",
              " np.float64(5.111587786956323),\n",
              " np.float64(5.841814613664369),\n",
              " np.float64(6.0243713203413805),\n",
              " np.float64(5.38542284697184),\n",
              " np.float64(5.157226963625576),\n",
              " np.float64(5.750536260325863),\n",
              " np.float64(6.48076308703391),\n",
              " np.float64(4.929031080279311),\n",
              " np.float64(5.339783670302587),\n",
              " np.float64(4.837752726940806),\n",
              " np.float64(5.70489708365661),\n",
              " np.float64(5.06594861028707),\n",
              " np.float64(5.294144493633334),\n",
              " np.float64(6.343845557026151),\n",
              " np.float64(5.750536260325863),\n",
              " np.float64(5.796175436995117),\n",
              " np.float64(5.750536260325863),\n",
              " np.float64(4.427000136917529),\n",
              " np.float64(5.248505316964082),\n",
              " np.float64(5.157226963625576),\n",
              " np.float64(5.248505316964082),\n",
              " np.float64(5.06594861028707),\n",
              " np.float64(5.567979553648852),\n",
              " np.float64(5.476701200310346),\n",
              " np.float64(5.978732143672128),\n",
              " np.float64(6.0243713203413805),\n",
              " np.float64(4.244443430240518),\n",
              " np.float64(5.613618730318105),\n",
              " np.float64(5.339783670302587),\n",
              " np.float64(5.38542284697184),\n",
              " np.float64(6.206928027018392),\n",
              " np.float64(6.435123910364657),\n",
              " np.float64(4.883391903610059),\n",
              " np.float64(5.522340376979599),\n",
              " np.float64(5.659257906987357),\n",
              " np.float64(6.0243713203413805),\n",
              " np.float64(5.750536260325863),\n",
              " np.float64(4.609556843594541),\n",
              " np.float64(5.157226963625576),\n",
              " np.float64(5.248505316964082),\n",
              " np.float64(5.157226963625576),\n",
              " np.float64(6.252567203687645),\n",
              " np.float64(5.796175436995117),\n",
              " np.float64(5.613618730318105),\n",
              " np.float64(5.522340376979599),\n",
              " np.float64(4.837752726940806),\n",
              " np.float64(4.974670256948564),\n",
              " np.float64(5.294144493633334),\n",
              " np.float64(5.111587786956323),\n",
              " np.float64(4.335721783579024),\n",
              " np.float64(5.06594861028707),\n",
              " np.float64(5.339783670302587),\n",
              " np.float64(5.248505316964082),\n",
              " np.float64(4.609556843594541),\n",
              " np.float64(4.883391903610059),\n",
              " np.float64(5.020309433617817),\n",
              " np.float64(6.3894847336954035),\n",
              " np.float64(5.796175436995117),\n",
              " np.float64(4.837752726940806),\n",
              " np.float64(5.933092967002875),\n",
              " np.float64(5.111587786956323),\n",
              " np.float64(4.883391903610059),\n",
              " np.float64(5.248505316964082),\n",
              " np.float64(5.796175436995117),\n",
              " np.float64(5.841814613664369),\n",
              " np.float64(5.248505316964082),\n",
              " np.float64(5.933092967002875),\n",
              " np.float64(5.978732143672128),\n",
              " np.float64(5.522340376979599),\n",
              " np.float64(5.887453790333622),\n",
              " np.float64(5.613618730318105),\n",
              " np.float64(5.339783670302587),\n",
              " np.float64(5.38542284697184),\n",
              " np.float64(5.020309433617817),\n",
              " np.float64(5.339783670302587),\n",
              " np.float64(5.841814613664369),\n",
              " np.float64(4.974670256948564),\n",
              " np.float64(5.111587786956323),\n",
              " np.float64(5.248505316964082),\n",
              " np.float64(4.883391903610059),\n",
              " np.float64(5.339783670302587),\n",
              " np.float64(5.157226963625576),\n",
              " np.float64(4.700835196933047),\n",
              " np.float64(6.0243713203413805),\n",
              " np.float64(5.294144493633334),\n",
              " np.float64(5.796175436995117),\n",
              " np.float64(5.841814613664369),\n",
              " np.float64(4.883391903610059),\n",
              " np.float64(5.476701200310346),\n",
              " np.float64(5.157226963625576),\n",
              " np.float64(5.476701200310346),\n",
              " np.float64(5.613618730318105),\n",
              " np.float64(4.518278490256036),\n",
              " np.float64(5.978732143672128),\n",
              " np.float64(5.476701200310346),\n",
              " np.float64(5.796175436995117),\n",
              " np.float64(5.294144493633334),\n",
              " np.float64(5.157226963625576),\n",
              " np.float64(5.06594861028707),\n",
              " np.float64(6.070010497010633),\n",
              " np.float64(5.978732143672128),\n",
              " np.float64(5.567979553648852),\n",
              " np.float64(5.567979553648852),\n",
              " np.float64(5.796175436995117),\n",
              " np.float64(5.06594861028707),\n",
              " np.float64(5.020309433617817),\n",
              " np.float64(4.837752726940806),\n",
              " np.float64(4.837752726940806),\n",
              " np.float64(4.518278490256036),\n",
              " np.float64(5.750536260325863),\n",
              " np.float64(5.294144493633334),\n",
              " np.float64(6.754598147049427),\n",
              " np.float64(5.613618730318105),\n",
              " np.float64(4.929031080279311),\n",
              " np.float64(5.06594861028707),\n",
              " np.float64(5.248505316964082),\n",
              " np.float64(5.567979553648852),\n",
              " np.float64(4.883391903610059),\n",
              " np.float64(5.111587786956323),\n",
              " np.float64(4.700835196933047),\n",
              " np.float64(5.522340376979599),\n",
              " np.float64(6.617680617041668),\n",
              " np.float64(5.567979553648852),\n",
              " np.float64(5.522340376979599),\n",
              " np.float64(5.70489708365661),\n",
              " np.float64(5.750536260325863),\n",
              " np.float64(5.522340376979599),\n",
              " np.float64(4.792113550271553),\n",
              " np.float64(5.339783670302587),\n",
              " np.float64(5.796175436995117),\n",
              " np.float64(4.974670256948564),\n",
              " np.float64(5.522340376979599),\n",
              " np.float64(6.206928027018392),\n",
              " np.float64(5.294144493633334),\n",
              " np.float64(4.563917666925289),\n",
              " np.float64(5.111587786956323),\n",
              " np.float64(5.38542284697184),\n",
              " np.float64(6.3894847336954035),\n",
              " np.float64(5.202866140294829),\n",
              " np.float64(4.472639313586783),\n",
              " np.float64(5.841814613664369),\n",
              " np.float64(5.796175436995117),\n",
              " np.float64(5.111587786956323),\n",
              " np.float64(5.476701200310346),\n",
              " np.float64(5.339783670302587),\n",
              " np.float64(5.522340376979599),\n",
              " np.float64(6.070010497010633),\n",
              " np.float64(5.157226963625576),\n",
              " np.float64(5.111587786956323),\n",
              " np.float64(5.841814613664369),\n",
              " np.float64(5.796175436995117),\n",
              " np.float64(4.427000136917529),\n",
              " np.float64(5.750536260325863),\n",
              " np.float64(5.70489708365661),\n",
              " np.float64(4.974670256948564),\n",
              " np.float64(5.248505316964082),\n",
              " np.float64(4.792113550271553),\n",
              " np.float64(4.974670256948564),\n",
              " np.float64(5.202866140294829),\n",
              " np.float64(5.476701200310346),\n",
              " np.float64(5.111587786956323),\n",
              " np.float64(5.522340376979599),\n",
              " np.float64(4.883391903610059),\n",
              " np.float64(4.883391903610059),\n",
              " np.float64(5.522340376979599),\n",
              " np.float64(5.567979553648852),\n",
              " np.float64(5.157226963625576),\n",
              " np.float64(5.567979553648852),\n",
              " np.float64(5.613618730318105),\n",
              " np.float64(5.431062023641094),\n",
              " np.float64(4.974670256948564),\n",
              " np.float64(5.476701200310346),\n",
              " np.float64(5.294144493633334),\n",
              " np.float64(5.248505316964082),\n",
              " np.float64(4.837752726940806),\n",
              " np.float64(4.974670256948564),\n",
              " np.float64(4.655196020263794),\n",
              " np.float64(5.38542284697184),\n",
              " np.float64(5.431062023641094),\n",
              " np.float64(5.522340376979599),\n",
              " np.float64(5.431062023641094),\n",
              " np.float64(5.157226963625576),\n",
              " np.float64(5.476701200310346),\n",
              " np.float64(4.974670256948564),\n",
              " np.float64(5.567979553648852),\n",
              " np.float64(4.563917666925289),\n",
              " np.float64(4.472639313586783),\n",
              " np.float64(4.335721783579024),\n",
              " np.float64(6.663319793710921),\n",
              " np.float64(5.06594861028707),\n",
              " np.float64(5.202866140294829),\n",
              " np.float64(5.750536260325863),\n",
              " np.float64(5.38542284697184),\n",
              " np.float64(4.792113550271553),\n",
              " np.float64(5.339783670302587),\n",
              " np.float64(5.202866140294829),\n",
              " np.float64(5.613618730318105),\n",
              " np.float64(5.38542284697184),\n",
              " np.float64(6.115649673679887),\n",
              " np.float64(4.929031080279311),\n",
              " np.float64(4.883391903610059),\n",
              " np.float64(5.796175436995117),\n",
              " np.float64(5.613618730318105),\n",
              " np.float64(5.157226963625576),\n",
              " np.float64(6.070010497010633),\n",
              " np.float64(5.06594861028707),\n",
              " np.float64(5.38542284697184),\n",
              " np.float64(4.974670256948564),\n",
              " np.float64(5.613618730318105),\n",
              " np.float64(5.339783670302587),\n",
              " np.float64(5.567979553648852),\n",
              " np.float64(5.38542284697184),\n",
              " np.float64(5.933092967002875),\n",
              " np.float64(4.974670256948564),\n",
              " np.float64(5.38542284697184),\n",
              " np.float64(5.476701200310346),\n",
              " np.float64(5.796175436995117),\n",
              " np.float64(6.206928027018392),\n",
              " np.float64(5.659257906987357),\n",
              " np.float64(5.476701200310346),\n",
              " np.float64(5.841814613664369),\n",
              " np.float64(5.202866140294829),\n",
              " np.float64(5.06594861028707),\n",
              " np.float64(5.38542284697184),\n",
              " np.float64(5.202866140294829),\n",
              " np.float64(4.061886723563506),\n",
              " np.float64(5.157226963625576),\n",
              " np.float64(4.746474373602299),\n",
              " np.float64(5.70489708365661),\n",
              " np.float64(4.746474373602299),\n",
              " np.float64(5.248505316964082),\n",
              " np.float64(4.563917666925289),\n",
              " np.float64(5.659257906987357),\n",
              " np.float64(5.796175436995117),\n",
              " np.float64(5.06594861028707),\n",
              " np.float64(5.202866140294829),\n",
              " np.float64(5.202866140294829),\n",
              " np.float64(4.746474373602299),\n",
              " np.float64(4.518278490256036),\n",
              " np.float64(5.248505316964082),\n",
              " np.float64(4.609556843594541),\n",
              " np.float64(4.883391903610059),\n",
              " np.float64(4.609556843594541),\n",
              " np.float64(4.792113550271553),\n",
              " np.float64(6.16128885034914),\n",
              " np.float64(5.750536260325863),\n",
              " np.float64(5.111587786956323),\n",
              " np.float64(5.202866140294829),\n",
              " np.float64(5.248505316964082),\n",
              " np.float64(4.700835196933047),\n",
              " np.float64(4.746474373602299),\n",
              " np.float64(4.929031080279311),\n",
              " np.float64(5.567979553648852),\n",
              " np.float64(5.70489708365661),\n",
              " np.float64(5.933092967002875),\n",
              " np.float64(4.883391903610059),\n",
              " np.float64(5.933092967002875),\n",
              " np.float64(5.38542284697184),\n",
              " np.float64(5.522340376979599),\n",
              " np.float64(5.522340376979599),\n",
              " np.float64(5.978732143672128),\n",
              " np.float64(4.746474373602299),\n",
              " np.float64(5.38542284697184),\n",
              " np.float64(6.845876500387933),\n",
              " np.float64(5.978732143672128),\n",
              " np.float64(5.111587786956323),\n",
              " np.float64(4.929031080279311),\n",
              " np.float64(5.841814613664369),\n",
              " np.float64(5.202866140294829),\n",
              " np.float64(5.248505316964082),\n",
              " np.float64(4.929031080279311),\n",
              " np.float64(5.38542284697184),\n",
              " np.float64(5.70489708365661),\n",
              " np.float64(5.339783670302587),\n",
              " np.float64(5.613618730318105),\n",
              " np.float64(4.746474373602299),\n",
              " np.float64(5.659257906987357),\n",
              " np.float64(4.974670256948564),\n",
              " np.float64(5.06594861028707),\n",
              " np.float64(4.883391903610059),\n",
              " np.float64(6.070010497010633),\n",
              " np.float64(5.202866140294829),\n",
              " np.float64(5.248505316964082),\n",
              " np.float64(5.887453790333622),\n",
              " np.float64(5.659257906987357),\n",
              " np.float64(5.522340376979599),\n",
              " np.float64(5.06594861028707),\n",
              " np.float64(4.563917666925289),\n",
              " np.float64(5.522340376979599),\n",
              " np.float64(5.020309433617817),\n",
              " np.float64(5.841814613664369),\n",
              " np.float64(5.339783670302587),\n",
              " np.float64(5.157226963625576),\n",
              " np.float64(6.3894847336954035),\n",
              " np.float64(5.659257906987357),\n",
              " np.float64(5.157226963625576),\n",
              " np.float64(5.613618730318105),\n",
              " np.float64(5.111587786956323),\n",
              " np.float64(5.613618730318105),\n",
              " np.float64(5.202866140294829),\n",
              " np.float64(5.339783670302587),\n",
              " np.float64(5.750536260325863),\n",
              " np.float64(5.020309433617817),\n",
              " np.float64(5.522340376979599),\n",
              " np.float64(4.792113550271553),\n",
              " np.float64(6.070010497010633),\n",
              " np.float64(5.020309433617817),\n",
              " np.float64(6.526402263703163),\n",
              " np.float64(5.111587786956323),\n",
              " np.float64(4.746474373602299),\n",
              " np.float64(4.609556843594541),\n",
              " np.float64(4.883391903610059),\n",
              " np.float64(5.70489708365661),\n",
              " np.float64(5.248505316964082),\n",
              " np.float64(5.202866140294829),\n",
              " np.float64(4.700835196933047),\n",
              " np.float64(5.020309433617817),\n",
              " np.float64(5.476701200310346),\n",
              " np.float64(5.202866140294829),\n",
              " np.float64(5.613618730318105),\n",
              " np.float64(5.431062023641094),\n",
              " np.float64(4.746474373602299),\n",
              " np.float64(5.248505316964082),\n",
              " np.float64(5.157226963625576),\n",
              " np.float64(5.796175436995117),\n",
              " np.float64(5.339783670302587),\n",
              " np.float64(4.061886723563506),\n",
              " np.float64(5.020309433617817),\n",
              " np.float64(5.476701200310346),\n",
              " np.float64(5.294144493633334),\n",
              " np.float64(4.883391903610059),\n",
              " np.float64(4.929031080279311),\n",
              " np.float64(5.06594861028707),\n",
              " np.float64(5.476701200310346),\n",
              " np.float64(5.476701200310346),\n",
              " np.float64(5.70489708365661),\n",
              " np.float64(5.522340376979599),\n",
              " np.float64(4.974670256948564),\n",
              " np.float64(5.887453790333622),\n",
              " np.float64(5.06594861028707),\n",
              " np.float64(5.522340376979599),\n",
              " np.float64(4.974670256948564),\n",
              " np.float64(5.476701200310346),\n",
              " np.float64(4.655196020263794),\n",
              " np.float64(5.06594861028707),\n",
              " np.float64(6.298206380356898),\n",
              " np.float64(5.38542284697184),\n",
              " np.float64(4.974670256948564),\n",
              " np.float64(4.974670256948564),\n",
              " np.float64(5.841814613664369),\n",
              " np.float64(5.476701200310346),\n",
              " np.float64(5.750536260325863),\n",
              " np.float64(5.567979553648852),\n",
              " np.float64(6.16128885034914),\n",
              " np.float64(5.522340376979599),\n",
              " np.float64(5.06594861028707),\n",
              " np.float64(6.0243713203413805),\n",
              " np.float64(5.476701200310346),\n",
              " np.float64(4.974670256948564),\n",
              " np.float64(4.837752726940806),\n",
              " np.float64(5.613618730318105),\n",
              " np.float64(5.111587786956323),\n",
              " np.float64(5.157226963625576),\n",
              " np.float64(5.38542284697184),\n",
              " np.float64(5.06594861028707),\n",
              " np.float64(6.115649673679887),\n",
              " np.float64(5.933092967002875),\n",
              " np.float64(4.746474373602299),\n",
              " np.float64(4.929031080279311),\n",
              " np.float64(5.294144493633334),\n",
              " np.float64(4.792113550271553),\n",
              " np.float64(5.06594861028707),\n",
              " np.float64(5.933092967002875),\n",
              " np.float64(5.70489708365661),\n",
              " np.float64(4.929031080279311),\n",
              " np.float64(4.335721783579024),\n",
              " np.float64(5.522340376979599),\n",
              " np.float64(4.335721783579024),\n",
              " np.float64(5.476701200310346),\n",
              " np.float64(4.290082606909771),\n",
              " np.float64(5.06594861028707),\n",
              " np.float64(5.294144493633334),\n",
              " np.float64(5.796175436995117),\n",
              " np.float64(4.883391903610059),\n",
              " np.float64(4.929031080279311),\n",
              " np.float64(4.929031080279311),\n",
              " np.float64(5.431062023641094),\n",
              " np.float64(5.111587786956323),\n",
              " np.float64(5.659257906987357),\n",
              " np.float64(5.567979553648852),\n",
              " np.float64(5.70489708365661),\n",
              " np.float64(6.16128885034914),\n",
              " np.float64(6.0243713203413805),\n",
              " np.float64(5.613618730318105),\n",
              " np.float64(5.522340376979599),\n",
              " np.float64(4.929031080279311),\n",
              " np.float64(5.111587786956323),\n",
              " np.float64(4.563917666925289),\n",
              " np.float64(4.837752726940806),\n",
              " np.float64(5.659257906987357),\n",
              " np.float64(4.700835196933047),\n",
              " np.float64(4.518278490256036),\n",
              " np.float64(5.157226963625576),\n",
              " np.float64(5.750536260325863),\n",
              " np.float64(4.700835196933047),\n",
              " np.float64(4.609556843594541),\n",
              " np.float64(4.883391903610059),\n",
              " np.float64(5.476701200310346),\n",
              " np.float64(5.248505316964082),\n",
              " np.float64(4.609556843594541),\n",
              " np.float64(5.659257906987357),\n",
              " np.float64(5.248505316964082),\n",
              " np.float64(6.16128885034914),\n",
              " np.float64(5.294144493633334),\n",
              " np.float64(4.700835196933047),\n",
              " np.float64(5.248505316964082),\n",
              " np.float64(5.339783670302587),\n",
              " np.float64(5.294144493633334),\n",
              " np.float64(6.708958970380174),\n",
              " np.float64(5.522340376979599),\n",
              " np.float64(4.792113550271553),\n",
              " np.float64(4.290082606909771),\n",
              " np.float64(5.522340376979599),\n",
              " np.float64(5.476701200310346),\n",
              " np.float64(5.659257906987357),\n",
              " np.float64(4.883391903610059),\n",
              " np.float64(5.294144493633334),\n",
              " np.float64(6.16128885034914),\n",
              " np.float64(5.613618730318105),\n",
              " np.float64(5.750536260325863),\n",
              " np.float64(6.298206380356898),\n",
              " np.float64(5.248505316964082),\n",
              " np.float64(5.659257906987357),\n",
              " np.float64(6.298206380356898),\n",
              " np.float64(5.887453790333622),\n",
              " np.float64(6.070010497010633),\n",
              " np.float64(4.746474373602299),\n",
              " np.float64(5.933092967002875),\n",
              " np.float64(5.111587786956323),\n",
              " np.float64(5.431062023641094),\n",
              " np.float64(5.796175436995117),\n",
              " np.float64(5.248505316964082),\n",
              " np.float64(4.107525900232759),\n",
              " np.float64(6.070010497010633),\n",
              " np.float64(5.933092967002875),\n",
              " np.float64(5.613618730318105),\n",
              " np.float64(4.472639313586783),\n",
              " np.float64(4.335721783579024),\n",
              " np.float64(5.38542284697184),\n",
              " np.float64(5.202866140294829),\n",
              " np.float64(4.655196020263794),\n",
              " np.float64(5.020309433617817),\n",
              " np.float64(5.887453790333622),\n",
              " np.float64(5.294144493633334),\n",
              " np.float64(5.111587786956323),\n",
              " np.float64(5.978732143672128),\n",
              " np.float64(6.115649673679887),\n",
              " np.float64(5.522340376979599),\n",
              " np.float64(3.8793300168864957),\n",
              " np.float64(4.883391903610059),\n",
              " np.float64(5.476701200310346),\n",
              " np.float64(5.111587786956323),\n",
              " np.float64(5.38542284697184),\n",
              " np.float64(4.883391903610059),\n",
              " np.float64(5.431062023641094),\n",
              " np.float64(4.381360960248277),\n",
              " np.float64(4.929031080279311),\n",
              " np.float64(4.929031080279311),\n",
              " np.float64(6.3894847336954035),\n",
              " np.float64(4.929031080279311),\n",
              " np.float64(5.567979553648852),\n",
              " np.float64(4.518278490256036),\n",
              " np.float64(4.153165076902013),\n",
              " np.float64(4.427000136917529),\n",
              " np.float64(4.290082606909771),\n",
              " np.float64(5.841814613664369),\n",
              " np.float64(5.020309433617817),\n",
              " np.float64(4.563917666925289),\n",
              " np.float64(5.70489708365661),\n",
              " np.float64(4.883391903610059),\n",
              " np.float64(5.613618730318105),\n",
              " np.float64(5.567979553648852),\n",
              " np.float64(5.476701200310346),\n",
              " np.float64(5.202866140294829),\n",
              " np.float64(5.978732143672128),\n",
              " np.float64(4.746474373602299),\n",
              " np.float64(4.609556843594541),\n",
              " np.float64(4.883391903610059),\n",
              " np.float64(5.613618730318105),\n",
              " np.float64(5.567979553648852),\n",
              " np.float64(5.70489708365661),\n",
              " np.float64(4.929031080279311),\n",
              " np.float64(4.107525900232759),\n",
              " np.float64(4.655196020263794),\n",
              " np.float64(6.206928027018392),\n",
              " np.float64(4.837752726940806),\n",
              " np.float64(5.38542284697184),\n",
              " np.float64(5.476701200310346),\n",
              " np.float64(5.202866140294829),\n",
              " np.float64(5.613618730318105),\n",
              " np.float64(4.792113550271553),\n",
              " np.float64(5.522340376979599),\n",
              " np.float64(5.111587786956323),\n",
              " np.float64(5.248505316964082),\n",
              " np.float64(5.06594861028707),\n",
              " np.float64(5.476701200310346),\n",
              " np.float64(5.613618730318105),\n",
              " np.float64(5.841814613664369),\n",
              " np.float64(5.38542284697184),\n",
              " np.float64(5.38542284697184),\n",
              " np.float64(5.796175436995117),\n",
              " np.float64(5.294144493633334),\n",
              " np.float64(5.38542284697184),\n",
              " np.float64(5.339783670302587),\n",
              " np.float64(6.070010497010633),\n",
              " np.float64(5.157226963625576),\n",
              " np.float64(5.750536260325863),\n",
              " np.float64(4.700835196933047),\n",
              " np.float64(5.294144493633334),\n",
              " np.float64(5.294144493633334),\n",
              " np.float64(5.750536260325863),\n",
              " np.float64(5.522340376979599),\n",
              " np.float64(5.339783670302587),\n",
              " np.float64(4.655196020263794),\n",
              " np.float64(5.613618730318105),\n",
              " np.float64(5.339783670302587),\n",
              " np.float64(5.70489708365661),\n",
              " np.float64(4.974670256948564),\n",
              " np.float64(5.202866140294829),\n",
              " np.float64(5.522340376979599),\n",
              " np.float64(5.020309433617817),\n",
              " np.float64(5.887453790333622),\n",
              " np.float64(6.16128885034914),\n",
              " np.float64(5.841814613664369),\n",
              " np.float64(5.06594861028707),\n",
              " np.float64(5.38542284697184),\n",
              " np.float64(5.796175436995117),\n",
              " np.float64(5.06594861028707),\n",
              " np.float64(4.472639313586783),\n",
              " np.float64(6.115649673679887),\n",
              " np.float64(4.746474373602299),\n",
              " np.float64(4.518278490256036),\n",
              " np.float64(5.06594861028707),\n",
              " np.float64(5.522340376979599),\n",
              " np.float64(5.202866140294829),\n",
              " np.float64(5.157226963625576),\n",
              " np.float64(5.796175436995117),\n",
              " np.float64(5.111587786956323),\n",
              " np.float64(5.431062023641094),\n",
              " np.float64(5.978732143672128),\n",
              " np.float64(5.020309433617817),\n",
              " np.float64(5.431062023641094),\n",
              " np.float64(4.244443430240518),\n",
              " np.float64(5.339783670302587),\n",
              " np.float64(5.157226963625576),\n",
              " np.float64(4.518278490256036),\n",
              " np.float64(4.883391903610059),\n",
              " np.float64(4.792113550271553),\n",
              " np.float64(5.70489708365661),\n",
              " np.float64(5.339783670302587),\n",
              " np.float64(5.202866140294829),\n",
              " np.float64(4.929031080279311),\n",
              " np.float64(6.572041440372415),\n",
              " np.float64(5.38542284697184),\n",
              " np.float64(5.111587786956323),\n",
              " np.float64(5.294144493633334),\n",
              " np.float64(5.887453790333622),\n",
              " np.float64(4.700835196933047),\n",
              " np.float64(5.841814613664369),\n",
              " np.float64(4.974670256948564),\n",
              " np.float64(5.202866140294829),\n",
              " np.float64(4.518278490256036),\n",
              " np.float64(4.563917666925289),\n",
              " np.float64(4.700835196933047),\n",
              " np.float64(4.837752726940806),\n",
              " np.float64(4.929031080279311),\n",
              " np.float64(4.655196020263794),\n",
              " np.float64(5.887453790333622),\n",
              " np.float64(5.111587786956323),\n",
              " np.float64(5.111587786956323),\n",
              " np.float64(5.339783670302587),\n",
              " np.float64(5.887453790333622),\n",
              " np.float64(5.887453790333622),\n",
              " np.float64(5.567979553648852),\n",
              " np.float64(5.06594861028707),\n",
              " np.float64(5.476701200310346),\n",
              " np.float64(5.38542284697184),\n",
              " np.float64(5.887453790333622),\n",
              " np.float64(4.837752726940806),\n",
              " np.float64(5.522340376979599),\n",
              " np.float64(5.06594861028707),\n",
              " np.float64(5.248505316964082),\n",
              " np.float64(5.522340376979599),\n",
              " np.float64(5.38542284697184),\n",
              " np.float64(5.887453790333622),\n",
              " np.float64(5.522340376979599),\n",
              " np.float64(5.020309433617817),\n",
              " np.float64(6.0243713203413805),\n",
              " np.float64(5.796175436995117),\n",
              " np.float64(5.202866140294829),\n",
              " np.float64(6.48076308703391),\n",
              " np.float64(5.248505316964082),\n",
              " np.float64(5.294144493633334),\n",
              " np.float64(4.929031080279311),\n",
              " np.float64(5.476701200310346),\n",
              " np.float64(4.335721783579024),\n",
              " np.float64(5.659257906987357),\n",
              " np.float64(6.3894847336954035),\n",
              " np.float64(6.252567203687645),\n",
              " np.float64(5.431062023641094),\n",
              " np.float64(5.887453790333622),\n",
              " np.float64(4.883391903610059),\n",
              " np.float64(4.929031080279311),\n",
              " np.float64(5.613618730318105),\n",
              " np.float64(5.06594861028707),\n",
              " np.float64(5.339783670302587),\n",
              " np.float64(6.298206380356898),\n",
              " np.float64(6.252567203687645),\n",
              " np.float64(4.792113550271553),\n",
              " np.float64(6.0243713203413805),\n",
              " np.float64(5.111587786956323),\n",
              " np.float64(5.750536260325863),\n",
              " np.float64(5.567979553648852),\n",
              " np.float64(4.746474373602299),\n",
              " np.float64(4.929031080279311),\n",
              " np.float64(6.48076308703391),\n",
              " np.float64(5.978732143672128),\n",
              " np.float64(4.609556843594541),\n",
              " np.float64(5.020309433617817),\n",
              " np.float64(5.659257906987357),\n",
              " np.float64(5.38542284697184),\n",
              " np.float64(4.974670256948564),\n",
              " np.float64(4.563917666925289),\n",
              " np.float64(5.567979553648852),\n",
              " np.float64(5.933092967002875),\n",
              " np.float64(5.659257906987357),\n",
              " np.float64(4.837752726940806),\n",
              " np.float64(4.929031080279311),\n",
              " np.float64(5.157226963625576),\n",
              " np.float64(5.887453790333622),\n",
              " np.float64(5.887453790333622),\n",
              " np.float64(5.248505316964082),\n",
              " np.float64(5.020309433617817),\n",
              " np.float64(5.659257906987357),\n",
              " np.float64(4.381360960248277),\n",
              " np.float64(5.294144493633334),\n",
              " np.float64(5.567979553648852),\n",
              " np.float64(6.298206380356898),\n",
              " np.float64(5.202866140294829),\n",
              " np.float64(5.38542284697184),\n",
              " np.float64(4.883391903610059),\n",
              " np.float64(6.617680617041668),\n",
              " np.float64(4.335721783579024),\n",
              " np.float64(4.792113550271553),\n",
              " np.float64(5.659257906987357),\n",
              " np.float64(5.522340376979599),\n",
              " np.float64(5.339783670302587),\n",
              " np.float64(5.294144493633334),\n",
              " np.float64(5.202866140294829),\n",
              " np.float64(5.431062023641094),\n",
              " np.float64(4.974670256948564),\n",
              " np.float64(6.3894847336954035),\n",
              " np.float64(5.70489708365661),\n",
              " np.float64(4.837752726940806),\n",
              " np.float64(5.157226963625576),\n",
              " np.float64(4.518278490256036),\n",
              " np.float64(5.841814613664369),\n",
              " np.float64(6.115649673679887),\n",
              " np.float64(5.248505316964082),\n",
              " np.float64(5.248505316964082),\n",
              " np.float64(4.290082606909771),\n",
              " np.float64(5.020309433617817),\n",
              " np.float64(6.070010497010633),\n",
              " np.float64(5.38542284697184),\n",
              " np.float64(5.248505316964082),\n",
              " np.float64(4.792113550271553),\n",
              " np.float64(5.111587786956323),\n",
              " np.float64(4.381360960248277),\n",
              " np.float64(4.974670256948564),\n",
              " np.float64(5.567979553648852),\n",
              " np.float64(5.431062023641094),\n",
              " np.float64(4.700835196933047),\n",
              " np.float64(5.111587786956323),\n",
              " np.float64(5.841814613664369),\n",
              " np.float64(5.750536260325863),\n",
              " np.float64(5.841814613664369),\n",
              " np.float64(5.933092967002875),\n",
              " np.float64(5.887453790333622),\n",
              " np.float64(4.837752726940806),\n",
              " np.float64(5.339783670302587),\n",
              " np.float64(5.294144493633334),\n",
              " np.float64(5.887453790333622),\n",
              " np.float64(4.244443430240518),\n",
              " np.float64(6.252567203687645),\n",
              " np.float64(5.659257906987357),\n",
              " np.float64(5.841814613664369),\n",
              " np.float64(5.567979553648852),\n",
              " np.float64(5.841814613664369),\n",
              " np.float64(6.070010497010633),\n",
              " np.float64(5.248505316964082),\n",
              " np.float64(5.522340376979599),\n",
              " np.float64(5.796175436995117),\n",
              " np.float64(5.111587786956323),\n",
              " np.float64(5.613618730318105),\n",
              " np.float64(6.0243713203413805),\n",
              " np.float64(4.655196020263794),\n",
              " np.float64(5.06594861028707),\n",
              " np.float64(4.929031080279311),\n",
              " np.float64(5.750536260325863),\n",
              " np.float64(4.655196020263794),\n",
              " np.float64(5.431062023641094),\n",
              " np.float64(5.70489708365661),\n",
              " np.float64(4.792113550271553),\n",
              " np.float64(6.0243713203413805),\n",
              " np.float64(5.020309433617817),\n",
              " np.float64(5.613618730318105),\n",
              " np.float64(5.157226963625576),\n",
              " np.float64(4.746474373602299),\n",
              " np.float64(5.111587786956323),\n",
              " np.float64(4.883391903610059),\n",
              " np.float64(5.202866140294829),\n",
              " np.float64(5.933092967002875),\n",
              " np.float64(4.472639313586783),\n",
              " np.float64(4.837752726940806),\n",
              " np.float64(5.06594861028707),\n",
              " np.float64(6.435123910364657),\n",
              " np.float64(5.659257906987357),\n",
              " np.float64(5.613618730318105),\n",
              " np.float64(4.929031080279311),\n",
              " np.float64(5.202866140294829),\n",
              " np.float64(5.567979553648852),\n",
              " np.float64(5.613618730318105),\n",
              " np.float64(6.070010497010633),\n",
              " np.float64(5.294144493633334),\n",
              " np.float64(5.294144493633334),\n",
              " np.float64(5.476701200310346),\n",
              " np.float64(5.750536260325863),\n",
              " np.float64(5.202866140294829),\n",
              " np.float64(6.16128885034914),\n",
              " np.float64(4.929031080279311),\n",
              " np.float64(4.746474373602299),\n",
              " np.float64(5.248505316964082),\n",
              " np.float64(5.522340376979599),\n",
              " np.float64(5.613618730318105),\n",
              " np.float64(6.0243713203413805),\n",
              " np.float64(4.609556843594541),\n",
              " np.float64(6.298206380356898),\n",
              " np.float64(5.659257906987357),\n",
              " np.float64(4.518278490256036),\n",
              " np.float64(5.111587786956323),\n",
              " np.float64(5.70489708365661),\n",
              " np.float64(4.655196020263794),\n",
              " np.float64(5.522340376979599),\n",
              " np.float64(5.567979553648852),\n",
              " np.float64(5.659257906987357),\n",
              " np.float64(4.929031080279311),\n",
              " np.float64(4.929031080279311),\n",
              " np.float64(4.974670256948564),\n",
              " np.float64(6.070010497010633),\n",
              " np.float64(5.202866140294829),\n",
              " np.float64(5.476701200310346),\n",
              " np.float64(5.750536260325863),\n",
              " np.float64(5.887453790333622),\n",
              " np.float64(4.837752726940806),\n",
              " np.float64(5.750536260325863),\n",
              " np.float64(5.613618730318105),\n",
              " np.float64(4.837752726940806),\n",
              " np.float64(5.38542284697184),\n",
              " np.float64(5.476701200310346),\n",
              " np.float64(4.792113550271553),\n",
              " np.float64(6.0243713203413805),\n",
              " np.float64(6.115649673679887),\n",
              " np.float64(5.294144493633334),\n",
              " np.float64(5.887453790333622),\n",
              " np.float64(5.38542284697184),\n",
              " np.float64(5.522340376979599),\n",
              " np.float64(4.792113550271553),\n",
              " np.float64(6.070010497010633),\n",
              " np.float64(5.020309433617817),\n",
              " np.float64(5.202866140294829),\n",
              " np.float64(5.020309433617817),\n",
              " np.float64(6.16128885034914),\n",
              " np.float64(4.427000136917529),\n",
              " np.float64(6.16128885034914),\n",
              " np.float64(6.070010497010633),\n",
              " np.float64(6.0243713203413805),\n",
              " np.float64(6.115649673679887),\n",
              " np.float64(4.974670256948564),\n",
              " np.float64(5.70489708365661),\n",
              " np.float64(5.157226963625576),\n",
              " np.float64(5.522340376979599),\n",
              " np.float64(4.883391903610059),\n",
              " np.float64(5.06594861028707),\n",
              " np.float64(5.431062023641094),\n",
              " np.float64(4.563917666925289),\n",
              " np.float64(6.070010497010633),\n",
              " np.float64(5.522340376979599),\n",
              " np.float64(5.248505316964082),\n",
              " np.float64(5.202866140294829),\n",
              " np.float64(5.613618730318105),\n",
              " np.float64(4.837752726940806),\n",
              " np.float64(5.887453790333622),\n",
              " np.float64(5.476701200310346),\n",
              " np.float64(4.929031080279311),\n",
              " np.float64(6.3894847336954035),\n",
              " np.float64(5.613618730318105),\n",
              " np.float64(5.431062023641094),\n",
              " np.float64(5.431062023641094),\n",
              " np.float64(5.659257906987357),\n",
              " np.float64(6.48076308703391),\n",
              " np.float64(5.202866140294829),\n",
              " np.float64(5.431062023641094),\n",
              " np.float64(5.38542284697184),\n",
              " np.float64(4.974670256948564),\n",
              " np.float64(4.335721783579024),\n",
              " np.float64(4.929031080279311),\n",
              " np.float64(6.3894847336954035),\n",
              " np.float64(5.659257906987357),\n",
              " np.float64(5.202866140294829),\n",
              " np.float64(4.609556843594541),\n",
              " np.float64(5.522340376979599),\n",
              " np.float64(5.339783670302587),\n",
              " np.float64(5.111587786956323),\n",
              " np.float64(4.883391903610059),\n",
              " np.float64(5.431062023641094),\n",
              " np.float64(5.020309433617817),\n",
              " np.float64(5.522340376979599),\n",
              " np.float64(4.974670256948564),\n",
              " np.float64(4.655196020263794),\n",
              " np.float64(5.476701200310346),\n",
              " np.float64(5.522340376979599),\n",
              " np.float64(5.294144493633334),\n",
              " np.float64(5.157226963625576),\n",
              " np.float64(4.290082606909771),\n",
              " np.float64(5.887453790333622),\n",
              " np.float64(6.16128885034914),\n",
              " np.float64(4.929031080279311),\n",
              " np.float64(4.655196020263794),\n",
              " np.float64(5.06594861028707),\n",
              " np.float64(5.248505316964082),\n",
              " np.float64(4.746474373602299),\n",
              " np.float64(4.929031080279311),\n",
              " np.float64(5.522340376979599),\n",
              " np.float64(5.248505316964082),\n",
              " np.float64(6.435123910364657),\n",
              " np.float64(4.381360960248277),\n",
              " np.float64(5.248505316964082),\n",
              " np.float64(5.522340376979599),\n",
              " np.float64(6.48076308703391),\n",
              " np.float64(4.655196020263794),\n",
              " np.float64(4.700835196933047),\n",
              " np.float64(5.567979553648852),\n",
              " np.float64(4.381360960248277),\n",
              " np.float64(5.70489708365661),\n",
              " np.float64(4.700835196933047),\n",
              " np.float64(5.38542284697184),\n",
              " np.float64(5.796175436995117),\n",
              " np.float64(5.294144493633334),\n",
              " np.float64(6.070010497010633),\n",
              " np.float64(5.750536260325863),\n",
              " ...]"
            ]
          },
          "metadata": {},
          "execution_count": 18
        }
      ],
      "source": [
        "t = [simulate_group(n_treatment, p)\n",
        "     for i in range(1001)]\n",
        "t"
      ]
    },
    {
      "cell_type": "markdown",
      "metadata": {
        "id": "ih9zjDWFHNcn"
      },
      "source": [
        "The result is a list of risks that shows how much we expect the results of the trial to vary due to randomness.\n",
        "We can use a KDE plot to visualize the distribution of these results."
      ]
    },
    {
      "cell_type": "code",
      "execution_count": 20,
      "metadata": {
        "id": "St7vgREKHNcn",
        "outputId": "6ea22f27-b98d-4f17-ad0f-8ae4064e3644",
        "colab": {
          "base_uri": "https://localhost:8080/",
          "height": 281
        }
      },
      "outputs": [
        {
          "output_type": "display_data",
          "data": {
            "text/plain": [
              "<Figure size 450x262.5 with 1 Axes>"
            ],
            "image/png": "[encoded data removed]"
          },
          "metadata": {}
        }
      ],
      "source": [
        "import matplotlib.pyplot as plt\n",
        "import seaborn as sns\n",
        "\n",
        "sns.kdeplot(t, label='control')\n",
        "\n",
        "plt.xlabel('Risk of disease (cases per 1000)')\n",
        "plt.ylabel('Probability density')\n",
        "plt.title('Risks from Simulations');"
      ]
    },
    {
      "cell_type": "markdown",
      "metadata": {
        "id": "pBzW5P2VHNcn"
      },
      "source": [
        "The mean of this distribution is about 5.3, which is close to the observed risk, as we should expect."
      ]
    },
    {
      "cell_type": "code",
      "execution_count": 21,
      "metadata": {
        "id": "sfTRt0RxHNcn",
        "outputId": "54001ac8-3658-4969-9f0c-6db8d2fed396",
        "colab": {
          "base_uri": "https://localhost:8080/"
        }
      },
      "outputs": [
        {
          "output_type": "execute_result",
          "data": {
            "text/plain": [
              "(np.float64(5.332716664924232), 5.294144493633334)"
            ]
          },
          "metadata": {},
          "execution_count": 21
        }
      ],
      "source": [
        "np.mean(t), risk_treatment"
      ]
    },
    {
      "cell_type": "markdown",
      "metadata": {
        "id": "wzIFUX4NHNco"
      },
      "source": [
        "The width of this distribution indicates how much variation there is in the estimate due to randomness.\n",
        "One way to quantify the width of the distribution is the standard deviation."
      ]
    },
    {
      "cell_type": "code",
      "execution_count": 22,
      "metadata": {
        "tags": [],
        "id": "K6etQu7ZHNco",
        "outputId": "8906f671-e5d4-421b-b40b-2f08437b0347",
        "colab": {
          "base_uri": "https://localhost:8080/"
        }
      },
      "outputs": [
        {
          "output_type": "execute_result",
          "data": {
            "text/plain": [
              "np.float64(0.4949891574465369)"
            ]
          },
          "metadata": {},
          "execution_count": 22
        }
      ],
      "source": [
        "standard_error = np.std(t)\n",
        "standard_error"
      ]
    },
    {
      "cell_type": "markdown",
      "metadata": {
        "id": "3RbRTGX5HNco"
      },
      "source": [
        "This result is called the **standard error**.\n",
        "\n",
        "Another way to quantify the width of the distribution is an interval between two percentiles.\n",
        "For example, if we compute the 5th and 95th percentiles, the interval we get contains 90% of the simulated results."
      ]
    },
    {
      "cell_type": "code",
      "execution_count": 23,
      "metadata": {
        "tags": [],
        "id": "kCLZ81SQHNcp",
        "outputId": "e0c538c2-e444-47c4-8dfb-ff56b757c4cd",
        "colab": {
          "base_uri": "https://localhost:8080/"
        }
      },
      "outputs": [
        {
          "output_type": "execute_result",
          "data": {
            "text/plain": [
              "array([4.51827849, 6.16128885])"
            ]
          },
          "metadata": {},
          "execution_count": 23
        }
      ],
      "source": [
        "confidence_interval = np.percentile(t, [5, 95])\n",
        "confidence_interval"
      ]
    },
    {
      "cell_type": "markdown",
      "metadata": {
        "id": "gvej582THNcp"
      },
      "source": [
        "This result is called a **confidence interval**; specifically, this one is a \"90% confidence interval\", or 90% CI.\n",
        "If we assume that the observed risk is correct, and we run the same trial many times, we expect 90% of the results to fall in this interval.\n",
        "\n",
        "Standard errors and confidence intervals quantify our uncertainty about the estimate due to random variation from one trial to another."
      ]
    },
    {
      "cell_type": "markdown",
      "metadata": {
        "id": "vf0n0IppHNcp"
      },
      "source": [
        "## Simulating the Trial\n",
        "\n",
        "In the previous section we simulated one group and estimated their risk.\n",
        "Now we'll simulate both groups and estimate the efficacy of the vaccine.\n",
        "\n",
        "The following function takes four parameters: the sizes of the two groups and their actual risks."
      ]
    },
    {
      "cell_type": "code",
      "execution_count": 24,
      "metadata": {
        "id": "rfSOOuFDHNcp"
      },
      "outputs": [],
      "source": [
        "def simulate_trial(n1, p1, n2, p2):\n",
        "    risk1 = simulate_group(n1, p1)\n",
        "    risk2 = simulate_group(n2, p2)\n",
        "    efficacy = 1 - risk2 / risk1\n",
        "    return efficacy"
      ]
    },
    {
      "cell_type": "markdown",
      "metadata": {
        "id": "9huzii0JHNcq"
      },
      "source": [
        "If we call this function once, it simulates both groups, computes the risks in each group, and uses the results to compute the efficacy of the treatment (assuming that the first group is the control)."
      ]
    },
    {
      "cell_type": "code",
      "execution_count": 49,
      "metadata": {
        "id": "5kcfuTVvHNcq",
        "outputId": "ca422d06-030a-4b4a-964f-21f300ad5c14",
        "colab": {
          "base_uri": "https://localhost:8080/"
        }
      },
      "outputs": [
        {
          "output_type": "execute_result",
          "data": {
            "text/plain": [
              "np.float64(0.6698137582126944)"
            ]
          },
          "metadata": {},
          "execution_count": 49
        }
      ],
      "source": [
        "p1 = k_control / n_control\n",
        "p2 = k_treatment / n_treatment\n",
        "simulate_trial(n_control, p1, n_treatment, p2)"
      ]
    },
    {
      "cell_type": "markdown",
      "metadata": {
        "id": "t9tjj-mZHNcq"
      },
      "source": [
        "If we call it many times, the result is a list of efficacies from multiple simulated trials."
      ]
    },
    {
      "cell_type": "code",
      "execution_count": 28,
      "metadata": {
        "id": "Qdx9DXNjHNcr"
      },
      "outputs": [],
      "source": [
        "t2 = [simulate_trial(n_control, p1, n_treatment, p2)\n",
        "      for i in range(1001)]"
      ]
    },
    {
      "cell_type": "markdown",
      "metadata": {
        "id": "TgFweufEHNcs"
      },
      "source": [
        "We can use a KDE plot to visualize the distribution of the results."
      ]
    },
    {
      "cell_type": "code",
      "execution_count": 29,
      "metadata": {
        "id": "8fzowi3OHNct",
        "outputId": "fc234eeb-e87a-4dfa-a157-ab1925f31fd7",
        "colab": {
          "base_uri": "https://localhost:8080/",
          "height": 281
        }
      },
      "outputs": [
        {
          "output_type": "display_data",
          "data": {
            "text/plain": [
              "<Figure size 450x262.5 with 1 Axes>"
            ],
            "image/png": "[encoded data removed]"
          },
          "metadata": {}
        }
      ],
      "source": [
        "sns.kdeplot(t2)\n",
        "\n",
        "plt.xlabel('Efficacy')\n",
        "plt.ylabel('Probability density')\n",
        "plt.title('Efficacies from Simulations');"
      ]
    },
    {
      "cell_type": "markdown",
      "metadata": {
        "id": "JVfhLzROHNct"
      },
      "source": [
        "The mean of this distribution is close to the efficacy we computed with the results of the actual trial."
      ]
    },
    {
      "cell_type": "code",
      "execution_count": 30,
      "metadata": {
        "id": "g2xH5WbFHNcv",
        "outputId": "03893af6-5cb0-4a83-b908-a106b6bd885c",
        "colab": {
          "base_uri": "https://localhost:8080/"
        }
      },
      "outputs": [
        {
          "output_type": "execute_result",
          "data": {
            "text/plain": [
              "(np.float64(0.6702177543258595), 0.6708455902182797)"
            ]
          },
          "metadata": {},
          "execution_count": 30
        }
      ],
      "source": [
        "np.mean(t2), efficacy"
      ]
    },
    {
      "cell_type": "markdown",
      "metadata": {
        "id": "Nky-nijjHNcv"
      },
      "source": [
        "The standard deviation of this distribution is the standard error of the estimate."
      ]
    },
    {
      "cell_type": "code",
      "execution_count": 31,
      "metadata": {
        "id": "DVOcinUJHNcw",
        "outputId": "f5b00425-e7f1-4dc5-b533-dcdeb634cde1",
        "colab": {
          "base_uri": "https://localhost:8080/"
        }
      },
      "outputs": [
        {
          "output_type": "execute_result",
          "data": {
            "text/plain": [
              "np.float64(0.03426008355055136)"
            ]
          },
          "metadata": {},
          "execution_count": 31
        }
      ],
      "source": [
        "np.std(t2)"
      ]
    },
    {
      "cell_type": "markdown",
      "metadata": {
        "id": "ZMadnNcLHNcx"
      },
      "source": [
        "In a scientific paper, we could report the estimated efficacy and standard error as 0.67 (SE 0.035).\n",
        "As an alternative, we can use percentiles to compute a 90% confidence interval."
      ]
    },
    {
      "cell_type": "code",
      "execution_count": 32,
      "metadata": {
        "id": "RydmunsyHNcy",
        "outputId": "7e654c59-317d-4b10-f52e-32d2fa34c4c8",
        "colab": {
          "base_uri": "https://localhost:8080/"
        }
      },
      "outputs": [
        {
          "output_type": "execute_result",
          "data": {
            "text/plain": [
              "array([0.61125729, 0.72270903])"
            ]
          },
          "metadata": {},
          "execution_count": 32
        }
      ],
      "source": [
        "np.percentile(t2, [5, 95])"
      ]
    },
    {
      "cell_type": "markdown",
      "metadata": {
        "id": "dO1FI7aTHNcz"
      },
      "source": [
        "We could report these results as 0.67, 90% CI [0.61, 0.72].\n",
        "\n",
        "The standard error and confidence interval represent nearly the same information.\n",
        "In general, I prefer to report a confidence interval because it is easier to interpret:\n",
        "\n",
        "* Formally, the confidence interval means that if we run the same experiment again, we expect 90% of the results to fall between 61% and 72% (assuming that the estimated risks are correct).\n",
        "\n",
        "* More casually, it means that it is plausible that the actually efficacy is as low as 61%, or as high as 72% (assuming there are no sources of error other than random variation)."
      ]
    },
    {
      "cell_type": "markdown",
      "metadata": {
        "id": "BcZ3Rlj7HNcz"
      },
      "source": [
        "## Estimating Means\n",
        "\n",
        "In the previous examples, we estimated risk, which is a proportion, and efficacy, which is a ratio of two proportions.\n",
        "As a third example, let's estimate a mean.\n",
        "\n",
        "Suppose we want to estimate the average height of men in the United States.\n",
        "It would be impractical to measure everyone in the country, but if we choose a random sample of the population and measure the people in the sample, we can use the mean of the measurements to estimate the actual average in the population.\n",
        "\n",
        "Ideally, the sample should be **representative**, which means that everyone in the population has an equal chance of appearing in the sample.\n",
        "In general, that's not easy to do.\n",
        "Depending on how you recruit people, your sample might have too many tall people or too many short people.\n",
        "\n",
        "But let's suppose we have a representative sample of 103 adult male residents of the United States, the average height in the sample is 177 cm, and the standard deviation is 8.4 cm."
      ]
    },
    {
      "cell_type": "markdown",
      "metadata": {
        "id": "HjxP8XMqHNcz"
      },
      "source": [
        "If someone asks for your best guess about the height of men in the U.S., you would report 177 cm.\n",
        "But how accurate do you think this estimate is?\n",
        "If you only measure 103 people from a population of about 100 million adult males, it seems like the actual average in the population might be substantially higher or lower.\n",
        "\n",
        "Again, we can use random simulation to quantify the uncertainty of this estimate.\n",
        "As we did in the previous examples, we'll assume for purposes of simulation that the estimates are correct, and simulate the sampling process many times.\n",
        "\n",
        "The following function takes as parameters the size of the sample, `n`, the presumed average height in the population, `mu`, and the presumed standard deviation, `sigma`."
      ]
    },
    {
      "cell_type": "code",
      "execution_count": 33,
      "metadata": {
        "tags": [],
        "id": "rPt_35CwHNc0"
      },
      "outputs": [],
      "source": [
        "def simulate_sample_mean(n, mu, sigma):\n",
        "    sample = np.random.normal(mu, sigma, size=n)\n",
        "    return sample.mean()"
      ]
    },
    {
      "cell_type": "markdown",
      "metadata": {
        "id": "j3iDSLfOHNc0"
      },
      "source": [
        "This function generates `n` random values from a normal distribution with the given mean and standard deviation, and returns their mean.\n",
        "We can run it like this, using the observed mean and standard deviation from the sample as the presumed mean and standard deviation of the population."
      ]
    },
    {
      "cell_type": "code",
      "execution_count": 34,
      "metadata": {
        "id": "ulN2Wj2dHNc1",
        "outputId": "07dea48a-9894-4202-842f-cde04b89d2bb",
        "colab": {
          "base_uri": "https://localhost:8080/"
        }
      },
      "outputs": [
        {
          "output_type": "execute_result",
          "data": {
            "text/plain": [
              "np.float64(176.52655589769185)"
            ]
          },
          "metadata": {},
          "execution_count": 34
        }
      ],
      "source": [
        "n_height = 103\n",
        "mean_height = 177\n",
        "std_height = 8.4\n",
        "\n",
        "simulate_sample_mean(n_height, mean_height, std_height)"
      ]
    },
    {
      "cell_type": "markdown",
      "metadata": {
        "id": "6UeOMgP_HNc1"
      },
      "source": [
        "If we run it many times, it simulates the sampling and measurement process and returns a list of results from many simulated experiments."
      ]
    },
    {
      "cell_type": "code",
      "execution_count": 35,
      "metadata": {
        "id": "SiSmAy8wHNc1"
      },
      "outputs": [],
      "source": [
        "t3 = [simulate_sample_mean(n_height, mean_height, std_height)\n",
        "      for i in range(1001)]"
      ]
    },
    {
      "cell_type": "markdown",
      "metadata": {
        "id": "EvyVs8f1HNc1"
      },
      "source": [
        "We can use a KDE plot to visualize the distribution of these values."
      ]
    },
    {
      "cell_type": "code",
      "execution_count": 36,
      "metadata": {
        "id": "ElNLByByHNc1",
        "outputId": "969f6144-5037-4a1d-999a-1cec7bcbd6c8",
        "colab": {
          "base_uri": "https://localhost:8080/",
          "height": 281
        }
      },
      "outputs": [
        {
          "output_type": "display_data",
          "data": {
            "text/plain": [
              "<Figure size 450x262.5 with 1 Axes>"
            ],
            "image/png": "[encoded data removed]"
          },
          "metadata": {}
        }
      ],
      "source": [
        "sns.kdeplot(t3)\n",
        "\n",
        "plt.xlabel('Average height (cm)')\n",
        "plt.ylabel('Probability density')\n",
        "plt.title('Sampling Distribution of the Mean');"
      ]
    },
    {
      "cell_type": "markdown",
      "metadata": {
        "id": "w7EJzGlaHNc1"
      },
      "source": [
        "This result is called a **sampling distribution** because it represents the variation in the results due to the random sampling process.\n",
        "If we recruit 103 people and compute the mean of their heights, the result might be as low as 176 cm, or as high as 180 cm, due to chance.\n",
        "\n",
        "The average of the sampling distribution is close to the presumed mean of the population."
      ]
    },
    {
      "cell_type": "code",
      "execution_count": 37,
      "metadata": {
        "id": "aZix21KVHNc1",
        "outputId": "6a6123ff-a369-4043-f2d5-035133355971",
        "colab": {
          "base_uri": "https://localhost:8080/"
        }
      },
      "outputs": [
        {
          "output_type": "execute_result",
          "data": {
            "text/plain": [
              "(np.float64(176.9705817230009), 177)"
            ]
          },
          "metadata": {},
          "execution_count": 37
        }
      ],
      "source": [
        "np.mean(t3), mean_height"
      ]
    },
    {
      "cell_type": "markdown",
      "metadata": {
        "id": "LlZLUOaBHNc2"
      },
      "source": [
        "The standard deviation of the sampling distribution is the standard error of the estimate."
      ]
    },
    {
      "cell_type": "code",
      "execution_count": 38,
      "metadata": {
        "id": "uJSwZdC6HNc2",
        "outputId": "2b2042b5-509f-453c-d03b-683692f95bd8",
        "colab": {
          "base_uri": "https://localhost:8080/"
        }
      },
      "outputs": [
        {
          "output_type": "execute_result",
          "data": {
            "text/plain": [
              "np.float64(0.7940563091333565)"
            ]
          },
          "metadata": {},
          "execution_count": 38
        }
      ],
      "source": [
        "standard_error = np.std(t3)\n",
        "standard_error"
      ]
    },
    {
      "cell_type": "markdown",
      "metadata": {
        "id": "pH4ma6HQHNc3"
      },
      "source": [
        "The interval between the 5th and 95th percentiles is a 90% confidence interval."
      ]
    },
    {
      "cell_type": "code",
      "execution_count": 39,
      "metadata": {
        "id": "drL8F5XtHNc3",
        "outputId": "06036dda-4f40-40ab-86e4-a04fc67918b3",
        "colab": {
          "base_uri": "https://localhost:8080/"
        }
      },
      "outputs": [
        {
          "output_type": "execute_result",
          "data": {
            "text/plain": [
              "array([175.68784748, 178.24522224])"
            ]
          },
          "metadata": {},
          "execution_count": 39
        }
      ],
      "source": [
        "ci90 = np.percentile(t3, [5, 95])\n",
        "ci90"
      ]
    },
    {
      "cell_type": "markdown",
      "metadata": {
        "id": "Di2PrF9FHNc3"
      },
      "source": [
        "If I reported this result in a paper, I would say that the estimated height of adult male residents of the U.S. is 177 cm, 90% CI [176, 178] cm.\n",
        "\n",
        "Informally, that means that the estimate could plausibly be off by about a centimeter either way, due to random sampling.\n",
        "But we should remember that there are other possible sources of error, so we might be off by more than that."
      ]
    },
    {
      "cell_type": "markdown",
      "metadata": {
        "id": "5_994_sxHNc4"
      },
      "source": [
        "## The Resampling Framework\n",
        "\n",
        "The examples in this chapter fit into the framework shown in this diagram:\n",
        "\n",
        "![](https://github.com/AllenDowney/ElementsOfDataScience/raw/v1/figs/resampling.png)"
      ]
    },
    {
      "cell_type": "markdown",
      "metadata": {
        "id": "90-qNvd8HNc4"
      },
      "source": [
        "Using data from an experiment, we compute a sample statistic.  In the vaccine example, we computed risks for each group and efficacy.  In the height example, we computed the average height in the sample.\n",
        "\n",
        "Then we build a model of the sampling process.\n",
        "In the vaccine example, the model assumes that everyone in each group has the same probability of getting sick, and we use the data to choose the probability.\n",
        "In the height example, the model assumes that heights are drawn from a normal distribution, and we use the data to choose the parameters `mu` and `sigma`.\n",
        "\n",
        "We use the model to simulate the experiment many times. Each simulation generates a dataset which we use to compute the sample statistic.\n",
        "\n",
        "Finally, we collect the sample statistics from the simulations, plot the sampling distribution, and compute standard error and a confidence interval."
      ]
    },
    {
      "cell_type": "markdown",
      "metadata": {
        "id": "1NZhjBD7HNc4"
      },
      "source": [
        "I emphasize the role of the model in this framework because for a given experiment there might be several possible models, each including some elements of the real world and ignoring others.\n",
        "For example, our model of the vaccine experiment assumes that everyone in each group has the same risk, but that's probably not true.\n",
        "Here's another version of `simulate_group` that includes variation in risk within each group."
      ]
    },
    {
      "cell_type": "code",
      "execution_count": 40,
      "metadata": {
        "id": "aashH1nNHNc4"
      },
      "outputs": [],
      "source": [
        "def simulate_variable_group(n, p):\n",
        "    ps = np.random.uniform(0, 2*p, size=n)\n",
        "    k = bernoulli.rvs(ps).sum()\n",
        "    return k / n * 1000"
      ]
    },
    {
      "cell_type": "markdown",
      "metadata": {
        "id": "GnZosqdzHNc4"
      },
      "source": [
        "This version of the function assumes that each person has a different probability of getting sick, drawn from a uniform distribution between `0` and `2*p`.\n",
        "Of course, that's just a guess about how the probabilities might be distributed, but we can use it to get a sense of what effect this distribution has on the results.\n",
        "\n",
        "The rest of the function is the same as the previous version: it uses `bernoulli` to simulate `n` patients, where each element of `ps` is the probability that one patient gets the disease.\n",
        "Here's how we call this function, simulating the treatment group."
      ]
    },
    {
      "cell_type": "code",
      "execution_count": 46,
      "metadata": {
        "id": "6XSmJMlBHNc5",
        "outputId": "27b29803-afb5-45e6-c2fe-05e49c7eedea",
        "colab": {
          "base_uri": "https://localhost:8080/"
        }
      },
      "outputs": [
        {
          "output_type": "execute_result",
          "data": {
            "text/plain": [
              "np.float64(5.659257906987357)"
            ]
          },
          "metadata": {},
          "execution_count": 46
        }
      ],
      "source": [
        "p = k_treatment / n_treatment\n",
        "simulate_variable_group(n_treatment, p)"
      ]
    },
    {
      "cell_type": "markdown",
      "metadata": {
        "id": "IxSLf_k0HNc5"
      },
      "source": [
        "The return value is the number of cases per 1000."
      ]
    },
    {
      "cell_type": "markdown",
      "metadata": {
        "id": "uWhdmdY7HNc5"
      },
      "source": [
        "**Exercise:** Use this function to run 1001 simulations of the treatment group.  Compute the mean of the results and confirm that it is close to the observed `risk_treatment`.  To quantify the spread of the sampling distribution, compute the standard error.  How does it compare to the standard error we computed with the original model, where everyone in the group has the same risk?"
      ]
    },
    {
      "cell_type": "code",
      "execution_count": 43,
      "metadata": {
        "id": "Z2CpsZwlHNc5"
      },
      "outputs": [],
      "source": [
        "# Solution goes here\n",
        "t4 = [simulate_variable_group(n_treatment, p) for i in range(1001)]"
      ]
    },
    {
      "cell_type": "code",
      "execution_count": 44,
      "metadata": {
        "id": "T6AyTm83HNc5",
        "outputId": "267f9778-6a68-46d5-a7d9-194ece3eb203",
        "colab": {
          "base_uri": "https://localhost:8080/"
        }
      },
      "outputs": [
        {
          "output_type": "execute_result",
          "data": {
            "text/plain": [
              "(np.float64(5.286667146007202), np.float64(0.5023212716134021))"
            ]
          },
          "metadata": {},
          "execution_count": 44
        }
      ],
      "source": [
        "# Solution goes here\n",
        "np.mean(t4), np.std(t4)"
      ]
    },
    {
      "cell_type": "code",
      "execution_count": 47,
      "metadata": {
        "id": "UXdVjNliHNc6",
        "outputId": "d5990254-4e73-4b44-bfcd-e7fcba0f75a3",
        "colab": {
          "base_uri": "https://localhost:8080/",
          "height": 281
        }
      },
      "outputs": [
        {
          "output_type": "display_data",
          "data": {
            "text/plain": [
              "<Figure size 450x262.5 with 1 Axes>"
            ],
            "image/png": "[encoded data removed]"
          },
          "metadata": {}
        }
      ],
      "source": [
        "# Solution goes here\n",
        "\n",
        "sns.kdeplot(t4, label='control')\n",
        "\n",
        "plt.xlabel('Risk of disease (cases per 1000)')\n",
        "plt.ylabel('Probability density')\n",
        "plt.title('Risks from Simulations');"
      ]
    },
    {
      "cell_type": "markdown",
      "metadata": {
        "id": "Lx09tepRHNc6"
      },
      "source": [
        "**Exercise:** The following is a version of `simulate_trial` that uses `simulate_variable_group`, from the previous exercise, to simulate the vaccine trial using the modified model, which includes variation in risk within the groups.\n",
        "\n",
        "Use this function to simulate 1001 trials. Compute the mean of the sampling distribution and confirm that it is close to the observed `efficacy`. Compute the standard error and compare it to the standard error we computed for the original model."
      ]
    },
    {
      "cell_type": "code",
      "execution_count": 48,
      "metadata": {
        "id": "O8qNYmlIHNc6"
      },
      "outputs": [],
      "source": [
        "def simulate_variable_trial(n1, p1, n2, p2):\n",
        "    risk1 = simulate_variable_group(n1, p1)\n",
        "    risk2 = simulate_variable_group(n2, p2)\n",
        "    efficacy = 1 - risk2 / risk1\n",
        "    return efficacy"
      ]
    },
    {
      "cell_type": "code",
      "execution_count": 50,
      "metadata": {
        "id": "PQNeV1NeHNc7"
      },
      "outputs": [],
      "source": [
        "# Solution goes here\n",
        "\n",
        "p1 = k_control / n_control\n",
        "p2 = k_treatment / n_treatment\n",
        "t5 = [simulate_variable_trial(n_control, p1, n_treatment,p2) for i in range(1001)]"
      ]
    },
    {
      "cell_type": "code",
      "execution_count": 51,
      "metadata": {
        "id": "o9l4F8q2HNc7",
        "outputId": "be15fd09-1394-49ae-cc04-171e87b00c8a",
        "colab": {
          "base_uri": "https://localhost:8080/"
        }
      },
      "outputs": [
        {
          "output_type": "execute_result",
          "data": {
            "text/plain": [
              "(np.float64(0.6696298329205367), np.float64(0.03670346750955706))"
            ]
          },
          "metadata": {},
          "execution_count": 51
        }
      ],
      "source": [
        "# Solution goes here\n",
        "\n",
        "np.mean(t5), np.std(t5)"
      ]
    },
    {
      "cell_type": "code",
      "execution_count": 52,
      "metadata": {
        "id": "FVrvfb1jHNc7",
        "outputId": "a66c022d-2c99-4921-ec7b-c74c846268bb",
        "colab": {
          "base_uri": "https://localhost:8080/",
          "height": 281
        }
      },
      "outputs": [
        {
          "output_type": "display_data",
          "data": {
            "text/plain": [
              "<Figure size 450x262.5 with 1 Axes>"
            ],
            "image/png": "[encoded data removed]"
          },
          "metadata": {}
        }
      ],
      "source": [
        "# Solution goes here\n",
        "sns.kdeplot(t5)\n",
        "\n",
        "plt.xlabel('Efficacy')\n",
        "plt.ylabel('Probability density')\n",
        "plt.title('Efficacies from Simulations');"
      ]
    },
    {
      "cell_type": "code",
      "execution_count": null,
      "metadata": {
        "id": "O3XF7eibHNc7"
      },
      "outputs": [],
      "source": [
        "# Solution goes here"
      ]
    },
    {
      "cell_type": "markdown",
      "metadata": {
        "id": "zQIHRw0NHNc8"
      },
      "source": [
        "**Exercise:** One nice thing about the resampling framework is that it is easy to compute the sampling distribution for other statistics.\n",
        "For example, suppose we want to estimate the coefficient of variation (standard deviation as a fraction of the mean) for adult male height.  Here's how we can compute it."
      ]
    },
    {
      "cell_type": "code",
      "execution_count": 53,
      "metadata": {
        "id": "1oRpqf1LHNc9",
        "outputId": "5bbcc708-a913-43e0-8a06-1d0ac717fdb0",
        "colab": {
          "base_uri": "https://localhost:8080/"
        }
      },
      "outputs": [
        {
          "output_type": "execute_result",
          "data": {
            "text/plain": [
              "0.04745762711864407"
            ]
          },
          "metadata": {},
          "execution_count": 53
        }
      ],
      "source": [
        "cv = std_height / mean_height\n",
        "cv"
      ]
    },
    {
      "cell_type": "markdown",
      "metadata": {
        "id": "hvAZxZscHNc-"
      },
      "source": [
        "In this example, the standard deviation is about 4.5% of the mean.\n",
        "The following is a version of `simulate_sample` that generates a random sample of heights and returns the coefficient of variation, rather than the mean."
      ]
    },
    {
      "cell_type": "code",
      "execution_count": 58,
      "metadata": {
        "id": "Eo3J9L_5HNc-"
      },
      "outputs": [],
      "source": [
        "def simulate_sample_cv(n, mu, sigma):\n",
        "    sample = np.random.normal(mu, sigma, size=n)\n",
        "    return sample.std() / sample.mean()"
      ]
    },
    {
      "cell_type": "markdown",
      "metadata": {
        "id": "wYJZFgUaHNc_"
      },
      "source": [
        "Use this function to simulate 1001 samples with size `n=103`, using `mean_height` for `mu` and `std_height` for `sigma`.\n",
        "Plot the sampling distribution of the coefficient of variation, and compute a 90% confidence interval."
      ]
    },
    {
      "cell_type": "code",
      "execution_count": 59,
      "metadata": {
        "scrolled": true,
        "id": "4jhKU2MuHNdA",
        "outputId": "6475f5e1-9961-43f8-d50b-457eea2d8d51",
        "colab": {
          "base_uri": "https://localhost:8080/"
        }
      },
      "outputs": [
        {
          "output_type": "execute_result",
          "data": {
            "text/plain": [
              "[np.float64(0.05011495952378528),\n",
              " np.float64(0.05030508638166778),\n",
              " np.float64(0.051138824422312545),\n",
              " np.float64(0.04818206544980475),\n",
              " np.float64(0.04774831853957948),\n",
              " np.float64(0.04653886587954784),\n",
              " np.float64(0.05110385515391827),\n",
              " np.float64(0.04984521392617237),\n",
              " np.float64(0.05427949876259444),\n",
              " np.float64(0.0501800793806389),\n",
              " np.float64(0.047347876392145896),\n",
              " np.float64(0.04913574095648696),\n",
              " np.float64(0.04426395994381176),\n",
              " np.float64(0.04743490630893214),\n",
              " np.float64(0.04914841227834174),\n",
              " np.float64(0.044405165633771664),\n",
              " np.float64(0.0461313481726149),\n",
              " np.float64(0.04738858754980523),\n",
              " np.float64(0.04632538641245249),\n",
              " np.float64(0.04357322468831743),\n",
              " np.float64(0.042174518705756295),\n",
              " np.float64(0.04616307580326235),\n",
              " np.float64(0.04455245588667115),\n",
              " np.float64(0.04753502171332557),\n",
              " np.float64(0.04605984356571444),\n",
              " np.float64(0.04982878883660169),\n",
              " np.float64(0.048154903584101384),\n",
              " np.float64(0.052246369967690706),\n",
              " np.float64(0.04440309407096764),\n",
              " np.float64(0.045887478768918494),\n",
              " np.float64(0.04241552445855878),\n",
              " np.float64(0.048068681267736994),\n",
              " np.float64(0.04435433537862529),\n",
              " np.float64(0.050548098448445385),\n",
              " np.float64(0.046692473643957025),\n",
              " np.float64(0.05326692230311769),\n",
              " np.float64(0.05103767364616507),\n",
              " np.float64(0.041978666857295885),\n",
              " np.float64(0.04625348344638266),\n",
              " np.float64(0.04412277282791221),\n",
              " np.float64(0.04404234053784186),\n",
              " np.float64(0.0450841607964248),\n",
              " np.float64(0.0536687719875735),\n",
              " np.float64(0.04114465082479494),\n",
              " np.float64(0.04888026571050277),\n",
              " np.float64(0.0475624697883922),\n",
              " np.float64(0.04517246640871301),\n",
              " np.float64(0.04886679741755513),\n",
              " np.float64(0.050878654918406825),\n",
              " np.float64(0.050326257397777636),\n",
              " np.float64(0.05002961537271183),\n",
              " np.float64(0.04677666174874036),\n",
              " np.float64(0.04695424651249407),\n",
              " np.float64(0.051679512849621315),\n",
              " np.float64(0.052271249017082036),\n",
              " np.float64(0.04711892645011915),\n",
              " np.float64(0.045379789238202885),\n",
              " np.float64(0.0502167938160744),\n",
              " np.float64(0.046174978564380714),\n",
              " np.float64(0.04973870976197827),\n",
              " np.float64(0.048430894327175816),\n",
              " np.float64(0.04699055087775263),\n",
              " np.float64(0.04824643630682963),\n",
              " np.float64(0.04764797613656113),\n",
              " np.float64(0.04920585828567514),\n",
              " np.float64(0.048563090888330156),\n",
              " np.float64(0.051252448919689685),\n",
              " np.float64(0.05156571378245703),\n",
              " np.float64(0.04923773210153977),\n",
              " np.float64(0.049025197552850404),\n",
              " np.float64(0.04841584913235909),\n",
              " np.float64(0.048241444447311765),\n",
              " np.float64(0.049816464799093955),\n",
              " np.float64(0.04615574741065693),\n",
              " np.float64(0.04666239054309083),\n",
              " np.float64(0.05297282571770423),\n",
              " np.float64(0.04865865509576143),\n",
              " np.float64(0.043659330096928003),\n",
              " np.float64(0.0531989734864375),\n",
              " np.float64(0.04320855652505306),\n",
              " np.float64(0.04911600649583026),\n",
              " np.float64(0.04371995842507681),\n",
              " np.float64(0.05005885252072569),\n",
              " np.float64(0.043890932854043344),\n",
              " np.float64(0.05208124759872039),\n",
              " np.float64(0.041774835873305285),\n",
              " np.float64(0.05157310136650205),\n",
              " np.float64(0.047103174031486755),\n",
              " np.float64(0.04674360993202303),\n",
              " np.float64(0.04617180602066712),\n",
              " np.float64(0.04990407916370347),\n",
              " np.float64(0.04558743347572057),\n",
              " np.float64(0.04590824564933562),\n",
              " np.float64(0.04768571832471415),\n",
              " np.float64(0.05021114502122697),\n",
              " np.float64(0.05000005162858663),\n",
              " np.float64(0.04544904529250892),\n",
              " np.float64(0.04884111775086362),\n",
              " np.float64(0.05004490617472148),\n",
              " np.float64(0.043696880569698456),\n",
              " np.float64(0.051637302870254045),\n",
              " np.float64(0.04194215487927964),\n",
              " np.float64(0.04948155914115165),\n",
              " np.float64(0.04590079831938399),\n",
              " np.float64(0.044407929218210525),\n",
              " np.float64(0.04655937016721838),\n",
              " np.float64(0.0449145004741902),\n",
              " np.float64(0.05506291760629052),\n",
              " np.float64(0.043496794956737854),\n",
              " np.float64(0.05412674337491384),\n",
              " np.float64(0.04573015804745398),\n",
              " np.float64(0.048103051353883736),\n",
              " np.float64(0.04569009448984868),\n",
              " np.float64(0.04797760167094113),\n",
              " np.float64(0.049857813204822146),\n",
              " np.float64(0.04869210025595514),\n",
              " np.float64(0.0445134631625916),\n",
              " np.float64(0.04279281953209454),\n",
              " np.float64(0.04583437667248811),\n",
              " np.float64(0.05049037234941774),\n",
              " np.float64(0.04051402738293353),\n",
              " np.float64(0.04578073142046013),\n",
              " np.float64(0.05334758928996895),\n",
              " np.float64(0.052194422710106714),\n",
              " np.float64(0.044382937993140824),\n",
              " np.float64(0.04657708390432605),\n",
              " np.float64(0.04386938647269722),\n",
              " np.float64(0.043617719239084723),\n",
              " np.float64(0.049821273753286856),\n",
              " np.float64(0.04537446430935405),\n",
              " np.float64(0.053754998560255486),\n",
              " np.float64(0.0497979879341012),\n",
              " np.float64(0.05130659346486598),\n",
              " np.float64(0.04398795142461044),\n",
              " np.float64(0.0450671585864753),\n",
              " np.float64(0.04663303630873977),\n",
              " np.float64(0.0466376598237984),\n",
              " np.float64(0.042574507412957915),\n",
              " np.float64(0.04857671898674096),\n",
              " np.float64(0.04621747821599945),\n",
              " np.float64(0.042379422566483),\n",
              " np.float64(0.0506894267305982),\n",
              " np.float64(0.05191268670466593),\n",
              " np.float64(0.049720252613406256),\n",
              " np.float64(0.04807874144450786),\n",
              " np.float64(0.04500908703022571),\n",
              " np.float64(0.04115849006006987),\n",
              " np.float64(0.04467644645020274),\n",
              " np.float64(0.047926057562685156),\n",
              " np.float64(0.04501855330632198),\n",
              " np.float64(0.047529308327004895),\n",
              " np.float64(0.050538728565390934),\n",
              " np.float64(0.047585420281727714),\n",
              " np.float64(0.04768083382758167),\n",
              " np.float64(0.04379996612469463),\n",
              " np.float64(0.048548730745119124),\n",
              " np.float64(0.04222744794766496),\n",
              " np.float64(0.05100013195186801),\n",
              " np.float64(0.04833893523697606),\n",
              " np.float64(0.043843069014215336),\n",
              " np.float64(0.041231051651802374),\n",
              " np.float64(0.05059738930647424),\n",
              " np.float64(0.04572805965817015),\n",
              " np.float64(0.04262522874653813),\n",
              " np.float64(0.04328349285561459),\n",
              " np.float64(0.05345140599880041),\n",
              " np.float64(0.04754924485021587),\n",
              " np.float64(0.04581337700397801),\n",
              " np.float64(0.04363751491015215),\n",
              " np.float64(0.052775283750760696),\n",
              " np.float64(0.04492846043684593),\n",
              " np.float64(0.045065010344843184),\n",
              " np.float64(0.04029181057781895),\n",
              " np.float64(0.0486468588552131),\n",
              " np.float64(0.04541940156913371),\n",
              " np.float64(0.05033033808373637),\n",
              " np.float64(0.046138521394092545),\n",
              " np.float64(0.054865323785091194),\n",
              " np.float64(0.040085864937238785),\n",
              " np.float64(0.04785920542283354),\n",
              " np.float64(0.046675566387075096),\n",
              " np.float64(0.042847828088593484),\n",
              " np.float64(0.04826886588694521),\n",
              " np.float64(0.04275296310605777),\n",
              " np.float64(0.046150907181430174),\n",
              " np.float64(0.0426547512505263),\n",
              " np.float64(0.04256391034537963),\n",
              " np.float64(0.042332420215242694),\n",
              " np.float64(0.051228898117421984),\n",
              " np.float64(0.04498487440282704),\n",
              " np.float64(0.04414340921225708),\n",
              " np.float64(0.042347522439405455),\n",
              " np.float64(0.039444612893041506),\n",
              " np.float64(0.05152886953561798),\n",
              " np.float64(0.04061081451895526),\n",
              " np.float64(0.0478656027383154),\n",
              " np.float64(0.04287245645119604),\n",
              " np.float64(0.048046606381194644),\n",
              " np.float64(0.04717930096165935),\n",
              " np.float64(0.04499113689073021),\n",
              " np.float64(0.04771372482468725),\n",
              " np.float64(0.04380832309417931),\n",
              " np.float64(0.05037336362739426),\n",
              " np.float64(0.0481740712228177),\n",
              " np.float64(0.04751431732837971),\n",
              " np.float64(0.04838597237184294),\n",
              " np.float64(0.045479614291435905),\n",
              " np.float64(0.04582323053843876),\n",
              " np.float64(0.050473956044976474),\n",
              " np.float64(0.04840223245330131),\n",
              " np.float64(0.04329392013162134),\n",
              " np.float64(0.04973583668540984),\n",
              " np.float64(0.04785272482460583),\n",
              " np.float64(0.05155541355241148),\n",
              " np.float64(0.045908602929874184),\n",
              " np.float64(0.04580235065579082),\n",
              " np.float64(0.04409685176702442),\n",
              " np.float64(0.04528180866748328),\n",
              " np.float64(0.042948638387137306),\n",
              " np.float64(0.05270446188439638),\n",
              " np.float64(0.04753293189892402),\n",
              " np.float64(0.05338025012705747),\n",
              " np.float64(0.044152556497192165),\n",
              " np.float64(0.04040969779192745),\n",
              " np.float64(0.04805992761687802),\n",
              " np.float64(0.04694705925971839),\n",
              " np.float64(0.04930655260801946),\n",
              " np.float64(0.04528910484751427),\n",
              " np.float64(0.0541253290627781),\n",
              " np.float64(0.04915301694145582),\n",
              " np.float64(0.04974386917348466),\n",
              " np.float64(0.05107118839933061),\n",
              " np.float64(0.040356048555008885),\n",
              " np.float64(0.04091680266244733),\n",
              " np.float64(0.05350624335135093),\n",
              " np.float64(0.04759299769502105),\n",
              " np.float64(0.043617657978588055),\n",
              " np.float64(0.04790598754430276),\n",
              " np.float64(0.047895016969587235),\n",
              " np.float64(0.04542351599144331),\n",
              " np.float64(0.04482866454401434),\n",
              " np.float64(0.04623218109167115),\n",
              " np.float64(0.047976598977314336),\n",
              " np.float64(0.04737144086972229),\n",
              " np.float64(0.0506512890432883),\n",
              " np.float64(0.05105624296984984),\n",
              " np.float64(0.050060269020188584),\n",
              " np.float64(0.04169379723966699),\n",
              " np.float64(0.0428398243808146),\n",
              " np.float64(0.04848526281919784),\n",
              " np.float64(0.047102184132893715),\n",
              " np.float64(0.048934461981239394),\n",
              " np.float64(0.04709461615926122),\n",
              " np.float64(0.047904230864815225),\n",
              " np.float64(0.04785101149313779),\n",
              " np.float64(0.04814447470645416),\n",
              " np.float64(0.04822017840846485),\n",
              " np.float64(0.04433143243166974),\n",
              " np.float64(0.05553834270247883),\n",
              " np.float64(0.03939450834299632),\n",
              " np.float64(0.049833936350244745),\n",
              " np.float64(0.04268504073439914),\n",
              " np.float64(0.04862851651298269),\n",
              " np.float64(0.04977804728234539),\n",
              " np.float64(0.052548852254714284),\n",
              " np.float64(0.05116507221006581),\n",
              " np.float64(0.046358884585878606),\n",
              " np.float64(0.04936623139418405),\n",
              " np.float64(0.04616726424414854),\n",
              " np.float64(0.04984879067286811),\n",
              " np.float64(0.04583202421326746),\n",
              " np.float64(0.045603130018792896),\n",
              " np.float64(0.044147887216105866),\n",
              " np.float64(0.04917768408343832),\n",
              " np.float64(0.0468505265426681),\n",
              " np.float64(0.050560640280543724),\n",
              " np.float64(0.04396381951683412),\n",
              " np.float64(0.04642936569039268),\n",
              " np.float64(0.04289703459804981),\n",
              " np.float64(0.05050915445494798),\n",
              " np.float64(0.046646122713282195),\n",
              " np.float64(0.047463300320741135),\n",
              " np.float64(0.04916971650342196),\n",
              " np.float64(0.047789549799983934),\n",
              " np.float64(0.04724784854516104),\n",
              " np.float64(0.04277393420200724),\n",
              " np.float64(0.04289173371020564),\n",
              " np.float64(0.04864537314737834),\n",
              " np.float64(0.04861120332359148),\n",
              " np.float64(0.044896903611812373),\n",
              " np.float64(0.04549752348846321),\n",
              " np.float64(0.05036829999172399),\n",
              " np.float64(0.0472232381244805),\n",
              " np.float64(0.04279524392587322),\n",
              " np.float64(0.04717251456302818),\n",
              " np.float64(0.04616221491750912),\n",
              " np.float64(0.04515048531371871),\n",
              " np.float64(0.043773364021413214),\n",
              " np.float64(0.04521171987847188),\n",
              " np.float64(0.04216541128463247),\n",
              " np.float64(0.04662333598951485),\n",
              " np.float64(0.04805424430330821),\n",
              " np.float64(0.048004050680312424),\n",
              " np.float64(0.04676842624204143),\n",
              " np.float64(0.04715622069378147),\n",
              " np.float64(0.05027061240930017),\n",
              " np.float64(0.04434402918252536),\n",
              " np.float64(0.04013461860098433),\n",
              " np.float64(0.0456112362371307),\n",
              " np.float64(0.04695349308931808),\n",
              " np.float64(0.048265090853109344),\n",
              " np.float64(0.04524940465480308),\n",
              " np.float64(0.04289182877147713),\n",
              " np.float64(0.05012029252404915),\n",
              " np.float64(0.04813841863737378),\n",
              " np.float64(0.039089883125793874),\n",
              " np.float64(0.04847663299555124),\n",
              " np.float64(0.0460595558507478),\n",
              " np.float64(0.042715541454838905),\n",
              " np.float64(0.0459848414548238),\n",
              " np.float64(0.05152677211700431),\n",
              " np.float64(0.04906669975676348),\n",
              " np.float64(0.05427186123348741),\n",
              " np.float64(0.053589105646289825),\n",
              " np.float64(0.04536480289851524),\n",
              " np.float64(0.0479086567310762),\n",
              " np.float64(0.04538799495033053),\n",
              " np.float64(0.04376131497642928),\n",
              " np.float64(0.048048826201741654),\n",
              " np.float64(0.04713271526677299),\n",
              " np.float64(0.04758615106174039),\n",
              " np.float64(0.039957928422001354),\n",
              " np.float64(0.04585272807903927),\n",
              " np.float64(0.04323898206903516),\n",
              " np.float64(0.04567283138219449),\n",
              " np.float64(0.04584853664707147),\n",
              " np.float64(0.04173179218456006),\n",
              " np.float64(0.0477797494356923),\n",
              " np.float64(0.04733448918854667),\n",
              " np.float64(0.04971947612083634),\n",
              " np.float64(0.04251960876552623),\n",
              " np.float64(0.05001741843530195),\n",
              " np.float64(0.04502024766062099),\n",
              " np.float64(0.04235023417487822),\n",
              " np.float64(0.04908919820192514),\n",
              " np.float64(0.0505841706488401),\n",
              " np.float64(0.050222333337325606),\n",
              " np.float64(0.04559908186593666),\n",
              " np.float64(0.04685659377968224),\n",
              " np.float64(0.04440008071908762),\n",
              " np.float64(0.04307893742999186),\n",
              " np.float64(0.04659817268238491),\n",
              " np.float64(0.04633066440079218),\n",
              " np.float64(0.04887385966574493),\n",
              " np.float64(0.05063760554385329),\n",
              " np.float64(0.04585853371617462),\n",
              " np.float64(0.05048080275182773),\n",
              " np.float64(0.04593630529557441),\n",
              " np.float64(0.04103444111587374),\n",
              " np.float64(0.050083242966111025),\n",
              " np.float64(0.047718590452036094),\n",
              " np.float64(0.04531101432876961),\n",
              " np.float64(0.04395829693440931),\n",
              " np.float64(0.04195128235698509),\n",
              " np.float64(0.05013730980860761),\n",
              " np.float64(0.048723527907947164),\n",
              " np.float64(0.051683074924876955),\n",
              " np.float64(0.04593289435092558),\n",
              " np.float64(0.04674571427543161),\n",
              " np.float64(0.0423099314787505),\n",
              " np.float64(0.0503030323572111),\n",
              " np.float64(0.04824509504191295),\n",
              " np.float64(0.05160222595164129),\n",
              " np.float64(0.05223450215710485),\n",
              " np.float64(0.048137008930996546),\n",
              " np.float64(0.05007977902917357),\n",
              " np.float64(0.055028442304721384),\n",
              " np.float64(0.04568322786882),\n",
              " np.float64(0.049090124492072784),\n",
              " np.float64(0.054385140535480055),\n",
              " np.float64(0.04442991430408372),\n",
              " np.float64(0.04631340573529679),\n",
              " np.float64(0.04930723028642994),\n",
              " np.float64(0.05006927698986679),\n",
              " np.float64(0.04205328686541384),\n",
              " np.float64(0.04687558284881062),\n",
              " np.float64(0.05048391163109244),\n",
              " np.float64(0.047989667568690546),\n",
              " np.float64(0.044497765307604305),\n",
              " np.float64(0.04837957803381319),\n",
              " np.float64(0.05128629600052992),\n",
              " np.float64(0.051606796148016276),\n",
              " np.float64(0.0500683763826942),\n",
              " np.float64(0.04588870213961859),\n",
              " np.float64(0.04523418579022903),\n",
              " np.float64(0.05075662451121723),\n",
              " np.float64(0.04550675222116901),\n",
              " np.float64(0.042506628914007416),\n",
              " np.float64(0.04292637444319399),\n",
              " np.float64(0.05022905473628675),\n",
              " np.float64(0.04511055718111195),\n",
              " np.float64(0.04801935867042831),\n",
              " np.float64(0.04798267566642374),\n",
              " np.float64(0.04122543782014582),\n",
              " np.float64(0.046935193607296075),\n",
              " np.float64(0.04498583368551443),\n",
              " np.float64(0.04399293081808232),\n",
              " np.float64(0.04662135482475158),\n",
              " np.float64(0.044353171268749624),\n",
              " np.float64(0.052751207638318566),\n",
              " np.float64(0.040234557706411364),\n",
              " np.float64(0.04269884648620399),\n",
              " np.float64(0.04910726144581359),\n",
              " np.float64(0.04696462033129783),\n",
              " np.float64(0.04393415723921927),\n",
              " np.float64(0.045972165486998756),\n",
              " np.float64(0.051643791845218244),\n",
              " np.float64(0.04948608766582808),\n",
              " np.float64(0.04915433821877266),\n",
              " np.float64(0.04671746100115829),\n",
              " np.float64(0.04749143026001005),\n",
              " np.float64(0.04755475037512658),\n",
              " np.float64(0.04383604078035075),\n",
              " np.float64(0.044721836970082786),\n",
              " np.float64(0.043043937665040145),\n",
              " np.float64(0.04889270294034986),\n",
              " np.float64(0.04742262892154816),\n",
              " np.float64(0.04429702117796054),\n",
              " np.float64(0.05272050965599165),\n",
              " np.float64(0.045498897444161246),\n",
              " np.float64(0.049370097815468944),\n",
              " np.float64(0.0482971656462754),\n",
              " np.float64(0.04854172887358838),\n",
              " np.float64(0.04837724312363979),\n",
              " np.float64(0.044177889776514795),\n",
              " np.float64(0.0503535244765853),\n",
              " np.float64(0.04778174226728658),\n",
              " np.float64(0.04745158271130511),\n",
              " np.float64(0.04257199637703488),\n",
              " np.float64(0.04824878811936746),\n",
              " np.float64(0.04683117196686115),\n",
              " np.float64(0.04055550392500253),\n",
              " np.float64(0.04755723597950438),\n",
              " np.float64(0.04607729924165196),\n",
              " np.float64(0.04215756481803899),\n",
              " np.float64(0.0433195800700274),\n",
              " np.float64(0.049438101360384214),\n",
              " np.float64(0.04722793530949918),\n",
              " np.float64(0.04529895127789361),\n",
              " np.float64(0.0509272488631664),\n",
              " np.float64(0.0471155114648473),\n",
              " np.float64(0.043602860572975945),\n",
              " np.float64(0.04776457025920869),\n",
              " np.float64(0.04697316828887018),\n",
              " np.float64(0.04910607676586569),\n",
              " np.float64(0.04751728963141309),\n",
              " np.float64(0.0476887980238101),\n",
              " np.float64(0.048448568206507725),\n",
              " np.float64(0.04641996911111415),\n",
              " np.float64(0.049453014236019034),\n",
              " np.float64(0.0484357705719804),\n",
              " np.float64(0.04338255609292245),\n",
              " np.float64(0.049320693724847896),\n",
              " np.float64(0.04227307134465895),\n",
              " np.float64(0.045244562240404775),\n",
              " np.float64(0.050224826321508036),\n",
              " np.float64(0.0432508940651206),\n",
              " np.float64(0.04719273604909222),\n",
              " np.float64(0.05058271040978145),\n",
              " np.float64(0.04296073205812348),\n",
              " np.float64(0.053253553469587656),\n",
              " np.float64(0.04672576979974365),\n",
              " np.float64(0.04464500026575807),\n",
              " np.float64(0.04745568220062765),\n",
              " np.float64(0.050922741429515875),\n",
              " np.float64(0.05230682052473238),\n",
              " np.float64(0.04682787292670514),\n",
              " np.float64(0.04972546045293678),\n",
              " np.float64(0.05239141630188143),\n",
              " np.float64(0.048605964664547294),\n",
              " np.float64(0.040501857106864395),\n",
              " np.float64(0.046225413588479015),\n",
              " np.float64(0.049122966225140036),\n",
              " np.float64(0.05391407298851188),\n",
              " np.float64(0.050151312484668704),\n",
              " np.float64(0.045824547244881414),\n",
              " np.float64(0.05274972488064488),\n",
              " np.float64(0.04828652588561449),\n",
              " np.float64(0.04658119459086112),\n",
              " np.float64(0.047536667726847025),\n",
              " np.float64(0.045114588231388635),\n",
              " np.float64(0.04478772137619857),\n",
              " np.float64(0.04154446096151851),\n",
              " np.float64(0.04220195668337551),\n",
              " np.float64(0.046012608347133346),\n",
              " np.float64(0.04190842287355358),\n",
              " np.float64(0.04332743158385235),\n",
              " np.float64(0.04865302042665203),\n",
              " np.float64(0.041605019587565614),\n",
              " np.float64(0.04942172660777268),\n",
              " np.float64(0.04344496691386263),\n",
              " np.float64(0.04813419889973944),\n",
              " np.float64(0.044602428178255354),\n",
              " np.float64(0.04795679749890301),\n",
              " np.float64(0.046260065488341794),\n",
              " np.float64(0.04076344366598194),\n",
              " np.float64(0.040730356186321565),\n",
              " np.float64(0.05365449789297375),\n",
              " np.float64(0.04941188255626548),\n",
              " np.float64(0.05213721950546789),\n",
              " np.float64(0.04627297762848973),\n",
              " np.float64(0.0488398235233518),\n",
              " np.float64(0.04828817878028399),\n",
              " np.float64(0.049231978138354664),\n",
              " np.float64(0.05059927000324656),\n",
              " np.float64(0.05244496518233828),\n",
              " np.float64(0.0479591999452381),\n",
              " np.float64(0.045982844940790246),\n",
              " np.float64(0.045621003567997205),\n",
              " np.float64(0.049778807968259044),\n",
              " np.float64(0.04714680096552689),\n",
              " np.float64(0.04891791690674482),\n",
              " np.float64(0.050776497063380235),\n",
              " np.float64(0.049412194341329714),\n",
              " np.float64(0.04448379444898078),\n",
              " np.float64(0.045775836149773916),\n",
              " np.float64(0.04821313817198547),\n",
              " np.float64(0.04787374735938706),\n",
              " np.float64(0.04915037898522263),\n",
              " np.float64(0.048744680625569366),\n",
              " np.float64(0.046240515584066826),\n",
              " np.float64(0.04213646687316962),\n",
              " np.float64(0.04959496980231584),\n",
              " np.float64(0.04508018455090896),\n",
              " np.float64(0.04500146093998395),\n",
              " np.float64(0.04819239623485708),\n",
              " np.float64(0.05076887360065529),\n",
              " np.float64(0.04862359818238073),\n",
              " np.float64(0.04616057433013835),\n",
              " np.float64(0.04455341333655764),\n",
              " np.float64(0.04137484365142118),\n",
              " np.float64(0.04509760992015392),\n",
              " np.float64(0.04491747303444785),\n",
              " np.float64(0.04732598165235322),\n",
              " np.float64(0.044082652155071796),\n",
              " np.float64(0.04979685167238082),\n",
              " np.float64(0.050653857052335605),\n",
              " np.float64(0.04664705921007087),\n",
              " np.float64(0.04585425525734124),\n",
              " np.float64(0.04610495016687432),\n",
              " np.float64(0.04731190257908531),\n",
              " np.float64(0.043386939889326126),\n",
              " np.float64(0.04306560285204274),\n",
              " np.float64(0.055829648636445496),\n",
              " np.float64(0.043135975205400356),\n",
              " np.float64(0.03849484330674992),\n",
              " np.float64(0.049439052955429386),\n",
              " np.float64(0.0489491343643109),\n",
              " np.float64(0.046958227307105575),\n",
              " np.float64(0.04600941401071177),\n",
              " np.float64(0.05006640635476062),\n",
              " np.float64(0.045378381270942326),\n",
              " np.float64(0.05192785756056726),\n",
              " np.float64(0.0485551750747754),\n",
              " np.float64(0.04362035544579992),\n",
              " np.float64(0.04879634671203803),\n",
              " np.float64(0.04474167446184677),\n",
              " np.float64(0.04714713852210131),\n",
              " np.float64(0.05431927618277091),\n",
              " np.float64(0.043799328550313196),\n",
              " np.float64(0.050458824908564695),\n",
              " np.float64(0.043756770440179005),\n",
              " np.float64(0.04505706369944498),\n",
              " np.float64(0.04442311706341471),\n",
              " np.float64(0.048078785457813966),\n",
              " np.float64(0.049995082679300674),\n",
              " np.float64(0.04935148646777049),\n",
              " np.float64(0.046696282480123745),\n",
              " np.float64(0.03932790292615274),\n",
              " np.float64(0.0431327659221082),\n",
              " np.float64(0.051498634656533426),\n",
              " np.float64(0.0410739222011955),\n",
              " np.float64(0.051116931742785525),\n",
              " np.float64(0.04869429555358542),\n",
              " np.float64(0.04954421924734548),\n",
              " np.float64(0.052468478317888),\n",
              " np.float64(0.04147618406950711),\n",
              " np.float64(0.043972354809559286),\n",
              " np.float64(0.046034719931527114),\n",
              " np.float64(0.04577815771673457),\n",
              " np.float64(0.04794137990415649),\n",
              " np.float64(0.04597227839963924),\n",
              " np.float64(0.04343812397802866),\n",
              " np.float64(0.042165334572933436),\n",
              " np.float64(0.047690805727135056),\n",
              " np.float64(0.0518631332608471),\n",
              " np.float64(0.04453818995787906),\n",
              " np.float64(0.05128960851380522),\n",
              " np.float64(0.045746160790852204),\n",
              " np.float64(0.045021039141038416),\n",
              " np.float64(0.04085261890981446),\n",
              " np.float64(0.048093155140239915),\n",
              " np.float64(0.05269842110337268),\n",
              " np.float64(0.04668415148035664),\n",
              " np.float64(0.043281839751529154),\n",
              " np.float64(0.04720339268158362),\n",
              " np.float64(0.040885797265422456),\n",
              " np.float64(0.052402680099688494),\n",
              " np.float64(0.05101749532350026),\n",
              " np.float64(0.04759285746080787),\n",
              " np.float64(0.044935060978468645),\n",
              " np.float64(0.0503095531902163),\n",
              " np.float64(0.04490863856060415),\n",
              " np.float64(0.0505277269133811),\n",
              " np.float64(0.04730519400477097),\n",
              " np.float64(0.0422534535223942),\n",
              " np.float64(0.04601059771192158),\n",
              " np.float64(0.04911297816348917),\n",
              " np.float64(0.0475474858705358),\n",
              " np.float64(0.05098967029658267),\n",
              " np.float64(0.04431921017772276),\n",
              " np.float64(0.048733083199818304),\n",
              " np.float64(0.04913915631603989),\n",
              " np.float64(0.04846699344379256),\n",
              " np.float64(0.047871198383874214),\n",
              " np.float64(0.04531889217891089),\n",
              " np.float64(0.0427426475437353),\n",
              " np.float64(0.044649450842083854),\n",
              " np.float64(0.052975096629718964),\n",
              " np.float64(0.04918555799271885),\n",
              " np.float64(0.04916491817390679),\n",
              " np.float64(0.05139046648210372),\n",
              " np.float64(0.04801318865239378),\n",
              " np.float64(0.045976948511961734),\n",
              " np.float64(0.04628621246139049),\n",
              " np.float64(0.04686875576322704),\n",
              " np.float64(0.04531294458279477),\n",
              " np.float64(0.04886787836381719),\n",
              " np.float64(0.045946085697603584),\n",
              " np.float64(0.042816116760592736),\n",
              " np.float64(0.05033657662381273),\n",
              " np.float64(0.04483541312856806),\n",
              " np.float64(0.04660066828790095),\n",
              " np.float64(0.05021446937253689),\n",
              " np.float64(0.04540919707180992),\n",
              " np.float64(0.04215810948133109),\n",
              " np.float64(0.04479981233907009),\n",
              " np.float64(0.04808658244279005),\n",
              " np.float64(0.04451921554436465),\n",
              " np.float64(0.04479454048847918),\n",
              " np.float64(0.045657392618935075),\n",
              " np.float64(0.047714644840502515),\n",
              " np.float64(0.04811939496977938),\n",
              " np.float64(0.04269755737385197),\n",
              " np.float64(0.05117720596771557),\n",
              " np.float64(0.04962944172109365),\n",
              " np.float64(0.04547466836094433),\n",
              " np.float64(0.047897233866529144),\n",
              " np.float64(0.04496506060558326),\n",
              " np.float64(0.04530211469070596),\n",
              " np.float64(0.04512771746607847),\n",
              " np.float64(0.052504276715110855),\n",
              " np.float64(0.048065656741556016),\n",
              " np.float64(0.05016727087273718),\n",
              " np.float64(0.05195950286568757),\n",
              " np.float64(0.048400975371920334),\n",
              " np.float64(0.047603834840563186),\n",
              " np.float64(0.051843301004971025),\n",
              " np.float64(0.04793134982202337),\n",
              " np.float64(0.04751141156213257),\n",
              " np.float64(0.0480657087777166),\n",
              " np.float64(0.047678984580889296),\n",
              " np.float64(0.046030556087107946),\n",
              " np.float64(0.0494458179895336),\n",
              " np.float64(0.046354877229540806),\n",
              " np.float64(0.04764675660242736),\n",
              " np.float64(0.043799271563227465),\n",
              " np.float64(0.045489585263534416),\n",
              " np.float64(0.04981357065669798),\n",
              " np.float64(0.04937730656381129),\n",
              " np.float64(0.04721700336450229),\n",
              " np.float64(0.04424393917423317),\n",
              " np.float64(0.05350996630627104),\n",
              " np.float64(0.04503312715554878),\n",
              " np.float64(0.04081319856581694),\n",
              " np.float64(0.04600939877165248),\n",
              " np.float64(0.04260743263359381),\n",
              " np.float64(0.04735129634785818),\n",
              " np.float64(0.04557722520530631),\n",
              " np.float64(0.04839072763566099),\n",
              " np.float64(0.045843941436691744),\n",
              " np.float64(0.0410176668339516),\n",
              " np.float64(0.050886922726817434),\n",
              " np.float64(0.04819018936332962),\n",
              " np.float64(0.0476339838936227),\n",
              " np.float64(0.04952331012551923),\n",
              " np.float64(0.04845987732742589),\n",
              " np.float64(0.04566107832253604),\n",
              " np.float64(0.044386593449225964),\n",
              " np.float64(0.04783729279396232),\n",
              " np.float64(0.04756098664636607),\n",
              " np.float64(0.05401450672091904),\n",
              " np.float64(0.0489480069078858),\n",
              " np.float64(0.045941430029547245),\n",
              " np.float64(0.044846725663732934),\n",
              " np.float64(0.04047629313516293),\n",
              " np.float64(0.05100409967862571),\n",
              " np.float64(0.045498756389161454),\n",
              " np.float64(0.047282873284182514),\n",
              " np.float64(0.043776104627036135),\n",
              " np.float64(0.04445861842420117),\n",
              " np.float64(0.04397761605594884),\n",
              " np.float64(0.046662482374733666),\n",
              " np.float64(0.05422780345101053),\n",
              " np.float64(0.04836768356824902),\n",
              " np.float64(0.05321347630507425),\n",
              " np.float64(0.04832935747597009),\n",
              " np.float64(0.05308821094801796),\n",
              " np.float64(0.047885858973562546),\n",
              " np.float64(0.054718862067078045),\n",
              " np.float64(0.046621555201672826),\n",
              " np.float64(0.042621441175865374),\n",
              " np.float64(0.04287765949713912),\n",
              " np.float64(0.04847404537089937),\n",
              " np.float64(0.041511562919896064),\n",
              " np.float64(0.041552631239220345),\n",
              " np.float64(0.045337180417279896),\n",
              " np.float64(0.04806175316718777),\n",
              " np.float64(0.04790255378662709),\n",
              " np.float64(0.04393885822021069),\n",
              " np.float64(0.05014057702718625),\n",
              " np.float64(0.04604913346746659),\n",
              " np.float64(0.0469351171885222),\n",
              " np.float64(0.04517039756414082),\n",
              " np.float64(0.04347267639390449),\n",
              " np.float64(0.04409696427817728),\n",
              " np.float64(0.05235877081831666),\n",
              " np.float64(0.04821889821036138),\n",
              " np.float64(0.045492788020239004),\n",
              " np.float64(0.04959918733745605),\n",
              " np.float64(0.050545316003449),\n",
              " np.float64(0.048114081355783454),\n",
              " np.float64(0.046044884479723956),\n",
              " np.float64(0.04380944056143449),\n",
              " np.float64(0.04953900030373758),\n",
              " np.float64(0.05005055439012909),\n",
              " np.float64(0.05138935225833076),\n",
              " np.float64(0.04690493836482451),\n",
              " np.float64(0.04922996622664846),\n",
              " np.float64(0.0480681249179723),\n",
              " np.float64(0.04404423633283366),\n",
              " np.float64(0.040440426402367974),\n",
              " np.float64(0.04807067128339321),\n",
              " np.float64(0.04755169337833979),\n",
              " np.float64(0.04400988135737282),\n",
              " np.float64(0.04520435382930351),\n",
              " np.float64(0.050267703945755284),\n",
              " np.float64(0.047953335914962196),\n",
              " np.float64(0.04419615186421821),\n",
              " np.float64(0.04616928666518653),\n",
              " np.float64(0.049781371912906096),\n",
              " np.float64(0.047790032080709935),\n",
              " np.float64(0.049987046325544814),\n",
              " np.float64(0.04617733507272474),\n",
              " np.float64(0.04970550921721996),\n",
              " np.float64(0.05010652604104013),\n",
              " np.float64(0.04710155002276931),\n",
              " np.float64(0.04617929642725912),\n",
              " np.float64(0.04620464763429716),\n",
              " np.float64(0.04590547288016055),\n",
              " np.float64(0.047666230545871366),\n",
              " np.float64(0.04343307879806132),\n",
              " np.float64(0.041180179848227645),\n",
              " np.float64(0.04947199808670086),\n",
              " np.float64(0.04683058451056344),\n",
              " np.float64(0.046454202725366496),\n",
              " np.float64(0.044201759563250786),\n",
              " np.float64(0.0449659840033394),\n",
              " np.float64(0.050819053892878496),\n",
              " np.float64(0.05004992748754276),\n",
              " np.float64(0.04532661862560311),\n",
              " np.float64(0.053060152493361865),\n",
              " np.float64(0.04825304568125488),\n",
              " np.float64(0.046895161403406646),\n",
              " np.float64(0.04522191447105577),\n",
              " np.float64(0.049927570226203054),\n",
              " np.float64(0.04536553933446468),\n",
              " np.float64(0.04923884670204361),\n",
              " np.float64(0.040139050262386136),\n",
              " np.float64(0.039658171693266624),\n",
              " np.float64(0.04366460115519361),\n",
              " np.float64(0.04803961742500122),\n",
              " np.float64(0.04973098959973709),\n",
              " np.float64(0.04926341094452014),\n",
              " np.float64(0.04187786707475851),\n",
              " np.float64(0.046141548490057076),\n",
              " np.float64(0.04585508909105692),\n",
              " np.float64(0.045211573935877845),\n",
              " np.float64(0.046554228063361104),\n",
              " np.float64(0.04404498731313616),\n",
              " np.float64(0.046729874526630084),\n",
              " np.float64(0.04773078223990793),\n",
              " np.float64(0.05206866437686072),\n",
              " np.float64(0.04772827917732064),\n",
              " np.float64(0.048652505127949094),\n",
              " np.float64(0.05060602615943587),\n",
              " np.float64(0.042689374581846275),\n",
              " np.float64(0.05237200107828286),\n",
              " np.float64(0.046728574919708575),\n",
              " np.float64(0.045598497201769485),\n",
              " np.float64(0.05188579186945455),\n",
              " np.float64(0.049701142590880015),\n",
              " np.float64(0.048702590844935334),\n",
              " np.float64(0.05176920322764534),\n",
              " np.float64(0.04805089553475192),\n",
              " np.float64(0.043745126326495416),\n",
              " np.float64(0.04632298379749024),\n",
              " np.float64(0.042249650429599044),\n",
              " np.float64(0.04562400161512742),\n",
              " np.float64(0.046382776945510136),\n",
              " np.float64(0.04764315960683184),\n",
              " np.float64(0.041013207576059106),\n",
              " np.float64(0.04796851894872058),\n",
              " np.float64(0.045762272670092745),\n",
              " np.float64(0.0478218301863645),\n",
              " np.float64(0.049361824669833895),\n",
              " np.float64(0.04547418905039356),\n",
              " np.float64(0.04975529842594092),\n",
              " np.float64(0.05035914913474232),\n",
              " np.float64(0.046083097241997946),\n",
              " np.float64(0.04143074518039396),\n",
              " np.float64(0.04665147568246379),\n",
              " np.float64(0.03858181764211742),\n",
              " np.float64(0.05105700245572738),\n",
              " np.float64(0.04750356580412678),\n",
              " np.float64(0.047621064928740096),\n",
              " np.float64(0.04236842856478208),\n",
              " np.float64(0.05345780764572837),\n",
              " np.float64(0.049147962381031654),\n",
              " np.float64(0.04482884492106227),\n",
              " np.float64(0.0480566061773865),\n",
              " np.float64(0.04403635972255348),\n",
              " np.float64(0.045643102178016585),\n",
              " np.float64(0.048954828866016126),\n",
              " np.float64(0.04642081570519877),\n",
              " np.float64(0.050902538178365674),\n",
              " np.float64(0.044769833789412766),\n",
              " np.float64(0.048087954389471416),\n",
              " np.float64(0.04692008873625556),\n",
              " np.float64(0.04297731846142085),\n",
              " np.float64(0.0468973635988454),\n",
              " np.float64(0.047337873451936394),\n",
              " np.float64(0.05050042502618933),\n",
              " np.float64(0.050284165849507526),\n",
              " np.float64(0.04701308373774864),\n",
              " np.float64(0.04769832741468332),\n",
              " np.float64(0.0495122153061417),\n",
              " np.float64(0.04648225793783485),\n",
              " np.float64(0.0480899416430008),\n",
              " np.float64(0.047151907436671844),\n",
              " np.float64(0.051535669409538444),\n",
              " np.float64(0.050363802193732515),\n",
              " np.float64(0.047962558449907544),\n",
              " np.float64(0.042756344821543446),\n",
              " np.float64(0.04592863912699505),\n",
              " np.float64(0.048024319504396534),\n",
              " np.float64(0.048678552195886356),\n",
              " np.float64(0.049096020347345885),\n",
              " np.float64(0.04224481251848991),\n",
              " np.float64(0.045519791011643565),\n",
              " np.float64(0.049239061963899086),\n",
              " np.float64(0.04423592820618425),\n",
              " np.float64(0.05002173655596863),\n",
              " np.float64(0.04719962902453033),\n",
              " np.float64(0.05289343959189851),\n",
              " np.float64(0.04794574545878754),\n",
              " np.float64(0.04408100629942709),\n",
              " np.float64(0.04849262340423809),\n",
              " np.float64(0.05082951538755567),\n",
              " np.float64(0.047980317932548984),\n",
              " np.float64(0.043384451917811324),\n",
              " np.float64(0.051673838098345984),\n",
              " np.float64(0.041630115858003185),\n",
              " np.float64(0.046498513281592546),\n",
              " np.float64(0.04345573645426571),\n",
              " np.float64(0.04428762454937844),\n",
              " np.float64(0.04032208008830184),\n",
              " np.float64(0.048045633720844624),\n",
              " np.float64(0.047923093045033144),\n",
              " np.float64(0.04421788295210867),\n",
              " np.float64(0.052327513143102376),\n",
              " np.float64(0.053879245856602045),\n",
              " np.float64(0.049414451775479255),\n",
              " np.float64(0.0467835279665773),\n",
              " np.float64(0.04531195233898401),\n",
              " np.float64(0.042229379262771385),\n",
              " np.float64(0.04350846773023206),\n",
              " np.float64(0.047985005517052884),\n",
              " np.float64(0.049014892547574636),\n",
              " np.float64(0.039571898913577014),\n",
              " np.float64(0.04760838807511993),\n",
              " np.float64(0.04943081161322842),\n",
              " np.float64(0.051057726110854636),\n",
              " np.float64(0.044875480211100785),\n",
              " np.float64(0.05355412765691739),\n",
              " np.float64(0.0467542323812104),\n",
              " np.float64(0.04781300387078601),\n",
              " np.float64(0.046409363164136484),\n",
              " np.float64(0.05392016467023236),\n",
              " np.float64(0.04468907634840667),\n",
              " np.float64(0.05018327919787419),\n",
              " np.float64(0.046703650688021583),\n",
              " np.float64(0.04930030353464774),\n",
              " np.float64(0.04839540722558252),\n",
              " np.float64(0.04355475720448249),\n",
              " np.float64(0.04474341903848174),\n",
              " np.float64(0.047175260669076194),\n",
              " np.float64(0.05244077398186694),\n",
              " np.float64(0.049623884711480014),\n",
              " np.float64(0.050352375418402706),\n",
              " np.float64(0.047250147577482096),\n",
              " np.float64(0.04792577522246066),\n",
              " np.float64(0.050503974389393),\n",
              " np.float64(0.04505627146599336),\n",
              " np.float64(0.05277080033222927),\n",
              " np.float64(0.05085554050112454),\n",
              " np.float64(0.04496649477892415),\n",
              " np.float64(0.047047709669718114),\n",
              " np.float64(0.042464978986910776),\n",
              " np.float64(0.043067872933806005),\n",
              " np.float64(0.04717997114438037),\n",
              " np.float64(0.05087526323747153),\n",
              " np.float64(0.0430056059814147),\n",
              " np.float64(0.05032031425845001),\n",
              " np.float64(0.043882071151940955),\n",
              " np.float64(0.04995834767052475),\n",
              " np.float64(0.04924528192687221),\n",
              " np.float64(0.050929865349377525),\n",
              " np.float64(0.04946999070945798),\n",
              " np.float64(0.049268788894241085),\n",
              " np.float64(0.04858405230034188),\n",
              " np.float64(0.04519786351736256),\n",
              " np.float64(0.04360014474170539),\n",
              " np.float64(0.05212058564977174),\n",
              " np.float64(0.045631365698171965),\n",
              " np.float64(0.0487360931134656),\n",
              " np.float64(0.04912118130497661),\n",
              " np.float64(0.05086934226013175),\n",
              " np.float64(0.04392121696226188),\n",
              " np.float64(0.044605350747040244),\n",
              " np.float64(0.04822412942549401),\n",
              " np.float64(0.04731799029591106),\n",
              " np.float64(0.052006744676398695),\n",
              " np.float64(0.04143003518513437),\n",
              " np.float64(0.042412159899081106),\n",
              " np.float64(0.0426570171122584),\n",
              " np.float64(0.04336948533452208),\n",
              " np.float64(0.04542086227819055),\n",
              " np.float64(0.043658541384123534),\n",
              " np.float64(0.048144569743751635),\n",
              " np.float64(0.04401368761203234),\n",
              " np.float64(0.04729056388681277),\n",
              " np.float64(0.045792015838913555),\n",
              " np.float64(0.04202032016986753),\n",
              " np.float64(0.04117499307882839),\n",
              " np.float64(0.048545845617538545),\n",
              " np.float64(0.047419050618777304),\n",
              " np.float64(0.048982311173003716),\n",
              " np.float64(0.04249704686067423),\n",
              " np.float64(0.045886403967055775),\n",
              " np.float64(0.051093786528578294),\n",
              " np.float64(0.0524449628286064),\n",
              " np.float64(0.04386448460707769),\n",
              " np.float64(0.050087797315651564),\n",
              " np.float64(0.04570841974451174),\n",
              " np.float64(0.04838948660435804),\n",
              " np.float64(0.04659865749278512),\n",
              " np.float64(0.04354103679661046),\n",
              " np.float64(0.047991524437108954),\n",
              " np.float64(0.04658951630471299),\n",
              " np.float64(0.05225092307488835),\n",
              " np.float64(0.051359401100301745),\n",
              " np.float64(0.0475367414593133),\n",
              " np.float64(0.046634522918610324),\n",
              " np.float64(0.04657943821848956),\n",
              " np.float64(0.05000229969363071),\n",
              " np.float64(0.043475882874200296),\n",
              " np.float64(0.04590198159056667),\n",
              " np.float64(0.04372162647832158),\n",
              " np.float64(0.04731432148251597),\n",
              " np.float64(0.05171869451933067),\n",
              " np.float64(0.047525792642402025),\n",
              " np.float64(0.04983565764141755),\n",
              " np.float64(0.04560569712117443),\n",
              " np.float64(0.04719571452098216),\n",
              " np.float64(0.04201214640019782),\n",
              " np.float64(0.049503484807046014),\n",
              " np.float64(0.04370608104567469),\n",
              " np.float64(0.044576602489574256),\n",
              " np.float64(0.044391562661513),\n",
              " ...]"
            ]
          },
          "metadata": {},
          "execution_count": 59
        }
      ],
      "source": [
        "# Solution goes here\n",
        "\n",
        "t6 = [simulate_sample_cv(103, mean_height, std_height) for i in range(1001)]"
      ]
    },
    {
      "cell_type": "code",
      "execution_count": 62,
      "metadata": {
        "id": "svoiON2fHNdA",
        "outputId": "771940d3-7b8e-4428-fc3b-3cefa57eb64f",
        "colab": {
          "base_uri": "https://localhost:8080/",
          "height": 281
        }
      },
      "outputs": [
        {
          "output_type": "display_data",
          "data": {
            "text/plain": [
              "<Figure size 450x262.5 with 1 Axes>"
            ],
            "image/png": "[encoded data removed]"
          },
          "metadata": {}
        }
      ],
      "source": [
        "# Solution goes here\n",
        "\n",
        "sns.kdeplot(t6)\n",
        "\n",
        "plt.xlabel('Coefficient of variation')\n",
        "plt.ylabel('Probability density')\n",
        "plt.title('Coefficient of variation from simulations');"
      ]
    },
    {
      "cell_type": "code",
      "execution_count": 63,
      "metadata": {
        "id": "NunKomKSHNdB",
        "outputId": "8e41cc47-a5c0-4266-b1a6-0278ab8cfb76",
        "colab": {
          "base_uri": "https://localhost:8080/"
        }
      },
      "outputs": [
        {
          "output_type": "execute_result",
          "data": {
            "text/plain": [
              "array([0.04177484, 0.05240268])"
            ]
          },
          "metadata": {},
          "execution_count": 63
        }
      ],
      "source": [
        "# Solution goes here\n",
        "\n",
        "np.percentile(t6, [5,95])"
      ]
    },
    {
      "cell_type": "markdown",
      "metadata": {
        "id": "X-pBlKidHNdC"
      },
      "source": [
        "## Summary\n",
        "\n",
        "Let's review the examples in this chapter:\n",
        "\n",
        "1. We started with results from a vaccine trial.  We estimated the effectiveness of the vaccine and used simulation to draw a random sample from the sampling distribution of effectiveness.  We used that sample to compute a standard error and a 90% confidence interval, which measure the variability we would expect if we ran the experiment again (assuming that the observed efficacy is correct).\n",
        "\n",
        "2. As a second example, we estimated the height of adult males in the U.S. and used simulation based on a normal model to compute the sampling distribution of the mean, standard error, and a confidence interval.\n",
        "\n",
        "3. We implemented a second model of the vaccine trial, based on the assumption that there is variation in risk within the groups. The results from the two models are similar, which suggests that the simple model is good enough for practical purposes.\n",
        "\n",
        "4. One of the advantages of resampling, compared to mathematical analysis, is that it is easy to compute the sampling distribution of almost any statistic.  As an exercise, you computed the sampling distribution of the coefficient of variation.\n"
      ]
    },
    {
      "cell_type": "markdown",
      "metadata": {
        "tags": [],
        "id": "jd2AnDnTHNdD"
      },
      "source": [
        "*Elements of Data Science*\n",
        "\n",
        "Copyright 2021 [Allen B. Downey](https://allendowney.com)\n",
        "\n",
        "License: [Creative Commons Attribution-NonCommercial-ShareAlike 4.0 International](https://creativecommons.org/licenses/by-nc-sa/4.0/)"
      ]
    },
    {
      "cell_type": "code",
      "execution_count": null,
      "metadata": {
        "id": "-Yy_q4BCHNdE"
      },
      "outputs": [],
      "source": []
    }
  ],
  "metadata": {
    "celltoolbar": "Tags",
    "kernelspec": {
      "display_name": "Python 3 (ipykernel)",
      "language": "python",
      "name": "python3"
    },
    "language_info": {
      "codemirror_mode": {
        "name": "ipython",
        "version": 3
      },
      "file_extension": ".py",
      "mimetype": "text/x-python",
      "name": "python",
      "nbconvert_exporter": "python",
      "pygments_lexer": "ipython3",
      "version": "3.10.14"
    },
    "colab": {
      "provenance": []
    }
  },
  "nbformat": 4,
  "nbformat_minor": 0
}