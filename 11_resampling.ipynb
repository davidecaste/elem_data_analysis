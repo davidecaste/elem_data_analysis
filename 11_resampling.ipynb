{
  "cells": [
    {
      "cell_type": "markdown",
      "metadata": {
        "id": "oH6ra8Z-kA2j"
      },
      "source": [
        "Printed copies of *Elements of Data Science* are available now, with a **full color interior**, from [Lulu.com](https://www.lulu.com/shop/allen-downey/elements-of-data-science/paperback/product-9dyrwn.html)."
      ]
    },
    {
      "cell_type": "markdown",
      "metadata": {
        "id": "mrI1WhrLkA2l"
      },
      "source": [
        "# Resampling"
      ]
    },
    {
      "cell_type": "code",
      "execution_count": 1,
      "metadata": {
        "tags": [],
        "id": "-zb2LyEbkA2m",
        "outputId": "3460383d-c534-4b6d-d406-a13ce29178f2",
        "colab": {
          "base_uri": "https://localhost:8080/"
        }
      },
      "outputs": [
        {
          "output_type": "stream",
          "name": "stdout",
          "text": [
            "Downloaded utils.py\n"
          ]
        }
      ],
      "source": [
        "from os.path import basename, exists\n",
        "\n",
        "def download(url):\n",
        "    filename = basename(url)\n",
        "    if not exists(filename):\n",
        "        from urllib.request import urlretrieve\n",
        "\n",
        "        local, _ = urlretrieve(url, filename)\n",
        "        print(\"Downloaded \" + str(local))\n",
        "    return filename\n",
        "\n",
        "download('https://raw.githubusercontent.com/AllenDowney/ElementsOfDataScience/v1/utils.py')\n",
        "\n",
        "import utils"
      ]
    },
    {
      "cell_type": "markdown",
      "metadata": {
        "tags": [],
        "id": "YJ9V608_kA2o"
      },
      "source": [
        "[Click here to run this notebook on Colab](https://colab.research.google.com/github/AllenDowney/ElementsOfDataScience/blob/v1/11_resampling.ipynb)."
      ]
    },
    {
      "cell_type": "markdown",
      "metadata": {
        "id": "tGygNWlBkA2p"
      },
      "source": [
        "This chapter introduces **resampling methods**, which are used to quantify the precision of an estimate.\n",
        "As a first example, we'll use results from a medical trial to estimate the efficacy of the vaccine."
      ]
    },
    {
      "cell_type": "markdown",
      "metadata": {
        "id": "CMHJWOynkA2p"
      },
      "source": [
        "## Vaccine Testing\n",
        "\n",
        "Suppose you read a report about a new vaccine and the manufacturer says it is 67% effective at preventing disease.\n",
        "You might wonder where that number comes from, what it means, and how confident we should be that it is correct.\n",
        "Results like this often come from a randomized controlled trial (RCT), which works like this:\n",
        "\n",
        "* You recruit a large group of volunteers and divide them into two groups at random: the \"treatment group\" receives the vaccine; the \"control group\" does not.\n",
        "\n",
        "* Then you follow both groups for a period of time and record the number of people in each group who are diagnosed with the disease.\n",
        "\n",
        "As an example, suppose you recruit 43,783 participants and they are assigned to groups with approximately the same size."
      ]
    },
    {
      "cell_type": "code",
      "execution_count": 2,
      "metadata": {
        "id": "XhRlSkbukA2q"
      },
      "outputs": [],
      "source": [
        "n_control = 21885\n",
        "n_treatment = 21911"
      ]
    },
    {
      "cell_type": "markdown",
      "metadata": {
        "id": "uCftAmMNkA2q"
      },
      "source": [
        "During the observation period, 468 people are diagnosed with the disease: 352 in the control group and 116 in the treatment group."
      ]
    },
    {
      "cell_type": "code",
      "execution_count": 3,
      "metadata": {
        "id": "6DMCIh8-kA2r"
      },
      "outputs": [],
      "source": [
        "k_control = 352\n",
        "k_treatment = 116"
      ]
    },
    {
      "cell_type": "markdown",
      "metadata": {
        "id": "NzVF49iRkA2r"
      },
      "source": [
        "We can use these results to compute the risk of getting the disease for each group, in cases per 1000 people"
      ]
    },
    {
      "cell_type": "code",
      "execution_count": 4,
      "metadata": {
        "id": "SIChCB8FkA2s",
        "outputId": "31f320c6-c1fb-4b52-eb56-8aaa9c428879",
        "colab": {
          "base_uri": "https://localhost:8080/"
        }
      },
      "outputs": [
        {
          "output_type": "execute_result",
          "data": {
            "text/plain": [
              "16.084075851039522"
            ]
          },
          "metadata": {},
          "execution_count": 4
        }
      ],
      "source": [
        "risk_control = k_control / n_control * 1000\n",
        "risk_control"
      ]
    },
    {
      "cell_type": "code",
      "execution_count": 5,
      "metadata": {
        "id": "tXuhhAl2kA2s",
        "outputId": "65474340-417b-47ca-e3e0-5bfd6da27fec",
        "colab": {
          "base_uri": "https://localhost:8080/"
        }
      },
      "outputs": [
        {
          "output_type": "execute_result",
          "data": {
            "text/plain": [
              "5.294144493633334"
            ]
          },
          "metadata": {},
          "execution_count": 5
        }
      ],
      "source": [
        "risk_treatment = k_treatment / n_treatment * 1000\n",
        "risk_treatment"
      ]
    },
    {
      "cell_type": "markdown",
      "metadata": {
        "id": "5_UAUVcokA2t"
      },
      "source": [
        "The risk is substantially lower in the treatment group -- about 5 per 1000, compared to 16 -- which suggests that the vaccine is effective.\n",
        "We can summarize these results by computing relative risk, which is the ratio of the two risks:"
      ]
    },
    {
      "cell_type": "code",
      "execution_count": 6,
      "metadata": {
        "id": "LnkSSQ90kA2t",
        "outputId": "6886e3e2-1bc6-493c-87eb-dbbb987b6ab0",
        "colab": {
          "base_uri": "https://localhost:8080/"
        }
      },
      "outputs": [
        {
          "output_type": "execute_result",
          "data": {
            "text/plain": [
              "0.3291544097817203"
            ]
          },
          "metadata": {},
          "execution_count": 6
        }
      ],
      "source": [
        "relative_risk = risk_treatment / risk_control\n",
        "relative_risk"
      ]
    },
    {
      "cell_type": "markdown",
      "metadata": {
        "id": "POFipLYjkA2u"
      },
      "source": [
        "The relative risk is about 0.33, which means that the risk of disease in the treatment group is 33% of the risk in the control group.\n",
        "Equivalently, we could report the complement of relative risk, which is **efficacy**:"
      ]
    },
    {
      "cell_type": "code",
      "execution_count": 7,
      "metadata": {
        "id": "YUPFSBD6kA2u",
        "outputId": "0a1918a9-1689-4286-9bfd-d622fb434907",
        "colab": {
          "base_uri": "https://localhost:8080/"
        }
      },
      "outputs": [
        {
          "output_type": "execute_result",
          "data": {
            "text/plain": [
              "0.6708455902182797"
            ]
          },
          "metadata": {},
          "execution_count": 7
        }
      ],
      "source": [
        "efficacy = 1 - relative_risk\n",
        "efficacy"
      ]
    },
    {
      "cell_type": "markdown",
      "metadata": {
        "id": "C9nHTuhEkA2u"
      },
      "source": [
        "In this example the efficacy is 0.67, which means that the vaccine reduces the risk of disease by 67%.\n",
        "That's good news, but as skeptical data scientists, we should not assume that it is perfectly accurate.\n",
        "There are any number of things that might have gone wrong.\n",
        "\n",
        "For example, if people in the treatment group know they have been vaccinated, they might take fewer precautions to prevent disease, and people in the control group might be more careful.\n",
        "That would affect the estimated efficacy, which is why a lot of trials are \"blinded\", meaning that the subjects don't know which group they are in.\n",
        "\n",
        "The estimate would also be less accurate if people in either group don't follow the protocol.\n",
        "For example, someone in the treatment group might not complete treatment, or someone in the control group might receive treatment from another source.\n",
        "And there are many other possible sources of error, including honest mistakes and deliberate fraud."
      ]
    },
    {
      "cell_type": "markdown",
      "metadata": {
        "id": "jqBufvnakA2u"
      },
      "source": [
        "In general it is hard to know whether estimates like this are accurate; nevertheless, there are things we can do to assess their quality.\n",
        "When estimates are reported in scientific journals, they almost always include one of two measurements of uncertainty: a standard error or a confidence interval.\n",
        "In the next section, I'll explain what they mean and show how to compute them."
      ]
    },
    {
      "cell_type": "markdown",
      "metadata": {
        "id": "TZgJiQ-7kA2v"
      },
      "source": [
        "## Simulating One Group\n",
        "\n",
        "In the example, there are 21,911 people in the treatment group and 116 of them got the disease, so the estimated risk is about 5 cases per 1000 people."
      ]
    },
    {
      "cell_type": "code",
      "execution_count": 8,
      "metadata": {
        "id": "VuKdu-nlkA2w",
        "outputId": "abc23db8-cb96-445c-f42e-bed448cb09d6",
        "colab": {
          "base_uri": "https://localhost:8080/"
        }
      },
      "outputs": [
        {
          "output_type": "execute_result",
          "data": {
            "text/plain": [
              "(21911, 116, 5.294144493633334)"
            ]
          },
          "metadata": {},
          "execution_count": 8
        }
      ],
      "source": [
        "n_treatment, k_treatment, risk_treatment"
      ]
    },
    {
      "cell_type": "markdown",
      "metadata": {
        "id": "GIiy9RxokA2w"
      },
      "source": [
        "But it's easy to imagine that there might have been a few more cases, or fewer, just by chance.\n",
        "For example, if there had been 10 more cases, the estimated risk would be 5.8 per 1000, and if there had been 10 fewer, it would be 4.8."
      ]
    },
    {
      "cell_type": "code",
      "execution_count": 9,
      "metadata": {
        "id": "pid7ciJgkA2w",
        "outputId": "efa68dea-7720-4eca-9484-e25551834427",
        "colab": {
          "base_uri": "https://localhost:8080/"
        }
      },
      "outputs": [
        {
          "output_type": "execute_result",
          "data": {
            "text/plain": [
              "5.750536260325863"
            ]
          },
          "metadata": {},
          "execution_count": 9
        }
      ],
      "source": [
        "(k_treatment + 10) / n_treatment * 1000"
      ]
    },
    {
      "cell_type": "code",
      "execution_count": 10,
      "metadata": {
        "id": "Bu49q6sykA2w",
        "outputId": "c683bf4c-6a73-4b8f-be66-bb4892b0e65a",
        "colab": {
          "base_uri": "https://localhost:8080/"
        }
      },
      "outputs": [
        {
          "output_type": "execute_result",
          "data": {
            "text/plain": [
              "4.837752726940806"
            ]
          },
          "metadata": {},
          "execution_count": 10
        }
      ],
      "source": [
        "(k_treatment - 10) / n_treatment * 1000"
      ]
    },
    {
      "cell_type": "markdown",
      "metadata": {
        "id": "HUak-IgTkA2x"
      },
      "source": [
        "That's a big enough difference that we should wonder how much variability there is in the estimate due to random variation.\n",
        "We'll answer that question in three steps:\n",
        "\n",
        "* We'll write a function that uses a random number generator to simulate the trial.\n",
        "\n",
        "* Then we'll run the function many times to see how much the estimate varies.\n",
        "\n",
        "* And we'll summarize the results.\n",
        "\n",
        "To simulate the trial, we'll use the `bernoulli` object from SciPy, which provides a function called `rvs` that simulates what we can think of as biased coin tosses.\n",
        "For example, suppose we flip 10 coins where the probability is 70% that each coin comes up heads.\n",
        "We can simulate that scenario like this."
      ]
    },
    {
      "cell_type": "code",
      "execution_count": 11,
      "metadata": {
        "id": "CLUBwXsUkA2x",
        "outputId": "12cf3bd1-1103-4d4f-aff2-60fe6cc70335",
        "colab": {
          "base_uri": "https://localhost:8080/"
        }
      },
      "outputs": [
        {
          "output_type": "execute_result",
          "data": {
            "text/plain": [
              "array([1, 1, 1, 0, 1, 0, 1, 1, 1, 1])"
            ]
          },
          "metadata": {},
          "execution_count": 11
        }
      ],
      "source": [
        "from scipy.stats import bernoulli\n",
        "\n",
        "bernoulli.rvs(p=0.7, size=10)"
      ]
    },
    {
      "cell_type": "markdown",
      "metadata": {
        "id": "an39tnG4kA2x"
      },
      "source": [
        "The result is an array where `1` represents heads and `0` represents tails.\n",
        "\n",
        "We can use this function to simulate a group of `n` patients, where the probability is `p` that each of them gets the disease."
      ]
    },
    {
      "cell_type": "code",
      "execution_count": 12,
      "metadata": {
        "id": "Ie2Vot44kA25"
      },
      "outputs": [],
      "source": [
        "def simulate_group(n, p):\n",
        "    k = bernoulli.rvs(p, size=n).sum()\n",
        "    risk = k / n * 1000\n",
        "    return risk"
      ]
    },
    {
      "cell_type": "markdown",
      "metadata": {
        "id": "mNGHlwMgkA26"
      },
      "source": [
        "This function uses `rvs` to generate an array of `1`s and `0`s, adds them up the number of cases, and returns the risk in cases per 1000 people.\n",
        "Here's how we call this function, passing as arguments the size of the treatment group and the estimated risk as a proportion:"
      ]
    },
    {
      "cell_type": "code",
      "execution_count": 13,
      "metadata": {
        "id": "Qgr4IjsjkA26",
        "outputId": "6204f77c-4ffa-4d76-8890-fce892715d01",
        "colab": {
          "base_uri": "https://localhost:8080/"
        }
      },
      "outputs": [
        {
          "output_type": "execute_result",
          "data": {
            "text/plain": [
              "np.float64(5.796175436995117)"
            ]
          },
          "metadata": {},
          "execution_count": 13
        }
      ],
      "source": [
        "p = k_treatment / n_treatment\n",
        "simulate_group(n_treatment, p)"
      ]
    },
    {
      "cell_type": "markdown",
      "metadata": {
        "id": "JY03zZoQkA26"
      },
      "source": [
        "The result is a risk from a single simulated trial.\n",
        "If we run this function many times, it's like running the trial over and over."
      ]
    },
    {
      "cell_type": "code",
      "execution_count": 14,
      "metadata": {
        "tags": [],
        "id": "-ia9W6XekA26"
      },
      "outputs": [],
      "source": [
        "import numpy as np\n",
        "\n",
        "np.random.seed(17)"
      ]
    },
    {
      "cell_type": "code",
      "execution_count": 15,
      "metadata": {
        "id": "yhkigcgwkA27"
      },
      "outputs": [],
      "source": [
        "t = [simulate_group(n_treatment, p)\n",
        "     for i in range(1001)]"
      ]
    },
    {
      "cell_type": "markdown",
      "metadata": {
        "id": "A8A5VS0CkA27"
      },
      "source": [
        "The result is a list of risks that shows how much we expect the results of the trial to vary due to randomness.\n",
        "We can use a KDE plot to visualize the distribution of these results."
      ]
    },
    {
      "cell_type": "code",
      "execution_count": 16,
      "metadata": {
        "id": "EHPy36NNkA28",
        "outputId": "9e0f553d-ba67-4c0b-94d8-a6445947a6e5",
        "colab": {
          "base_uri": "https://localhost:8080/",
          "height": 281
        }
      },
      "outputs": [
        {
          "output_type": "display_data",
          "data": {
            "text/plain": [
              "<Figure size 450x262.5 with 1 Axes>"
            ],
            "image/png": "[encoded data removed]"
          },
          "metadata": {}
        }
      ],
      "source": [
        "import matplotlib.pyplot as plt\n",
        "import seaborn as sns\n",
        "\n",
        "sns.kdeplot(t, label='control')\n",
        "\n",
        "plt.xlabel('Risk of disease (cases per 1000)')\n",
        "plt.ylabel('Probability density')\n",
        "plt.title('Risks from Simulations');"
      ]
    },
    {
      "cell_type": "markdown",
      "metadata": {
        "id": "Bc29pwOBkA28"
      },
      "source": [
        "The mean of this distribution is about 5.3, which is close to the observed risk, as we should expect."
      ]
    },
    {
      "cell_type": "code",
      "execution_count": 17,
      "metadata": {
        "id": "xdz6kHF0kA28",
        "outputId": "c81c7f09-7a0a-4fc9-83a9-3cb39bd16c32",
        "colab": {
          "base_uri": "https://localhost:8080/"
        }
      },
      "outputs": [
        {
          "output_type": "execute_result",
          "data": {
            "text/plain": [
              "(np.float64(5.284478654019068), 5.294144493633334)"
            ]
          },
          "metadata": {},
          "execution_count": 17
        }
      ],
      "source": [
        "np.mean(t), risk_treatment"
      ]
    },
    {
      "cell_type": "markdown",
      "metadata": {
        "id": "mCNkPFMXkA28"
      },
      "source": [
        "The width of this distribution indicates how much variation there is in the estimate due to randomness.\n",
        "One way to quantify the width of the distribution is the standard deviation."
      ]
    },
    {
      "cell_type": "code",
      "execution_count": 18,
      "metadata": {
        "tags": [],
        "id": "MRVro7zhkA29",
        "outputId": "89453e2b-d42b-466a-f4a9-ff9b80e4accf",
        "colab": {
          "base_uri": "https://localhost:8080/"
        }
      },
      "outputs": [
        {
          "output_type": "execute_result",
          "data": {
            "text/plain": [
              "np.float64(0.48237692869481597)"
            ]
          },
          "metadata": {},
          "execution_count": 18
        }
      ],
      "source": [
        "standard_error = np.std(t)\n",
        "standard_error"
      ]
    },
    {
      "cell_type": "markdown",
      "metadata": {
        "id": "3zi7qKBwkA29"
      },
      "source": [
        "This result is called the **standard error**.\n",
        "\n",
        "Another way to quantify the width of the distribution is an interval between two percentiles.\n",
        "For example, if we compute the 5th and 95th percentiles, the interval we get contains 90% of the simulated results."
      ]
    },
    {
      "cell_type": "code",
      "execution_count": 19,
      "metadata": {
        "tags": [],
        "id": "lX13Qs9zkA29",
        "outputId": "4ec3e9ac-6d31-408b-e2f0-0bbea151d042",
        "colab": {
          "base_uri": "https://localhost:8080/"
        }
      },
      "outputs": [
        {
          "output_type": "execute_result",
          "data": {
            "text/plain": [
              "array([4.51827849, 6.11564967])"
            ]
          },
          "metadata": {},
          "execution_count": 19
        }
      ],
      "source": [
        "confidence_interval = np.percentile(t, [5, 95])\n",
        "confidence_interval"
      ]
    },
    {
      "cell_type": "markdown",
      "metadata": {
        "id": "XdbG7_w2kA29"
      },
      "source": [
        "This result is called a **confidence interval**; specifically, this one is a \"90% confidence interval\", or 90% CI.\n",
        "If we assume that the observed risk is correct, and we run the same trial many times, we expect 90% of the results to fall in this interval.\n",
        "\n",
        "Standard errors and confidence intervals quantify our uncertainty about the estimate due to random variation from one trial to another."
      ]
    },
    {
      "cell_type": "markdown",
      "metadata": {
        "id": "VpcS3VEDkA2-"
      },
      "source": [
        "## Simulating the Trial\n",
        "\n",
        "In the previous section we simulated one group and estimated their risk.\n",
        "Now we'll simulate both groups and estimate the efficacy of the vaccine.\n",
        "\n",
        "The following function takes four parameters: the sizes of the two groups and their actual risks."
      ]
    },
    {
      "cell_type": "code",
      "execution_count": null,
      "metadata": {
        "id": "lKX8JeXMkA2-"
      },
      "outputs": [],
      "source": [
        "def simulate_trial(n1, p1, n2, p2):\n",
        "    risk1 = simulate_group(n1, p1)\n",
        "    risk2 = simulate_group(n2, p2)\n",
        "    efficacy = 1 - risk2 / risk1\n",
        "    return efficacy"
      ]
    },
    {
      "cell_type": "markdown",
      "metadata": {
        "id": "9Rh0LslQkA2-"
      },
      "source": [
        "If we call this function once, it simulates both groups, computes the risks in each group, and uses the results to compute the efficacy of the treatment (assuming that the first group is the control)."
      ]
    },
    {
      "cell_type": "code",
      "execution_count": null,
      "metadata": {
        "id": "AjzLmeY_kA2-"
      },
      "outputs": [],
      "source": [
        "p1 = k_control / n_control\n",
        "p2 = k_treatment / n_treatment\n",
        "simulate_trial(n_control, p1, n_treatment, p2)"
      ]
    },
    {
      "cell_type": "markdown",
      "metadata": {
        "id": "kZF7i6OckA2-"
      },
      "source": [
        "If we call it many times, the result is a list of efficacies from multiple simulated trials."
      ]
    },
    {
      "cell_type": "code",
      "execution_count": null,
      "metadata": {
        "id": "_oFObNZtkA2_"
      },
      "outputs": [],
      "source": [
        "t2 = [simulate_trial(n_control, p1, n_treatment, p2)\n",
        "      for i in range(1001)]"
      ]
    },
    {
      "cell_type": "markdown",
      "metadata": {
        "id": "OlKbtt3ekA2_"
      },
      "source": [
        "We can use a KDE plot to visualize the distribution of the results."
      ]
    },
    {
      "cell_type": "code",
      "execution_count": null,
      "metadata": {
        "id": "Vn5hQCfmkA2_"
      },
      "outputs": [],
      "source": [
        "sns.kdeplot(t2)\n",
        "\n",
        "plt.xlabel('Efficacy')\n",
        "plt.ylabel('Probability density')\n",
        "plt.title('Efficacies from Simulations');"
      ]
    },
    {
      "cell_type": "markdown",
      "metadata": {
        "id": "Eagv5hbMkA2_"
      },
      "source": [
        "The mean of this distribution is close to the efficacy we computed with the results of the actual trial."
      ]
    },
    {
      "cell_type": "code",
      "execution_count": null,
      "metadata": {
        "id": "SavykI8ukA3A"
      },
      "outputs": [],
      "source": [
        "np.mean(t2), efficacy"
      ]
    },
    {
      "cell_type": "markdown",
      "metadata": {
        "id": "w1mxIRw1kA3A"
      },
      "source": [
        "The standard deviation of this distribution is the standard error of the estimate."
      ]
    },
    {
      "cell_type": "code",
      "execution_count": null,
      "metadata": {
        "id": "cicQWsOCkA3A"
      },
      "outputs": [],
      "source": [
        "np.std(t2)"
      ]
    },
    {
      "cell_type": "markdown",
      "metadata": {
        "id": "--f8R2kLkA3B"
      },
      "source": [
        "In a scientific paper, we could report the estimated efficacy and standard error as 0.67 (SE 0.035).\n",
        "As an alternative, we can use percentiles to compute a 90% confidence interval."
      ]
    },
    {
      "cell_type": "code",
      "execution_count": null,
      "metadata": {
        "id": "yzQLniHxkA3B"
      },
      "outputs": [],
      "source": [
        "np.percentile(t2, [5, 95])"
      ]
    },
    {
      "cell_type": "markdown",
      "metadata": {
        "id": "KWshC6-HkA3B"
      },
      "source": [
        "We could report these results as 0.67, 90% CI [0.61, 0.72].\n",
        "\n",
        "The standard error and confidence interval represent nearly the same information.\n",
        "In general, I prefer to report a confidence interval because it is easier to interpret:\n",
        "\n",
        "* Formally, the confidence interval means that if we run the same experiment again, we expect 90% of the results to fall between 61% and 72% (assuming that the estimated risks are correct).\n",
        "\n",
        "* More casually, it means that it is plausible that the actually efficacy is as low as 61%, or as high as 72% (assuming there are no sources of error other than random variation)."
      ]
    },
    {
      "cell_type": "markdown",
      "metadata": {
        "id": "CCjlFf3qkA3B"
      },
      "source": [
        "## Estimating Means\n",
        "\n",
        "In the previous examples, we estimated risk, which is a proportion, and efficacy, which is a ratio of two proportions.\n",
        "As a third example, let's estimate a mean.\n",
        "\n",
        "Suppose we want to estimate the average height of men in the United States.\n",
        "It would be impractical to measure everyone in the country, but if we choose a random sample of the population and measure the people in the sample, we can use the mean of the measurements to estimate the actual average in the population.\n",
        "\n",
        "Ideally, the sample should be **representative**, which means that everyone in the population has an equal chance of appearing in the sample.\n",
        "In general, that's not easy to do.\n",
        "Depending on how you recruit people, your sample might have too many tall people or too many short people.\n",
        "\n",
        "But let's suppose we have a representative sample of 103 adult male residents of the United States, the average height in the sample is 177 cm, and the standard deviation is 8.4 cm."
      ]
    },
    {
      "cell_type": "markdown",
      "metadata": {
        "id": "YiBkibS4kA3B"
      },
      "source": [
        "If someone asks for your best guess about the height of men in the U.S., you would report 177 cm.\n",
        "But how accurate do you think this estimate is?\n",
        "If you only measure 103 people from a population of about 100 million adult males, it seems like the actual average in the population might be substantially higher or lower.\n",
        "\n",
        "Again, we can use random simulation to quantify the uncertainty of this estimate.\n",
        "As we did in the previous examples, we'll assume for purposes of simulation that the estimates are correct, and simulate the sampling process many times.\n",
        "\n",
        "The following function takes as parameters the size of the sample, `n`, the presumed average height in the population, `mu`, and the presumed standard deviation, `sigma`."
      ]
    },
    {
      "cell_type": "code",
      "execution_count": null,
      "metadata": {
        "tags": [],
        "id": "ZeyyOdcfkA3B"
      },
      "outputs": [],
      "source": [
        "def simulate_sample_mean(n, mu, sigma):\n",
        "    sample = np.random.normal(mu, sigma, size=n)\n",
        "    return sample.mean()"
      ]
    },
    {
      "cell_type": "markdown",
      "metadata": {
        "id": "vbb5myyJkA3C"
      },
      "source": [
        "This function generates `n` random values from a normal distribution with the given mean and standard deviation, and returns their mean.\n",
        "We can run it like this, using the observed mean and standard deviation from the sample as the presumed mean and standard deviation of the population."
      ]
    },
    {
      "cell_type": "code",
      "execution_count": null,
      "metadata": {
        "id": "eqULaeOekA3C"
      },
      "outputs": [],
      "source": [
        "n_height = 103\n",
        "mean_height = 177\n",
        "std_height = 8.4\n",
        "\n",
        "simulate_sample_mean(n_height, mean_height, std_height)"
      ]
    },
    {
      "cell_type": "markdown",
      "metadata": {
        "id": "qR1St1UekA3C"
      },
      "source": [
        "If we run it many times, it simulates the sampling and measurement process and returns a list of results from many simulated experiments."
      ]
    },
    {
      "cell_type": "code",
      "execution_count": null,
      "metadata": {
        "id": "N-vNVt0QkA3C"
      },
      "outputs": [],
      "source": [
        "t3 = [simulate_sample_mean(n_height, mean_height, std_height)\n",
        "      for i in range(1001)]"
      ]
    },
    {
      "cell_type": "markdown",
      "metadata": {
        "id": "3yl8IzyKkA3E"
      },
      "source": [
        "We can use a KDE plot to visualize the distribution of these values."
      ]
    },
    {
      "cell_type": "code",
      "execution_count": null,
      "metadata": {
        "id": "B3r7HwM_kA3E"
      },
      "outputs": [],
      "source": [
        "sns.kdeplot(t3)\n",
        "\n",
        "plt.xlabel('Average height (cm)')\n",
        "plt.ylabel('Probability density')\n",
        "plt.title('Sampling Distribution of the Mean');"
      ]
    },
    {
      "cell_type": "markdown",
      "metadata": {
        "id": "nImF-7Y_kA3E"
      },
      "source": [
        "This result is called a **sampling distribution** because it represents the variation in the results due to the random sampling process.\n",
        "If we recruit 103 people and compute the mean of their heights, the result might be as low as 176 cm, or as high as 180 cm, due to chance.\n",
        "\n",
        "The average of the sampling distribution is close to the presumed mean of the population."
      ]
    },
    {
      "cell_type": "code",
      "execution_count": null,
      "metadata": {
        "id": "N-eJgVhwkA3E"
      },
      "outputs": [],
      "source": [
        "np.mean(t3), mean_height"
      ]
    },
    {
      "cell_type": "markdown",
      "metadata": {
        "id": "-JsxIJTakA3E"
      },
      "source": [
        "The standard deviation of the sampling distribution is the standard error of the estimate."
      ]
    },
    {
      "cell_type": "code",
      "execution_count": null,
      "metadata": {
        "id": "px0aAi6wkA3E"
      },
      "outputs": [],
      "source": [
        "standard_error = np.std(t3)\n",
        "standard_error"
      ]
    },
    {
      "cell_type": "markdown",
      "metadata": {
        "id": "mfO4Z2LbkA3E"
      },
      "source": [
        "The interval between the 5th and 95th percentiles is a 90% confidence interval."
      ]
    },
    {
      "cell_type": "code",
      "execution_count": null,
      "metadata": {
        "id": "XGosXb61kA3E"
      },
      "outputs": [],
      "source": [
        "ci90 = np.percentile(t3, [5, 95])\n",
        "ci90"
      ]
    },
    {
      "cell_type": "markdown",
      "metadata": {
        "id": "rK1-2yyDkA3E"
      },
      "source": [
        "If I reported this result in a paper, I would say that the estimated height of adult male residents of the U.S. is 177 cm, 90% CI [176, 178] cm.\n",
        "\n",
        "Informally, that means that the estimate could plausibly be off by about a centimeter either way, due to random sampling.\n",
        "But we should remember that there are other possible sources of error, so we might be off by more than that."
      ]
    },
    {
      "cell_type": "markdown",
      "metadata": {
        "id": "_BuT3ibakA3F"
      },
      "source": [
        "## The Resampling Framework\n",
        "\n",
        "The examples in this chapter fit into the framework shown in this diagram:\n",
        "\n",
        "![](https://github.com/AllenDowney/ElementsOfDataScience/raw/v1/figs/resampling.png)"
      ]
    },
    {
      "cell_type": "markdown",
      "metadata": {
        "id": "K4vfIyGukA3F"
      },
      "source": [
        "Using data from an experiment, we compute a sample statistic.  In the vaccine example, we computed risks for each group and efficacy.  In the height example, we computed the average height in the sample.\n",
        "\n",
        "Then we build a model of the sampling process.\n",
        "In the vaccine example, the model assumes that everyone in each group has the same probability of getting sick, and we use the data to choose the probability.\n",
        "In the height example, the model assumes that heights are drawn from a normal distribution, and we use the data to choose the parameters `mu` and `sigma`.\n",
        "\n",
        "We use the model to simulate the experiment many times. Each simulation generates a dataset which we use to compute the sample statistic.\n",
        "\n",
        "Finally, we collect the sample statistics from the simulations, plot the sampling distribution, and compute standard error and a confidence interval."
      ]
    },
    {
      "cell_type": "markdown",
      "metadata": {
        "id": "WrFapCYTkA3F"
      },
      "source": [
        "I emphasize the role of the model in this framework because for a given experiment there might be several possible models, each including some elements of the real world and ignoring others.\n",
        "For example, our model of the vaccine experiment assumes that everyone in each group has the same risk, but that's probably not true.\n",
        "Here's another version of `simulate_group` that includes variation in risk within each group."
      ]
    },
    {
      "cell_type": "code",
      "execution_count": null,
      "metadata": {
        "id": "9bRLgpHZkA3F"
      },
      "outputs": [],
      "source": [
        "def simulate_variable_group(n, p):\n",
        "    ps = np.random.uniform(0, 2*p, size=n)\n",
        "    k = bernoulli.rvs(ps).sum()\n",
        "    return k / n * 1000"
      ]
    },
    {
      "cell_type": "markdown",
      "metadata": {
        "id": "oDmhn70OkA3G"
      },
      "source": [
        "This version of the function assumes that each person has a different probability of getting sick, drawn from a uniform distribution between `0` and `2*p`.\n",
        "Of course, that's just a guess about how the probabilities might be distributed, but we can use it to get a sense of what effect this distribution has on the results.\n",
        "\n",
        "The rest of the function is the same as the previous version: it uses `bernoulli` to simulate `n` patients, where each element of `ps` is the probability that one patient gets the disease.\n",
        "Here's how we call this function, simulating the treatment group."
      ]
    },
    {
      "cell_type": "code",
      "execution_count": null,
      "metadata": {
        "id": "O98sl8kokA3G"
      },
      "outputs": [],
      "source": [
        "p = k_treatment / n_treatment\n",
        "simulate_variable_group(n_treatment, p)"
      ]
    },
    {
      "cell_type": "markdown",
      "metadata": {
        "id": "FPtbUFAwkA3G"
      },
      "source": [
        "The return value is the number of cases per 1000."
      ]
    },
    {
      "cell_type": "markdown",
      "metadata": {
        "id": "jEcHQrABkA3G"
      },
      "source": [
        "**Exercise:** Use this function to run 1001 simulations of the treatment group.  Compute the mean of the results and confirm that it is close to the observed `risk_treatment`.  To quantify the spread of the sampling distribution, compute the standard error.  How does it compare to the standard error we computed with the original model, where everyone in the group has the same risk?"
      ]
    },
    {
      "cell_type": "code",
      "execution_count": null,
      "metadata": {
        "id": "VIpLp2bIkA3H"
      },
      "outputs": [],
      "source": [
        "# Solution goes here"
      ]
    },
    {
      "cell_type": "code",
      "execution_count": null,
      "metadata": {
        "id": "0qn1dUxlkA3I"
      },
      "outputs": [],
      "source": [
        "# Solution goes here"
      ]
    },
    {
      "cell_type": "code",
      "execution_count": null,
      "metadata": {
        "id": "G-Nbobo5kA3J"
      },
      "outputs": [],
      "source": [
        "# Solution goes here"
      ]
    },
    {
      "cell_type": "markdown",
      "metadata": {
        "id": "RzF6KsbDkA3J"
      },
      "source": [
        "**Exercise:** The following is a version of `simulate_trial` that uses `simulate_variable_group`, from the previous exercise, to simulate the vaccine trial using the modified model, which includes variation in risk within the groups.\n",
        "\n",
        "Use this function to simulate 1001 trials. Compute the mean of the sampling distribution and confirm that it is close to the observed `efficacy`. Compute the standard error and compare it to the standard error we computed for the original model."
      ]
    },
    {
      "cell_type": "code",
      "execution_count": null,
      "metadata": {
        "id": "Y0d2DN33kA3J"
      },
      "outputs": [],
      "source": [
        "def simulate_variable_trial(n1, p1, n2, p2):\n",
        "    risk1 = simulate_variable_group(n1, p1)\n",
        "    risk2 = simulate_variable_group(n2, p2)\n",
        "    efficacy = 1 - risk2 / risk1\n",
        "    return efficacy"
      ]
    },
    {
      "cell_type": "code",
      "execution_count": null,
      "metadata": {
        "id": "P2AS2XXPkA3K"
      },
      "outputs": [],
      "source": [
        "# Solution goes here"
      ]
    },
    {
      "cell_type": "code",
      "execution_count": null,
      "metadata": {
        "id": "3KvkgWe6kA3K"
      },
      "outputs": [],
      "source": [
        "# Solution goes here"
      ]
    },
    {
      "cell_type": "code",
      "execution_count": null,
      "metadata": {
        "id": "9GMwpAN4kA3K"
      },
      "outputs": [],
      "source": [
        "# Solution goes here"
      ]
    },
    {
      "cell_type": "code",
      "execution_count": null,
      "metadata": {
        "id": "gIRwICwSkA3L"
      },
      "outputs": [],
      "source": [
        "# Solution goes here"
      ]
    },
    {
      "cell_type": "markdown",
      "metadata": {
        "id": "-R0Kg4MLkA3L"
      },
      "source": [
        "**Exercise:** One nice thing about the resampling framework is that it is easy to compute the sampling distribution for other statistics.\n",
        "For example, suppose we want to estimate the coefficient of variation (standard deviation as a fraction of the mean) for adult male height.  Here's how we can compute it."
      ]
    },
    {
      "cell_type": "code",
      "execution_count": null,
      "metadata": {
        "id": "k7mF7wYokA3L"
      },
      "outputs": [],
      "source": [
        "cv = std_height / mean_height\n",
        "cv"
      ]
    },
    {
      "cell_type": "markdown",
      "metadata": {
        "id": "hMKpiZmQkA3M"
      },
      "source": [
        "In this example, the standard deviation is about 4.5% of the mean.\n",
        "The following is a version of `simulate_sample` that generates a random sample of heights and returns the coefficient of variation, rather than the mean."
      ]
    },
    {
      "cell_type": "code",
      "execution_count": null,
      "metadata": {
        "id": "Jfg3U7RdkA3N"
      },
      "outputs": [],
      "source": [
        "def simulate_sample_cv(n, mu, sigma):\n",
        "    sample = np.random.normal(mu, sigma, size=n)\n",
        "    return sample.std() / sample.mean()"
      ]
    },
    {
      "cell_type": "markdown",
      "metadata": {
        "id": "wrNY9r79kA3O"
      },
      "source": [
        "Use this function to simulate 1001 samples with size `n=103`, using `mean_height` for `mu` and `std_height` for `sigma`.\n",
        "Plot the sampling distribution of the coefficient of variation, and compute a 90% confidence interval."
      ]
    },
    {
      "cell_type": "code",
      "execution_count": null,
      "metadata": {
        "scrolled": true,
        "id": "3F4iQrwfkA3P"
      },
      "outputs": [],
      "source": [
        "# Solution goes here"
      ]
    },
    {
      "cell_type": "code",
      "execution_count": null,
      "metadata": {
        "id": "8yEIoSRGkA3P"
      },
      "outputs": [],
      "source": [
        "# Solution goes here"
      ]
    },
    {
      "cell_type": "code",
      "execution_count": null,
      "metadata": {
        "id": "oL7rve05kA3P"
      },
      "outputs": [],
      "source": [
        "# Solution goes here"
      ]
    },
    {
      "cell_type": "markdown",
      "metadata": {
        "id": "yLmEkrFDkA3Q"
      },
      "source": [
        "## Summary\n",
        "\n",
        "Let's review the examples in this chapter:\n",
        "\n",
        "1. We started with results from a vaccine trial.  We estimated the effectiveness of the vaccine and used simulation to draw a random sample from the sampling distribution of effectiveness.  We used that sample to compute a standard error and a 90% confidence interval, which measure the variability we would expect if we ran the experiment again (assuming that the observed efficacy is correct).\n",
        "\n",
        "2. As a second example, we estimated the height of adult males in the U.S. and used simulation based on a normal model to compute the sampling distribution of the mean, standard error, and a confidence interval.\n",
        "\n",
        "3. We implemented a second model of the vaccine trial, based on the assumption that there is variation in risk within the groups. The results from the two models are similar, which suggests that the simple model is good enough for practical purposes.\n",
        "\n",
        "4. One of the advantages of resampling, compared to mathematical analysis, is that it is easy to compute the sampling distribution of almost any statistic.  As an exercise, you computed the sampling distribution of the coefficient of variation.\n"
      ]
    },
    {
      "cell_type": "markdown",
      "metadata": {
        "tags": [],
        "id": "veU0KDuskA3R"
      },
      "source": [
        "*Elements of Data Science*\n",
        "\n",
        "Copyright 2021 [Allen B. Downey](https://allendowney.com)\n",
        "\n",
        "License: [Creative Commons Attribution-NonCommercial-ShareAlike 4.0 International](https://creativecommons.org/licenses/by-nc-sa/4.0/)"
      ]
    },
    {
      "cell_type": "code",
      "execution_count": null,
      "metadata": {
        "id": "zOAHOWLLkA3S"
      },
      "outputs": [],
      "source": []
    }
  ],
  "metadata": {
    "celltoolbar": "Tags",
    "kernelspec": {
      "display_name": "Python 3 (ipykernel)",
      "language": "python",
      "name": "python3"
    },
    "language_info": {
      "codemirror_mode": {
        "name": "ipython",
        "version": 3
      },
      "file_extension": ".py",
      "mimetype": "text/x-python",
      "name": "python",
      "nbconvert_exporter": "python",
      "pygments_lexer": "ipython3",
      "version": "3.10.14"
    },
    "colab": {
      "provenance": []
    }
  },
  "nbformat": 4,
  "nbformat_minor": 0
}