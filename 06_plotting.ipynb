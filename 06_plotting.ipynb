{
  "cells": [
    {
      "cell_type": "markdown",
      "metadata": {
        "id": "Fa7m2YIsnKLG"
      },
      "source": [
        "Printed copies of *Elements of Data Science* are available now, with a **full color interior**, from [Lulu.com](https://www.lulu.com/shop/allen-downey/elements-of-data-science/paperback/product-9dyrwn.html)."
      ]
    },
    {
      "cell_type": "markdown",
      "metadata": {
        "id": "ilcCcpetnKLH"
      },
      "source": [
        "# Plotting"
      ]
    },
    {
      "cell_type": "markdown",
      "metadata": {
        "tags": [],
        "id": "ry4qDbdRnKLI"
      },
      "source": [
        "[Click here to run this notebook on Colab](https://colab.research.google.com/github/AllenDowney/ElementsOfDataScience/blob/v1/06_plotting.ipynb)."
      ]
    },
    {
      "cell_type": "code",
      "execution_count": 2,
      "metadata": {
        "tags": [],
        "id": "HeCshTTUnKLI"
      },
      "outputs": [],
      "source": [
        "from os.path import basename, exists\n",
        "\n",
        "def download(url):\n",
        "    filename = basename(url)\n",
        "    if not exists(filename):\n",
        "        from urllib.request import urlretrieve\n",
        "\n",
        "        local, _ = urlretrieve(url, filename)\n",
        "        print(\"Downloaded \" + str(local))\n",
        "    return filename\n",
        "\n",
        "download('https://raw.githubusercontent.com/AllenDowney/ElementsOfDataScience/v1/utils.py')\n",
        "\n",
        "import utils"
      ]
    },
    {
      "cell_type": "markdown",
      "metadata": {
        "id": "LDAi1Af6nKLJ"
      },
      "source": [
        "This chapter presents ways to create figures and graphs, more generally called **data visualizations**.  As examples, we'll generate three figures:\n",
        "\n",
        "* We'll replicate a figure from the Pew Research Center that shows changes in religious affiliation in the United States over time.\n",
        "\n",
        "* We'll replicate a figure from *The Economist* that shows the prices of sandwiches in Boston and London (we saw this data back in Chapter 3).\n",
        "\n",
        "* We'll make a plot to test Zipf's law, which describes the relationship between word frequencies and their ranks.\n",
        "\n",
        "With the tools in this chapter, you can generate a variety of simple graphs.  We will see more visualization tools in later chapters.\n",
        "But before we get started with plotting, we need a new feature: keyword arguments."
      ]
    },
    {
      "cell_type": "markdown",
      "metadata": {
        "id": "raQnFNSinKLK"
      },
      "source": [
        "## Keyword Arguments\n",
        "\n",
        "When you call most functions, you have to provide values.\n",
        "For example, when you call `np.exp`, you provide a number."
      ]
    },
    {
      "cell_type": "code",
      "execution_count": 4,
      "metadata": {
        "id": "MKNKjcvdnKLK",
        "outputId": "dee026d8-1ce2-46ce-d6a5-da6acf55b839",
        "colab": {
          "base_uri": "https://localhost:8080/"
        }
      },
      "outputs": [
        {
          "output_type": "execute_result",
          "data": {
            "text/plain": [
              "2.718281828459045"
            ]
          },
          "metadata": {},
          "execution_count": 4
        }
      ],
      "source": [
        "import numpy as np\n",
        "\n",
        "np.set_printoptions(legacy='1.25')\n",
        "\n",
        "np.exp(1)"
      ]
    },
    {
      "cell_type": "markdown",
      "metadata": {
        "id": "MbnCCxYYnKLK"
      },
      "source": [
        "When you call `np.power`, you provide two numbers."
      ]
    },
    {
      "cell_type": "code",
      "execution_count": 5,
      "metadata": {
        "id": "QlxQrbOlnKLL",
        "outputId": "ff1230af-e221-470c-fc62-29633a132eab",
        "colab": {
          "base_uri": "https://localhost:8080/"
        }
      },
      "outputs": [
        {
          "output_type": "execute_result",
          "data": {
            "text/plain": [
              "1000000"
            ]
          },
          "metadata": {},
          "execution_count": 5
        }
      ],
      "source": [
        "np.power(10, 6)"
      ]
    },
    {
      "cell_type": "markdown",
      "metadata": {
        "id": "Y2i-oqKOnKLM"
      },
      "source": [
        "The values you provide are called **arguments**.\n",
        "Specifically, the values in these examples are **positional arguments** because their position determines how they are used.\n",
        "In the second example, `power` computes `10` to the sixth power, not `6` to the tenth power -- because of the order of the arguments.\n",
        "\n",
        "Many functions also take **keyword arguments**, which are identified by name.\n",
        "For example, we have previously used `int` to convert a string to an integer.\n",
        "Here's how we use it with a string as a positional argument:"
      ]
    },
    {
      "cell_type": "code",
      "execution_count": 6,
      "metadata": {
        "id": "1a-mxtTqnKLM",
        "outputId": "5dea3717-bc95-42e4-8fcb-21d0aceb0cb2",
        "colab": {
          "base_uri": "https://localhost:8080/"
        }
      },
      "outputs": [
        {
          "output_type": "execute_result",
          "data": {
            "text/plain": [
              "21"
            ]
          },
          "metadata": {},
          "execution_count": 6
        }
      ],
      "source": [
        "int('21')"
      ]
    },
    {
      "cell_type": "markdown",
      "metadata": {
        "id": "_8PXXf1InKLN"
      },
      "source": [
        "By default, `int` assumes that the number is in base 10.  But you can provide a keyword argument that specifies a different base.\n",
        "For example, the string `'21'`, interpreted in base 8, represents the number `2 * 8 + 1 = 17`.  Here's how we do this conversion using `int`."
      ]
    },
    {
      "cell_type": "code",
      "execution_count": 7,
      "metadata": {
        "id": "WuHv68aGnKLN",
        "outputId": "a3fdf56b-be08-4f2f-faaa-d8ab0434bb62",
        "colab": {
          "base_uri": "https://localhost:8080/"
        }
      },
      "outputs": [
        {
          "output_type": "execute_result",
          "data": {
            "text/plain": [
              "17"
            ]
          },
          "metadata": {},
          "execution_count": 7
        }
      ],
      "source": [
        "int('21', base=8)"
      ]
    },
    {
      "cell_type": "markdown",
      "metadata": {
        "id": "rvalxomrnKLN"
      },
      "source": [
        "The integer value `8` is a keyword argument, with the keyword `base`.\n",
        "Specifying a keyword argument looks like an assignment statement, but it does not create a new variable.\n",
        "And when you provide a keyword argument, you don't choose the variable name -- it is specified by the function.\n",
        "If you provide a name that is not specified by the function, you get an error."
      ]
    },
    {
      "cell_type": "code",
      "execution_count": 8,
      "metadata": {
        "tags": [],
        "id": "8onbc8r1nKLT",
        "outputId": "49a9787e-d6df-4f86-9601-eb075c4a07c3",
        "colab": {
          "base_uri": "https://localhost:8080/",
          "height": 54
        }
      },
      "outputs": [
        {
          "output_type": "error",
          "ename": "TypeError",
          "evalue": "'bass' is an invalid keyword argument for int()",
          "traceback": [
            "\u001b[0;31mTypeError\u001b[0m\u001b[0;31m:\u001b[0m 'bass' is an invalid keyword argument for int()\n"
          ]
        }
      ],
      "source": [
        "%%expect TypeError\n",
        "\n",
        "int('123', bass=11)"
      ]
    },
    {
      "cell_type": "markdown",
      "metadata": {
        "id": "aqRzjTjUnKLT"
      },
      "source": [
        "**Exercise:** The `print` function takes a keyword argument called `end` that specifies the character it prints at the end of the line.\n",
        "By default, `end` is the newline character, `\\n`.\n",
        "So if you call `print` more than once, the outputs normally appear on separate lines, like this:"
      ]
    },
    {
      "cell_type": "code",
      "execution_count": 10,
      "metadata": {
        "id": "eHMjhUl6nKLT",
        "outputId": "ca033fe0-51bc-42ce-97c3-06afc807c01d",
        "colab": {
          "base_uri": "https://localhost:8080/"
        }
      },
      "outputs": [
        {
          "output_type": "stream",
          "name": "stdout",
          "text": [
            "1\n",
            "2\n",
            "3\n"
          ]
        }
      ],
      "source": [
        "for x in [1, 2, 3]:\n",
        "    print(x)"
      ]
    },
    {
      "cell_type": "markdown",
      "metadata": {
        "id": "QXUeJlHZnKLU"
      },
      "source": [
        "Modify the previous example so the outputs appear on one line with spaces between them.\n",
        "Then modify it to print an open bracket at the beginning and a close bracket and newline at the end."
      ]
    },
    {
      "cell_type": "code",
      "execution_count": 16,
      "metadata": {
        "id": "LA7q4t_JnKLU",
        "outputId": "6d72ba03-9b39-4fb2-dd01-f0658acb2dcd",
        "colab": {
          "base_uri": "https://localhost:8080/"
        }
      },
      "outputs": [
        {
          "output_type": "stream",
          "name": "stdout",
          "text": [
            "1 2 3 (1 2 3)\n"
          ]
        }
      ],
      "source": [
        "# Solution goes here\n",
        "\n",
        "for x in [1, 2, 3]:\n",
        "    print(x, end = ' ')\n",
        "\n",
        "res = '('\n",
        "for x in [1, 2, 3]:\n",
        "    res = res + str(x) + ' '\n",
        "res = res[:-1] + ')'\n",
        "print(res)"
      ]
    },
    {
      "cell_type": "markdown",
      "metadata": {
        "id": "7dzJqouQnKLV"
      },
      "source": [
        "## Graphing Religious Affiliation\n",
        "\n",
        "Now we're ready to make some graphs.\n",
        "In October 2019 the Pew Research Center published \"In U.S., Decline of Christianity Continues at Rapid Pace\".\n",
        "It includes this figure, which shows changes in religious affiliation among adults in the U.S. over the previous 10 years.\n",
        "\n",
        "<img src=\"https://github.com/AllenDowney/ElementsOfDataScience/raw/v1/figs/pew_religion_figure1.png\" width=\"350\">"
      ]
    },
    {
      "cell_type": "markdown",
      "metadata": {
        "tags": [],
        "id": "pTUqUjtmnKLV"
      },
      "source": [
        "You can read the article at <https://www.pewresearch.org/religion/2019/10/17/in-u-s-decline-of-christianity-continues-at-rapid-pace/>.\n",
        "The data are from a table in [this PDF document](https://www.pewresearch.org/religion/wp-content/uploads/sites/7/2019/11/Detailed-tables-for-upload-11.11.19.pdf)."
      ]
    },
    {
      "cell_type": "markdown",
      "metadata": {
        "id": "hhRCQYt7nKLV"
      },
      "source": [
        "As an exercise, we'll replicate this figure.\n",
        "It shows results from two sources, Religious Landscape Studies and Pew Research Political Surveys.\n",
        "The political surveys provide data from more years, so we'll focus on that.\n",
        "\n",
        "The data from the figure are available from Pew Research, but they are in a PDF document.  It is sometimes possible to extract data from PDF documents, but for now we'll enter the data by hand."
      ]
    },
    {
      "cell_type": "markdown",
      "metadata": {
        "tags": [],
        "id": "I9xj_aa2nKLV"
      },
      "source": [
        "You can download the data from <https://www.pewforum.org/wp-content/uploads/sites/7/2019/10/Detailed-Tables-v1-FOR-WEB.pdf>."
      ]
    },
    {
      "cell_type": "code",
      "execution_count": 17,
      "metadata": {
        "id": "u49py93TnKLW"
      },
      "outputs": [],
      "source": [
        "year = [2009, 2010, 2011, 2012, 2013, 2014, 2015, 2016, 2017, 2018]"
      ]
    },
    {
      "cell_type": "code",
      "execution_count": 18,
      "metadata": {
        "id": "iIGz3rbmnKLX"
      },
      "outputs": [],
      "source": [
        "christian = [77, 76, 75, 73, 73, 71, 69, 68, 67, 65]"
      ]
    },
    {
      "cell_type": "code",
      "execution_count": 19,
      "metadata": {
        "id": "aCSHMzf6nKLX"
      },
      "outputs": [],
      "source": [
        "unaffiliated = [17, 17, 19, 19, 20, 21, 24, 23, 25, 26]"
      ]
    },
    {
      "cell_type": "markdown",
      "metadata": {
        "id": "z8Kzc2qnnKLX"
      },
      "source": [
        "The library we'll use for plotting is Matplotlib -- more specifically, we'll use a part of it called Pyplot, which we'll import with the shortened name `plt`."
      ]
    },
    {
      "cell_type": "code",
      "execution_count": 20,
      "metadata": {
        "id": "opxAG30xnKLY"
      },
      "outputs": [],
      "source": [
        "import matplotlib.pyplot as plt"
      ]
    },
    {
      "cell_type": "markdown",
      "metadata": {
        "id": "1weIyKlNnKLY"
      },
      "source": [
        "Pyplot provides a function called `plot` that makes a line plot.  It takes two sequences as arguments, the `x` values and the `y` values.  The sequences can be tuples, lists, or arrays."
      ]
    },
    {
      "cell_type": "code",
      "execution_count": 21,
      "metadata": {
        "id": "NwEws6O7nKLZ",
        "outputId": "5fb85eaa-45c6-40eb-fbc2-4a6ef3fbf233",
        "colab": {
          "base_uri": "https://localhost:8080/",
          "height": 251
        }
      },
      "outputs": [
        {
          "output_type": "display_data",
          "data": {
            "text/plain": [
              "<Figure size 450x262.5 with 1 Axes>"
            ],
            "image/png": "[encoded data removed]"
          },
          "metadata": {}
        }
      ],
      "source": [
        "plt.plot(year, christian);"
      ]
    },
    {
      "cell_type": "markdown",
      "metadata": {
        "id": "leeVAvFXnKLZ"
      },
      "source": [
        "The semi-colon at the end of the line prevents the return value from `plot`, which is an object representing the line, from being displayed.\n",
        "\n",
        "If you plot multiple lines in a single cell, they appear on the same axes."
      ]
    },
    {
      "cell_type": "code",
      "execution_count": 22,
      "metadata": {
        "id": "Qj7ct9W4nKLa",
        "outputId": "3b0dbe86-e705-4731-bfad-fe512dc8922b",
        "colab": {
          "base_uri": "https://localhost:8080/",
          "height": 255
        }
      },
      "outputs": [
        {
          "output_type": "display_data",
          "data": {
            "text/plain": [
              "<Figure size 450x262.5 with 1 Axes>"
            ],
            "image/png": "[encoded data removed]"
          },
          "metadata": {}
        }
      ],
      "source": [
        "plt.plot(year, christian)\n",
        "plt.plot(year, unaffiliated);"
      ]
    },
    {
      "cell_type": "markdown",
      "metadata": {
        "id": "QCnIQ2uYnKLa"
      },
      "source": [
        "Plotting them on the same axes makes it possible to compare them directly.\n",
        "However, notice that Pyplot chooses the range for the axes automatically.\n",
        "In this example the y-axis starts around 15, not zero.\n",
        "\n",
        "As a result, it provides a misleading picture, making the ratio of the two lines look bigger than it really is.\n",
        "We can set the limits of the y-axis using the function `plt.ylim` -- the arguments are the lower bound and the upper bounds."
      ]
    },
    {
      "cell_type": "code",
      "execution_count": 28,
      "metadata": {
        "id": "2ubSy6IInKLa",
        "outputId": "d21fa335-eddb-440a-cd6e-1849d5e31005",
        "colab": {
          "base_uri": "https://localhost:8080/",
          "height": 255
        }
      },
      "outputs": [
        {
          "output_type": "display_data",
          "data": {
            "text/plain": [
              "<Figure size 450x262.5 with 1 Axes>"
            ],
            "image/png": "[encoded data removed]"
          },
          "metadata": {}
        }
      ],
      "source": [
        "plt.plot(year, christian)\n",
        "plt.plot(year, unaffiliated)\n",
        "\n",
        "plt.ylim(0, 100);"
      ]
    },
    {
      "cell_type": "markdown",
      "metadata": {
        "id": "S8rxC_0RnKLc"
      },
      "source": [
        "That's better, but this graph is missing some important elements: labels for the axes, a title, and a legend."
      ]
    },
    {
      "cell_type": "markdown",
      "metadata": {
        "id": "r7FbxTuTnKLc"
      },
      "source": [
        "## Decorating the Axes\n",
        "\n",
        "To label the axes and add a title, we'll use Pyplot functions `xlabel`, `ylabel`, and `title`.  All of them take strings as arguments."
      ]
    },
    {
      "cell_type": "code",
      "execution_count": 29,
      "metadata": {
        "id": "4xBQNLignKLc",
        "outputId": "f8f9cf30-2d05-431f-af4a-5ee3983f1ceb",
        "colab": {
          "base_uri": "https://localhost:8080/",
          "height": 281
        }
      },
      "outputs": [
        {
          "output_type": "display_data",
          "data": {
            "text/plain": [
              "<Figure size 450x262.5 with 1 Axes>"
            ],
            "image/png": "[encoded data removed]"
          },
          "metadata": {}
        }
      ],
      "source": [
        "plt.plot(year, christian)\n",
        "plt.plot(year, unaffiliated)\n",
        "\n",
        "plt.ylim(0, 80)\n",
        "plt.xlabel('Year')\n",
        "plt.ylabel('% of adults')\n",
        "plt.title('Religious affiliation of U.S adults');"
      ]
    },
    {
      "cell_type": "markdown",
      "metadata": {
        "id": "hiWKlxZRnKLc"
      },
      "source": [
        "To add a legend, first we add a label to each line, using the keyword argument `label`.\n",
        "Then we call `plt.legend` to create the legend."
      ]
    },
    {
      "cell_type": "code",
      "execution_count": 30,
      "metadata": {
        "id": "lWsyOfRanKLc",
        "outputId": "d8622c35-8c6e-409e-b758-dc6739b7f55a",
        "colab": {
          "base_uri": "https://localhost:8080/",
          "height": 281
        }
      },
      "outputs": [
        {
          "output_type": "display_data",
          "data": {
            "text/plain": [
              "<Figure size 450x262.5 with 1 Axes>"
            ],
            "image/png": "[encoded data removed]"
          },
          "metadata": {}
        }
      ],
      "source": [
        "plt.plot(year, christian, label='Christian')\n",
        "plt.plot(year, unaffiliated, label='Unaffiliated')\n",
        "\n",
        "plt.ylim(0, 80)\n",
        "plt.xlabel('Year')\n",
        "plt.ylabel('% of adults')\n",
        "plt.title('Religious affiliation of U.S adults')\n",
        "plt.legend();"
      ]
    },
    {
      "cell_type": "markdown",
      "metadata": {
        "id": "uqoUsN-ynKLd"
      },
      "source": [
        "The legend shows the labels we provided when we created the lines."
      ]
    },
    {
      "cell_type": "markdown",
      "metadata": {
        "id": "AnI6mHrTnKLd"
      },
      "source": [
        "**Exercise:** The original figure plots lines between the data points, but it also plots markers showing the location of each data point.  It is good practice to include these markers, especially if data are not available for every year.\n",
        "\n",
        "Modify the previous example to include a keyword argument `marker` with the string value `'.'`, which indicates that you want to plot small circles as markers."
      ]
    },
    {
      "cell_type": "code",
      "execution_count": 32,
      "metadata": {
        "id": "DPGoXl9OnKLd",
        "outputId": "c550abc2-e9f6-4cc3-bf39-01cf93d0f5fb",
        "colab": {
          "base_uri": "https://localhost:8080/",
          "height": 281
        }
      },
      "outputs": [
        {
          "output_type": "display_data",
          "data": {
            "text/plain": [
              "<Figure size 450x262.5 with 1 Axes>"
            ],
            "image/png": "[encoded data removed]"
          },
          "metadata": {}
        }
      ],
      "source": [
        "# Solution goes here\n",
        "\n",
        "plt.plot(year, christian, label='Christian', marker = '.')\n",
        "plt.plot(year, unaffiliated, label='Unaffiliated', marker = '.')\n",
        "\n",
        "plt.ylim(0, 80)\n",
        "plt.xlabel('Year')\n",
        "plt.ylabel('% of adults')\n",
        "plt.title('Religious affiliation of U.S adults')\n",
        "plt.legend();"
      ]
    },
    {
      "cell_type": "markdown",
      "metadata": {
        "id": "BWRYh_rQnKLd"
      },
      "source": [
        "**Exercise:** In the original figure, the line labeled `'Christian'` is red and the line labeled `'Unaffiliated'` is gray.\n",
        "\n",
        "Find the online documentation of `plt.plot`, or ask a virtual assistant like ChatGPT, and figure out how to use keyword arguments to specify colors.\n",
        "Choose colors to (roughly) match the original figure.\n",
        "\n",
        "The `legend` function takes a keyword argument that specifies the location of the legend.  Read the documentation of this function and move the legend to the center left of the figure."
      ]
    },
    {
      "cell_type": "code",
      "execution_count": 34,
      "metadata": {
        "id": "7d1UmIOinKLd",
        "outputId": "ad45c29c-25d7-450b-e318-97b678e7740f",
        "colab": {
          "base_uri": "https://localhost:8080/",
          "height": 281
        }
      },
      "outputs": [
        {
          "output_type": "display_data",
          "data": {
            "text/plain": [
              "<Figure size 450x262.5 with 1 Axes>"
            ],
            "image/png": "[encoded data removed]"
          },
          "metadata": {}
        }
      ],
      "source": [
        "# Solution goes here\n",
        "\n",
        "plt.plot(year, christian, label='Christian', marker = '.', color = 'red')\n",
        "plt.plot(year, unaffiliated, label='Unaffiliated', marker = '.', color = 'gray')\n",
        "\n",
        "plt.ylim(0, 80)\n",
        "plt.xlabel('Year')\n",
        "plt.ylabel('% of adults')\n",
        "plt.title('Religious affiliation of U.S adults')\n",
        "plt.legend(loc = 'center left');"
      ]
    },
    {
      "cell_type": "markdown",
      "metadata": {
        "id": "8uXyijnQnKLe"
      },
      "source": [
        "## Plotting Sandwich Prices\n",
        "\n",
        "In Chapter 3 we used data from an article in *The Economist* comparing sandwich prices in Boston and London: \"Why Americans pay more for lunch than Britons do\"."
      ]
    },
    {
      "cell_type": "markdown",
      "metadata": {
        "tags": [],
        "id": "sSxb-vMWnKLe"
      },
      "source": [
        "You can read the article at <https://www.economist.com/finance-and-economics/2019/09/07/why-americans-pay-more-for-lunch-than-britons-do>."
      ]
    },
    {
      "cell_type": "markdown",
      "metadata": {
        "id": "mH0g_jNznKLe"
      },
      "source": [
        "The article includes this graph showing prices of several sandwiches in the two cities:\n",
        "\n",
        "<img src=\"https://github.com/AllenDowney/ElementsOfDataScience/raw/v1/figs/20190907_FNC941.png\"  width=\"300\">\n",
        "\n",
        "As an exercise, let's see if we can replicate this figure.\n",
        "Here's the data from the article again."
      ]
    },
    {
      "cell_type": "code",
      "execution_count": 35,
      "metadata": {
        "id": "qvSS0duGnKLe"
      },
      "outputs": [],
      "source": [
        "name_list = [\n",
        "    'Lobster roll',\n",
        "    'Chicken caesar',\n",
        "    'Bang bang chicken',\n",
        "    'Ham and cheese',\n",
        "    'Tuna and cucumber',\n",
        "    'Egg'\n",
        "]"
      ]
    },
    {
      "cell_type": "code",
      "execution_count": 36,
      "metadata": {
        "id": "ZmcOyi87nKLe"
      },
      "outputs": [],
      "source": [
        "boston_price_list = [9.99, 7.99, 7.49, 7, 6.29, 4.99]\n",
        "london_price_list = [7.5, 5, 4.4, 5, 3.75, 2.25]"
      ]
    },
    {
      "cell_type": "markdown",
      "metadata": {
        "id": "Z1J_oVo1nKLf"
      },
      "source": [
        "In the previous section we plotted percentages on the y-axis versus time on the x-axis.\n",
        "Now we want to plot the sandwich names on the y-axis and the prices on the x-axis.\n",
        "Here's how:"
      ]
    },
    {
      "cell_type": "code",
      "execution_count": 37,
      "metadata": {
        "id": "NArXOCV2nKLf",
        "outputId": "151123bf-c401-4037-9927-610c849a759e",
        "colab": {
          "base_uri": "https://localhost:8080/",
          "height": 265
        }
      },
      "outputs": [
        {
          "output_type": "display_data",
          "data": {
            "text/plain": [
              "<Figure size 450x262.5 with 1 Axes>"
            ],
            "image/png": "[encoded data removed]"
          },
          "metadata": {}
        }
      ],
      "source": [
        "plt.plot(boston_price_list, name_list)\n",
        "plt.xlabel('Price in USD');"
      ]
    },
    {
      "cell_type": "markdown",
      "metadata": {
        "id": "tWG9xw4tnKLf"
      },
      "source": [
        "By default Pyplot connects the points with lines, but in this example the lines don't make sense because the sandwich names are discrete -- that is, there are no intermediate points between an egg sandwich and a tuna sandwich.\n",
        "We can remove the lines and add markers with the keywords `linestyle` and `marker`."
      ]
    },
    {
      "cell_type": "code",
      "execution_count": 38,
      "metadata": {
        "id": "0YHvKEzWnKLf",
        "outputId": "a319f488-710d-4073-faca-3a3815bc41e1",
        "colab": {
          "base_uri": "https://localhost:8080/",
          "height": 265
        }
      },
      "outputs": [
        {
          "output_type": "display_data",
          "data": {
            "text/plain": [
              "<Figure size 450x262.5 with 1 Axes>"
            ],
            "image/png": "[encoded data removed]"
          },
          "metadata": {}
        }
      ],
      "source": [
        "plt.plot(boston_price_list, name_list, linestyle='', marker='o')\n",
        "plt.xlabel('Price in USD');"
      ]
    },
    {
      "cell_type": "markdown",
      "metadata": {
        "id": "QhIhEEnYnKLf"
      },
      "source": [
        "Or we can do the same thing more concisely by providing a **format string** as a positional argument.\n",
        "In the following examples, `'o'` indicates a circle marker and `'s'` indicates a square.\n",
        "You can read the documentation of `plt.plot` to learn more about format strings."
      ]
    },
    {
      "cell_type": "code",
      "execution_count": 39,
      "metadata": {
        "id": "YXZr88xenKLg",
        "outputId": "277d9fa7-b281-4bca-95c9-3dea05536d24",
        "colab": {
          "base_uri": "https://localhost:8080/",
          "height": 281
        }
      },
      "outputs": [
        {
          "output_type": "display_data",
          "data": {
            "text/plain": [
              "<Figure size 450x262.5 with 1 Axes>"
            ],
            "image/png": "[encoded data removed]"
          },
          "metadata": {}
        }
      ],
      "source": [
        "plt.plot(boston_price_list, name_list, 'o')\n",
        "plt.plot(london_price_list, name_list, 's')\n",
        "\n",
        "plt.xlabel('Price in USD')\n",
        "plt.title('Pret a Manger prices in Boston and London');"
      ]
    },
    {
      "cell_type": "markdown",
      "metadata": {
        "id": "2layuKqPnKLg"
      },
      "source": [
        "Now, to approximate the colors in the original figure, we can use the strings `'C3'` and `'C0'`, which specify colors from the default color sequence."
      ]
    },
    {
      "cell_type": "code",
      "execution_count": null,
      "metadata": {
        "id": "69YPR5wLnKLg"
      },
      "outputs": [],
      "source": [
        "plt.plot(boston_price_list, name_list, 'o', color='C3')\n",
        "plt.plot(london_price_list, name_list, 's', color='C0')\n",
        "\n",
        "plt.xlabel('Price in USD')\n",
        "plt.title('Pret a Manger prices in Boston and London');"
      ]
    },
    {
      "cell_type": "markdown",
      "metadata": {
        "id": "pEwIXXb_nKLg"
      },
      "source": [
        "To connect the dots with lines, we'll use `plt.hlines`, which draws horizontal lines.  It takes three arguments: a sequence of values on the y-axis, which are the sandwich names in this example, and two sequences of values on the x-axis, which are the London prices and Boston prices."
      ]
    },
    {
      "cell_type": "code",
      "execution_count": null,
      "metadata": {
        "id": "oDfSuC3QnKLg"
      },
      "outputs": [],
      "source": [
        "plt.hlines(name_list, london_price_list, boston_price_list, color='gray')\n",
        "\n",
        "plt.plot(boston_price_list, name_list, 'o', color='C3')\n",
        "plt.plot(london_price_list, name_list, 's', color='C0')\n",
        "\n",
        "plt.xlabel('Price in USD')\n",
        "plt.title('Pret a Manger prices in Boston and London');"
      ]
    },
    {
      "cell_type": "markdown",
      "metadata": {
        "id": "mlKPLP99nKLh"
      },
      "source": [
        "**Exercise:** To finish off this example, add a legend that identifies the London and Boston prices.  Remember that you have to add a `label` keyword each time you call `plt.plot`, and then call `plt.legend`.\n",
        "\n",
        "Notice that the sandwiches in our figure are in the opposite order of the sandwiches in the original figure.  There is a Pyplot function that inverts the y-axis; see if you can find it and use it to reverse the order of the sandwich list."
      ]
    },
    {
      "cell_type": "code",
      "execution_count": null,
      "metadata": {
        "id": "2s-XDqnlnKLh"
      },
      "outputs": [],
      "source": [
        "# Solution goes here"
      ]
    },
    {
      "cell_type": "markdown",
      "metadata": {
        "id": "m6qOwUm8nKLh"
      },
      "source": [
        "## Zipf's Law\n",
        "\n",
        "In almost any book, in almost any language, if you count the number of unique words and the number of times each word appears, you will find a remarkable pattern: the most common word appears twice as often as the second most common -- at least approximately -- three times as often as the third most common, and so on.\n",
        "\n",
        "In general, if we sort the words in descending order of frequency, there is an inverse relationship between the rank of the words -- first, second, third, etc. -- and the number of times they appear.\n",
        "This observation was most famously made by George Kingsley Zipf, so it is called Zipf's law.\n",
        "\n",
        "To see if this law holds for the words in *War and Peace*, we'll make a Zipf plot, which shows:\n",
        "\n",
        "* The frequency of each word on the y-axis, and\n",
        "\n",
        "* The rank of each word on the x-axis, starting from 1."
      ]
    },
    {
      "cell_type": "markdown",
      "metadata": {
        "tags": [],
        "id": "eYZOP0arnKLh"
      },
      "source": [
        "When you run the following cell, it checks to see whether you already have a file named `2600-0.txt`, which is the name of the file that contains the text of *War and Peace*.\n",
        "If not, it copies the file to your computer.\n",
        "The file is [originally from Project Gutenberg](https://www.gutenberg.org/files/2600/2600-0.txt), but I put a slightly cleaned up version of it in the repository for this book."
      ]
    },
    {
      "cell_type": "code",
      "execution_count": null,
      "metadata": {
        "tags": [],
        "id": "6eeyMsnOnKLh"
      },
      "outputs": [],
      "source": [
        "download('https://github.com/AllenDowney/ElementsOfDataScience/raw/v1/data/2600-0.txt');"
      ]
    },
    {
      "cell_type": "markdown",
      "metadata": {
        "id": "98zXiu9knKLh"
      },
      "source": [
        "In the previous chapter, we looped through the book and made a string that contains all punctuation characters.\n",
        "Here are the results, which we will need again."
      ]
    },
    {
      "cell_type": "code",
      "execution_count": null,
      "metadata": {
        "id": "X13JIuFsnKLi"
      },
      "outputs": [],
      "source": [
        "all_punctuation = ',.-:[#]*/“’—‘!?”;()%@'"
      ]
    },
    {
      "cell_type": "markdown",
      "metadata": {
        "id": "3-DqCDewnKLj"
      },
      "source": [
        "The following program reads through the book and makes a dictionary that maps from each word to the number of times it appears."
      ]
    },
    {
      "cell_type": "code",
      "execution_count": null,
      "metadata": {
        "tags": [],
        "id": "OfY7YcSZnKLk"
      },
      "outputs": [],
      "source": [
        "# On Windows, it might be necessary to specify the encoding\n",
        "\n",
        "# fp = open('2600-0.txt', encoding='utf-8')"
      ]
    },
    {
      "cell_type": "code",
      "execution_count": null,
      "metadata": {
        "id": "Oxb9X1ChnKLk"
      },
      "outputs": [],
      "source": [
        "fp = open('2600-0.txt')\n",
        "for line in fp:\n",
        "    if line.startswith('***'):\n",
        "        break\n",
        "\n",
        "unique_words = {}\n",
        "for line in fp:\n",
        "    if line.startswith('***'):\n",
        "        break\n",
        "\n",
        "    for word in line.split():\n",
        "        word = word.lower()\n",
        "        word = word.strip(all_punctuation)\n",
        "        if word in unique_words:\n",
        "            unique_words[word] += 1\n",
        "        else:\n",
        "            unique_words[word] = 1"
      ]
    },
    {
      "cell_type": "markdown",
      "metadata": {
        "id": "chtqXojTnKLk"
      },
      "source": [
        "In `unique_words`, the keys are words and the values are their frequencies.  We can use the `values` function to get the values from the dictionary.  The result has the type `dict_values`:"
      ]
    },
    {
      "cell_type": "code",
      "execution_count": null,
      "metadata": {
        "id": "7mgB3lRHnKLl"
      },
      "outputs": [],
      "source": [
        "freqs = unique_words.values()\n",
        "type(freqs)"
      ]
    },
    {
      "cell_type": "markdown",
      "metadata": {
        "id": "JDXHM4ARnKLl"
      },
      "source": [
        "Before we plot them, we have to sort them, but the `sort` function doesn't work with `dict_values`."
      ]
    },
    {
      "cell_type": "code",
      "execution_count": null,
      "metadata": {
        "tags": [],
        "id": "1lPaUH7VnKLl"
      },
      "outputs": [],
      "source": [
        "%%expect AttributeError\n",
        "\n",
        "freqs.sort()"
      ]
    },
    {
      "cell_type": "markdown",
      "metadata": {
        "id": "wqBxMOkSnKLl"
      },
      "source": [
        "We can use `list` to make a list of frequencies:"
      ]
    },
    {
      "cell_type": "code",
      "execution_count": null,
      "metadata": {
        "id": "JJRUiQwMnKLm"
      },
      "outputs": [],
      "source": [
        "freq_list = list(unique_words.values())\n",
        "type(freq_list)"
      ]
    },
    {
      "cell_type": "markdown",
      "metadata": {
        "id": "MN-r6lwNnKLm"
      },
      "source": [
        "And now we can use `sort`.  By default it sorts in ascending order, but we can pass a keyword argument to reverse the order."
      ]
    },
    {
      "cell_type": "code",
      "execution_count": null,
      "metadata": {
        "id": "EI_0P7QtnKLm"
      },
      "outputs": [],
      "source": [
        "freq_list.sort(reverse=True)"
      ]
    },
    {
      "cell_type": "markdown",
      "metadata": {
        "id": "IfoLWBp1nKLm"
      },
      "source": [
        "Now, for the ranks, we need a sequence that counts from 1 to `n`, where `n` is the number of elements in `freq_list`.  We can use the `range` function, which returns a value with type `range`.\n",
        "As a small example, here's the range from 1 to 5."
      ]
    },
    {
      "cell_type": "code",
      "execution_count": null,
      "metadata": {
        "id": "wIX7eyfknKLm"
      },
      "outputs": [],
      "source": [
        "range(1, 5)"
      ]
    },
    {
      "cell_type": "markdown",
      "metadata": {
        "id": "gtjMRlpVnKLn"
      },
      "source": [
        "However, there's a catch.  If we use the range to make a list, we see that \"the range from 1 to 5\" includes 1, but it doesn't include 5."
      ]
    },
    {
      "cell_type": "code",
      "execution_count": null,
      "metadata": {
        "id": "E4eXZSJ1nKLn"
      },
      "outputs": [],
      "source": [
        "list(range(1, 5))"
      ]
    },
    {
      "cell_type": "markdown",
      "metadata": {
        "id": "z9frYjRvnKLn"
      },
      "source": [
        "That might seem strange, but it is often more convenient to use `range` when it is defined this way, rather than what might seem like the more natural way.\n",
        "Anyway, we can get what we want by increasing the second argument by one:"
      ]
    },
    {
      "cell_type": "markdown",
      "metadata": {
        "tags": [],
        "id": "mtUKE4hJnKLn"
      },
      "source": [
        "Read about the different ways to define `range`, and their pros and cons, at <https://www.cs.utexas.edu/users/EWD/transcriptions/EWD08xx/EWD831.html>."
      ]
    },
    {
      "cell_type": "code",
      "execution_count": null,
      "metadata": {
        "id": "NLf70XqGnKLn"
      },
      "outputs": [],
      "source": [
        "list(range(1, 6))"
      ]
    },
    {
      "cell_type": "markdown",
      "metadata": {
        "id": "e--1HP1xnKLo"
      },
      "source": [
        "So, finally, we can make a range that represents the ranks from `1` to `n`:"
      ]
    },
    {
      "cell_type": "code",
      "execution_count": null,
      "metadata": {
        "id": "rAIv2eATnKLo"
      },
      "outputs": [],
      "source": [
        "n = len(freq_list)\n",
        "ranks = range(1, n+1)\n",
        "ranks"
      ]
    },
    {
      "cell_type": "markdown",
      "metadata": {
        "id": "7YibjPHhnKLo"
      },
      "source": [
        "And now we can plot the frequencies versus the ranks:"
      ]
    },
    {
      "cell_type": "code",
      "execution_count": null,
      "metadata": {
        "id": "ox3axWQhnKLo"
      },
      "outputs": [],
      "source": [
        "plt.plot(ranks, freq_list)\n",
        "\n",
        "plt.xlabel('Rank')\n",
        "plt.ylabel('Frequency')\n",
        "plt.title(\"War and Peace and Zipf's law\");"
      ]
    },
    {
      "cell_type": "markdown",
      "metadata": {
        "id": "h0UjqezDnKLo"
      },
      "source": [
        "According to Zipf's law, these frequencies should be inversely proportional to the ranks.\n",
        "If that's true, we can write:\n",
        "\n",
        "$f = k / r$\n",
        "\n",
        "where $r$ is the rank of a word, $f$ is its frequency, and $k$ is an unknown constant of proportionality.\n",
        "If we take the logarithm of both sides, we get\n",
        "\n",
        "$\\log f = \\log k - \\log r$\n",
        "\n",
        "This equation implies that if we plot $f$ versus $r$ on a log-log scale, we expect to see a straight line with intercept at $\\log k$ and slope $-1$."
      ]
    },
    {
      "cell_type": "markdown",
      "metadata": {
        "id": "Sp_njv-qnKLo"
      },
      "source": [
        "## Logarithmic Scales\n",
        "\n",
        "We can use `plt.xscale` to plot the x-axis on a log scale."
      ]
    },
    {
      "cell_type": "code",
      "execution_count": null,
      "metadata": {
        "id": "yKW7-sw2nKLp"
      },
      "outputs": [],
      "source": [
        "plt.plot(ranks, freq_list)\n",
        "\n",
        "plt.xlabel('Rank')\n",
        "plt.ylabel('Frequency')\n",
        "plt.title(\"War and Peace and Zipf's law\")\n",
        "plt.xscale('log')"
      ]
    },
    {
      "cell_type": "markdown",
      "metadata": {
        "id": "y5GQBOCJnKLp"
      },
      "source": [
        "And `plt.yscale` to plot the y-axis on a log scale."
      ]
    },
    {
      "cell_type": "code",
      "execution_count": null,
      "metadata": {
        "id": "Xg_QXHpknKLp"
      },
      "outputs": [],
      "source": [
        "plt.plot(ranks, freq_list)\n",
        "\n",
        "plt.xlabel('Rank')\n",
        "plt.ylabel('Frequency')\n",
        "plt.title(\"War and Peace and Zipf's law\")\n",
        "plt.xscale('log')\n",
        "plt.yscale('log')"
      ]
    },
    {
      "cell_type": "markdown",
      "metadata": {
        "id": "GRhuim-znKLp"
      },
      "source": [
        "The result is not quite a straight line, but it is close.  We can get a sense of the slope by connecting the end points with a line.\n",
        "First, we'll select the first and last elements from `xs`."
      ]
    },
    {
      "cell_type": "code",
      "execution_count": null,
      "metadata": {
        "id": "-oxBil6UnKLp"
      },
      "outputs": [],
      "source": [
        "xs = ranks[0], ranks[-1]\n",
        "xs"
      ]
    },
    {
      "cell_type": "markdown",
      "metadata": {
        "id": "7fsR-upOnKLq"
      },
      "source": [
        "And the first and last elements from `ys`."
      ]
    },
    {
      "cell_type": "code",
      "execution_count": null,
      "metadata": {
        "id": "A8NkcUNVnKLq"
      },
      "outputs": [],
      "source": [
        "ys = freq_list[0], freq_list[-1]\n",
        "ys"
      ]
    },
    {
      "cell_type": "markdown",
      "metadata": {
        "id": "0xLy8sVJnKLr"
      },
      "source": [
        "And plot a line between them."
      ]
    },
    {
      "cell_type": "code",
      "execution_count": null,
      "metadata": {
        "id": "U7GUC7vsnKLr"
      },
      "outputs": [],
      "source": [
        "plt.plot(xs, ys, color='gray')\n",
        "plt.plot(ranks, freq_list)\n",
        "\n",
        "plt.xlabel('Rank')\n",
        "plt.ylabel('Frequency')\n",
        "plt.title(\"War and Peace and Zipf's law\")\n",
        "plt.xscale('log')\n",
        "plt.yscale('log')"
      ]
    },
    {
      "cell_type": "markdown",
      "metadata": {
        "id": "EXwhVhg1nKLr"
      },
      "source": [
        "The slope of this line is the \"rise over run\", that is, the difference on the y-axis divided by the difference on the x-axis.\n",
        "We can compute the rise using `np.log10` to compute the log base 10 of the first and last values:"
      ]
    },
    {
      "cell_type": "code",
      "execution_count": null,
      "metadata": {
        "id": "wp3T1F0InKLs"
      },
      "outputs": [],
      "source": [
        "np.log10(ys)"
      ]
    },
    {
      "cell_type": "markdown",
      "metadata": {
        "id": "266ifP-NnKLs"
      },
      "source": [
        "Then we can use `np.diff` to compute the difference between the elements:"
      ]
    },
    {
      "cell_type": "code",
      "execution_count": null,
      "metadata": {
        "id": "4UENPLkonKLs"
      },
      "outputs": [],
      "source": [
        "rise = np.diff(np.log10(ys))\n",
        "rise"
      ]
    },
    {
      "cell_type": "markdown",
      "metadata": {
        "id": "nDmyftnsnKLs"
      },
      "source": [
        "**Exercise:** Use `log10` and `diff` to compute the run, that is, the difference on the x-axis.  Then divide the rise by the run to get the slope of the grey line.\n",
        "Is it close to $-1$, as Zipf's law predicts?"
      ]
    },
    {
      "cell_type": "code",
      "execution_count": null,
      "metadata": {
        "id": "fqM4n6ianKLt"
      },
      "outputs": [],
      "source": [
        "# Solution goes here"
      ]
    },
    {
      "cell_type": "code",
      "execution_count": null,
      "metadata": {
        "id": "trtPFSFCnKLt"
      },
      "outputs": [],
      "source": [
        "# Solution goes here"
      ]
    },
    {
      "cell_type": "markdown",
      "metadata": {
        "id": "cr3T-KMhnKLt"
      },
      "source": [
        "## Summary\n",
        "\n",
        "This chapter introduces Pyplot, which is part of the Matplotlib library.\n",
        "We used to replicate two figures and make a Zipf plot.\n",
        "These examples demonstrate the most common elements of data visualization, including lines and markers, values and labels on the axes, a legend and a title.\n",
        "The Zipf plot also shows the power of plotting data on logarithmic scales."
      ]
    },
    {
      "cell_type": "markdown",
      "metadata": {
        "tags": [],
        "id": "YUWBuVgQnKLt"
      },
      "source": [
        "*Elements of Data Science*\n",
        "\n",
        "Copyright 2021 [Allen B. Downey](https://allendowney.com)\n",
        "\n",
        "License: [Creative Commons Attribution-NonCommercial-ShareAlike 4.0 International](https://creativecommons.org/licenses/by-nc-sa/4.0/)"
      ]
    }
  ],
  "metadata": {
    "celltoolbar": "Tags",
    "kernelspec": {
      "display_name": "Python 3 (ipykernel)",
      "language": "python",
      "name": "python3"
    },
    "language_info": {
      "codemirror_mode": {
        "name": "ipython",
        "version": 3
      },
      "file_extension": ".py",
      "mimetype": "text/x-python",
      "name": "python",
      "nbconvert_exporter": "python",
      "pygments_lexer": "ipython3",
      "version": "3.10.14"
    },
    "colab": {
      "provenance": []
    }
  },
  "nbformat": 4,
  "nbformat_minor": 0
}