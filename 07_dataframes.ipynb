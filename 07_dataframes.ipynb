{
  "cells": [
    {
      "cell_type": "markdown",
      "metadata": {
        "id": "dZreXv53MHwx"
      },
      "source": [
        "Printed copies of *Elements of Data Science* are available now, with a **full color interior**, from [Lulu.com](https://www.lulu.com/shop/allen-downey/elements-of-data-science/paperback/product-9dyrwn.html)."
      ]
    },
    {
      "cell_type": "markdown",
      "metadata": {
        "id": "XhvO9k5MMHw3"
      },
      "source": [
        "# DataFrames and Series"
      ]
    },
    {
      "cell_type": "markdown",
      "metadata": {
        "tags": [],
        "id": "PSOl9HwYMHw3"
      },
      "source": [
        "[Click here to run this notebook on Colab](https://colab.research.google.com/github/AllenDowney/ElementsOfDataScience/blob/v1/07_dataframes.ipynb)."
      ]
    },
    {
      "cell_type": "code",
      "execution_count": 1,
      "metadata": {
        "tags": [],
        "colab": {
          "base_uri": "https://localhost:8080/"
        },
        "id": "l9VLNx-jMHw4",
        "outputId": "292a8c10-0bcd-43aa-e596-026c8b4f038a"
      },
      "outputs": [
        {
          "output_type": "stream",
          "name": "stdout",
          "text": [
            "Downloaded utils.py\n"
          ]
        }
      ],
      "source": [
        "from os.path import basename, exists\n",
        "\n",
        "def download(url):\n",
        "    filename = basename(url)\n",
        "    if not exists(filename):\n",
        "        from urllib.request import urlretrieve\n",
        "\n",
        "        local, _ = urlretrieve(url, filename)\n",
        "        print(\"Downloaded \" + str(local))\n",
        "    return filename\n",
        "\n",
        "download('https://raw.githubusercontent.com/AllenDowney/ElementsOfDataScience/v1/utils.py')\n",
        "\n",
        "import utils"
      ]
    },
    {
      "cell_type": "markdown",
      "metadata": {
        "id": "sVFd2eU_MHw7"
      },
      "source": [
        "This chapter introduces Pandas, a Python library that provides functions for reading and writing data files, exploring and analyzing data, and generating visualizations.\n",
        "And it provides two new types for working with data, `DataFrame` and `Series`.\n",
        "\n",
        "We will use these tools to answer a data question -- what is the average birth weight of babies in the United States?\n",
        "This example will demonstrate important steps in almost any data science project:\n",
        "\n",
        "1. Identifying data that can answer a question.\n",
        "\n",
        "2. Obtaining the data and loading it in Python.\n",
        "\n",
        "3. Checking the data and dealing with errors.\n",
        "\n",
        "4. Selecting relevant subsets from the data.\n",
        "\n",
        "5. Using histograms to visualize a distribution of values.\n",
        "\n",
        "6. Using summary statistics to describe the data in a way that best answers the question.\n",
        "\n",
        "7. Considering possible sources of error and limitations in our conclusions.\n",
        "\n",
        "Let's start by getting the data."
      ]
    },
    {
      "cell_type": "markdown",
      "metadata": {
        "id": "FQ4q6SLtMHw8"
      },
      "source": [
        "## Reading the Data\n",
        "\n",
        "To estimate average birth weight, we'll use data from the National Survey of Family Growth (NSFG), which is available from the National Center for Health Statistics.\n",
        "To download the data, you have to agree to the Data User's Agreement.\n",
        "URLs for the data and the agreement are in the notebook for this chapter."
      ]
    },
    {
      "cell_type": "markdown",
      "metadata": {
        "tags": [],
        "id": "kBgsNP0qMHw9"
      },
      "source": [
        "The NSFG data is available from <https://www.cdc.gov/nchs/nsfg>.\n",
        "\n",
        "The Data User's Agreement is at <https://www.cdc.gov/nchs/data_access/ftp_dua.htm>."
      ]
    },
    {
      "cell_type": "markdown",
      "metadata": {
        "id": "arRN7VuCMHw9"
      },
      "source": [
        "You should read the terms carefully, but let me draw your attention to what I think is the most important one:\n",
        "\n",
        "> Make no attempt to learn the identity of any person or establishment included in these data.\n",
        "\n",
        "NSFG respondents answer questions of the most personal nature with the expectation that their identities will not be revealed.\n",
        "As ethical data scientists, we should respect their privacy and adhere to the terms of use."
      ]
    },
    {
      "cell_type": "markdown",
      "metadata": {
        "id": "GHABeiekMHw-"
      },
      "source": [
        "Respondents to the NSFG provide general information about themselves, which is stored in the respondent file, and information about each time they have been pregnant, which is stored in the pregnancy file.\n",
        "\n",
        "We will work with the pregnancy file, which contains one row for each pregnancy and one column for each question on the NSFG questionnaire."
      ]
    },
    {
      "cell_type": "markdown",
      "metadata": {
        "id": "2N5CBWbmMHxA"
      },
      "source": [
        "The data is stored in a fixed-width format, which means that every row is the same length and each column spans a fixed range of characters.\n",
        "For example, the first six characters in each row represent a a unique identifier for each respondent; the next two characters indicate whether a pregnancy is the respondent's first, second, etc.\n",
        "\n",
        "To read this data, we need a **data dictionary**, which specifies the names of the columns and the index where each one begins and ends.\n",
        "The data and the data dictionary are available in separate files.\n",
        "Instructions for downloading them are in the notebook for this chapter."
      ]
    },
    {
      "cell_type": "code",
      "execution_count": 2,
      "metadata": {
        "id": "XZ0-r8sUMHxA"
      },
      "outputs": [],
      "source": [
        "dict_file = '2015_2017_FemPregSetup.dct'\n",
        "data_file = '2015_2017_FemPregData.dat'"
      ]
    },
    {
      "cell_type": "markdown",
      "metadata": {
        "tags": [],
        "id": "MKA4EjzNMHxB"
      },
      "source": [
        "Once you have agreed to the terms, you can use the following cells to download the data."
      ]
    },
    {
      "cell_type": "code",
      "execution_count": 3,
      "metadata": {
        "tags": [],
        "colab": {
          "base_uri": "https://localhost:8080/",
          "height": 52
        },
        "id": "mWetnIGNMHxC",
        "outputId": "d9c46d88-b963-4553-ab49-c057d268a279"
      },
      "outputs": [
        {
          "output_type": "stream",
          "name": "stdout",
          "text": [
            "Downloaded 2015_2017_FemPregSetup.dct\n"
          ]
        },
        {
          "output_type": "execute_result",
          "data": {
            "text/plain": [
              "'2015_2017_FemPregSetup.dct'"
            ],
            "application/vnd.google.colaboratory.intrinsic+json": {
              "type": "string"
            }
          },
          "metadata": {},
          "execution_count": 3
        }
      ],
      "source": [
        "download('https://ftp.cdc.gov/pub/health_statistics/nchs/datasets/NSFG/stata/' + dict_file)"
      ]
    },
    {
      "cell_type": "code",
      "execution_count": 4,
      "metadata": {
        "tags": [],
        "colab": {
          "base_uri": "https://localhost:8080/",
          "height": 52
        },
        "id": "sEYb7l4yMHxD",
        "outputId": "f7eadf67-2574-408c-9342-8290df9b5c15"
      },
      "outputs": [
        {
          "output_type": "stream",
          "name": "stdout",
          "text": [
            "Downloaded 2015_2017_FemPregData.dat\n"
          ]
        },
        {
          "output_type": "execute_result",
          "data": {
            "text/plain": [
              "'2015_2017_FemPregData.dat'"
            ],
            "application/vnd.google.colaboratory.intrinsic+json": {
              "type": "string"
            }
          },
          "metadata": {},
          "execution_count": 4
        }
      ],
      "source": [
        "download('https://ftp.cdc.gov/pub/health_statistics/nchs/datasets/NSFG/' + data_file)"
      ]
    },
    {
      "cell_type": "markdown",
      "metadata": {
        "id": "4SyMA5R7MHxE"
      },
      "source": [
        "Pandas can read data in most common formats, including CSV, Excel, and fixed-width format, but it cannot read the data dictionary, which is in Stata format.\n",
        "For that, we'll use a Python library called `statadict`."
      ]
    },
    {
      "cell_type": "markdown",
      "metadata": {
        "tags": [],
        "id": "YVJhye-yMHxE"
      },
      "source": [
        "The following cell installs `statadict` if necessary."
      ]
    },
    {
      "cell_type": "code",
      "execution_count": 5,
      "metadata": {
        "tags": [],
        "colab": {
          "base_uri": "https://localhost:8080/"
        },
        "id": "woP37npZMHxE",
        "outputId": "a3bfddbb-fef3-44b0-c005-54dbb0dc0c81"
      },
      "outputs": [
        {
          "output_type": "stream",
          "name": "stdout",
          "text": [
            "Collecting statadict\n",
            "  Downloading statadict-1.1.0-py3-none-any.whl.metadata (1.7 kB)\n",
            "Downloading statadict-1.1.0-py3-none-any.whl (9.4 kB)\n",
            "Installing collected packages: statadict\n",
            "Successfully installed statadict-1.1.0\n"
          ]
        }
      ],
      "source": [
        "try:\n",
        "    from statadict import parse_stata_dict\n",
        "except ImportError:\n",
        "    !pip install statadict"
      ]
    },
    {
      "cell_type": "markdown",
      "metadata": {
        "id": "EPhtXNCNMHxF"
      },
      "source": [
        "From `statadict`, we'll import `parse_stata_dict`, which reads the data dictionary."
      ]
    },
    {
      "cell_type": "code",
      "execution_count": 6,
      "metadata": {
        "colab": {
          "base_uri": "https://localhost:8080/"
        },
        "id": "F8WsELY_MHxG",
        "outputId": "6ec9e8ed-a25f-40d5-fc75-867b3efb54d1"
      },
      "outputs": [
        {
          "output_type": "execute_result",
          "data": {
            "text/plain": [
              "<statadict.base.StataDict at 0x7cf686f32550>"
            ]
          },
          "metadata": {},
          "execution_count": 6
        }
      ],
      "source": [
        "from statadict import parse_stata_dict\n",
        "\n",
        "stata_dict = parse_stata_dict(dict_file)\n",
        "stata_dict"
      ]
    },
    {
      "cell_type": "markdown",
      "metadata": {
        "id": "GfDg6vujMHxH"
      },
      "source": [
        "The result is an object that contains\n",
        "\n",
        "* `names`, which is a list of column names, and\n",
        "\n",
        "* `colspecs`, which is a list of tuples, where each tuple contains the first and last index of a column.\n",
        "\n",
        "These values are exactly the arguments we need to use `read_fwf`, which is the Pandas function that reads a file in fixed-width format."
      ]
    },
    {
      "cell_type": "code",
      "execution_count": 7,
      "metadata": {
        "colab": {
          "base_uri": "https://localhost:8080/",
          "height": 204
        },
        "id": "fZRexG2HMHxH",
        "outputId": "d10e17d3-fa9e-4107-f8ac-29a18984df46"
      },
      "outputs": [
        {
          "output_type": "execute_result",
          "data": {
            "text/plain": [
              "pandas.core.frame.DataFrame"
            ],
            "text/html": [
              "<div style=\"max-width:800px; border: 1px solid var(--colab-border-color);\"><style>\n",
              "      pre.function-repr-contents {\n",
              "        overflow-x: auto;\n",
              "        padding: 8px 12px;\n",
              "        max-height: 500px;\n",
              "      }\n",
              "\n",
              "      pre.function-repr-contents.function-repr-contents-collapsed {\n",
              "        cursor: pointer;\n",
              "        max-height: 100px;\n",
              "      }\n",
              "    </style>\n",
              "    <pre style=\"white-space: initial; background:\n",
              "         var(--colab-secondary-surface-color); padding: 8px 12px;\n",
              "         border-bottom: 1px solid var(--colab-border-color);\"><b>pandas.core.frame.DataFrame</b><br/>def __init__(data=None, index: Axes | None=None, columns: Axes | None=None, dtype: Dtype | None=None, copy: bool | None=None) -&gt; None</pre><pre class=\"function-repr-contents function-repr-contents-collapsed\" style=\"\"><a class=\"filepath\" style=\"display:none\" href=\"#\">/usr/local/lib/python3.11/dist-packages/pandas/core/frame.py</a>Two-dimensional, size-mutable, potentially heterogeneous tabular data.\n",
              "\n",
              "Data structure also contains labeled axes (rows and columns).\n",
              "Arithmetic operations align on both row and column labels. Can be\n",
              "thought of as a dict-like container for Series objects. The primary\n",
              "pandas data structure.\n",
              "\n",
              "Parameters\n",
              "----------\n",
              "data : ndarray (structured or homogeneous), Iterable, dict, or DataFrame\n",
              "    Dict can contain Series, arrays, constants, dataclass or list-like objects. If\n",
              "    data is a dict, column order follows insertion-order. If a dict contains Series\n",
              "    which have an index defined, it is aligned by its index. This alignment also\n",
              "    occurs if data is a Series or a DataFrame itself. Alignment is done on\n",
              "    Series/DataFrame inputs.\n",
              "\n",
              "    If data is a list of dicts, column order follows insertion-order.\n",
              "\n",
              "index : Index or array-like\n",
              "    Index to use for resulting frame. Will default to RangeIndex if\n",
              "    no indexing information part of input data and no index provided.\n",
              "columns : Index or array-like\n",
              "    Column labels to use for resulting frame when data does not have them,\n",
              "    defaulting to RangeIndex(0, 1, 2, ..., n). If data contains column labels,\n",
              "    will perform column selection instead.\n",
              "dtype : dtype, default None\n",
              "    Data type to force. Only a single dtype is allowed. If None, infer.\n",
              "copy : bool or None, default None\n",
              "    Copy data from inputs.\n",
              "    For dict data, the default of None behaves like ``copy=True``.  For DataFrame\n",
              "    or 2d ndarray input, the default of None behaves like ``copy=False``.\n",
              "    If data is a dict containing one or more Series (possibly of different dtypes),\n",
              "    ``copy=False`` will ensure that these inputs are not copied.\n",
              "\n",
              "    .. versionchanged:: 1.3.0\n",
              "\n",
              "See Also\n",
              "--------\n",
              "DataFrame.from_records : Constructor from tuples, also record arrays.\n",
              "DataFrame.from_dict : From dicts of Series, arrays, or dicts.\n",
              "read_csv : Read a comma-separated values (csv) file into DataFrame.\n",
              "read_table : Read general delimited file into DataFrame.\n",
              "read_clipboard : Read text from clipboard into DataFrame.\n",
              "\n",
              "Notes\n",
              "-----\n",
              "Please reference the :ref:`User Guide &lt;basics.dataframe&gt;` for more information.\n",
              "\n",
              "Examples\n",
              "--------\n",
              "Constructing DataFrame from a dictionary.\n",
              "\n",
              "&gt;&gt;&gt; d = {&#x27;col1&#x27;: [1, 2], &#x27;col2&#x27;: [3, 4]}\n",
              "&gt;&gt;&gt; df = pd.DataFrame(data=d)\n",
              "&gt;&gt;&gt; df\n",
              "   col1  col2\n",
              "0     1     3\n",
              "1     2     4\n",
              "\n",
              "Notice that the inferred dtype is int64.\n",
              "\n",
              "&gt;&gt;&gt; df.dtypes\n",
              "col1    int64\n",
              "col2    int64\n",
              "dtype: object\n",
              "\n",
              "To enforce a single dtype:\n",
              "\n",
              "&gt;&gt;&gt; df = pd.DataFrame(data=d, dtype=np.int8)\n",
              "&gt;&gt;&gt; df.dtypes\n",
              "col1    int8\n",
              "col2    int8\n",
              "dtype: object\n",
              "\n",
              "Constructing DataFrame from a dictionary including Series:\n",
              "\n",
              "&gt;&gt;&gt; d = {&#x27;col1&#x27;: [0, 1, 2, 3], &#x27;col2&#x27;: pd.Series([2, 3], index=[2, 3])}\n",
              "&gt;&gt;&gt; pd.DataFrame(data=d, index=[0, 1, 2, 3])\n",
              "   col1  col2\n",
              "0     0   NaN\n",
              "1     1   NaN\n",
              "2     2   2.0\n",
              "3     3   3.0\n",
              "\n",
              "Constructing DataFrame from numpy ndarray:\n",
              "\n",
              "&gt;&gt;&gt; df2 = pd.DataFrame(np.array([[1, 2, 3], [4, 5, 6], [7, 8, 9]]),\n",
              "...                    columns=[&#x27;a&#x27;, &#x27;b&#x27;, &#x27;c&#x27;])\n",
              "&gt;&gt;&gt; df2\n",
              "   a  b  c\n",
              "0  1  2  3\n",
              "1  4  5  6\n",
              "2  7  8  9\n",
              "\n",
              "Constructing DataFrame from a numpy ndarray that has labeled columns:\n",
              "\n",
              "&gt;&gt;&gt; data = np.array([(1, 2, 3), (4, 5, 6), (7, 8, 9)],\n",
              "...                 dtype=[(&quot;a&quot;, &quot;i4&quot;), (&quot;b&quot;, &quot;i4&quot;), (&quot;c&quot;, &quot;i4&quot;)])\n",
              "&gt;&gt;&gt; df3 = pd.DataFrame(data, columns=[&#x27;c&#x27;, &#x27;a&#x27;])\n",
              "...\n",
              "&gt;&gt;&gt; df3\n",
              "   c  a\n",
              "0  3  1\n",
              "1  6  4\n",
              "2  9  7\n",
              "\n",
              "Constructing DataFrame from dataclass:\n",
              "\n",
              "&gt;&gt;&gt; from dataclasses import make_dataclass\n",
              "&gt;&gt;&gt; Point = make_dataclass(&quot;Point&quot;, [(&quot;x&quot;, int), (&quot;y&quot;, int)])\n",
              "&gt;&gt;&gt; pd.DataFrame([Point(0, 0), Point(0, 3), Point(2, 3)])\n",
              "   x  y\n",
              "0  0  0\n",
              "1  0  3\n",
              "2  2  3\n",
              "\n",
              "Constructing DataFrame from Series/DataFrame:\n",
              "\n",
              "&gt;&gt;&gt; ser = pd.Series([1, 2, 3], index=[&quot;a&quot;, &quot;b&quot;, &quot;c&quot;])\n",
              "&gt;&gt;&gt; df = pd.DataFrame(data=ser, index=[&quot;a&quot;, &quot;c&quot;])\n",
              "&gt;&gt;&gt; df\n",
              "   0\n",
              "a  1\n",
              "c  3\n",
              "\n",
              "&gt;&gt;&gt; df1 = pd.DataFrame([1, 2, 3], index=[&quot;a&quot;, &quot;b&quot;, &quot;c&quot;], columns=[&quot;x&quot;])\n",
              "&gt;&gt;&gt; df2 = pd.DataFrame(data=df1, index=[&quot;a&quot;, &quot;c&quot;])\n",
              "&gt;&gt;&gt; df2\n",
              "   x\n",
              "a  1\n",
              "c  3</pre>\n",
              "      <script>\n",
              "      if (google.colab.kernel.accessAllowed && google.colab.files && google.colab.files.view) {\n",
              "        for (const element of document.querySelectorAll('.filepath')) {\n",
              "          element.style.display = 'block'\n",
              "          element.onclick = (event) => {\n",
              "            event.preventDefault();\n",
              "            event.stopPropagation();\n",
              "            google.colab.files.view(element.textContent, 509);\n",
              "          };\n",
              "        }\n",
              "      }\n",
              "      for (const element of document.querySelectorAll('.function-repr-contents')) {\n",
              "        element.onclick = (event) => {\n",
              "          event.preventDefault();\n",
              "          event.stopPropagation();\n",
              "          element.classList.toggle('function-repr-contents-collapsed');\n",
              "        };\n",
              "      }\n",
              "      </script>\n",
              "      </div>"
            ]
          },
          "metadata": {},
          "execution_count": 7
        }
      ],
      "source": [
        "import pandas as pd\n",
        "\n",
        "nsfg = pd.read_fwf(data_file,\n",
        "                   names=stata_dict.names,\n",
        "                   colspecs=stata_dict.colspecs)\n",
        "type(nsfg)"
      ]
    },
    {
      "cell_type": "markdown",
      "metadata": {
        "id": "kHA0Mi84MHxI"
      },
      "source": [
        "The result is a `DataFrame`, which is the primary type Pandas uses to store data.\n",
        "`DataFrame` has a method called `head` that shows the first 5 rows:"
      ]
    },
    {
      "cell_type": "code",
      "execution_count": 8,
      "metadata": {
        "tags": [],
        "colab": {
          "base_uri": "https://localhost:8080/",
          "height": 236
        },
        "id": "_sbTTOaQMHxI",
        "outputId": "5644e3c6-31a8-4e42-d84e-56c98c1292fc"
      },
      "outputs": [
        {
          "output_type": "execute_result",
          "data": {
            "text/plain": [
              "   CASEID  PREGORDR  HOWPREG_N  HOWPREG_P  MOSCURRP  NOWPRGDK  PREGEND1  \\\n",
              "0   70627         1        NaN        NaN       NaN       NaN       6.0   \n",
              "1   70627         2        NaN        NaN       NaN       NaN       1.0   \n",
              "2   70627         3        NaN        NaN       NaN       NaN       6.0   \n",
              "3   70628         1        NaN        NaN       NaN       NaN       6.0   \n",
              "4   70628         2        NaN        NaN       NaN       NaN       6.0   \n",
              "\n",
              "   PREGEND2  HOWENDDK  NBRNALIV  ...  SECU  SEST  CMINTVW  CMLSTYR  CMJAN3YR  \\\n",
              "0       NaN       NaN       1.0  ...     3   322     1394     1382      1357   \n",
              "1       NaN       NaN       NaN  ...     3   322     1394     1382      1357   \n",
              "2       NaN       NaN       1.0  ...     3   322     1394     1382      1357   \n",
              "3       NaN       NaN       1.0  ...     2   366     1409     1397      1369   \n",
              "4       NaN       NaN       1.0  ...     2   366     1409     1397      1369   \n",
              "\n",
              "   CMJAN4YR  CMJAN5YR  QUARTER  PHASE  INTVWYEAR  \n",
              "0      1345      1333       18      1       2016  \n",
              "1      1345      1333       18      1       2016  \n",
              "2      1345      1333       18      1       2016  \n",
              "3      1357      1345       23      1       2017  \n",
              "4      1357      1345       23      1       2017  \n",
              "\n",
              "[5 rows x 248 columns]"
            ],
            "text/html": [
              "\n",
              "  <div id=\"df-ae0462d3-22f2-482b-8fde-9b93c90d9a81\" class=\"colab-df-container\">\n",
              "    <div>\n",
              "<style scoped>\n",
              "    .dataframe tbody tr th:only-of-type {\n",
              "        vertical-align: middle;\n",
              "    }\n",
              "\n",
              "    .dataframe tbody tr th {\n",
              "        vertical-align: top;\n",
              "    }\n",
              "\n",
              "    .dataframe thead th {\n",
              "        text-align: right;\n",
              "    }\n",
              "</style>\n",
              "<table border=\"1\" class=\"dataframe\">\n",
              "  <thead>\n",
              "    <tr style=\"text-align: right;\">\n",
              "      <th></th>\n",
              "      <th>CASEID</th>\n",
              "      <th>PREGORDR</th>\n",
              "      <th>HOWPREG_N</th>\n",
              "      <th>HOWPREG_P</th>\n",
              "      <th>MOSCURRP</th>\n",
              "      <th>NOWPRGDK</th>\n",
              "      <th>PREGEND1</th>\n",
              "      <th>PREGEND2</th>\n",
              "      <th>HOWENDDK</th>\n",
              "      <th>NBRNALIV</th>\n",
              "      <th>...</th>\n",
              "      <th>SECU</th>\n",
              "      <th>SEST</th>\n",
              "      <th>CMINTVW</th>\n",
              "      <th>CMLSTYR</th>\n",
              "      <th>CMJAN3YR</th>\n",
              "      <th>CMJAN4YR</th>\n",
              "      <th>CMJAN5YR</th>\n",
              "      <th>QUARTER</th>\n",
              "      <th>PHASE</th>\n",
              "      <th>INTVWYEAR</th>\n",
              "    </tr>\n",
              "  </thead>\n",
              "  <tbody>\n",
              "    <tr>\n",
              "      <th>0</th>\n",
              "      <td>70627</td>\n",
              "      <td>1</td>\n",
              "      <td>NaN</td>\n",
              "      <td>NaN</td>\n",
              "      <td>NaN</td>\n",
              "      <td>NaN</td>\n",
              "      <td>6.0</td>\n",
              "      <td>NaN</td>\n",
              "      <td>NaN</td>\n",
              "      <td>1.0</td>\n",
              "      <td>...</td>\n",
              "      <td>3</td>\n",
              "      <td>322</td>\n",
              "      <td>1394</td>\n",
              "      <td>1382</td>\n",
              "      <td>1357</td>\n",
              "      <td>1345</td>\n",
              "      <td>1333</td>\n",
              "      <td>18</td>\n",
              "      <td>1</td>\n",
              "      <td>2016</td>\n",
              "    </tr>\n",
              "    <tr>\n",
              "      <th>1</th>\n",
              "      <td>70627</td>\n",
              "      <td>2</td>\n",
              "      <td>NaN</td>\n",
              "      <td>NaN</td>\n",
              "      <td>NaN</td>\n",
              "      <td>NaN</td>\n",
              "      <td>1.0</td>\n",
              "      <td>NaN</td>\n",
              "      <td>NaN</td>\n",
              "      <td>NaN</td>\n",
              "      <td>...</td>\n",
              "      <td>3</td>\n",
              "      <td>322</td>\n",
              "      <td>1394</td>\n",
              "      <td>1382</td>\n",
              "      <td>1357</td>\n",
              "      <td>1345</td>\n",
              "      <td>1333</td>\n",
              "      <td>18</td>\n",
              "      <td>1</td>\n",
              "      <td>2016</td>\n",
              "    </tr>\n",
              "    <tr>\n",
              "      <th>2</th>\n",
              "      <td>70627</td>\n",
              "      <td>3</td>\n",
              "      <td>NaN</td>\n",
              "      <td>NaN</td>\n",
              "      <td>NaN</td>\n",
              "      <td>NaN</td>\n",
              "      <td>6.0</td>\n",
              "      <td>NaN</td>\n",
              "      <td>NaN</td>\n",
              "      <td>1.0</td>\n",
              "      <td>...</td>\n",
              "      <td>3</td>\n",
              "      <td>322</td>\n",
              "      <td>1394</td>\n",
              "      <td>1382</td>\n",
              "      <td>1357</td>\n",
              "      <td>1345</td>\n",
              "      <td>1333</td>\n",
              "      <td>18</td>\n",
              "      <td>1</td>\n",
              "      <td>2016</td>\n",
              "    </tr>\n",
              "    <tr>\n",
              "      <th>3</th>\n",
              "      <td>70628</td>\n",
              "      <td>1</td>\n",
              "      <td>NaN</td>\n",
              "      <td>NaN</td>\n",
              "      <td>NaN</td>\n",
              "      <td>NaN</td>\n",
              "      <td>6.0</td>\n",
              "      <td>NaN</td>\n",
              "      <td>NaN</td>\n",
              "      <td>1.0</td>\n",
              "      <td>...</td>\n",
              "      <td>2</td>\n",
              "      <td>366</td>\n",
              "      <td>1409</td>\n",
              "      <td>1397</td>\n",
              "      <td>1369</td>\n",
              "      <td>1357</td>\n",
              "      <td>1345</td>\n",
              "      <td>23</td>\n",
              "      <td>1</td>\n",
              "      <td>2017</td>\n",
              "    </tr>\n",
              "    <tr>\n",
              "      <th>4</th>\n",
              "      <td>70628</td>\n",
              "      <td>2</td>\n",
              "      <td>NaN</td>\n",
              "      <td>NaN</td>\n",
              "      <td>NaN</td>\n",
              "      <td>NaN</td>\n",
              "      <td>6.0</td>\n",
              "      <td>NaN</td>\n",
              "      <td>NaN</td>\n",
              "      <td>1.0</td>\n",
              "      <td>...</td>\n",
              "      <td>2</td>\n",
              "      <td>366</td>\n",
              "      <td>1409</td>\n",
              "      <td>1397</td>\n",
              "      <td>1369</td>\n",
              "      <td>1357</td>\n",
              "      <td>1345</td>\n",
              "      <td>23</td>\n",
              "      <td>1</td>\n",
              "      <td>2017</td>\n",
              "    </tr>\n",
              "  </tbody>\n",
              "</table>\n",
              "<p>5 rows × 248 columns</p>\n",
              "</div>\n",
              "    <div class=\"colab-df-buttons\">\n",
              "\n",
              "  <div class=\"colab-df-container\">\n",
              "    <button class=\"colab-df-convert\" onclick=\"convertToInteractive('df-ae0462d3-22f2-482b-8fde-9b93c90d9a81')\"\n",
              "            title=\"Convert this dataframe to an interactive table.\"\n",
              "            style=\"display:none;\">\n",
              "\n",
              "  <svg xmlns=\"http://www.w3.org/2000/svg\" height=\"24px\" viewBox=\"0 -960 960 960\">\n",
              "    <path d=\"M120-120v-720h720v720H120Zm60-500h600v-160H180v160Zm220 220h160v-160H400v160Zm0 220h160v-160H400v160ZM180-400h160v-160H180v160Zm440 0h160v-160H620v160ZM180-180h160v-160H180v160Zm440 0h160v-160H620v160Z\"/>\n",
              "  </svg>\n",
              "    </button>\n",
              "\n",
              "  <style>\n",
              "    .colab-df-container {\n",
              "      display:flex;\n",
              "      gap: 12px;\n",
              "    }\n",
              "\n",
              "    .colab-df-convert {\n",
              "      background-color: #E8F0FE;\n",
              "      border: none;\n",
              "      border-radius: 50%;\n",
              "      cursor: pointer;\n",
              "      display: none;\n",
              "      fill: #1967D2;\n",
              "      height: 32px;\n",
              "      padding: 0 0 0 0;\n",
              "      width: 32px;\n",
              "    }\n",
              "\n",
              "    .colab-df-convert:hover {\n",
              "      background-color: #E2EBFA;\n",
              "      box-shadow: 0px 1px 2px rgba(60, 64, 67, 0.3), 0px 1px 3px 1px rgba(60, 64, 67, 0.15);\n",
              "      fill: #174EA6;\n",
              "    }\n",
              "\n",
              "    .colab-df-buttons div {\n",
              "      margin-bottom: 4px;\n",
              "    }\n",
              "\n",
              "    [theme=dark] .colab-df-convert {\n",
              "      background-color: #3B4455;\n",
              "      fill: #D2E3FC;\n",
              "    }\n",
              "\n",
              "    [theme=dark] .colab-df-convert:hover {\n",
              "      background-color: #434B5C;\n",
              "      box-shadow: 0px 1px 3px 1px rgba(0, 0, 0, 0.15);\n",
              "      filter: drop-shadow(0px 1px 2px rgba(0, 0, 0, 0.3));\n",
              "      fill: #FFFFFF;\n",
              "    }\n",
              "  </style>\n",
              "\n",
              "    <script>\n",
              "      const buttonEl =\n",
              "        document.querySelector('#df-ae0462d3-22f2-482b-8fde-9b93c90d9a81 button.colab-df-convert');\n",
              "      buttonEl.style.display =\n",
              "        google.colab.kernel.accessAllowed ? 'block' : 'none';\n",
              "\n",
              "      async function convertToInteractive(key) {\n",
              "        const element = document.querySelector('#df-ae0462d3-22f2-482b-8fde-9b93c90d9a81');\n",
              "        const dataTable =\n",
              "          await google.colab.kernel.invokeFunction('convertToInteractive',\n",
              "                                                    [key], {});\n",
              "        if (!dataTable) return;\n",
              "\n",
              "        const docLinkHtml = 'Like what you see? Visit the ' +\n",
              "          '<a target=\"_blank\" href=https://colab.research.google.com/notebooks/data_table.ipynb>data table notebook</a>'\n",
              "          + ' to learn more about interactive tables.';\n",
              "        element.innerHTML = '';\n",
              "        dataTable['output_type'] = 'display_data';\n",
              "        await google.colab.output.renderOutput(dataTable, element);\n",
              "        const docLink = document.createElement('div');\n",
              "        docLink.innerHTML = docLinkHtml;\n",
              "        element.appendChild(docLink);\n",
              "      }\n",
              "    </script>\n",
              "  </div>\n",
              "\n",
              "\n",
              "    <div id=\"df-25838b26-fbcc-4679-af04-7c2328b1cc9c\">\n",
              "      <button class=\"colab-df-quickchart\" onclick=\"quickchart('df-25838b26-fbcc-4679-af04-7c2328b1cc9c')\"\n",
              "                title=\"Suggest charts\"\n",
              "                style=\"display:none;\">\n",
              "\n",
              "<svg xmlns=\"http://www.w3.org/2000/svg\" height=\"24px\"viewBox=\"0 0 24 24\"\n",
              "     width=\"24px\">\n",
              "    <g>\n",
              "        <path d=\"M19 3H5c-1.1 0-2 .9-2 2v14c0 1.1.9 2 2 2h14c1.1 0 2-.9 2-2V5c0-1.1-.9-2-2-2zM9 17H7v-7h2v7zm4 0h-2V7h2v10zm4 0h-2v-4h2v4z\"/>\n",
              "    </g>\n",
              "</svg>\n",
              "      </button>\n",
              "\n",
              "<style>\n",
              "  .colab-df-quickchart {\n",
              "      --bg-color: #E8F0FE;\n",
              "      --fill-color: #1967D2;\n",
              "      --hover-bg-color: #E2EBFA;\n",
              "      --hover-fill-color: #174EA6;\n",
              "      --disabled-fill-color: #AAA;\n",
              "      --disabled-bg-color: #DDD;\n",
              "  }\n",
              "\n",
              "  [theme=dark] .colab-df-quickchart {\n",
              "      --bg-color: #3B4455;\n",
              "      --fill-color: #D2E3FC;\n",
              "      --hover-bg-color: #434B5C;\n",
              "      --hover-fill-color: #FFFFFF;\n",
              "      --disabled-bg-color: #3B4455;\n",
              "      --disabled-fill-color: #666;\n",
              "  }\n",
              "\n",
              "  .colab-df-quickchart {\n",
              "    background-color: var(--bg-color);\n",
              "    border: none;\n",
              "    border-radius: 50%;\n",
              "    cursor: pointer;\n",
              "    display: none;\n",
              "    fill: var(--fill-color);\n",
              "    height: 32px;\n",
              "    padding: 0;\n",
              "    width: 32px;\n",
              "  }\n",
              "\n",
              "  .colab-df-quickchart:hover {\n",
              "    background-color: var(--hover-bg-color);\n",
              "    box-shadow: 0 1px 2px rgba(60, 64, 67, 0.3), 0 1px 3px 1px rgba(60, 64, 67, 0.15);\n",
              "    fill: var(--button-hover-fill-color);\n",
              "  }\n",
              "\n",
              "  .colab-df-quickchart-complete:disabled,\n",
              "  .colab-df-quickchart-complete:disabled:hover {\n",
              "    background-color: var(--disabled-bg-color);\n",
              "    fill: var(--disabled-fill-color);\n",
              "    box-shadow: none;\n",
              "  }\n",
              "\n",
              "  .colab-df-spinner {\n",
              "    border: 2px solid var(--fill-color);\n",
              "    border-color: transparent;\n",
              "    border-bottom-color: var(--fill-color);\n",
              "    animation:\n",
              "      spin 1s steps(1) infinite;\n",
              "  }\n",
              "\n",
              "  @keyframes spin {\n",
              "    0% {\n",
              "      border-color: transparent;\n",
              "      border-bottom-color: var(--fill-color);\n",
              "      border-left-color: var(--fill-color);\n",
              "    }\n",
              "    20% {\n",
              "      border-color: transparent;\n",
              "      border-left-color: var(--fill-color);\n",
              "      border-top-color: var(--fill-color);\n",
              "    }\n",
              "    30% {\n",
              "      border-color: transparent;\n",
              "      border-left-color: var(--fill-color);\n",
              "      border-top-color: var(--fill-color);\n",
              "      border-right-color: var(--fill-color);\n",
              "    }\n",
              "    40% {\n",
              "      border-color: transparent;\n",
              "      border-right-color: var(--fill-color);\n",
              "      border-top-color: var(--fill-color);\n",
              "    }\n",
              "    60% {\n",
              "      border-color: transparent;\n",
              "      border-right-color: var(--fill-color);\n",
              "    }\n",
              "    80% {\n",
              "      border-color: transparent;\n",
              "      border-right-color: var(--fill-color);\n",
              "      border-bottom-color: var(--fill-color);\n",
              "    }\n",
              "    90% {\n",
              "      border-color: transparent;\n",
              "      border-bottom-color: var(--fill-color);\n",
              "    }\n",
              "  }\n",
              "</style>\n",
              "\n",
              "      <script>\n",
              "        async function quickchart(key) {\n",
              "          const quickchartButtonEl =\n",
              "            document.querySelector('#' + key + ' button');\n",
              "          quickchartButtonEl.disabled = true;  // To prevent multiple clicks.\n",
              "          quickchartButtonEl.classList.add('colab-df-spinner');\n",
              "          try {\n",
              "            const charts = await google.colab.kernel.invokeFunction(\n",
              "                'suggestCharts', [key], {});\n",
              "          } catch (error) {\n",
              "            console.error('Error during call to suggestCharts:', error);\n",
              "          }\n",
              "          quickchartButtonEl.classList.remove('colab-df-spinner');\n",
              "          quickchartButtonEl.classList.add('colab-df-quickchart-complete');\n",
              "        }\n",
              "        (() => {\n",
              "          let quickchartButtonEl =\n",
              "            document.querySelector('#df-25838b26-fbcc-4679-af04-7c2328b1cc9c button');\n",
              "          quickchartButtonEl.style.display =\n",
              "            google.colab.kernel.accessAllowed ? 'block' : 'none';\n",
              "        })();\n",
              "      </script>\n",
              "    </div>\n",
              "\n",
              "    </div>\n",
              "  </div>\n"
            ],
            "application/vnd.google.colaboratory.intrinsic+json": {
              "type": "dataframe",
              "variable_name": "nsfg"
            }
          },
          "metadata": {},
          "execution_count": 8
        }
      ],
      "source": [
        "nsfg.head()"
      ]
    },
    {
      "cell_type": "code",
      "execution_count": null,
      "metadata": {
        "tags": [],
        "id": "mw1QW-RbMHxJ"
      },
      "outputs": [],
      "source": [
        "# Solution goes here"
      ]
    },
    {
      "cell_type": "markdown",
      "metadata": {
        "id": "l3LX3IyXMHxJ"
      },
      "source": [
        "The first two columns are `CASEID` and `PREGORDR`, which I mentioned earlier.\n",
        "The first three rows have the same `CASEID`, which means this respondent reported three pregnancies.\n",
        "The values of `PREGORDR` indicate that they are the first, second, and third pregnancies, in that order.\n",
        "We will learn more about the other columns as we go along."
      ]
    },
    {
      "cell_type": "markdown",
      "metadata": {
        "id": "vuXrQqWmMHxK"
      },
      "source": [
        "In addition to methods like `head`, a `Dataframe` object has several **attributes**, which are variables associated with the object.\n",
        "For example, `nsfg` has an attribute called `shape`, which is a tuple containing the number of rows and columns:"
      ]
    },
    {
      "cell_type": "code",
      "execution_count": 9,
      "metadata": {
        "colab": {
          "base_uri": "https://localhost:8080/"
        },
        "id": "O1GC4bZxMHxK",
        "outputId": "66de65ab-47bf-4337-86b7-3f10bfad2f26"
      },
      "outputs": [
        {
          "output_type": "execute_result",
          "data": {
            "text/plain": [
              "(9553, 248)"
            ]
          },
          "metadata": {},
          "execution_count": 9
        }
      ],
      "source": [
        "nsfg.shape"
      ]
    },
    {
      "cell_type": "markdown",
      "metadata": {
        "id": "XCcQ07HJMHxK"
      },
      "source": [
        "There are 9553 rows in this dataset, one for each pregnancy, and 248 columns, one for each question.\n",
        "`nsfg` also has an attribute called `columns`, which contains the column names:"
      ]
    },
    {
      "cell_type": "code",
      "execution_count": 11,
      "metadata": {
        "colab": {
          "base_uri": "https://localhost:8080/"
        },
        "id": "4fVwDY9cMHxL",
        "outputId": "7450ebb3-359a-43d0-8191-05904083c297"
      },
      "outputs": [
        {
          "output_type": "execute_result",
          "data": {
            "text/plain": [
              "Index(['CASEID', 'PREGORDR', 'HOWPREG_N', 'HOWPREG_P', 'MOSCURRP', 'NOWPRGDK',\n",
              "       'PREGEND1', 'PREGEND2', 'HOWENDDK', 'NBRNALIV',\n",
              "       ...\n",
              "       'SECU', 'SEST', 'CMINTVW', 'CMLSTYR', 'CMJAN3YR', 'CMJAN4YR',\n",
              "       'CMJAN5YR', 'QUARTER', 'PHASE', 'INTVWYEAR'],\n",
              "      dtype='object', length=248)"
            ]
          },
          "metadata": {},
          "execution_count": 11
        }
      ],
      "source": [
        "nsfg.columns"
      ]
    },
    {
      "cell_type": "markdown",
      "metadata": {
        "id": "Qg-Jo5nYMHxL"
      },
      "source": [
        "The column names are stored in an `Index`, which is another Pandas type, similar to a list."
      ]
    },
    {
      "cell_type": "code",
      "execution_count": 12,
      "metadata": {
        "tags": [],
        "colab": {
          "base_uri": "https://localhost:8080/"
        },
        "id": "Q5O_fgF7MHxL",
        "outputId": "16bc9043-8e26-413b-9e2b-fd061883d4e7"
      },
      "outputs": [
        {
          "output_type": "execute_result",
          "data": {
            "text/plain": [
              "pandas.core.indexes.base.Index"
            ]
          },
          "metadata": {},
          "execution_count": 12
        }
      ],
      "source": [
        "type(nsfg.columns)"
      ]
    },
    {
      "cell_type": "markdown",
      "metadata": {
        "id": "-OkrneF0MHxN"
      },
      "source": [
        "Based on the names, you might be able to guess what some of the columns are, but in general you have to read the documentation.\n",
        "When you work with datasets like the NSFG, it is important to read the documentation carefully.\n",
        "If you interpret a column incorrectly, you can generate nonsense results and never realize it.\n",
        "\n",
        "So, before we start looking at data, let's get familiar with the NSFG codebook, which describes every column.\n",
        "Instructions for downloading it are in the notebook for this chapter."
      ]
    },
    {
      "cell_type": "markdown",
      "metadata": {
        "tags": [],
        "id": "0_a8ctDPMHxN"
      },
      "source": [
        "You can download the codebook for this dataset from <https://github.com/AllenDowney/ElementsOfDataScience/raw/v1/data/2015-2017_NSFG_FemPregFile_Codebook-508.pdf>."
      ]
    },
    {
      "cell_type": "markdown",
      "metadata": {
        "id": "k4QV7YVmMHxO"
      },
      "source": [
        "If you search that document for \"weigh at birth\" you should find these columns related to birth weight.\n",
        "\n",
        "* `BIRTHWGT_LB1`: Birthweight in Pounds - 1st baby from this pregnancy\n",
        "\n",
        "* `BIRTHWGT_OZ1`: Birthweight in Ounces - 1st baby from this pregnancy\n",
        "\n",
        "There are similar columns for a 2nd or 3rd baby, in the case of twins or triplets.\n",
        "For now we will focus on the first baby from each pregnancy, and we will come back to the issue of multiple births."
      ]
    },
    {
      "cell_type": "markdown",
      "metadata": {
        "id": "1M7FCBhOMHxO"
      },
      "source": [
        "## Series\n",
        "\n",
        "In many ways a `DataFrame` is like a Python dictionary, where the column names are the keys and the columns are the values.\n",
        "You can select a column from a `DataFrame` using the bracket operator, with a string as the key."
      ]
    },
    {
      "cell_type": "code",
      "execution_count": 13,
      "metadata": {
        "colab": {
          "base_uri": "https://localhost:8080/",
          "height": 204
        },
        "id": "WgkSJ3pzMHxO",
        "outputId": "99612734-ae58-434b-a9a5-7b81a446aaaf"
      },
      "outputs": [
        {
          "output_type": "execute_result",
          "data": {
            "text/plain": [
              "pandas.core.series.Series"
            ],
            "text/html": [
              "<div style=\"max-width:800px; border: 1px solid var(--colab-border-color);\"><style>\n",
              "      pre.function-repr-contents {\n",
              "        overflow-x: auto;\n",
              "        padding: 8px 12px;\n",
              "        max-height: 500px;\n",
              "      }\n",
              "\n",
              "      pre.function-repr-contents.function-repr-contents-collapsed {\n",
              "        cursor: pointer;\n",
              "        max-height: 100px;\n",
              "      }\n",
              "    </style>\n",
              "    <pre style=\"white-space: initial; background:\n",
              "         var(--colab-secondary-surface-color); padding: 8px 12px;\n",
              "         border-bottom: 1px solid var(--colab-border-color);\"><b>pandas.core.series.Series</b><br/>def __init__(data=None, index=None, dtype: Dtype | None=None, name=None, copy: bool | None=None, fastpath: bool | lib.NoDefault=lib.no_default) -&gt; None</pre><pre class=\"function-repr-contents function-repr-contents-collapsed\" style=\"\"><a class=\"filepath\" style=\"display:none\" href=\"#\">/usr/local/lib/python3.11/dist-packages/pandas/core/series.py</a>One-dimensional ndarray with axis labels (including time series).\n",
              "\n",
              "Labels need not be unique but must be a hashable type. The object\n",
              "supports both integer- and label-based indexing and provides a host of\n",
              "methods for performing operations involving the index. Statistical\n",
              "methods from ndarray have been overridden to automatically exclude\n",
              "missing data (currently represented as NaN).\n",
              "\n",
              "Operations between Series (+, -, /, \\*, \\*\\*) align values based on their\n",
              "associated index values-- they need not be the same length. The result\n",
              "index will be the sorted union of the two indexes.\n",
              "\n",
              "Parameters\n",
              "----------\n",
              "data : array-like, Iterable, dict, or scalar value\n",
              "    Contains data stored in Series. If data is a dict, argument order is\n",
              "    maintained.\n",
              "index : array-like or Index (1d)\n",
              "    Values must be hashable and have the same length as `data`.\n",
              "    Non-unique index values are allowed. Will default to\n",
              "    RangeIndex (0, 1, 2, ..., n) if not provided. If data is dict-like\n",
              "    and index is None, then the keys in the data are used as the index. If the\n",
              "    index is not None, the resulting Series is reindexed with the index values.\n",
              "dtype : str, numpy.dtype, or ExtensionDtype, optional\n",
              "    Data type for the output Series. If not specified, this will be\n",
              "    inferred from `data`.\n",
              "    See the :ref:`user guide &lt;basics.dtypes&gt;` for more usages.\n",
              "name : Hashable, default None\n",
              "    The name to give to the Series.\n",
              "copy : bool, default False\n",
              "    Copy input data. Only affects Series or 1d ndarray input. See examples.\n",
              "\n",
              "Notes\n",
              "-----\n",
              "Please reference the :ref:`User Guide &lt;basics.series&gt;` for more information.\n",
              "\n",
              "Examples\n",
              "--------\n",
              "Constructing Series from a dictionary with an Index specified\n",
              "\n",
              "&gt;&gt;&gt; d = {&#x27;a&#x27;: 1, &#x27;b&#x27;: 2, &#x27;c&#x27;: 3}\n",
              "&gt;&gt;&gt; ser = pd.Series(data=d, index=[&#x27;a&#x27;, &#x27;b&#x27;, &#x27;c&#x27;])\n",
              "&gt;&gt;&gt; ser\n",
              "a   1\n",
              "b   2\n",
              "c   3\n",
              "dtype: int64\n",
              "\n",
              "The keys of the dictionary match with the Index values, hence the Index\n",
              "values have no effect.\n",
              "\n",
              "&gt;&gt;&gt; d = {&#x27;a&#x27;: 1, &#x27;b&#x27;: 2, &#x27;c&#x27;: 3}\n",
              "&gt;&gt;&gt; ser = pd.Series(data=d, index=[&#x27;x&#x27;, &#x27;y&#x27;, &#x27;z&#x27;])\n",
              "&gt;&gt;&gt; ser\n",
              "x   NaN\n",
              "y   NaN\n",
              "z   NaN\n",
              "dtype: float64\n",
              "\n",
              "Note that the Index is first build with the keys from the dictionary.\n",
              "After this the Series is reindexed with the given Index values, hence we\n",
              "get all NaN as a result.\n",
              "\n",
              "Constructing Series from a list with `copy=False`.\n",
              "\n",
              "&gt;&gt;&gt; r = [1, 2]\n",
              "&gt;&gt;&gt; ser = pd.Series(r, copy=False)\n",
              "&gt;&gt;&gt; ser.iloc[0] = 999\n",
              "&gt;&gt;&gt; r\n",
              "[1, 2]\n",
              "&gt;&gt;&gt; ser\n",
              "0    999\n",
              "1      2\n",
              "dtype: int64\n",
              "\n",
              "Due to input data type the Series has a `copy` of\n",
              "the original data even though `copy=False`, so\n",
              "the data is unchanged.\n",
              "\n",
              "Constructing Series from a 1d ndarray with `copy=False`.\n",
              "\n",
              "&gt;&gt;&gt; r = np.array([1, 2])\n",
              "&gt;&gt;&gt; ser = pd.Series(r, copy=False)\n",
              "&gt;&gt;&gt; ser.iloc[0] = 999\n",
              "&gt;&gt;&gt; r\n",
              "array([999,   2])\n",
              "&gt;&gt;&gt; ser\n",
              "0    999\n",
              "1      2\n",
              "dtype: int64\n",
              "\n",
              "Due to input data type the Series has a `view` on\n",
              "the original data, so\n",
              "the data is changed as well.</pre>\n",
              "      <script>\n",
              "      if (google.colab.kernel.accessAllowed && google.colab.files && google.colab.files.view) {\n",
              "        for (const element of document.querySelectorAll('.filepath')) {\n",
              "          element.style.display = 'block'\n",
              "          element.onclick = (event) => {\n",
              "            event.preventDefault();\n",
              "            event.stopPropagation();\n",
              "            google.colab.files.view(element.textContent, 263);\n",
              "          };\n",
              "        }\n",
              "      }\n",
              "      for (const element of document.querySelectorAll('.function-repr-contents')) {\n",
              "        element.onclick = (event) => {\n",
              "          event.preventDefault();\n",
              "          event.stopPropagation();\n",
              "          element.classList.toggle('function-repr-contents-collapsed');\n",
              "        };\n",
              "      }\n",
              "      </script>\n",
              "      </div>"
            ]
          },
          "metadata": {},
          "execution_count": 13
        }
      ],
      "source": [
        "pounds = nsfg['BIRTHWGT_LB1']\n",
        "type(pounds)"
      ]
    },
    {
      "cell_type": "markdown",
      "metadata": {
        "id": "aFA9Jt_AMHxP"
      },
      "source": [
        "The result is a `Series`, which is a Pandas type that represents a single column of data.\n",
        "In this case the `Series` contains the birth weight, in pounds, for each live birth.\n",
        "\n",
        "`head` shows the first five values in the `Series`, the name of the `Series`, and the data type:"
      ]
    },
    {
      "cell_type": "code",
      "execution_count": 14,
      "metadata": {
        "colab": {
          "base_uri": "https://localhost:8080/",
          "height": 241
        },
        "id": "iv3RK4eAMHxP",
        "outputId": "7820b30b-3464-4f4b-bbe3-14930f162274"
      },
      "outputs": [
        {
          "output_type": "execute_result",
          "data": {
            "text/plain": [
              "0    7.0\n",
              "1    NaN\n",
              "2    9.0\n",
              "3    6.0\n",
              "4    7.0\n",
              "Name: BIRTHWGT_LB1, dtype: float64"
            ],
            "text/html": [
              "<div>\n",
              "<style scoped>\n",
              "    .dataframe tbody tr th:only-of-type {\n",
              "        vertical-align: middle;\n",
              "    }\n",
              "\n",
              "    .dataframe tbody tr th {\n",
              "        vertical-align: top;\n",
              "    }\n",
              "\n",
              "    .dataframe thead th {\n",
              "        text-align: right;\n",
              "    }\n",
              "</style>\n",
              "<table border=\"1\" class=\"dataframe\">\n",
              "  <thead>\n",
              "    <tr style=\"text-align: right;\">\n",
              "      <th></th>\n",
              "      <th>BIRTHWGT_LB1</th>\n",
              "    </tr>\n",
              "  </thead>\n",
              "  <tbody>\n",
              "    <tr>\n",
              "      <th>0</th>\n",
              "      <td>7.0</td>\n",
              "    </tr>\n",
              "    <tr>\n",
              "      <th>1</th>\n",
              "      <td>NaN</td>\n",
              "    </tr>\n",
              "    <tr>\n",
              "      <th>2</th>\n",
              "      <td>9.0</td>\n",
              "    </tr>\n",
              "    <tr>\n",
              "      <th>3</th>\n",
              "      <td>6.0</td>\n",
              "    </tr>\n",
              "    <tr>\n",
              "      <th>4</th>\n",
              "      <td>7.0</td>\n",
              "    </tr>\n",
              "  </tbody>\n",
              "</table>\n",
              "</div><br><label><b>dtype:</b> float64</label>"
            ]
          },
          "metadata": {},
          "execution_count": 14
        }
      ],
      "source": [
        "pounds.head()"
      ]
    },
    {
      "cell_type": "markdown",
      "metadata": {
        "id": "_7jx_zT2MHxR"
      },
      "source": [
        "One of the values is `NaN`, which stands for \"Not a Number\".\n",
        "`NaN` is a special value used to indicate invalid or missing data.\n",
        "In this example, the pregnancy did not end in live birth, so birth weight is inapplicable."
      ]
    },
    {
      "cell_type": "markdown",
      "metadata": {
        "id": "u2UxkOvgMHxR"
      },
      "source": [
        "**Exercise:**  The column `BIRTHWGT_OZ1` contains the ounces part of birth weight.\n",
        "Select this column from `nsfg` and assign it to a new variable called `ounces`.\n",
        "Then display the first 5 elements of `ounces`."
      ]
    },
    {
      "cell_type": "code",
      "execution_count": 18,
      "metadata": {
        "colab": {
          "base_uri": "https://localhost:8080/",
          "height": 241
        },
        "id": "p_t48Zw6MHxT",
        "outputId": "0b7870e1-b557-4f24-db23-76277f218482"
      },
      "outputs": [
        {
          "output_type": "execute_result",
          "data": {
            "text/plain": [
              "0    8.0\n",
              "1    NaN\n",
              "2    2.0\n",
              "3    9.0\n",
              "4    0.0\n",
              "Name: BIRTHWGT_OZ1, dtype: float64"
            ],
            "text/html": [
              "<div>\n",
              "<style scoped>\n",
              "    .dataframe tbody tr th:only-of-type {\n",
              "        vertical-align: middle;\n",
              "    }\n",
              "\n",
              "    .dataframe tbody tr th {\n",
              "        vertical-align: top;\n",
              "    }\n",
              "\n",
              "    .dataframe thead th {\n",
              "        text-align: right;\n",
              "    }\n",
              "</style>\n",
              "<table border=\"1\" class=\"dataframe\">\n",
              "  <thead>\n",
              "    <tr style=\"text-align: right;\">\n",
              "      <th></th>\n",
              "      <th>BIRTHWGT_OZ1</th>\n",
              "    </tr>\n",
              "  </thead>\n",
              "  <tbody>\n",
              "    <tr>\n",
              "      <th>0</th>\n",
              "      <td>8.0</td>\n",
              "    </tr>\n",
              "    <tr>\n",
              "      <th>1</th>\n",
              "      <td>NaN</td>\n",
              "    </tr>\n",
              "    <tr>\n",
              "      <th>2</th>\n",
              "      <td>2.0</td>\n",
              "    </tr>\n",
              "    <tr>\n",
              "      <th>3</th>\n",
              "      <td>9.0</td>\n",
              "    </tr>\n",
              "    <tr>\n",
              "      <th>4</th>\n",
              "      <td>0.0</td>\n",
              "    </tr>\n",
              "  </tbody>\n",
              "</table>\n",
              "</div><br><label><b>dtype:</b> float64</label>"
            ]
          },
          "metadata": {},
          "execution_count": 18
        }
      ],
      "source": [
        "# Solution goes here\n",
        "\n",
        "ounces = nsfg['BIRTHWGT_OZ1']\n",
        "\n",
        "ounces.head()"
      ]
    },
    {
      "cell_type": "markdown",
      "metadata": {
        "tags": [],
        "id": "oFwqPMp9MHxT"
      },
      "source": [
        "**Exercise:** The Pandas types we have seen so far are `DataFrame`, `Index`, and `Series`.  You can find the documentation of these types at:\n",
        "\n",
        "* `DataFrame`: <https://pandas.pydata.org/pandas-docs/stable/reference/api/pandas.DataFrame.html>\n",
        "\n",
        "* `Index`: <https://pandas.pydata.org/pandas-docs/stable/reference/api/pandas.Index.html>\n",
        "\n",
        "* `Series`: <https://pandas.pydata.org/pandas-docs/stable/reference/api/pandas.Series.html>\n",
        "\n",
        "This documentation can be overwhelming -- I don't recommend trying to read it all now.\n",
        "But you might want to skim it so you know where to look later."
      ]
    },
    {
      "cell_type": "markdown",
      "metadata": {
        "id": "tIHSY7_iMHxT"
      },
      "source": [
        "## Validation\n",
        "\n",
        "At this point we have identified the columns we need to answer the question and assigned them to variables named `pounds` and `ounces`."
      ]
    },
    {
      "cell_type": "code",
      "execution_count": 19,
      "metadata": {
        "id": "16wj0ybQMHxU"
      },
      "outputs": [],
      "source": [
        "pounds = nsfg['BIRTHWGT_LB1']\n",
        "ounces = nsfg['BIRTHWGT_OZ1']"
      ]
    },
    {
      "cell_type": "markdown",
      "metadata": {
        "id": "3G8N24rFMHxU"
      },
      "source": [
        "Before we do anything with this data, we have to validate it.\n",
        "One part of validation is confirming that we are interpreting the data correctly.\n",
        "We can use the `value_counts` method to see what values appear in `pounds` and how many times each value appears.\n",
        "With `dropna=False`, it includes NaNs.\n",
        "By default, the results are sorted with the highest count first, but we can use `sort_index` to sort them by value instead, with the lightest babies first and heaviest babies last."
      ]
    },
    {
      "cell_type": "code",
      "execution_count": 22,
      "metadata": {
        "colab": {
          "base_uri": "https://localhost:8080/",
          "height": 680
        },
        "id": "DjW41h5pMHxU",
        "outputId": "8513aa05-239a-46bb-a3f9-cae7635172e8"
      },
      "outputs": [
        {
          "output_type": "execute_result",
          "data": {
            "text/plain": [
              "BIRTHWGT_LB1\n",
              "0.0        2\n",
              "1.0       28\n",
              "2.0       46\n",
              "3.0       76\n",
              "4.0      179\n",
              "5.0      570\n",
              "6.0     1644\n",
              "7.0     2268\n",
              "8.0     1287\n",
              "9.0      396\n",
              "10.0      82\n",
              "11.0      17\n",
              "12.0       2\n",
              "13.0       1\n",
              "14.0       1\n",
              "98.0       2\n",
              "99.0      89\n",
              "NaN     2863\n",
              "Name: count, dtype: int64"
            ],
            "text/html": [
              "<div>\n",
              "<style scoped>\n",
              "    .dataframe tbody tr th:only-of-type {\n",
              "        vertical-align: middle;\n",
              "    }\n",
              "\n",
              "    .dataframe tbody tr th {\n",
              "        vertical-align: top;\n",
              "    }\n",
              "\n",
              "    .dataframe thead th {\n",
              "        text-align: right;\n",
              "    }\n",
              "</style>\n",
              "<table border=\"1\" class=\"dataframe\">\n",
              "  <thead>\n",
              "    <tr style=\"text-align: right;\">\n",
              "      <th></th>\n",
              "      <th>count</th>\n",
              "    </tr>\n",
              "    <tr>\n",
              "      <th>BIRTHWGT_LB1</th>\n",
              "      <th></th>\n",
              "    </tr>\n",
              "  </thead>\n",
              "  <tbody>\n",
              "    <tr>\n",
              "      <th>0.0</th>\n",
              "      <td>2</td>\n",
              "    </tr>\n",
              "    <tr>\n",
              "      <th>1.0</th>\n",
              "      <td>28</td>\n",
              "    </tr>\n",
              "    <tr>\n",
              "      <th>2.0</th>\n",
              "      <td>46</td>\n",
              "    </tr>\n",
              "    <tr>\n",
              "      <th>3.0</th>\n",
              "      <td>76</td>\n",
              "    </tr>\n",
              "    <tr>\n",
              "      <th>4.0</th>\n",
              "      <td>179</td>\n",
              "    </tr>\n",
              "    <tr>\n",
              "      <th>5.0</th>\n",
              "      <td>570</td>\n",
              "    </tr>\n",
              "    <tr>\n",
              "      <th>6.0</th>\n",
              "      <td>1644</td>\n",
              "    </tr>\n",
              "    <tr>\n",
              "      <th>7.0</th>\n",
              "      <td>2268</td>\n",
              "    </tr>\n",
              "    <tr>\n",
              "      <th>8.0</th>\n",
              "      <td>1287</td>\n",
              "    </tr>\n",
              "    <tr>\n",
              "      <th>9.0</th>\n",
              "      <td>396</td>\n",
              "    </tr>\n",
              "    <tr>\n",
              "      <th>10.0</th>\n",
              "      <td>82</td>\n",
              "    </tr>\n",
              "    <tr>\n",
              "      <th>11.0</th>\n",
              "      <td>17</td>\n",
              "    </tr>\n",
              "    <tr>\n",
              "      <th>12.0</th>\n",
              "      <td>2</td>\n",
              "    </tr>\n",
              "    <tr>\n",
              "      <th>13.0</th>\n",
              "      <td>1</td>\n",
              "    </tr>\n",
              "    <tr>\n",
              "      <th>14.0</th>\n",
              "      <td>1</td>\n",
              "    </tr>\n",
              "    <tr>\n",
              "      <th>98.0</th>\n",
              "      <td>2</td>\n",
              "    </tr>\n",
              "    <tr>\n",
              "      <th>99.0</th>\n",
              "      <td>89</td>\n",
              "    </tr>\n",
              "    <tr>\n",
              "      <th>NaN</th>\n",
              "      <td>2863</td>\n",
              "    </tr>\n",
              "  </tbody>\n",
              "</table>\n",
              "</div><br><label><b>dtype:</b> int64</label>"
            ]
          },
          "metadata": {},
          "execution_count": 22
        }
      ],
      "source": [
        "pounds.value_counts(dropna=False).sort_index()"
      ]
    },
    {
      "cell_type": "markdown",
      "metadata": {
        "id": "qMrjI8kMMHxV"
      },
      "source": [
        "The values are in the left column and the counts are in the right column.\n",
        "The most frequent values are 6-8 pounds, but there are some very light babies, a few very heavy babies, and two special values, 98, and 99.  According to the codebook, these values indicate that the respondent declined to answer the question (98) or did not know (99).\n",
        "\n",
        "We can validate the results by comparing them to the codebook, which lists the values and their frequencies.\n",
        "\n",
        " Value | Label             | Total\n",
        "------:|:------------------|------:\n",
        " .     | INAPPLICABLE      | 2863  \n",
        " 0-5   | UNDER 6 POUNDS    | 901   \n",
        " 6     | 6 POUNDS          | 1644  \n",
        " 7     | 7 POUNDS          | 2268  \n",
        " 8     | 8 POUNDS          | 1287  \n",
        " 9-95  | 9 POUNDS OR MORE  | 499   \n",
        " 98    | Refused           | 2     \n",
        " 99    | Don't know        | 89    \n",
        "       | Total             | 9553  \n"
      ]
    },
    {
      "cell_type": "markdown",
      "metadata": {
        "id": "oinObolsMHxV"
      },
      "source": [
        "The results from `value_counts` agree with the codebook, so we can be confident that we are reading and interpreting the data correctly."
      ]
    },
    {
      "cell_type": "markdown",
      "metadata": {
        "id": "BiIHQc8OMHxW"
      },
      "source": [
        "**Exercise:** In `nsfg`, the `OUTCOME` column encodes the outcome of each pregnancy as shown below:\n",
        "\n",
        "| Value | Meaning |\n",
        "|------:|:--------|\n",
        "| 1     | Live birth |\n",
        "| 2     | Induced abortion |\n",
        "| 3     | Stillbirth |\n",
        "| 4     | Miscarriage |\n",
        "| 5     | Ectopic pregnancy |\n",
        "| 6     | Current pregnancy |\n",
        "\n",
        "Use `value_counts` to display the values in this column and how many times each value appears.  Are the results consistent with the codebook?"
      ]
    },
    {
      "cell_type": "code",
      "execution_count": 26,
      "metadata": {
        "colab": {
          "base_uri": "https://localhost:8080/",
          "height": 304
        },
        "id": "HlI5DMp-MHxW",
        "outputId": "ce6dafcc-4e63-4fbf-cc24-b0a1fae4c095"
      },
      "outputs": [
        {
          "output_type": "execute_result",
          "data": {
            "text/plain": [
              "OUTCOME\n",
              "1    6693\n",
              "2     901\n",
              "3     120\n",
              "4    1515\n",
              "5     123\n",
              "6     201\n",
              "Name: count, dtype: int64"
            ],
            "text/html": [
              "<div>\n",
              "<style scoped>\n",
              "    .dataframe tbody tr th:only-of-type {\n",
              "        vertical-align: middle;\n",
              "    }\n",
              "\n",
              "    .dataframe tbody tr th {\n",
              "        vertical-align: top;\n",
              "    }\n",
              "\n",
              "    .dataframe thead th {\n",
              "        text-align: right;\n",
              "    }\n",
              "</style>\n",
              "<table border=\"1\" class=\"dataframe\">\n",
              "  <thead>\n",
              "    <tr style=\"text-align: right;\">\n",
              "      <th></th>\n",
              "      <th>count</th>\n",
              "    </tr>\n",
              "    <tr>\n",
              "      <th>OUTCOME</th>\n",
              "      <th></th>\n",
              "    </tr>\n",
              "  </thead>\n",
              "  <tbody>\n",
              "    <tr>\n",
              "      <th>1</th>\n",
              "      <td>6693</td>\n",
              "    </tr>\n",
              "    <tr>\n",
              "      <th>2</th>\n",
              "      <td>901</td>\n",
              "    </tr>\n",
              "    <tr>\n",
              "      <th>3</th>\n",
              "      <td>120</td>\n",
              "    </tr>\n",
              "    <tr>\n",
              "      <th>4</th>\n",
              "      <td>1515</td>\n",
              "    </tr>\n",
              "    <tr>\n",
              "      <th>5</th>\n",
              "      <td>123</td>\n",
              "    </tr>\n",
              "    <tr>\n",
              "      <th>6</th>\n",
              "      <td>201</td>\n",
              "    </tr>\n",
              "  </tbody>\n",
              "</table>\n",
              "</div><br><label><b>dtype:</b> int64</label>"
            ]
          },
          "metadata": {},
          "execution_count": 26
        }
      ],
      "source": [
        "# Solution goes here\n",
        "\n",
        "outcome = nsfg['OUTCOME']\n",
        "outcome.value_counts().sort_index()"
      ]
    },
    {
      "cell_type": "markdown",
      "metadata": {
        "id": "s6Wj7jfxMHxW"
      },
      "source": [
        "## Summary Statistics\n",
        "\n",
        "Another way to validate the data is with `describe`, which computes statistics that summarize the data, like the mean, standard deviation, minimum, and maximum.\n",
        "Here are the results for `pounds`.  "
      ]
    },
    {
      "cell_type": "code",
      "execution_count": 27,
      "metadata": {
        "colab": {
          "base_uri": "https://localhost:8080/",
          "height": 335
        },
        "id": "HBZLYcAJMHxW",
        "outputId": "963cc6f4-4a6d-420f-dad2-db89d3586d15"
      },
      "outputs": [
        {
          "output_type": "execute_result",
          "data": {
            "text/plain": [
              "count    6690.000000\n",
              "mean        8.008819\n",
              "std        10.771360\n",
              "min         0.000000\n",
              "25%         6.000000\n",
              "50%         7.000000\n",
              "75%         8.000000\n",
              "max        99.000000\n",
              "Name: BIRTHWGT_LB1, dtype: float64"
            ],
            "text/html": [
              "<div>\n",
              "<style scoped>\n",
              "    .dataframe tbody tr th:only-of-type {\n",
              "        vertical-align: middle;\n",
              "    }\n",
              "\n",
              "    .dataframe tbody tr th {\n",
              "        vertical-align: top;\n",
              "    }\n",
              "\n",
              "    .dataframe thead th {\n",
              "        text-align: right;\n",
              "    }\n",
              "</style>\n",
              "<table border=\"1\" class=\"dataframe\">\n",
              "  <thead>\n",
              "    <tr style=\"text-align: right;\">\n",
              "      <th></th>\n",
              "      <th>BIRTHWGT_LB1</th>\n",
              "    </tr>\n",
              "  </thead>\n",
              "  <tbody>\n",
              "    <tr>\n",
              "      <th>count</th>\n",
              "      <td>6690.000000</td>\n",
              "    </tr>\n",
              "    <tr>\n",
              "      <th>mean</th>\n",
              "      <td>8.008819</td>\n",
              "    </tr>\n",
              "    <tr>\n",
              "      <th>std</th>\n",
              "      <td>10.771360</td>\n",
              "    </tr>\n",
              "    <tr>\n",
              "      <th>min</th>\n",
              "      <td>0.000000</td>\n",
              "    </tr>\n",
              "    <tr>\n",
              "      <th>25%</th>\n",
              "      <td>6.000000</td>\n",
              "    </tr>\n",
              "    <tr>\n",
              "      <th>50%</th>\n",
              "      <td>7.000000</td>\n",
              "    </tr>\n",
              "    <tr>\n",
              "      <th>75%</th>\n",
              "      <td>8.000000</td>\n",
              "    </tr>\n",
              "    <tr>\n",
              "      <th>max</th>\n",
              "      <td>99.000000</td>\n",
              "    </tr>\n",
              "  </tbody>\n",
              "</table>\n",
              "</div><br><label><b>dtype:</b> float64</label>"
            ]
          },
          "metadata": {},
          "execution_count": 27
        }
      ],
      "source": [
        "pounds.describe()"
      ]
    },
    {
      "cell_type": "markdown",
      "metadata": {
        "id": "Y3Nd_GrDMHxX"
      },
      "source": [
        "`count` is the number of values, not including `NaN`.\n",
        "`mean` and `std` are the mean and standard deviation.\n",
        "`min` and `max` are the minimum and maximum values, and in between are the 25th, 50th, and 75th percentiles.\n",
        "The 50th percentile is the median.\n",
        "\n",
        "The mean is about 8.05, but that doesn't mean much because it includes the special values `98` and `99`.\n",
        "Before we can really compute the mean, we have to replace those values with `NaN` to identify them as missing data.\n",
        "The `replace` method does what we want:"
      ]
    },
    {
      "cell_type": "code",
      "execution_count": 28,
      "metadata": {
        "id": "Ahih4wBOMHxX"
      },
      "outputs": [],
      "source": [
        "import numpy as np\n",
        "\n",
        "pounds_clean = pounds.replace([98, 99], np.nan)"
      ]
    },
    {
      "cell_type": "markdown",
      "metadata": {
        "id": "IVbJyWoEMHxY"
      },
      "source": [
        "`replace` takes a list of the values we want to replace and the value we want to replace them with.\n",
        "`np.nan` means we are getting the special value `NaN` from the NumPy library, which is imported as `np`.\n",
        "The result is a new `Series`, which I assign to `pounds_clean`.\n",
        "If we run `describe` again, we see that `count` is smaller now because it includes only the valid values."
      ]
    },
    {
      "cell_type": "code",
      "execution_count": 29,
      "metadata": {
        "colab": {
          "base_uri": "https://localhost:8080/",
          "height": 335
        },
        "id": "i3V5cynPMHxY",
        "outputId": "615a02b5-10b0-4012-a67c-91b44b882a6c"
      },
      "outputs": [
        {
          "output_type": "execute_result",
          "data": {
            "text/plain": [
              "count    6599.000000\n",
              "mean        6.754357\n",
              "std         1.383268\n",
              "min         0.000000\n",
              "25%         6.000000\n",
              "50%         7.000000\n",
              "75%         8.000000\n",
              "max        14.000000\n",
              "Name: BIRTHWGT_LB1, dtype: float64"
            ],
            "text/html": [
              "<div>\n",
              "<style scoped>\n",
              "    .dataframe tbody tr th:only-of-type {\n",
              "        vertical-align: middle;\n",
              "    }\n",
              "\n",
              "    .dataframe tbody tr th {\n",
              "        vertical-align: top;\n",
              "    }\n",
              "\n",
              "    .dataframe thead th {\n",
              "        text-align: right;\n",
              "    }\n",
              "</style>\n",
              "<table border=\"1\" class=\"dataframe\">\n",
              "  <thead>\n",
              "    <tr style=\"text-align: right;\">\n",
              "      <th></th>\n",
              "      <th>BIRTHWGT_LB1</th>\n",
              "    </tr>\n",
              "  </thead>\n",
              "  <tbody>\n",
              "    <tr>\n",
              "      <th>count</th>\n",
              "      <td>6599.000000</td>\n",
              "    </tr>\n",
              "    <tr>\n",
              "      <th>mean</th>\n",
              "      <td>6.754357</td>\n",
              "    </tr>\n",
              "    <tr>\n",
              "      <th>std</th>\n",
              "      <td>1.383268</td>\n",
              "    </tr>\n",
              "    <tr>\n",
              "      <th>min</th>\n",
              "      <td>0.000000</td>\n",
              "    </tr>\n",
              "    <tr>\n",
              "      <th>25%</th>\n",
              "      <td>6.000000</td>\n",
              "    </tr>\n",
              "    <tr>\n",
              "      <th>50%</th>\n",
              "      <td>7.000000</td>\n",
              "    </tr>\n",
              "    <tr>\n",
              "      <th>75%</th>\n",
              "      <td>8.000000</td>\n",
              "    </tr>\n",
              "    <tr>\n",
              "      <th>max</th>\n",
              "      <td>14.000000</td>\n",
              "    </tr>\n",
              "  </tbody>\n",
              "</table>\n",
              "</div><br><label><b>dtype:</b> float64</label>"
            ]
          },
          "metadata": {},
          "execution_count": 29
        }
      ],
      "source": [
        "pounds_clean.describe()"
      ]
    },
    {
      "cell_type": "markdown",
      "metadata": {
        "id": "s0XEwM2eMHxY"
      },
      "source": [
        "The mean of the new `Series` is about 6.7 pounds.\n",
        "Remember that the mean of the original `Series` was more than 8 pounds.\n",
        "It makes a big difference when you remove a few 99-pound babies!\n",
        "\n",
        "The effect on standard deviation is even more dramatic.\n",
        "If we include the values `98` and `99`, the standard deviation is 10.8.\n",
        "If we remove them -- as we should -- the standard deviation is 1.4."
      ]
    },
    {
      "cell_type": "markdown",
      "metadata": {
        "id": "E56buWxaMHxZ"
      },
      "source": [
        "**Exercise:** Use `describe` to summarize `ounces`.\n",
        "Then use `replace` to replace the special values `98` and `99` with `NaN`, and assign the result to `ounces_clean`.\n",
        "Run `describe` again.\n",
        "How much does this cleaning affect the results?"
      ]
    },
    {
      "cell_type": "code",
      "execution_count": 31,
      "metadata": {
        "colab": {
          "base_uri": "https://localhost:8080/",
          "height": 335
        },
        "id": "nS5h9Z7qMHxZ",
        "outputId": "9920fa7b-b403-4d51-c3bc-4c6cddcf3a6b"
      },
      "outputs": [
        {
          "output_type": "execute_result",
          "data": {
            "text/plain": [
              "count    6540.000000\n",
              "mean        6.790520\n",
              "std         4.532309\n",
              "min         0.000000\n",
              "25%         3.000000\n",
              "50%         7.000000\n",
              "75%        11.000000\n",
              "max        15.000000\n",
              "Name: BIRTHWGT_OZ1, dtype: float64"
            ],
            "text/html": [
              "<div>\n",
              "<style scoped>\n",
              "    .dataframe tbody tr th:only-of-type {\n",
              "        vertical-align: middle;\n",
              "    }\n",
              "\n",
              "    .dataframe tbody tr th {\n",
              "        vertical-align: top;\n",
              "    }\n",
              "\n",
              "    .dataframe thead th {\n",
              "        text-align: right;\n",
              "    }\n",
              "</style>\n",
              "<table border=\"1\" class=\"dataframe\">\n",
              "  <thead>\n",
              "    <tr style=\"text-align: right;\">\n",
              "      <th></th>\n",
              "      <th>BIRTHWGT_OZ1</th>\n",
              "    </tr>\n",
              "  </thead>\n",
              "  <tbody>\n",
              "    <tr>\n",
              "      <th>count</th>\n",
              "      <td>6540.000000</td>\n",
              "    </tr>\n",
              "    <tr>\n",
              "      <th>mean</th>\n",
              "      <td>6.790520</td>\n",
              "    </tr>\n",
              "    <tr>\n",
              "      <th>std</th>\n",
              "      <td>4.532309</td>\n",
              "    </tr>\n",
              "    <tr>\n",
              "      <th>min</th>\n",
              "      <td>0.000000</td>\n",
              "    </tr>\n",
              "    <tr>\n",
              "      <th>25%</th>\n",
              "      <td>3.000000</td>\n",
              "    </tr>\n",
              "    <tr>\n",
              "      <th>50%</th>\n",
              "      <td>7.000000</td>\n",
              "    </tr>\n",
              "    <tr>\n",
              "      <th>75%</th>\n",
              "      <td>11.000000</td>\n",
              "    </tr>\n",
              "    <tr>\n",
              "      <th>max</th>\n",
              "      <td>15.000000</td>\n",
              "    </tr>\n",
              "  </tbody>\n",
              "</table>\n",
              "</div><br><label><b>dtype:</b> float64</label>"
            ]
          },
          "metadata": {},
          "execution_count": 31
        }
      ],
      "source": [
        "# Solution goes here\n",
        "ounces_clean = ounces.replace([98,99], np.nan)\n",
        "\n",
        "\n",
        "ounces_clean.describe()"
      ]
    },
    {
      "cell_type": "code",
      "execution_count": 33,
      "metadata": {
        "colab": {
          "base_uri": "https://localhost:8080/",
          "height": 335
        },
        "id": "qsxRSY9DMHxZ",
        "outputId": "00683558-88a2-4cb9-c3c6-ae5c3746b096"
      },
      "outputs": [
        {
          "output_type": "execute_result",
          "data": {
            "text/plain": [
              "count    6690.000000\n",
              "mean        8.008819\n",
              "std        10.771360\n",
              "min         0.000000\n",
              "25%         6.000000\n",
              "50%         7.000000\n",
              "75%         8.000000\n",
              "max        99.000000\n",
              "Name: BIRTHWGT_LB1, dtype: float64"
            ],
            "text/html": [
              "<div>\n",
              "<style scoped>\n",
              "    .dataframe tbody tr th:only-of-type {\n",
              "        vertical-align: middle;\n",
              "    }\n",
              "\n",
              "    .dataframe tbody tr th {\n",
              "        vertical-align: top;\n",
              "    }\n",
              "\n",
              "    .dataframe thead th {\n",
              "        text-align: right;\n",
              "    }\n",
              "</style>\n",
              "<table border=\"1\" class=\"dataframe\">\n",
              "  <thead>\n",
              "    <tr style=\"text-align: right;\">\n",
              "      <th></th>\n",
              "      <th>BIRTHWGT_LB1</th>\n",
              "    </tr>\n",
              "  </thead>\n",
              "  <tbody>\n",
              "    <tr>\n",
              "      <th>count</th>\n",
              "      <td>6690.000000</td>\n",
              "    </tr>\n",
              "    <tr>\n",
              "      <th>mean</th>\n",
              "      <td>8.008819</td>\n",
              "    </tr>\n",
              "    <tr>\n",
              "      <th>std</th>\n",
              "      <td>10.771360</td>\n",
              "    </tr>\n",
              "    <tr>\n",
              "      <th>min</th>\n",
              "      <td>0.000000</td>\n",
              "    </tr>\n",
              "    <tr>\n",
              "      <th>25%</th>\n",
              "      <td>6.000000</td>\n",
              "    </tr>\n",
              "    <tr>\n",
              "      <th>50%</th>\n",
              "      <td>7.000000</td>\n",
              "    </tr>\n",
              "    <tr>\n",
              "      <th>75%</th>\n",
              "      <td>8.000000</td>\n",
              "    </tr>\n",
              "    <tr>\n",
              "      <th>max</th>\n",
              "      <td>99.000000</td>\n",
              "    </tr>\n",
              "  </tbody>\n",
              "</table>\n",
              "</div><br><label><b>dtype:</b> float64</label>"
            ]
          },
          "metadata": {},
          "execution_count": 33
        }
      ],
      "source": [
        "# Solution goes here\n"
      ]
    },
    {
      "cell_type": "code",
      "execution_count": null,
      "metadata": {
        "id": "XX-UrP1VMHxZ"
      },
      "outputs": [],
      "source": [
        "# Solution goes here"
      ]
    },
    {
      "cell_type": "markdown",
      "metadata": {
        "id": "mm1mluNLMHxa"
      },
      "source": [
        "## Series Arithmetic\n",
        "\n",
        "Now we want to combine `pounds` and `ounces` into a single `Series` that contains total birth weight.\n",
        "With `Series` objects, the arithmetic operators work elementwise, as they do with NumPy arrays.\n",
        "\n",
        "So, to convert `pounds` to ounces, we can write `pounds * 16`.\n",
        "Then, to add in `ounces` we can write `pounds * 16 + ounces`."
      ]
    },
    {
      "cell_type": "markdown",
      "metadata": {
        "id": "EHLyeq6QMHxa"
      },
      "source": [
        "**Exercise:** Use `pounds_clean` and `ounces_clean` to compute the total birth weight expressed in kilograms (there are roughly 2.2 pounds per kilogram).  What is the mean birth weight in kilograms?"
      ]
    },
    {
      "cell_type": "code",
      "execution_count": 44,
      "metadata": {
        "colab": {
          "base_uri": "https://localhost:8080/",
          "height": 335
        },
        "id": "nO4WK3w0MHxa",
        "outputId": "2653e43e-a5c7-41e0-bcfb-8f46a5655e1a"
      },
      "outputs": [
        {
          "output_type": "execute_result",
          "data": {
            "text/plain": [
              "count    6540.000000\n",
              "mean        3.232644\n",
              "std         0.619799\n",
              "min         0.226822\n",
              "25%         2.898469\n",
              "50%         3.263411\n",
              "75%         3.600000\n",
              "max         6.385058\n",
              "dtype: float64"
            ],
            "text/html": [
              "<div>\n",
              "<style scoped>\n",
              "    .dataframe tbody tr th:only-of-type {\n",
              "        vertical-align: middle;\n",
              "    }\n",
              "\n",
              "    .dataframe tbody tr th {\n",
              "        vertical-align: top;\n",
              "    }\n",
              "\n",
              "    .dataframe thead th {\n",
              "        text-align: right;\n",
              "    }\n",
              "</style>\n",
              "<table border=\"1\" class=\"dataframe\">\n",
              "  <thead>\n",
              "    <tr style=\"text-align: right;\">\n",
              "      <th></th>\n",
              "      <th>0</th>\n",
              "    </tr>\n",
              "  </thead>\n",
              "  <tbody>\n",
              "    <tr>\n",
              "      <th>count</th>\n",
              "      <td>6540.000000</td>\n",
              "    </tr>\n",
              "    <tr>\n",
              "      <th>mean</th>\n",
              "      <td>3.232644</td>\n",
              "    </tr>\n",
              "    <tr>\n",
              "      <th>std</th>\n",
              "      <td>0.619799</td>\n",
              "    </tr>\n",
              "    <tr>\n",
              "      <th>min</th>\n",
              "      <td>0.226822</td>\n",
              "    </tr>\n",
              "    <tr>\n",
              "      <th>25%</th>\n",
              "      <td>2.898469</td>\n",
              "    </tr>\n",
              "    <tr>\n",
              "      <th>50%</th>\n",
              "      <td>3.263411</td>\n",
              "    </tr>\n",
              "    <tr>\n",
              "      <th>75%</th>\n",
              "      <td>3.600000</td>\n",
              "    </tr>\n",
              "    <tr>\n",
              "      <th>max</th>\n",
              "      <td>6.385058</td>\n",
              "    </tr>\n",
              "  </tbody>\n",
              "</table>\n",
              "</div><br><label><b>dtype:</b> float64</label>"
            ]
          },
          "metadata": {},
          "execution_count": 44
        }
      ],
      "source": [
        "#Solution goes here\n",
        "\n",
        "kilo = 0.45 * pounds_clean + ounces_clean / 35.27\n",
        "\n",
        "kilo.describe()"
      ]
    },
    {
      "cell_type": "markdown",
      "metadata": {
        "id": "ZBiphaZZMHxb"
      },
      "source": [
        "## Histograms\n",
        "\n",
        "Let's get back to the original question: what is the average birth weight for babies in the U.S.?  \n",
        "As an answer we *could* take the results from the previous section and compute the mean:"
      ]
    },
    {
      "cell_type": "code",
      "execution_count": 40,
      "metadata": {
        "colab": {
          "base_uri": "https://localhost:8080/"
        },
        "id": "6xMwcsKRMHxb",
        "outputId": "74529c32-aa48-4ed8-b0cd-52b5af160ce5"
      },
      "outputs": [
        {
          "output_type": "execute_result",
          "data": {
            "text/plain": [
              "np.float64(7.180217889908257)"
            ]
          },
          "metadata": {},
          "execution_count": 40
        }
      ],
      "source": [
        "pounds_clean = pounds.replace([98, 99], np.nan)\n",
        "ounces_clean = ounces.replace([98, 99], np.nan)\n",
        "\n",
        "birth_weight = pounds_clean + ounces_clean / 16\n",
        "birth_weight.mean()"
      ]
    },
    {
      "cell_type": "markdown",
      "metadata": {
        "id": "neD8Y1JXMHxb"
      },
      "source": [
        "But it is risky to compute a summary statistic, like the mean, before we look at the whole distribution of values.\n",
        "A **distribution** is a set of possible values and their frequencies.\n",
        "One way to visualize a distribution is a **histogram**, which shows values on the x-axis and their frequencies on the y-axis.\n",
        "`Series` provides a `hist` method that makes histograms, and we can use Pyplot to label the axes."
      ]
    },
    {
      "cell_type": "code",
      "execution_count": 45,
      "metadata": {
        "colab": {
          "base_uri": "https://localhost:8080/",
          "height": 281
        },
        "id": "jq-VH4qdMHxc",
        "outputId": "5fd21525-1612-436d-b43b-b7178ce95ad6"
      },
      "outputs": [
        {
          "output_type": "display_data",
          "data": {
            "text/plain": [
              "<Figure size 450x262.5 with 1 Axes>"
            ],
            "image/png": "[encoded data removed]"
          },
          "metadata": {}
        }
      ],
      "source": [
        "import matplotlib.pyplot as plt\n",
        "\n",
        "birth_weight.hist(bins=30)\n",
        "plt.xlabel('Birth weight in pounds')\n",
        "plt.ylabel('Number of live births')\n",
        "plt.title('Distribution of U.S. birth weight');"
      ]
    },
    {
      "cell_type": "code",
      "source": [],
      "metadata": {
        "id": "T33bTa9-bZb5"
      },
      "execution_count": null,
      "outputs": []
    },
    {
      "cell_type": "markdown",
      "metadata": {
        "id": "Nf9OXA7PMHxc"
      },
      "source": [
        "The keyword argument, `bins`, tells `hist` to divide the range of weights into 30 intervals, called **bins**, and count how many values fall in each bin.\n",
        "The x-axis is birth weight in pounds; the y-axis is the number of births in each bin.\n",
        "\n",
        "The distribution looks like a bell curve, but the tail is longer on the left than on the right -- that is, there are more light babies than heavy babies.\n",
        "That makes sense, because the distribution includes some babies that were born preterm."
      ]
    },
    {
      "cell_type": "markdown",
      "metadata": {
        "tags": [],
        "id": "Z8UdacyYMHxc"
      },
      "source": [
        "**Exercise:** `hist` takes keyword arguments that specify the type and appearance of the histogram.\n",
        "Read the documentation of `hist` at <https://pandas.pydata.org/docs/reference/api/pandas.Series.hist.html> and see if you can figure out how to plot the histogram as an unfilled line against a background with no grid lines."
      ]
    },
    {
      "cell_type": "code",
      "execution_count": 47,
      "metadata": {
        "colab": {
          "base_uri": "https://localhost:8080/",
          "height": 281
        },
        "id": "eduiG37KMHxd",
        "outputId": "3428a9d5-8b76-46a4-f7b7-fcbd6825ed5c"
      },
      "outputs": [
        {
          "output_type": "display_data",
          "data": {
            "text/plain": [
              "<Figure size 450x262.5 with 1 Axes>"
            ],
            "image/png": "[encoded data removed]"
          },
          "metadata": {}
        }
      ],
      "source": [
        "# Solution goes here\n",
        "import matplotlib.pyplot as plt\n",
        "\n",
        "birth_weight.hist(bins=30, grid = False, histtype = 'step')\n",
        "plt.xlabel('Birth weight in pounds')\n",
        "plt.ylabel('Number of live births')\n",
        "plt.title('Distribution of U.S. birth weight');\n",
        "\n",
        "\n"
      ]
    },
    {
      "cell_type": "markdown",
      "metadata": {
        "id": "mVBkmremMHxd"
      },
      "source": [
        "**Exercise:** The NSFG dataset includes a column called `AGECON` that records a woman's age at conception for each pregnancy.\n",
        "Select this column from the `DataFrame` and plot the histogram of the values with 20 bins.\n",
        "Label the axes and add a title."
      ]
    },
    {
      "cell_type": "code",
      "execution_count": 52,
      "metadata": {
        "colab": {
          "base_uri": "https://localhost:8080/",
          "height": 281
        },
        "id": "JGxeEYH2MHxd",
        "outputId": "a174e28f-3b72-4f5f-8a30-2e9b0c644648"
      },
      "outputs": [
        {
          "output_type": "display_data",
          "data": {
            "text/plain": [
              "<Figure size 450x262.5 with 1 Axes>"
            ],
            "image/png": "[encoded data removed]"
          },
          "metadata": {}
        }
      ],
      "source": [
        "# Solution goes here\n",
        "\n",
        "\n",
        "age = nsfg['AGECON']\n",
        "age.hist(bins = 20)\n",
        "plt.xlabel('Age at conception')\n",
        "plt.ylabel('Number of women')\n",
        "plt.title(\"Distribution of conception's age\");"
      ]
    },
    {
      "cell_type": "markdown",
      "metadata": {
        "id": "PCeppecSMHxe"
      },
      "source": [
        "## Boolean Series\n",
        "\n",
        "We have seen that the distribution of birth weights is **skewed** to the left -- that is, the left tail extends farther from the center than the right tail.\n",
        "That's because preterm babies tend to be lighter.\n",
        "To see which babies are preterm, we can use the `PRGLNGTH` column, which records pregnancy length in weeks.\n",
        "A baby is considered preterm if it is born prior to the 37th week of pregnancy."
      ]
    },
    {
      "cell_type": "code",
      "execution_count": 53,
      "metadata": {
        "colab": {
          "base_uri": "https://localhost:8080/"
        },
        "id": "I23YOaxwMHxe",
        "outputId": "2c3a0321-87c9-4bcc-f9a8-2db6c928c9f7"
      },
      "outputs": [
        {
          "output_type": "execute_result",
          "data": {
            "text/plain": [
              "dtype('bool')"
            ]
          },
          "metadata": {},
          "execution_count": 53
        }
      ],
      "source": [
        "preterm = (nsfg['PRGLNGTH'] < 37)\n",
        "preterm.dtype"
      ]
    },
    {
      "cell_type": "markdown",
      "metadata": {
        "id": "Zi7WozOQMHxf"
      },
      "source": [
        "When you compare a `Series` to a value, the result is a Boolean `Series` -- that is, a `Series` where each element is a Boolean value, `True` or `False`.\n",
        "In this case, it's `True` for each preterm baby and `False` otherwise.\n",
        "We can use `head` to see the first 5 elements."
      ]
    },
    {
      "cell_type": "code",
      "execution_count": 54,
      "metadata": {
        "colab": {
          "base_uri": "https://localhost:8080/",
          "height": 241
        },
        "id": "7JurIJzTMHxf",
        "outputId": "c79429aa-afca-4e74-9d5d-c63536bcb3d4"
      },
      "outputs": [
        {
          "output_type": "execute_result",
          "data": {
            "text/plain": [
              "0    False\n",
              "1     True\n",
              "2    False\n",
              "3    False\n",
              "4    False\n",
              "Name: PRGLNGTH, dtype: bool"
            ],
            "text/html": [
              "<div>\n",
              "<style scoped>\n",
              "    .dataframe tbody tr th:only-of-type {\n",
              "        vertical-align: middle;\n",
              "    }\n",
              "\n",
              "    .dataframe tbody tr th {\n",
              "        vertical-align: top;\n",
              "    }\n",
              "\n",
              "    .dataframe thead th {\n",
              "        text-align: right;\n",
              "    }\n",
              "</style>\n",
              "<table border=\"1\" class=\"dataframe\">\n",
              "  <thead>\n",
              "    <tr style=\"text-align: right;\">\n",
              "      <th></th>\n",
              "      <th>PRGLNGTH</th>\n",
              "    </tr>\n",
              "  </thead>\n",
              "  <tbody>\n",
              "    <tr>\n",
              "      <th>0</th>\n",
              "      <td>False</td>\n",
              "    </tr>\n",
              "    <tr>\n",
              "      <th>1</th>\n",
              "      <td>True</td>\n",
              "    </tr>\n",
              "    <tr>\n",
              "      <th>2</th>\n",
              "      <td>False</td>\n",
              "    </tr>\n",
              "    <tr>\n",
              "      <th>3</th>\n",
              "      <td>False</td>\n",
              "    </tr>\n",
              "    <tr>\n",
              "      <th>4</th>\n",
              "      <td>False</td>\n",
              "    </tr>\n",
              "  </tbody>\n",
              "</table>\n",
              "</div><br><label><b>dtype:</b> bool</label>"
            ]
          },
          "metadata": {},
          "execution_count": 54
        }
      ],
      "source": [
        "preterm.head()"
      ]
    },
    {
      "cell_type": "markdown",
      "metadata": {
        "id": "xHWR8FVxMHxg"
      },
      "source": [
        "For a Boolean `Series`, the `sum`  method treats `True` as 1 and `False` as 0, so the result is the number of `True` values, which is the number of preterm babies."
      ]
    },
    {
      "cell_type": "code",
      "execution_count": 55,
      "metadata": {
        "colab": {
          "base_uri": "https://localhost:8080/"
        },
        "id": "RSITHX8xMHxg",
        "outputId": "0139e9a5-f481-4eb1-83d6-9bc37572dd8a"
      },
      "outputs": [
        {
          "output_type": "execute_result",
          "data": {
            "text/plain": [
              "np.int64(3675)"
            ]
          },
          "metadata": {},
          "execution_count": 55
        }
      ],
      "source": [
        "preterm.sum()"
      ]
    },
    {
      "cell_type": "markdown",
      "metadata": {
        "id": "_jJyFzVTMHxh"
      },
      "source": [
        "If you compute the mean of a Boolean `Series`, the result the *fraction* of `True` values.\n",
        "In this case, it's about 0.38 -- which means about 38% of the pregnancies are less than 37 weeks in duration."
      ]
    },
    {
      "cell_type": "code",
      "execution_count": 56,
      "metadata": {
        "colab": {
          "base_uri": "https://localhost:8080/"
        },
        "id": "3452Ly88MHxh",
        "outputId": "cf61b09c-2c21-4ef0-f33d-cbc357754569"
      },
      "outputs": [
        {
          "output_type": "execute_result",
          "data": {
            "text/plain": [
              "np.float64(0.38469590704490736)"
            ]
          },
          "metadata": {},
          "execution_count": 56
        }
      ],
      "source": [
        "preterm.mean()"
      ]
    },
    {
      "cell_type": "markdown",
      "metadata": {
        "id": "s1L6NoM2MHxh"
      },
      "source": [
        "However, this result is misleading because it includes all pregnancy outcomes, not just live births.\n",
        "We can use the `OUTCOME` column to create another Boolean `Series` to indicate which pregnancies ended in live birth."
      ]
    },
    {
      "cell_type": "code",
      "execution_count": 57,
      "metadata": {
        "colab": {
          "base_uri": "https://localhost:8080/"
        },
        "id": "5wtlyO2gMHxi",
        "outputId": "4810f362-19e2-4604-aee6-ed1b918fc5f9"
      },
      "outputs": [
        {
          "output_type": "execute_result",
          "data": {
            "text/plain": [
              "np.float64(0.7006176070344394)"
            ]
          },
          "metadata": {},
          "execution_count": 57
        }
      ],
      "source": [
        "live = (nsfg['OUTCOME'] == 1)\n",
        "live.mean()"
      ]
    },
    {
      "cell_type": "markdown",
      "metadata": {
        "id": "eqAn3ziaMHxi"
      },
      "source": [
        "Now we can use the `&` operator, which represents the logical AND operation, to identify pregnancies where the outcome is a live birth *and* preterm:"
      ]
    },
    {
      "cell_type": "code",
      "execution_count": 58,
      "metadata": {
        "colab": {
          "base_uri": "https://localhost:8080/"
        },
        "id": "BskIPyM1MHxi",
        "outputId": "fc9da8aa-677b-403f-fd13-2f04523e297f"
      },
      "outputs": [
        {
          "output_type": "execute_result",
          "data": {
            "text/plain": [
              "np.float64(0.08929132209777034)"
            ]
          },
          "metadata": {},
          "execution_count": 58
        }
      ],
      "source": [
        "live_preterm = (live & preterm)\n",
        "live_preterm.mean()"
      ]
    },
    {
      "cell_type": "markdown",
      "metadata": {
        "id": "DeErKQkAMHxj"
      },
      "source": [
        "About 9% of all pregnancies resulted in a preterm live birth.\n",
        "\n",
        "The other common logical operators that work with `Series` objects are:\n",
        "    \n",
        "* `|`, which represents the logical OR operation -- for example, `live | preterm` is true if either `live` is true, or `preterm` is true, or both.\n",
        "\n",
        "* `~`, which represents the logical NOT operation -- for example, `~live` is true if `live` not true.\n",
        "\n",
        "The logical operators treat `NaN` the same as `False`, so you should be careful about using the NOT operator with a Series that contains `NaN` values.\n",
        "For example, `~preterm` would include not just full term pregnancies, but also pregnancies with unknown duration."
      ]
    },
    {
      "cell_type": "markdown",
      "metadata": {
        "id": "Vn6fjwGHMHxj"
      },
      "source": [
        "**Exercise:** Of all pregnancies, what fraction are live births at full term (37 weeks or more)?\n",
        "Of all live births, what fraction are full term?"
      ]
    },
    {
      "cell_type": "code",
      "execution_count": 62,
      "metadata": {
        "colab": {
          "base_uri": "https://localhost:8080/"
        },
        "id": "CqlLOPxQMHxk",
        "outputId": "d118bc16-f38e-48a8-acc6-3d3b906e4741"
      },
      "outputs": [
        {
          "output_type": "execute_result",
          "data": {
            "text/plain": [
              "np.float64(0.6113262849366691)"
            ]
          },
          "metadata": {},
          "execution_count": 62
        }
      ],
      "source": [
        "# Solution goes here\n",
        "\n",
        "live_term = ((~preterm) & live)\n",
        "live_term.mean()"
      ]
    },
    {
      "cell_type": "code",
      "execution_count": 63,
      "metadata": {
        "colab": {
          "base_uri": "https://localhost:8080/"
        },
        "id": "QvN8hqrMMHxk",
        "outputId": "6d8fca60-3f56-48ce-8bb1-12c68d5f3aad"
      },
      "outputs": [
        {
          "output_type": "execute_result",
          "data": {
            "text/plain": [
              "np.float64(0.6153040929550927)"
            ]
          },
          "metadata": {},
          "execution_count": 63
        }
      ],
      "source": [
        "# Solution goes here\n",
        "\n",
        "full = (~preterm)\n",
        "full.mean()"
      ]
    },
    {
      "cell_type": "markdown",
      "metadata": {
        "id": "jrbRHZ_OMHxl"
      },
      "source": [
        "## Filtering Data\n",
        "\n",
        "We can use a Boolean `Series` as a filter -- that is, we can select only rows that satisfy a condition or meet some criterion.\n",
        "For example, we can use `preterm` and the bracket operator to select values from `birth_weight`, so `preterm_weight` gets birth weights for preterm babies."
      ]
    },
    {
      "cell_type": "code",
      "execution_count": 64,
      "metadata": {
        "colab": {
          "base_uri": "https://localhost:8080/"
        },
        "id": "JZriMgC1MHxl",
        "outputId": "c3e4fb2e-3053-4156-8e61-853d7ee54801"
      },
      "outputs": [
        {
          "output_type": "execute_result",
          "data": {
            "text/plain": [
              "np.float64(5.480958781362007)"
            ]
          },
          "metadata": {},
          "execution_count": 64
        }
      ],
      "source": [
        "preterm_weight = birth_weight[preterm]\n",
        "preterm_weight.mean()"
      ]
    },
    {
      "cell_type": "markdown",
      "metadata": {
        "id": "3RNaFOdDMHxl"
      },
      "source": [
        "To select full-term babies, we can create a Boolean `Series` like this:"
      ]
    },
    {
      "cell_type": "code",
      "execution_count": 65,
      "metadata": {
        "id": "UsTnqKrkMHxl"
      },
      "outputs": [],
      "source": [
        "fullterm = (nsfg['PRGLNGTH'] >= 37)"
      ]
    },
    {
      "cell_type": "markdown",
      "metadata": {
        "id": "9-EdzMw1MHxl"
      },
      "source": [
        "And use it to select birth weights for full term babies:"
      ]
    },
    {
      "cell_type": "code",
      "execution_count": 66,
      "metadata": {
        "colab": {
          "base_uri": "https://localhost:8080/"
        },
        "id": "r8Oj5qvuMHxm",
        "outputId": "837575b0-c413-484e-90b7-5dcbd7844342"
      },
      "outputs": [
        {
          "output_type": "execute_result",
          "data": {
            "text/plain": [
              "np.float64(7.429609416096791)"
            ]
          },
          "metadata": {},
          "execution_count": 66
        }
      ],
      "source": [
        "full_term_weight = birth_weight[fullterm]\n",
        "full_term_weight.mean()"
      ]
    },
    {
      "cell_type": "markdown",
      "metadata": {
        "id": "8Np_FaKXMHxm"
      },
      "source": [
        "As expected, full term babies are heavier, on average, than preterm babies.\n",
        "To be more explicit, we could also limit the results to live births, like this:"
      ]
    },
    {
      "cell_type": "code",
      "execution_count": 67,
      "metadata": {
        "colab": {
          "base_uri": "https://localhost:8080/"
        },
        "id": "enLukdacMHxm",
        "outputId": "4358c374-bdeb-4347-d594-b23108932f5e"
      },
      "outputs": [
        {
          "output_type": "execute_result",
          "data": {
            "text/plain": [
              "np.float64(7.429609416096791)"
            ]
          },
          "metadata": {},
          "execution_count": 67
        }
      ],
      "source": [
        "full_term_weight = birth_weight[live & fullterm]\n",
        "full_term_weight.mean()"
      ]
    },
    {
      "cell_type": "markdown",
      "metadata": {
        "id": "31AvVpAJMHxn"
      },
      "source": [
        "But in this case we get the same result because `birth_weight` is only valid for live births."
      ]
    },
    {
      "cell_type": "markdown",
      "metadata": {
        "id": "ErOppoYlMHxn"
      },
      "source": [
        "**Exercise:** Let's see if there is a difference in weight between single births and multiple births (twins, triplets, etc.).\n",
        "The column `NBRNALIV` represents the number of babies born alive from a single pregnancy."
      ]
    },
    {
      "cell_type": "code",
      "execution_count": 68,
      "metadata": {
        "colab": {
          "base_uri": "https://localhost:8080/",
          "height": 210
        },
        "id": "yG1-C4J1MHxn",
        "outputId": "a8966a1f-b750-4377-9086-1e73e93908ff"
      },
      "outputs": [
        {
          "output_type": "execute_result",
          "data": {
            "text/plain": [
              "NBRNALIV\n",
              "1.0    6573\n",
              "2.0     111\n",
              "3.0       6\n",
              "Name: count, dtype: int64"
            ],
            "text/html": [
              "<div>\n",
              "<style scoped>\n",
              "    .dataframe tbody tr th:only-of-type {\n",
              "        vertical-align: middle;\n",
              "    }\n",
              "\n",
              "    .dataframe tbody tr th {\n",
              "        vertical-align: top;\n",
              "    }\n",
              "\n",
              "    .dataframe thead th {\n",
              "        text-align: right;\n",
              "    }\n",
              "</style>\n",
              "<table border=\"1\" class=\"dataframe\">\n",
              "  <thead>\n",
              "    <tr style=\"text-align: right;\">\n",
              "      <th></th>\n",
              "      <th>count</th>\n",
              "    </tr>\n",
              "    <tr>\n",
              "      <th>NBRNALIV</th>\n",
              "      <th></th>\n",
              "    </tr>\n",
              "  </thead>\n",
              "  <tbody>\n",
              "    <tr>\n",
              "      <th>1.0</th>\n",
              "      <td>6573</td>\n",
              "    </tr>\n",
              "    <tr>\n",
              "      <th>2.0</th>\n",
              "      <td>111</td>\n",
              "    </tr>\n",
              "    <tr>\n",
              "      <th>3.0</th>\n",
              "      <td>6</td>\n",
              "    </tr>\n",
              "  </tbody>\n",
              "</table>\n",
              "</div><br><label><b>dtype:</b> int64</label>"
            ]
          },
          "metadata": {},
          "execution_count": 68
        }
      ],
      "source": [
        "nbrnaliv = nsfg['NBRNALIV']\n",
        "nbrnaliv.value_counts()"
      ]
    },
    {
      "cell_type": "markdown",
      "metadata": {
        "id": "tlIbxqQHMHxo"
      },
      "source": [
        "Use `nbrnaliv` and `live` to create a Boolean series called `multiple` that is true for multiple live births.\n",
        "Of all live births, what fraction are multiple births?"
      ]
    },
    {
      "cell_type": "code",
      "execution_count": 72,
      "metadata": {
        "colab": {
          "base_uri": "https://localhost:8080/"
        },
        "id": "VZ2fXRdTMHxo",
        "outputId": "09c4e640-e39f-42d0-963f-14de44a76890"
      },
      "outputs": [
        {
          "output_type": "execute_result",
          "data": {
            "text/plain": [
              "np.float64(0.012247461530409296)"
            ]
          },
          "metadata": {},
          "execution_count": 72
        }
      ],
      "source": [
        "# Solution goes here\n",
        "\n",
        "multiple = (nsfg['NBRNALIV'] > 1)\n",
        "multiple.mean()"
      ]
    },
    {
      "cell_type": "code",
      "execution_count": null,
      "metadata": {
        "id": "Vr8Tk8PaMHxo"
      },
      "outputs": [],
      "source": [
        "# Solution goes here"
      ]
    },
    {
      "cell_type": "markdown",
      "metadata": {
        "id": "lMALqPI3MHxo"
      },
      "source": [
        "**Exercise:** Make a Boolean series called `single` that is true for single live births.\n",
        "Of all single births, what fraction are preterm?\n",
        "Of all multiple births, what fraction are preterm?"
      ]
    },
    {
      "cell_type": "code",
      "execution_count": 78,
      "metadata": {
        "colab": {
          "base_uri": "https://localhost:8080/"
        },
        "id": "88w-DrVMMHxo",
        "outputId": "42cfc932-ee2a-4685-d1c9-a8fc5f2ca717"
      },
      "outputs": [
        {
          "output_type": "execute_result",
          "data": {
            "text/plain": [
              "np.float64(0.6880561080288915)"
            ]
          },
          "metadata": {},
          "execution_count": 78
        }
      ],
      "source": [
        "# Solution goes here\n",
        "\n",
        "single = (nsfg['NBRNALIV'] == 1)\n",
        "single.mean()"
      ]
    },
    {
      "cell_type": "code",
      "execution_count": 79,
      "metadata": {
        "colab": {
          "base_uri": "https://localhost:8080/"
        },
        "id": "oDbZyrFVMHxp",
        "outputId": "9fbfeaf5-8178-4332-e6e4-4aa54c32f13b"
      },
      "outputs": [
        {
          "output_type": "execute_result",
          "data": {
            "text/plain": [
              "np.float64(0.21578231292517006)"
            ]
          },
          "metadata": {},
          "execution_count": 79
        }
      ],
      "source": [
        "# Solution goes here\n",
        "pre_single = single[preterm]\n",
        "pre_single.mean()\n"
      ]
    },
    {
      "cell_type": "code",
      "execution_count": 81,
      "metadata": {
        "colab": {
          "base_uri": "https://localhost:8080/"
        },
        "id": "hmkX6m3VMHxp",
        "outputId": "773dfc20-7363-407f-c986-d79dac81e021"
      },
      "outputs": [
        {
          "output_type": "execute_result",
          "data": {
            "text/plain": [
              "np.float64(0.0163265306122449)"
            ]
          },
          "metadata": {},
          "execution_count": 81
        }
      ],
      "source": [
        "# Solution goes here\n",
        "\n",
        "pre_multi = multiple[preterm]\n",
        "pre_multi.mean()"
      ]
    },
    {
      "cell_type": "markdown",
      "metadata": {
        "id": "6c84z2wXMHxp"
      },
      "source": [
        "**Exercise:** What is the average birth weight for live, single, full-term births?"
      ]
    },
    {
      "cell_type": "code",
      "execution_count": 82,
      "metadata": {
        "colab": {
          "base_uri": "https://localhost:8080/"
        },
        "id": "Gq6zTR80MHxp",
        "outputId": "e659f8a5-1122-4f5d-d819-7b3a6c88a11c"
      },
      "outputs": [
        {
          "output_type": "execute_result",
          "data": {
            "text/plain": [
              "np.float64(7.4439624645892355)"
            ]
          },
          "metadata": {},
          "execution_count": 82
        }
      ],
      "source": [
        "# Solution goes here\n",
        "\n",
        "birth_weightlsf = birth_weight[live & single & fullterm]\n",
        "birth_weightlsf.mean()"
      ]
    },
    {
      "cell_type": "markdown",
      "metadata": {
        "id": "rIkuaYabMHxp"
      },
      "source": [
        "## Weighted Means\n",
        "\n",
        "We are almost done, but there's one more problem we have to solve: oversampling.\n",
        "The NSFG sample is not exactly representative of the U.S. population.\n",
        "By design, some groups are more likely to appear in the sample than others -- that is, they are **oversampled**.\n",
        "Oversampling helps to ensure that you have enough people in every group to get reliable statistics, but it makes data analysis a little more complicated.\n",
        "\n",
        "Each pregnancy in the dataset has a **sampling weight** that indicates how many pregnancies it represents.\n",
        "In `nsfg`, the sampling weight is stored in a column named `wgt2015_2017`.\n",
        "Here's what it looks like."
      ]
    },
    {
      "cell_type": "code",
      "execution_count": 83,
      "metadata": {
        "colab": {
          "base_uri": "https://localhost:8080/",
          "height": 335
        },
        "id": "K8LVl8PQMHxq",
        "outputId": "a4fd3783-f21a-4962-e13f-6a7012d1e98f"
      },
      "outputs": [
        {
          "output_type": "execute_result",
          "data": {
            "text/plain": [
              "count      9553.000000\n",
              "mean      13337.425944\n",
              "std       16138.878271\n",
              "min        1924.916000\n",
              "25%        4575.221221\n",
              "50%        7292.490835\n",
              "75%       15724.902673\n",
              "max      106774.400000\n",
              "Name: WGT2015_2017, dtype: float64"
            ],
            "text/html": [
              "<div>\n",
              "<style scoped>\n",
              "    .dataframe tbody tr th:only-of-type {\n",
              "        vertical-align: middle;\n",
              "    }\n",
              "\n",
              "    .dataframe tbody tr th {\n",
              "        vertical-align: top;\n",
              "    }\n",
              "\n",
              "    .dataframe thead th {\n",
              "        text-align: right;\n",
              "    }\n",
              "</style>\n",
              "<table border=\"1\" class=\"dataframe\">\n",
              "  <thead>\n",
              "    <tr style=\"text-align: right;\">\n",
              "      <th></th>\n",
              "      <th>WGT2015_2017</th>\n",
              "    </tr>\n",
              "  </thead>\n",
              "  <tbody>\n",
              "    <tr>\n",
              "      <th>count</th>\n",
              "      <td>9553.000000</td>\n",
              "    </tr>\n",
              "    <tr>\n",
              "      <th>mean</th>\n",
              "      <td>13337.425944</td>\n",
              "    </tr>\n",
              "    <tr>\n",
              "      <th>std</th>\n",
              "      <td>16138.878271</td>\n",
              "    </tr>\n",
              "    <tr>\n",
              "      <th>min</th>\n",
              "      <td>1924.916000</td>\n",
              "    </tr>\n",
              "    <tr>\n",
              "      <th>25%</th>\n",
              "      <td>4575.221221</td>\n",
              "    </tr>\n",
              "    <tr>\n",
              "      <th>50%</th>\n",
              "      <td>7292.490835</td>\n",
              "    </tr>\n",
              "    <tr>\n",
              "      <th>75%</th>\n",
              "      <td>15724.902673</td>\n",
              "    </tr>\n",
              "    <tr>\n",
              "      <th>max</th>\n",
              "      <td>106774.400000</td>\n",
              "    </tr>\n",
              "  </tbody>\n",
              "</table>\n",
              "</div><br><label><b>dtype:</b> float64</label>"
            ]
          },
          "metadata": {},
          "execution_count": 83
        }
      ],
      "source": [
        "sampling_weight = nsfg['WGT2015_2017']\n",
        "sampling_weight.describe()"
      ]
    },
    {
      "cell_type": "markdown",
      "metadata": {
        "id": "NhgF_35IMHxq"
      },
      "source": [
        "The median value (`50`th percentile) in this column is about `7292`, which means that a pregnancy with that weight represents `7292` total pregnancies in the population.\n",
        "But the range of values is wide, so some rows represent many more pregnancies than others.\n",
        "\n",
        "To take these weights into account, we can compute a **weighted mean**.  Here are the steps:\n",
        "\n",
        "1. Multiply the birth weights for each pregnancy by the sampling weights and add up the products.\n",
        "\n",
        "2. Add up the sampling weights.\n",
        "\n",
        "3. Divide the first sum by the second.\n",
        "\n",
        "To do this correctly, we have to be careful with missing data.\n",
        "To help with that, we'll use two `Series` methods, `isna` and `notna`.\n",
        "`isna` returns a Boolean `Series` that is `True` where the corresponding value is `NaN`."
      ]
    },
    {
      "cell_type": "code",
      "execution_count": 84,
      "metadata": {
        "colab": {
          "base_uri": "https://localhost:8080/"
        },
        "id": "OAK0ZxoXMHxq",
        "outputId": "aed614de-cde4-4754-ef2c-cfe94b1775fc"
      },
      "outputs": [
        {
          "output_type": "execute_result",
          "data": {
            "text/plain": [
              "np.int64(3013)"
            ]
          },
          "metadata": {},
          "execution_count": 84
        }
      ],
      "source": [
        "missing = birth_weight.isna()\n",
        "missing.sum()"
      ]
    },
    {
      "cell_type": "markdown",
      "metadata": {
        "id": "8NenbtURMHxq"
      },
      "source": [
        "In `birth_weight` there are `3013` missing values (mostly for pregnancies that did not end in live birth).\n",
        "`notna` returns a Boolean `Series` that is `True` where the corresponding value is *not* `NaN`."
      ]
    },
    {
      "cell_type": "code",
      "execution_count": 85,
      "metadata": {
        "colab": {
          "base_uri": "https://localhost:8080/"
        },
        "id": "hKn6HAquMHxr",
        "outputId": "035780af-d077-479f-b2bc-2c403c2eb441"
      },
      "outputs": [
        {
          "output_type": "execute_result",
          "data": {
            "text/plain": [
              "np.int64(6540)"
            ]
          },
          "metadata": {},
          "execution_count": 85
        }
      ],
      "source": [
        "valid = birth_weight.notna()\n",
        "valid.sum()"
      ]
    },
    {
      "cell_type": "markdown",
      "metadata": {
        "id": "OAfRPmdgMHxr"
      },
      "source": [
        "We can combine `valid` with the other Boolean `Series` we have computed to identify single, full term, live births with valid birth weights."
      ]
    },
    {
      "cell_type": "code",
      "execution_count": 87,
      "metadata": {
        "colab": {
          "base_uri": "https://localhost:8080/"
        },
        "id": "hy5vScPRMHxs",
        "outputId": "2b934677-4e75-456c-d24d-37dbbda31966"
      },
      "outputs": [
        {
          "output_type": "execute_result",
          "data": {
            "text/plain": [
              "np.int64(5648)"
            ]
          },
          "metadata": {},
          "execution_count": 87
        }
      ],
      "source": [
        "single = (nbrnaliv == 1)\n",
        "selected = valid & live & single & fullterm\n",
        "selected.sum()"
      ]
    },
    {
      "cell_type": "markdown",
      "metadata": {
        "id": "ys17vQ0dMHxs"
      },
      "source": [
        "You can finish off this computation as an exercise."
      ]
    },
    {
      "cell_type": "markdown",
      "metadata": {
        "id": "jPVD89vnMHxs"
      },
      "source": [
        "**Exercise:** Use `selected`, `birth_weight`, and `sampling_weight` to compute the weighted mean of birth weight for live, single, full term births.\n",
        "You should find that the weighted mean is a little higher than the unweighted mean we computed in the previous section.\n",
        "That's because the groups that are oversampled in the NSFG tend to have lighter babies, on average."
      ]
    },
    {
      "cell_type": "code",
      "execution_count": 114,
      "metadata": {
        "colab": {
          "base_uri": "https://localhost:8080/"
        },
        "id": "OiK9oIzIMHxs",
        "outputId": "4577a546-1271-4c73-ec86-61840c65422f"
      },
      "outputs": [
        {
          "output_type": "execute_result",
          "data": {
            "text/plain": [
              "np.float64(76050866.83807081)"
            ]
          },
          "metadata": {},
          "execution_count": 114
        }
      ],
      "source": [
        "# Solution goes here\n",
        "bw = birth_weight[selected]\n",
        "sw = sampling_weight[selected]\n",
        "molti = bw * sw\n",
        "\n"
      ]
    },
    {
      "cell_type": "code",
      "execution_count": 113,
      "metadata": {
        "colab": {
          "base_uri": "https://localhost:8080/"
        },
        "id": "hPGjj1N7MHxt",
        "outputId": "dc40c183-2aed-4130-c75f-1c9b95e24596"
      },
      "outputs": [
        {
          "output_type": "execute_result",
          "data": {
            "text/plain": [
              "np.float64(7.517442122371049)"
            ]
          },
          "metadata": {},
          "execution_count": 113
        }
      ],
      "source": [
        "# Solution goes here\n",
        "\n",
        "w_mean = molti.sum() / sw.sum()\n",
        "w_mean"
      ]
    },
    {
      "cell_type": "markdown",
      "metadata": {
        "id": "qftVy-JOMHxt"
      },
      "source": [
        "## Making an Extract\n",
        "\n",
        "The NSFG dataset is large, and reading a fixed-width file is relatively slow.\n",
        "So now that we've read it, let's save a smaller version in a more efficient format.\n",
        "When we come back to this dataset in Chapter 13, here are the columns we'll need."
      ]
    },
    {
      "cell_type": "code",
      "execution_count": 115,
      "metadata": {
        "id": "RLuO6xiTMHxt"
      },
      "outputs": [],
      "source": [
        "variables = ['CASEID', 'OUTCOME', 'BIRTHWGT_LB1', 'BIRTHWGT_OZ1',\n",
        "             'PRGLNGTH', 'NBRNALIV', 'AGECON', 'AGEPREG', 'BIRTHORD',\n",
        "             'HPAGELB', 'WGT2015_2017']"
      ]
    },
    {
      "cell_type": "markdown",
      "metadata": {
        "id": "tzU94FosMHxt"
      },
      "source": [
        "And here's how we can select just those columns from the `DataFrame`."
      ]
    },
    {
      "cell_type": "code",
      "execution_count": 116,
      "metadata": {
        "colab": {
          "base_uri": "https://localhost:8080/"
        },
        "id": "ZXoBHJyqMHxu",
        "outputId": "ae47eeea-eb75-4c13-c82f-82fe0fab77f1"
      },
      "outputs": [
        {
          "output_type": "execute_result",
          "data": {
            "text/plain": [
              "(9553, 11)"
            ]
          },
          "metadata": {},
          "execution_count": 116
        }
      ],
      "source": [
        "subset = nsfg[variables]\n",
        "subset.shape"
      ]
    },
    {
      "cell_type": "markdown",
      "metadata": {
        "id": "vAASmgsBMHxu"
      },
      "source": [
        "`DataFrame` provides several methods for writing data to a file -- the one we'll use is `to_hdf`, which creates an HDF file.\n",
        "The parameters are the name of the new file, the name of the object we're storing in the file, and the compression level, which determines how effectively the data are compressed."
      ]
    },
    {
      "cell_type": "code",
      "execution_count": 117,
      "metadata": {
        "id": "Bg8IhcGVMHxw"
      },
      "outputs": [],
      "source": [
        "filename = 'nsfg.hdf'\n",
        "subset.to_hdf(filename, key='nsfg', complevel=6)"
      ]
    },
    {
      "cell_type": "markdown",
      "metadata": {
        "id": "yP2GM71TMHxw"
      },
      "source": [
        "The result is much smaller than the original fixed-width file, and faster to read.\n",
        "We can read it back like this."
      ]
    },
    {
      "cell_type": "code",
      "execution_count": 118,
      "metadata": {
        "colab": {
          "base_uri": "https://localhost:8080/"
        },
        "id": "__h6oN6HMHxw",
        "outputId": "56bdbba6-17b9-4725-8de5-7ed0056f576c"
      },
      "outputs": [
        {
          "output_type": "execute_result",
          "data": {
            "text/plain": [
              "(9553, 11)"
            ]
          },
          "metadata": {},
          "execution_count": 118
        }
      ],
      "source": [
        "read_back = pd.read_hdf(filename, key='nsfg')\n",
        "read_back.shape"
      ]
    },
    {
      "cell_type": "markdown",
      "metadata": {
        "id": "8fMJmoQKMHxw"
      },
      "source": [
        "## Summary\n",
        "\n",
        "This chapter poses what seems like a simple question: what is the average birth weight of babies in the United States?\n",
        "\n",
        "To answer it, we found an appropriate dataset and downloaded the files.\n",
        "We used Pandas to read the files and create a `DataFrame`.\n",
        "Then we validated the data and dealt with special values and missing data.\n",
        "To explore the data, we used `value_counts`, `hist`, `describe`, and other methods.\n",
        "And to select relevant data, we used Boolean `Series` objects.\n",
        "\n",
        "Along the way, we had to think more about the question.\n",
        "What do we mean by \"average\", and which babies should we include?\n",
        "Should we include all live births or exclude preterm babies or multiple births?\n",
        "\n",
        "And we had to think about the sampling process.\n",
        "By design, the NSFG respondents are not representative of the U.S. population, but we can use sampling weights to correct for this effect.\n",
        "\n",
        "Even a simple question can be a challenging data science project.\n",
        "\n",
        "A note on vocabulary: In a dataset like the one we used in this chapter, we could say that each column represents a \"variable\", and what we called column names might also be called variable names.\n",
        "I avoided that use of the term because it might be confusing to say that we select a \"variable\" from a `DataFrame` and assign it to a Python variable.\n",
        "But you might see this use of the term elsewhere, so I thought I would mention it."
      ]
    },
    {
      "cell_type": "markdown",
      "metadata": {
        "tags": [],
        "id": "pyG3F0PbMHxw"
      },
      "source": [
        "*Elements of Data Science*\n",
        "\n",
        "Copyright 2021 [Allen B. Downey](https://allendowney.com)\n",
        "\n",
        "License: [Creative Commons Attribution-NonCommercial-ShareAlike 4.0 International](https://creativecommons.org/licenses/by-nc-sa/4.0/)"
      ]
    }
  ],
  "metadata": {
    "celltoolbar": "Tags",
    "kernelspec": {
      "display_name": "Python 3 (ipykernel)",
      "language": "python",
      "name": "python3"
    },
    "language_info": {
      "codemirror_mode": {
        "name": "ipython",
        "version": 3
      },
      "file_extension": ".py",
      "mimetype": "text/x-python",
      "name": "python",
      "nbconvert_exporter": "python",
      "pygments_lexer": "ipython3",
      "version": "3.10.14"
    },
    "colab": {
      "provenance": []
    }
  },
  "nbformat": 4,
  "nbformat_minor": 0
}