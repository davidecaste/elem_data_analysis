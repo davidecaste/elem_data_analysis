{
  "cells": [
    {
      "cell_type": "markdown",
      "metadata": {
        "id": "SZmzancqf1TE"
      },
      "source": [
        "Printed copies of *Elements of Data Science* are available now, with a **full color interior**, from [Lulu.com](https://www.lulu.com/shop/allen-downey/elements-of-data-science/paperback/product-9dyrwn.html)."
      ]
    },
    {
      "cell_type": "markdown",
      "metadata": {
        "id": "vk5p2dI9f1TG"
      },
      "source": [
        "# Dictionaries"
      ]
    },
    {
      "cell_type": "markdown",
      "metadata": {
        "tags": [],
        "id": "SAg9vRVuf1TH"
      },
      "source": [
        "[Click here to run this notebook on Colab](https://colab.research.google.com/github/AllenDowney/ElementsOfDataScience/blob/v1/05_dictionaries.ipynb) or\n",
        "[click here to download it](https://github.com/AllenDowney/ElementsOfDataScience/raw/v1/05_dictionaries.ipynb)."
      ]
    },
    {
      "cell_type": "code",
      "execution_count": 1,
      "metadata": {
        "tags": [],
        "id": "oWY3cVzIf1TI",
        "outputId": "752e951c-b8f7-455b-9de7-4976e13be994",
        "colab": {
          "base_uri": "https://localhost:8080/"
        }
      },
      "outputs": [
        {
          "output_type": "stream",
          "name": "stdout",
          "text": [
            "Downloaded utils.py\n"
          ]
        }
      ],
      "source": [
        "from os.path import basename, exists\n",
        "\n",
        "def download(url):\n",
        "    filename = basename(url)\n",
        "    if not exists(filename):\n",
        "        from urllib.request import urlretrieve\n",
        "\n",
        "        local, _ = urlretrieve(url, filename)\n",
        "        print(\"Downloaded \" + str(local))\n",
        "    return filename\n",
        "\n",
        "download('https://github.com/AllenDowney/ElementsOfDataScience/raw/v1/utils.py')\n",
        "\n",
        "import utils"
      ]
    },
    {
      "cell_type": "markdown",
      "metadata": {
        "id": "AXMZ151Kf1TJ"
      },
      "source": [
        "In the previous chapter we used a `for` loop to read a file and count the words.\n",
        "In this chapter we'll count the number of *unique* words and the number of times each one appears.\n",
        "To do that, we'll use one of Python's most useful features, a **dictionary**.\n",
        "\n",
        "You will also see how to select an element from a sequence (tuple, list, or array).  And you will learn a little about Unicode, which is used to represent letters, numbers, and punctuation for almost every language in the world."
      ]
    },
    {
      "cell_type": "markdown",
      "metadata": {
        "id": "47gudpzBf1TJ"
      },
      "source": [
        "## Indexing\n",
        "\n",
        "Suppose you have a variable named `t` that refers to a list or tuple.\n",
        "You can select an element using the **bracket operator**, `[]`.\n",
        "For example, here's a tuple of strings:"
      ]
    },
    {
      "cell_type": "code",
      "execution_count": 2,
      "metadata": {
        "id": "vyquft4gf1TK"
      },
      "outputs": [],
      "source": [
        "t = ('zero', 'one', 'two')"
      ]
    },
    {
      "cell_type": "markdown",
      "metadata": {
        "id": "g5wfMCEJf1TK"
      },
      "source": [
        "To select the first element, we put `0` in brackets:"
      ]
    },
    {
      "cell_type": "code",
      "execution_count": 3,
      "metadata": {
        "id": "8OpeVKTef1TL",
        "outputId": "12465477-a823-40db-ad6b-064e572a067c",
        "colab": {
          "base_uri": "https://localhost:8080/",
          "height": 34
        }
      },
      "outputs": [
        {
          "output_type": "execute_result",
          "data": {
            "text/plain": [
              "'zero'"
            ],
            "application/vnd.google.colaboratory.intrinsic+json": {
              "type": "string"
            }
          },
          "metadata": {},
          "execution_count": 3
        }
      ],
      "source": [
        "t[0]"
      ]
    },
    {
      "cell_type": "markdown",
      "metadata": {
        "id": "g2GX6Kbnf1TM"
      },
      "source": [
        "To select the second element, we put `1` in brackets:"
      ]
    },
    {
      "cell_type": "code",
      "execution_count": 4,
      "metadata": {
        "id": "a5-g4L0Gf1TN",
        "outputId": "e5ba7cc7-26d5-4d29-f341-811cd780a0d7",
        "colab": {
          "base_uri": "https://localhost:8080/",
          "height": 34
        }
      },
      "outputs": [
        {
          "output_type": "execute_result",
          "data": {
            "text/plain": [
              "'one'"
            ],
            "application/vnd.google.colaboratory.intrinsic+json": {
              "type": "string"
            }
          },
          "metadata": {},
          "execution_count": 4
        }
      ],
      "source": [
        "t[1]"
      ]
    },
    {
      "cell_type": "markdown",
      "metadata": {
        "id": "ReN30r1qf1TN"
      },
      "source": [
        "\n",
        "To select the third element, we put `2` in brackets:"
      ]
    },
    {
      "cell_type": "code",
      "execution_count": 5,
      "metadata": {
        "id": "L5PVkSAkf1TO",
        "outputId": "675c6b63-b3e6-43e2-a525-8b1730c10f6e",
        "colab": {
          "base_uri": "https://localhost:8080/",
          "height": 34
        }
      },
      "outputs": [
        {
          "output_type": "execute_result",
          "data": {
            "text/plain": [
              "'two'"
            ],
            "application/vnd.google.colaboratory.intrinsic+json": {
              "type": "string"
            }
          },
          "metadata": {},
          "execution_count": 5
        }
      ],
      "source": [
        "t[2]"
      ]
    },
    {
      "cell_type": "markdown",
      "metadata": {
        "id": "HvmeoXWnf1TO"
      },
      "source": [
        "The number in brackets is called an **index** because it indicates which element we want.\n",
        "Tuples and lists use zero-based numbering -- that is, the index of the first element is 0.  Some other programming languages use one-based numbering.\n",
        "\n",
        "The index in brackets can also be a variable:"
      ]
    },
    {
      "cell_type": "code",
      "execution_count": 6,
      "metadata": {
        "id": "CB-0joKtf1TO",
        "outputId": "c694aadb-e65f-40a6-99e6-f51ab5790b0d",
        "colab": {
          "base_uri": "https://localhost:8080/",
          "height": 34
        }
      },
      "outputs": [
        {
          "output_type": "execute_result",
          "data": {
            "text/plain": [
              "'one'"
            ],
            "application/vnd.google.colaboratory.intrinsic+json": {
              "type": "string"
            }
          },
          "metadata": {},
          "execution_count": 6
        }
      ],
      "source": [
        "i = 1\n",
        "t[i]"
      ]
    },
    {
      "cell_type": "markdown",
      "metadata": {
        "id": "fH2QK_Wzf1TP"
      },
      "source": [
        "Or an expression with variables, values, and operators:"
      ]
    },
    {
      "cell_type": "code",
      "execution_count": 7,
      "metadata": {
        "id": "HpK-A8Kbf1TP",
        "outputId": "5e195d1e-f07e-46a0-ab80-385c055262ba",
        "colab": {
          "base_uri": "https://localhost:8080/",
          "height": 34
        }
      },
      "outputs": [
        {
          "output_type": "execute_result",
          "data": {
            "text/plain": [
              "'two'"
            ],
            "application/vnd.google.colaboratory.intrinsic+json": {
              "type": "string"
            }
          },
          "metadata": {},
          "execution_count": 7
        }
      ],
      "source": [
        "t[i+1]"
      ]
    },
    {
      "cell_type": "markdown",
      "metadata": {
        "id": "gHCjYRpbf1TP"
      },
      "source": [
        "But if the index goes past the end of the sequence, you get an error."
      ]
    },
    {
      "cell_type": "code",
      "execution_count": 8,
      "metadata": {
        "tags": [],
        "id": "KcecfSMrf1TP",
        "outputId": "166bbe2d-f8f9-4b0f-bb71-e6ac6e4f5b0e",
        "colab": {
          "base_uri": "https://localhost:8080/",
          "height": 54
        }
      },
      "outputs": [
        {
          "output_type": "error",
          "ename": "IndexError",
          "evalue": "tuple index out of range",
          "traceback": [
            "\u001b[0;31mIndexError\u001b[0m\u001b[0;31m:\u001b[0m tuple index out of range\n"
          ]
        }
      ],
      "source": [
        "%%expect IndexError\n",
        "\n",
        "t[3]"
      ]
    },
    {
      "cell_type": "markdown",
      "metadata": {
        "id": "k2MNOVEpf1TP"
      },
      "source": [
        "Also, the index has to be an integer -- if it is any other type, you get an error."
      ]
    },
    {
      "cell_type": "code",
      "execution_count": 9,
      "metadata": {
        "tags": [],
        "id": "GHqI6KmHf1TP",
        "outputId": "37b81108-4720-46e4-e576-a3f4d31a2493",
        "colab": {
          "base_uri": "https://localhost:8080/",
          "height": 54
        }
      },
      "outputs": [
        {
          "output_type": "error",
          "ename": "TypeError",
          "evalue": "tuple indices must be integers or slices, not float",
          "traceback": [
            "\u001b[0;31mTypeError\u001b[0m\u001b[0;31m:\u001b[0m tuple indices must be integers or slices, not float\n"
          ]
        }
      ],
      "source": [
        "%%expect TypeError\n",
        "\n",
        "t[1.5]"
      ]
    },
    {
      "cell_type": "code",
      "execution_count": 10,
      "metadata": {
        "tags": [],
        "id": "mzHcB0pwf1TP",
        "outputId": "107f1542-6050-449f-d13e-911362b94bcb",
        "colab": {
          "base_uri": "https://localhost:8080/",
          "height": 54
        }
      },
      "outputs": [
        {
          "output_type": "error",
          "ename": "TypeError",
          "evalue": "tuple indices must be integers or slices, not str",
          "traceback": [
            "\u001b[0;31mTypeError\u001b[0m\u001b[0;31m:\u001b[0m tuple indices must be integers or slices, not str\n"
          ]
        }
      ],
      "source": [
        "%%expect TypeError\n",
        "\n",
        "t['1']"
      ]
    },
    {
      "cell_type": "markdown",
      "metadata": {
        "id": "HdsALRpTf1TP"
      },
      "source": [
        "**Exercise:** You can use negative integers as indices.  Try using `-1` and `-2` as indices, and see if you can figure out what they do."
      ]
    },
    {
      "cell_type": "code",
      "execution_count": 11,
      "metadata": {
        "id": "oeJh_LjBf1TQ",
        "outputId": "d71a5798-9651-43cb-c335-bc874bbd5a6e",
        "colab": {
          "base_uri": "https://localhost:8080/"
        }
      },
      "outputs": [
        {
          "output_type": "execute_result",
          "data": {
            "text/plain": [
              "('two', 'one')"
            ]
          },
          "metadata": {},
          "execution_count": 11
        }
      ],
      "source": [
        "# Solution goes here\n",
        "\n",
        "t[-1], t[-2]"
      ]
    },
    {
      "cell_type": "code",
      "execution_count": null,
      "metadata": {
        "id": "W46SQamWf1TQ"
      },
      "outputs": [],
      "source": [
        "# Solution goes here"
      ]
    },
    {
      "cell_type": "markdown",
      "metadata": {
        "id": "l6RZpNH-f1TR"
      },
      "source": [
        "## Dictionaries\n",
        "\n",
        "A dictionary is similar to a tuple or list, but in a dictionary, the index can be almost any type, not just an integer.\n",
        "We can create an empty dictionary like this:"
      ]
    },
    {
      "cell_type": "code",
      "execution_count": 12,
      "metadata": {
        "id": "CPOqshhRf1TR"
      },
      "outputs": [],
      "source": [
        "d = {}"
      ]
    },
    {
      "cell_type": "markdown",
      "metadata": {
        "id": "x2ZFUIWuf1TS"
      },
      "source": [
        "Then we can add elements like this:"
      ]
    },
    {
      "cell_type": "code",
      "execution_count": 13,
      "metadata": {
        "id": "OTS5syA0f1TS"
      },
      "outputs": [],
      "source": [
        "d['one'] = 1\n",
        "d['two'] = 2"
      ]
    },
    {
      "cell_type": "markdown",
      "metadata": {
        "id": "X3dWktzEf1TS"
      },
      "source": [
        "In this example, the indices are the strings, `'one'` and `'two'`.\n",
        "If you display the dictionary, it shows each index and the corresponding value."
      ]
    },
    {
      "cell_type": "code",
      "execution_count": 14,
      "metadata": {
        "id": "IrzbzmElf1TS",
        "outputId": "28951e06-c914-4e7b-d482-31a9dbca1503",
        "colab": {
          "base_uri": "https://localhost:8080/"
        }
      },
      "outputs": [
        {
          "output_type": "execute_result",
          "data": {
            "text/plain": [
              "{'one': 1, 'two': 2}"
            ]
          },
          "metadata": {},
          "execution_count": 14
        }
      ],
      "source": [
        "d"
      ]
    },
    {
      "cell_type": "markdown",
      "metadata": {
        "id": "_jBCkgKlf1TU"
      },
      "source": [
        "Instead of creating an empty dictionary and then adding elements, you can create a dictionary and specify the elements at the same time:"
      ]
    },
    {
      "cell_type": "code",
      "execution_count": 15,
      "metadata": {
        "id": "5u8D6Brzf1TU",
        "outputId": "1f590267-e270-435f-fc7c-f61d9faa10d6",
        "colab": {
          "base_uri": "https://localhost:8080/"
        }
      },
      "outputs": [
        {
          "output_type": "execute_result",
          "data": {
            "text/plain": [
              "{'one': 1, 'two': 2, 'three': 3}"
            ]
          },
          "metadata": {},
          "execution_count": 15
        }
      ],
      "source": [
        "d = {'one': 1, 'two': 2, 'three': 3}\n",
        "d"
      ]
    },
    {
      "cell_type": "markdown",
      "metadata": {
        "id": "3ThzZVY7f1TU"
      },
      "source": [
        "When we are talking about dictionaries, an index is usually called a **key**.  In this example, the keys are strings and the corresponding values are integers.\n",
        "A dictionary is also called a **map**, because it represents a correspondence or \"mapping\", between keys and values.\n",
        "So we might say that this dictionary maps from English number names to the corresponding integers.\n",
        "\n",
        "You can use the bracket operator to select an element from a dictionary, like this:"
      ]
    },
    {
      "cell_type": "code",
      "execution_count": 16,
      "metadata": {
        "id": "XWrXLMLcf1TV",
        "outputId": "e4e65f39-f7ad-4e50-824a-2d0b444e9930",
        "colab": {
          "base_uri": "https://localhost:8080/"
        }
      },
      "outputs": [
        {
          "output_type": "execute_result",
          "data": {
            "text/plain": [
              "2"
            ]
          },
          "metadata": {},
          "execution_count": 16
        }
      ],
      "source": [
        "d['two']"
      ]
    },
    {
      "cell_type": "markdown",
      "metadata": {
        "id": "SJ4xdbMof1TV"
      },
      "source": [
        "But don't forget the quotation marks.\n",
        "Without them, Python looks for a variable named `two` and doesn't find one."
      ]
    },
    {
      "cell_type": "code",
      "execution_count": 17,
      "metadata": {
        "tags": [],
        "id": "DO-FAu5Uf1TV",
        "outputId": "58b9ce58-f383-4643-ae25-93d554d34e44",
        "colab": {
          "base_uri": "https://localhost:8080/",
          "height": 54
        }
      },
      "outputs": [
        {
          "output_type": "error",
          "ename": "NameError",
          "evalue": "name 'two' is not defined",
          "traceback": [
            "\u001b[0;31mNameError\u001b[0m\u001b[0;31m:\u001b[0m name 'two' is not defined\n"
          ]
        }
      ],
      "source": [
        "%%expect NameError\n",
        "\n",
        "d[two]"
      ]
    },
    {
      "cell_type": "markdown",
      "metadata": {
        "id": "kLP82UVef1TV"
      },
      "source": [
        "To check whether a particular key is in a dictionary, you can use the `in` operator:"
      ]
    },
    {
      "cell_type": "code",
      "execution_count": 20,
      "metadata": {
        "id": "a5eUhC6vf1TV",
        "outputId": "67253811-8356-4c56-d49b-f051b32c252c",
        "colab": {
          "base_uri": "https://localhost:8080/"
        }
      },
      "outputs": [
        {
          "output_type": "execute_result",
          "data": {
            "text/plain": [
              "True"
            ]
          },
          "metadata": {},
          "execution_count": 20
        }
      ],
      "source": [
        "'one' in d"
      ]
    },
    {
      "cell_type": "code",
      "execution_count": 21,
      "metadata": {
        "id": "oLfIWxqFf1TW",
        "outputId": "feeff06b-2778-4342-f0a3-5323b4f8b3de",
        "colab": {
          "base_uri": "https://localhost:8080/"
        }
      },
      "outputs": [
        {
          "output_type": "execute_result",
          "data": {
            "text/plain": [
              "False"
            ]
          },
          "metadata": {},
          "execution_count": 21
        }
      ],
      "source": [
        "'zero' in d"
      ]
    },
    {
      "cell_type": "markdown",
      "metadata": {
        "id": "D95du99-f1TW"
      },
      "source": [
        "Because the word `in` is an operator in Python, you can't use it as a variable name."
      ]
    },
    {
      "cell_type": "code",
      "execution_count": 22,
      "metadata": {
        "tags": [],
        "id": "SXKXmJ-uf1TX",
        "outputId": "13961044-454a-4836-bb06-8c017304abfc",
        "colab": {
          "base_uri": "https://localhost:8080/",
          "height": 106
        }
      },
      "outputs": [
        {
          "output_type": "error",
          "ename": "SyntaxError",
          "evalue": "invalid syntax (<ipython-input-22-0e0c90d245a5>, line 1)",
          "traceback": [
            "\u001b[0;36m  File \u001b[0;32m\"<ipython-input-22-0e0c90d245a5>\"\u001b[0;36m, line \u001b[0;32m1\u001b[0m\n\u001b[0;31m    in = 5\u001b[0m\n\u001b[0m    ^\u001b[0m\n\u001b[0;31mSyntaxError\u001b[0m\u001b[0;31m:\u001b[0m invalid syntax\n"
          ]
        }
      ],
      "source": [
        "%%expect SyntaxError\n",
        "\n",
        "in = 5"
      ]
    },
    {
      "cell_type": "markdown",
      "metadata": {
        "id": "9b5x52Icf1TX"
      },
      "source": [
        "Each key in a dictionary can only appear once.\n",
        "Adding the same key again has no effect:"
      ]
    },
    {
      "cell_type": "code",
      "execution_count": 23,
      "metadata": {
        "tags": [],
        "id": "dPktiyv7f1TX",
        "outputId": "719d7346-157a-4670-9fab-b52b30b1afa7",
        "colab": {
          "base_uri": "https://localhost:8080/"
        }
      },
      "outputs": [
        {
          "output_type": "execute_result",
          "data": {
            "text/plain": [
              "{'one': 1, 'two': 2, 'three': 3}"
            ]
          },
          "metadata": {},
          "execution_count": 23
        }
      ],
      "source": [
        "d"
      ]
    },
    {
      "cell_type": "code",
      "execution_count": 24,
      "metadata": {
        "id": "nLLej_CCf1TX",
        "outputId": "5bb71622-25da-4e00-b8e3-48a7f560270f",
        "colab": {
          "base_uri": "https://localhost:8080/"
        }
      },
      "outputs": [
        {
          "output_type": "execute_result",
          "data": {
            "text/plain": [
              "{'one': 1, 'two': 2, 'three': 3}"
            ]
          },
          "metadata": {},
          "execution_count": 24
        }
      ],
      "source": [
        "d['one'] = 1\n",
        "d"
      ]
    },
    {
      "cell_type": "markdown",
      "metadata": {
        "id": "GPnNCbfmf1TY"
      },
      "source": [
        "But you can change the value associated with a key:"
      ]
    },
    {
      "cell_type": "code",
      "execution_count": 25,
      "metadata": {
        "id": "eUL6VEUqf1TY",
        "outputId": "3f9f5b27-7fc7-4641-f6c0-255066455e12",
        "colab": {
          "base_uri": "https://localhost:8080/"
        }
      },
      "outputs": [
        {
          "output_type": "execute_result",
          "data": {
            "text/plain": [
              "{'one': 100, 'two': 2, 'three': 3}"
            ]
          },
          "metadata": {},
          "execution_count": 25
        }
      ],
      "source": [
        "d['one'] = 100\n",
        "d"
      ]
    },
    {
      "cell_type": "markdown",
      "metadata": {
        "id": "GlVTI6WQf1TZ"
      },
      "source": [
        "You can loop through the keys in a dictionary like this:"
      ]
    },
    {
      "cell_type": "code",
      "execution_count": 26,
      "metadata": {
        "id": "FMRQi6J5f1TZ",
        "outputId": "35c9c5de-2e84-455a-905a-f2344d6b88b8",
        "colab": {
          "base_uri": "https://localhost:8080/"
        }
      },
      "outputs": [
        {
          "output_type": "stream",
          "name": "stdout",
          "text": [
            "one\n",
            "two\n",
            "three\n"
          ]
        }
      ],
      "source": [
        "for key in d:\n",
        "    print(key)"
      ]
    },
    {
      "cell_type": "markdown",
      "metadata": {
        "id": "zoOPyshrf1Ta"
      },
      "source": [
        "If you want the keys and the values, one way to get them is to loop through the keys and look up the values:"
      ]
    },
    {
      "cell_type": "code",
      "execution_count": 27,
      "metadata": {
        "id": "wFRad88zf1Ta",
        "outputId": "cbdf45e4-87d1-4bfe-a9e0-3dfb4cb7f8c5",
        "colab": {
          "base_uri": "https://localhost:8080/"
        }
      },
      "outputs": [
        {
          "output_type": "stream",
          "name": "stdout",
          "text": [
            "one 100\n",
            "two 2\n",
            "three 3\n"
          ]
        }
      ],
      "source": [
        "for key in d:\n",
        "    print(key, d[key])"
      ]
    },
    {
      "cell_type": "markdown",
      "metadata": {
        "id": "pmCyhEb5f1Ta"
      },
      "source": [
        "Or you can loop through both at the same time, like this:"
      ]
    },
    {
      "cell_type": "code",
      "execution_count": 28,
      "metadata": {
        "id": "iwEXtIjUf1Ta",
        "outputId": "d758ebc9-3297-4daa-f63d-1e07f0e71557",
        "colab": {
          "base_uri": "https://localhost:8080/"
        }
      },
      "outputs": [
        {
          "output_type": "stream",
          "name": "stdout",
          "text": [
            "one 100\n",
            "two 2\n",
            "three 3\n"
          ]
        }
      ],
      "source": [
        "for key, value in d.items():\n",
        "    print(key, value)"
      ]
    },
    {
      "cell_type": "markdown",
      "metadata": {
        "id": "C2k2mqz7f1Tb"
      },
      "source": [
        "The `items` method loops through the key-value pairs in the dictionary.\n",
        "Each time through the loop, they are assigned to `key` and `value`."
      ]
    },
    {
      "cell_type": "markdown",
      "metadata": {
        "id": "kLbMjE5yf1Tb"
      },
      "source": [
        "**Exercise:** Make a dictionary with the integers `1`, `2`, and `3` as keys and strings as values.  The strings should be the words \"one\", \"two\", and \"three\" or their equivalents in any language you know.\n",
        "\n",
        "Write a loop that prints just the values from the dictionary."
      ]
    },
    {
      "cell_type": "code",
      "execution_count": 30,
      "metadata": {
        "id": "gkmCydduf1Tb"
      },
      "outputs": [],
      "source": [
        "# Solution goes here\n",
        "d={}\n",
        "word = ['one', 'two', 'three']\n",
        "for index in range(3):\n",
        "    d[index + 1] = word[index]"
      ]
    },
    {
      "cell_type": "code",
      "execution_count": 31,
      "metadata": {
        "id": "5AhI8_Ezf1Tb",
        "outputId": "d033f5fc-f577-422e-de07-d5a2297fc707",
        "colab": {
          "base_uri": "https://localhost:8080/"
        }
      },
      "outputs": [
        {
          "output_type": "stream",
          "name": "stdout",
          "text": [
            "one\n",
            "two\n",
            "three\n"
          ]
        }
      ],
      "source": [
        "# Solution goes here\n",
        "\n",
        "for key in d:\n",
        "   print(d[key])"
      ]
    },
    {
      "cell_type": "code",
      "execution_count": null,
      "metadata": {
        "id": "BfPo5rnKf1Tb"
      },
      "outputs": [],
      "source": [
        "# Solution goes here"
      ]
    },
    {
      "cell_type": "markdown",
      "metadata": {
        "id": "mDsjLEFxf1Tb"
      },
      "source": [
        "## Counting Unique Words\n",
        "\n",
        "In the previous chapter we downloaded *War and Peace* from Project Gutenberg and counted the number of lines and words.\n",
        "Now that we have dictionaries, we can also count the number of unique words and the number of times each one appears."
      ]
    },
    {
      "cell_type": "markdown",
      "metadata": {
        "tags": [],
        "id": "KcFs-fMyf1Tc"
      },
      "source": [
        "When you run the following cell, it checks to see whether you already have a file named `2600-0.txt`, which is the name of the file that contains the text of *War and Peace*.\n",
        "If not, it copies the file to your computer.\n",
        "The file is [originally from Project Gutenberg](https://www.gutenberg.org/files/2600/2600-0.txt), but I put a slightly cleaned up version of it in the repository for this book."
      ]
    },
    {
      "cell_type": "code",
      "execution_count": 32,
      "metadata": {
        "tags": [],
        "id": "6qUc5XR9f1Tc",
        "outputId": "ede9aac2-3370-4f37-aad0-8d31d66476b8",
        "colab": {
          "base_uri": "https://localhost:8080/"
        }
      },
      "outputs": [
        {
          "output_type": "stream",
          "name": "stdout",
          "text": [
            "Downloaded 2600-0.txt\n"
          ]
        }
      ],
      "source": [
        "download('https://github.com/AllenDowney/ElementsOfDataScience/raw/v1/data/2600-0.txt');"
      ]
    },
    {
      "cell_type": "markdown",
      "metadata": {
        "id": "ie9i1wRhf1Tc"
      },
      "source": [
        "As we did in the previous chapter, we can read the text of *War and Peace* and count the number of words."
      ]
    },
    {
      "cell_type": "code",
      "execution_count": 33,
      "metadata": {
        "id": "Zujdm1dpf1Td",
        "outputId": "b343d03c-28e6-4c72-8d74-18f563c8730d",
        "colab": {
          "base_uri": "https://localhost:8080/"
        }
      },
      "outputs": [
        {
          "output_type": "execute_result",
          "data": {
            "text/plain": [
              "566316"
            ]
          },
          "metadata": {},
          "execution_count": 33
        }
      ],
      "source": [
        "fp = open('2600-0.txt')\n",
        "count = 0\n",
        "for line in fp:\n",
        "    count += len(line.split())\n",
        "\n",
        "count"
      ]
    },
    {
      "cell_type": "markdown",
      "metadata": {
        "id": "6jy8lbZaf1Td"
      },
      "source": [
        "To count the number of unique words, we'll loop through the words in each line and add them as keys in a dictionary:"
      ]
    },
    {
      "cell_type": "code",
      "execution_count": 34,
      "metadata": {
        "id": "Bllz5Yd7f1Te"
      },
      "outputs": [],
      "source": [
        "fp = open('2600-0.txt')\n",
        "unique_words = {}\n",
        "for line in fp:\n",
        "    for word in line.split():\n",
        "        unique_words[word] = 1"
      ]
    },
    {
      "cell_type": "markdown",
      "metadata": {
        "id": "oMdoZO7hf1Te"
      },
      "source": [
        "This is the first example we've seen with one loop **nested** inside another.\n",
        "\n",
        "* The outer loop runs through the lines in the file.\n",
        "\n",
        "* The inner loops runs through the words in each line.\n",
        "\n",
        "Each time through the inner loop, we add a word as a key in the dictionary, with the value `1`.\n",
        "If a word that is already in the dictionary appears again, adding it to the dictionary again has no effect.\n",
        "So the dictionary gets only one copy of each unique word in the file.\n",
        "At the end of the loop, we can display the first eight keys like this."
      ]
    },
    {
      "cell_type": "code",
      "execution_count": 35,
      "metadata": {
        "id": "niiCRQVXf1Tf",
        "outputId": "47330187-9bce-467b-9d8b-3075d8e8e857",
        "colab": {
          "base_uri": "https://localhost:8080/"
        }
      },
      "outputs": [
        {
          "output_type": "execute_result",
          "data": {
            "text/plain": [
              "['The', 'Project', 'Gutenberg', 'EBook', 'of', 'War', 'and', 'Peace,']"
            ]
          },
          "metadata": {},
          "execution_count": 35
        }
      ],
      "source": [
        "list(unique_words)[:8]"
      ]
    },
    {
      "cell_type": "markdown",
      "metadata": {
        "id": "memKPpNRf1Tl"
      },
      "source": [
        "The `list` function puts the keys from the dictionary in a list.\n",
        "In the bracket operator, `:8` is a special index called a *slice* that selects the first eight elements.\n",
        "\n",
        "Each word only appears once, so the number of keys is the number of unique words."
      ]
    },
    {
      "cell_type": "code",
      "execution_count": 36,
      "metadata": {
        "id": "bp1t0fOOf1Tm",
        "outputId": "dba520e2-dbc4-4afe-ede8-53e0025fe716",
        "colab": {
          "base_uri": "https://localhost:8080/"
        }
      },
      "outputs": [
        {
          "output_type": "execute_result",
          "data": {
            "text/plain": [
              "41990"
            ]
          },
          "metadata": {},
          "execution_count": 36
        }
      ],
      "source": [
        "len(unique_words)"
      ]
    },
    {
      "cell_type": "markdown",
      "metadata": {
        "id": "JBMoNKwyf1Tm"
      },
      "source": [
        "There are about 42,000 different words in the book, which is substantially less than the total number of words, about 560,000.\n",
        "But this count is not correct yet, because we have not taken into account capitalization and punctuation."
      ]
    },
    {
      "cell_type": "markdown",
      "metadata": {
        "id": "mcsZWbV7f1Tm"
      },
      "source": [
        "**Exercise:** Before we deal with those problems, let's practice with nested loops -- that is, one loop inside another.\n",
        "Suppose you have a list of words, like this:"
      ]
    },
    {
      "cell_type": "code",
      "execution_count": 37,
      "metadata": {
        "id": "lol_cG8cf1Tm"
      },
      "outputs": [],
      "source": [
        "line = ['War', 'and', 'Peace']"
      ]
    },
    {
      "cell_type": "markdown",
      "metadata": {
        "id": "3sZQ9yp9f1Tn"
      },
      "source": [
        "Write a nested loop that iterates through each word in the list, and each letter in each word, and prints the letters on separate lines."
      ]
    },
    {
      "cell_type": "code",
      "execution_count": 45,
      "metadata": {
        "id": "5AMh0IOyf1Tn",
        "outputId": "691981ec-5af2-4fad-a77a-acbfac20bdc7",
        "colab": {
          "base_uri": "https://localhost:8080/"
        }
      },
      "outputs": [
        {
          "output_type": "stream",
          "name": "stdout",
          "text": [
            "W, a, r\n",
            "a, n, d\n",
            "P, e, a, c, e\n"
          ]
        }
      ],
      "source": [
        "# Solution goes here\n",
        "for word in line:\n",
        "    string = ''\n",
        "    for letter in word:\n",
        "        string = string + letter + ', '\n",
        "    print(string[:-2])"
      ]
    },
    {
      "cell_type": "markdown",
      "metadata": {
        "id": "d2w1ThT4f1Tn"
      },
      "source": [
        "## Dealing with Capitalization\n",
        "\n",
        "When we count unique words, we probably want to treat `The` and `the` as the same word.  We can do that by converting all words to lower case, using the `lower` function:"
      ]
    },
    {
      "cell_type": "code",
      "execution_count": 46,
      "metadata": {
        "id": "MFBgIjuMf1To",
        "outputId": "3869cffe-81a9-4e62-f200-1f5c5e2d02c5",
        "colab": {
          "base_uri": "https://localhost:8080/",
          "height": 34
        }
      },
      "outputs": [
        {
          "output_type": "execute_result",
          "data": {
            "text/plain": [
              "'the'"
            ],
            "application/vnd.google.colaboratory.intrinsic+json": {
              "type": "string"
            }
          },
          "metadata": {},
          "execution_count": 46
        }
      ],
      "source": [
        "word = 'The'\n",
        "word.lower()"
      ]
    },
    {
      "cell_type": "markdown",
      "metadata": {
        "id": "DJYeTnZBf1To"
      },
      "source": [
        "`lower` creates a new string; it does not modify the original string.  "
      ]
    },
    {
      "cell_type": "code",
      "execution_count": 47,
      "metadata": {
        "id": "CcGk553nf1To",
        "outputId": "22a792c7-f05f-4bd1-b22f-6fdd2ac2ad40",
        "colab": {
          "base_uri": "https://localhost:8080/",
          "height": 34
        }
      },
      "outputs": [
        {
          "output_type": "execute_result",
          "data": {
            "text/plain": [
              "'The'"
            ],
            "application/vnd.google.colaboratory.intrinsic+json": {
              "type": "string"
            }
          },
          "metadata": {},
          "execution_count": 47
        }
      ],
      "source": [
        "word"
      ]
    },
    {
      "cell_type": "markdown",
      "metadata": {
        "id": "wKQnURiEf1To"
      },
      "source": [
        "However, you can assign the new string back to the existing variable, like this:"
      ]
    },
    {
      "cell_type": "code",
      "execution_count": 48,
      "metadata": {
        "id": "6bxF5zOAf1To"
      },
      "outputs": [],
      "source": [
        "word = word.lower()"
      ]
    },
    {
      "cell_type": "markdown",
      "metadata": {
        "id": "QPZqHyvmf1Tp"
      },
      "source": [
        "Now if we can display the new value of `word`, we get the lowercase version:"
      ]
    },
    {
      "cell_type": "code",
      "execution_count": 49,
      "metadata": {
        "id": "6ud0ulgNf1Tp",
        "outputId": "341a56b4-9b60-4119-c253-b0d6f1d46d6e",
        "colab": {
          "base_uri": "https://localhost:8080/",
          "height": 34
        }
      },
      "outputs": [
        {
          "output_type": "execute_result",
          "data": {
            "text/plain": [
              "'the'"
            ],
            "application/vnd.google.colaboratory.intrinsic+json": {
              "type": "string"
            }
          },
          "metadata": {},
          "execution_count": 49
        }
      ],
      "source": [
        "word"
      ]
    },
    {
      "cell_type": "markdown",
      "metadata": {
        "id": "4IJWSM0hf1Tp"
      },
      "source": [
        "**Exercise:** Modify the previous loop so it makes a lowercase version of each word before adding it to the dictionary.  How many unique words are there, if we ignore the difference between uppercase and lowercase?"
      ]
    },
    {
      "cell_type": "code",
      "execution_count": 51,
      "metadata": {
        "id": "fyVGfIU8f1Tq",
        "outputId": "610caadf-ecd9-4448-af47-2cdf2b124676",
        "colab": {
          "base_uri": "https://localhost:8080/"
        }
      },
      "outputs": [
        {
          "output_type": "execute_result",
          "data": {
            "text/plain": [
              "40130"
            ]
          },
          "metadata": {},
          "execution_count": 51
        }
      ],
      "source": [
        "# Solution goes here\n",
        "\n",
        "fp = open('2600-0.txt')\n",
        "unique_words = {}\n",
        "for line in fp:\n",
        "    for word in line.split():\n",
        "        unique_words[word.lower()] = 1\n",
        "\n",
        "len(unique_words)\n"
      ]
    },
    {
      "cell_type": "markdown",
      "metadata": {
        "id": "bmE1XOhTf1Tq"
      },
      "source": [
        "## Removing Punctuation\n",
        "\n",
        "To remove punctuation from the words, we can use `strip`, which removes characters from the beginning and end of a string.\n",
        "Here's an example:"
      ]
    },
    {
      "cell_type": "code",
      "execution_count": 52,
      "metadata": {
        "id": "IpQwD3Yof1Tq",
        "outputId": "c92716bf-80fc-4b62-cd14-3a4c8e7b5386",
        "colab": {
          "base_uri": "https://localhost:8080/",
          "height": 34
        }
      },
      "outputs": [
        {
          "output_type": "execute_result",
          "data": {
            "text/plain": [
              "'racadabr'"
            ],
            "application/vnd.google.colaboratory.intrinsic+json": {
              "type": "string"
            }
          },
          "metadata": {},
          "execution_count": 52
        }
      ],
      "source": [
        "word = 'abracadabra'\n",
        "word.strip('ab')"
      ]
    },
    {
      "cell_type": "markdown",
      "metadata": {
        "id": "5iR5yF4Ff1Tq"
      },
      "source": [
        "In this example, `strip` removes all instances of `a` and `b` from the beginning and end of the word, but not from the middle.\n",
        "Like `lower`, this function makes a new word -- it doesn't modify the original:"
      ]
    },
    {
      "cell_type": "code",
      "execution_count": 53,
      "metadata": {
        "id": "0n2kr7QHf1Tq",
        "outputId": "002b2f05-17d0-4852-85fb-c2f6e5d5dead",
        "colab": {
          "base_uri": "https://localhost:8080/",
          "height": 34
        }
      },
      "outputs": [
        {
          "output_type": "execute_result",
          "data": {
            "text/plain": [
              "'abracadabra'"
            ],
            "application/vnd.google.colaboratory.intrinsic+json": {
              "type": "string"
            }
          },
          "metadata": {},
          "execution_count": 53
        }
      ],
      "source": [
        "word"
      ]
    },
    {
      "cell_type": "markdown",
      "metadata": {
        "id": "wkTWdB_9f1Tr"
      },
      "source": [
        "To remove punctuation, we can use the `string` library, which provides a variable named `punctuation`."
      ]
    },
    {
      "cell_type": "code",
      "execution_count": 54,
      "metadata": {
        "id": "1uSSFd4cf1Tr",
        "outputId": "0f24c618-72a3-4b85-ebfd-1a6a5f417511",
        "colab": {
          "base_uri": "https://localhost:8080/",
          "height": 34
        }
      },
      "outputs": [
        {
          "output_type": "execute_result",
          "data": {
            "text/plain": [
              "'!\"#$%&\\'()*+,-./:;<=>?@[\\\\]^_`{|}~'"
            ],
            "application/vnd.google.colaboratory.intrinsic+json": {
              "type": "string"
            }
          },
          "metadata": {},
          "execution_count": 54
        }
      ],
      "source": [
        "import string\n",
        "\n",
        "string.punctuation"
      ]
    },
    {
      "cell_type": "markdown",
      "metadata": {
        "id": "rJubr62Uf1Tr"
      },
      "source": [
        "`string.punctuation` contains the most common punctuation marks, but as we'll see, not all of them.\n",
        "Nevertheless, we can use it to handle most cases.  Here's an example:"
      ]
    },
    {
      "cell_type": "code",
      "execution_count": 55,
      "metadata": {
        "id": "J0S6WxOsf1Ts",
        "outputId": "40d1b562-7e48-4207-fdd2-68ad6acdb469",
        "colab": {
          "base_uri": "https://localhost:8080/"
        }
      },
      "outputs": [
        {
          "output_type": "stream",
          "name": "stdout",
          "text": [
            "It's\n",
            "not\n",
            "given\n",
            "to\n",
            "people\n",
            "to\n",
            "judge\n",
            "what's\n",
            "right\n",
            "or\n",
            "wrong\n"
          ]
        }
      ],
      "source": [
        "line = \"It's not given to people to judge what's right or wrong.\"\n",
        "\n",
        "for word in line.split():\n",
        "    word = word.strip(string.punctuation)\n",
        "    print(word)"
      ]
    },
    {
      "cell_type": "markdown",
      "metadata": {
        "id": "hkktJRr3f1Ts"
      },
      "source": [
        "`strip` removes the period at the end of `wrong`, but not the apostrophes in `It's`, `don't` and `what's`.\n",
        "That's good, because we want to treat an apostrophe as part of a word.\n",
        "But we have one more problem to solve.\n",
        "Here's another line from the book."
      ]
    },
    {
      "cell_type": "code",
      "execution_count": 56,
      "metadata": {
        "id": "eLteDP3xf1Ts"
      },
      "outputs": [],
      "source": [
        "line = 'anyone, and so you don’t deserve to have them.”'"
      ]
    },
    {
      "cell_type": "markdown",
      "metadata": {
        "id": "4ljTkhr2f1Ts"
      },
      "source": [
        "Here's what happens when we try to remove the punctuation."
      ]
    },
    {
      "cell_type": "code",
      "execution_count": 57,
      "metadata": {
        "id": "U8vsQBwkf1Tt",
        "outputId": "dfb6688c-cac7-4745-d043-a395ac836250",
        "colab": {
          "base_uri": "https://localhost:8080/"
        }
      },
      "outputs": [
        {
          "output_type": "stream",
          "name": "stdout",
          "text": [
            "anyone\n",
            "and\n",
            "so\n",
            "you\n",
            "don’t\n",
            "deserve\n",
            "to\n",
            "have\n",
            "them.”\n"
          ]
        }
      ],
      "source": [
        "for word in line.split():\n",
        "    word = word.strip(string.punctuation)\n",
        "    print(word)"
      ]
    },
    {
      "cell_type": "markdown",
      "metadata": {
        "id": "vwUVhP1Sf1Tt"
      },
      "source": [
        "The comma after `anyone` is removed, but not the quotation mark at the end of the last word.\n",
        "The problem is that this kind of quotation mark is not in `string.punctuation`, so `strip` doesn't remove it.\n",
        "To fix this problem, we'll use the following loop, which\n",
        "\n",
        "1. Reads the file and builds a dictionary that contains all punctuation marks that appear in the book, then\n",
        "\n",
        "2. It uses the `join` function to concatenate the keys of the dictionary in a single string.\n",
        "\n",
        "You don't have to understand everything about how it works, but I suggest you read it and see how much you can figure out."
      ]
    },
    {
      "cell_type": "code",
      "execution_count": 58,
      "metadata": {
        "id": "aKa_d9QYf1Tt",
        "outputId": "82cca75c-b8d5-4a7d-8ff5-d8d1f72be248",
        "colab": {
          "base_uri": "https://localhost:8080/"
        }
      },
      "outputs": [
        {
          "output_type": "stream",
          "name": "stdout",
          "text": [
            ",.-:[#]*/“’—‘!?”;()%@\n"
          ]
        }
      ],
      "source": [
        "import unicodedata\n",
        "\n",
        "fp = open('2600-0.txt')\n",
        "punc_marks = {}\n",
        "for line in fp:\n",
        "    for x in line:\n",
        "        category = unicodedata.category(x)\n",
        "        if category[0] == 'P':\n",
        "            punc_marks[x] = 1\n",
        "\n",
        "all_punctuation = ''.join(punc_marks)\n",
        "print(all_punctuation)"
      ]
    },
    {
      "cell_type": "markdown",
      "metadata": {
        "id": "CXBJbpR1f1Tu"
      },
      "source": [
        "The result is a string containing all of the punctuation characters that appear in the document, in the order they first appear."
      ]
    },
    {
      "cell_type": "markdown",
      "metadata": {
        "id": "ASCC5mlQf1Tv"
      },
      "source": [
        "**Exercise:** Modify the word-counting loop from the previous section to convert words to lower case *and* strip punctuation before adding them to the dictionary.  Now how many unique words are there?"
      ]
    },
    {
      "cell_type": "markdown",
      "metadata": {
        "tags": [],
        "id": "_bRJwm8of1Tv"
      },
      "source": [
        "To get you started, here's the code from the previous chapter that skips over the front matter at the beginning and the license at the end, as we did in the previous chapter."
      ]
    },
    {
      "cell_type": "code",
      "execution_count": 59,
      "metadata": {
        "tags": [],
        "id": "uD9Jz45xf1Tw"
      },
      "outputs": [],
      "source": [
        "fp = open('2600-0.txt')\n",
        "for line in fp:\n",
        "    if line.startswith('***'):\n",
        "        break\n",
        "\n",
        "count = 0\n",
        "for line in fp:\n",
        "    if line.startswith('***'):\n",
        "        break\n",
        "    count += len(line.split())"
      ]
    },
    {
      "cell_type": "code",
      "execution_count": 60,
      "metadata": {
        "id": "Wzu5hPCWf1Tw",
        "outputId": "a34d262d-cf05-4861-81cf-0efe9b0b965c",
        "colab": {
          "base_uri": "https://localhost:8080/"
        }
      },
      "outputs": [
        {
          "output_type": "execute_result",
          "data": {
            "text/plain": [
              "20692"
            ]
          },
          "metadata": {},
          "execution_count": 60
        }
      ],
      "source": [
        "# Solution goes here\n",
        "\n",
        "\n",
        "fp = open('2600-0.txt')\n",
        "unique_words = {}\n",
        "for line in fp:\n",
        "    for word in line.split():\n",
        "        clean = word.strip(all_punctuation)\n",
        "        unique_words[clean.lower()] = 1\n",
        "\n",
        "len(unique_words)\n"
      ]
    },
    {
      "cell_type": "markdown",
      "metadata": {
        "id": "wivGcuLQf1Tw"
      },
      "source": [
        "## Counting Word Frequencies\n",
        "\n",
        "In the previous section we counted the number of unique words, but we might also want to know how often each word appears.  Then we can find the most common and least common words in the book.\n",
        "To count the frequency of each word, we'll make a dictionary that maps from each word to the number of times it appears.\n",
        "\n",
        "Here's an example that loops through a string and counts the number of times each letter appears."
      ]
    },
    {
      "cell_type": "code",
      "execution_count": 61,
      "metadata": {
        "id": "U58UIViQf1Tw",
        "outputId": "052dac77-44df-4184-b7a5-2bbb28332d3f",
        "colab": {
          "base_uri": "https://localhost:8080/"
        }
      },
      "outputs": [
        {
          "output_type": "execute_result",
          "data": {
            "text/plain": [
              "{'M': 1, 'i': 4, 's': 4, 'p': 2}"
            ]
          },
          "metadata": {},
          "execution_count": 61
        }
      ],
      "source": [
        "word = 'Mississippi'\n",
        "\n",
        "letter_counts = {}\n",
        "for x in word:\n",
        "    if x in letter_counts:\n",
        "        letter_counts[x] += 1\n",
        "    else:\n",
        "        letter_counts[x] = 1\n",
        "\n",
        "letter_counts"
      ]
    },
    {
      "cell_type": "markdown",
      "metadata": {
        "id": "sjz49IYjf1Tw"
      },
      "source": [
        "The `if` statement includes a feature we have not seen before, an `else` clause.\n",
        "Here's how it works.\n",
        "\n",
        "1. First, it checks whether the letter, `x`, is already a key in the dictionary, `letter_counts`.\n",
        "\n",
        "2. If so, it runs the first statement, `letter_counts[x] += 1`, which increments the value associated with the letter.\n",
        "\n",
        "3. Otherwise, it runs the second statement, `letter_counts[x] = 1`, which adds `x` as a new key, with the value `1` indicating that we have seen the new letter once.\n",
        "\n",
        "The result is a dictionary that maps from each letter to the number of times it appears.\n",
        "To get the most common letters, we can use a `Counter`, which is similar to a dictionary.  To use it, we have to import a library called `collections`:"
      ]
    },
    {
      "cell_type": "code",
      "execution_count": 62,
      "metadata": {
        "id": "dnXgHCl5f1Tw"
      },
      "outputs": [],
      "source": [
        "import collections"
      ]
    },
    {
      "cell_type": "markdown",
      "metadata": {
        "id": "ETwYm7HPf1Tw"
      },
      "source": [
        "Then we use `collections.Counter` to convert the dictionary to a `Counter`:"
      ]
    },
    {
      "cell_type": "code",
      "execution_count": 63,
      "metadata": {
        "id": "yMWbRCG3f1Tx",
        "outputId": "05030f59-c7b6-48fb-b4f3-10945df6bc65",
        "colab": {
          "base_uri": "https://localhost:8080/",
          "height": 187
        }
      },
      "outputs": [
        {
          "output_type": "execute_result",
          "data": {
            "text/plain": [
              "collections.Counter"
            ],
            "text/html": [
              "<div style=\"max-width:800px; border: 1px solid var(--colab-border-color);\"><style>\n",
              "      pre.function-repr-contents {\n",
              "        overflow-x: auto;\n",
              "        padding: 8px 12px;\n",
              "        max-height: 500px;\n",
              "      }\n",
              "\n",
              "      pre.function-repr-contents.function-repr-contents-collapsed {\n",
              "        cursor: pointer;\n",
              "        max-height: 100px;\n",
              "      }\n",
              "    </style>\n",
              "    <pre style=\"white-space: initial; background:\n",
              "         var(--colab-secondary-surface-color); padding: 8px 12px;\n",
              "         border-bottom: 1px solid var(--colab-border-color);\"><b>collections.Counter</b><br/>def __init__(self, iterable=None, /, **kwds)</pre><pre class=\"function-repr-contents function-repr-contents-collapsed\" style=\"\"><a class=\"filepath\" style=\"display:none\" href=\"#\">/usr/lib/python3.11/collections/__init__.py</a>Dict subclass for counting hashable items.  Sometimes called a bag\n",
              "or multiset.  Elements are stored as dictionary keys and their counts\n",
              "are stored as dictionary values.\n",
              "\n",
              "&gt;&gt;&gt; c = Counter(&#x27;abcdeabcdabcaba&#x27;)  # count elements from a string\n",
              "\n",
              "&gt;&gt;&gt; c.most_common(3)                # three most common elements\n",
              "[(&#x27;a&#x27;, 5), (&#x27;b&#x27;, 4), (&#x27;c&#x27;, 3)]\n",
              "&gt;&gt;&gt; sorted(c)                       # list all unique elements\n",
              "[&#x27;a&#x27;, &#x27;b&#x27;, &#x27;c&#x27;, &#x27;d&#x27;, &#x27;e&#x27;]\n",
              "&gt;&gt;&gt; &#x27;&#x27;.join(sorted(c.elements()))   # list elements with repetitions\n",
              "&#x27;aaaaabbbbcccdde&#x27;\n",
              "&gt;&gt;&gt; sum(c.values())                 # total of all counts\n",
              "15\n",
              "\n",
              "&gt;&gt;&gt; c[&#x27;a&#x27;]                          # count of letter &#x27;a&#x27;\n",
              "5\n",
              "&gt;&gt;&gt; for elem in &#x27;shazam&#x27;:           # update counts from an iterable\n",
              "...     c[elem] += 1                # by adding 1 to each element&#x27;s count\n",
              "&gt;&gt;&gt; c[&#x27;a&#x27;]                          # now there are seven &#x27;a&#x27;\n",
              "7\n",
              "&gt;&gt;&gt; del c[&#x27;b&#x27;]                      # remove all &#x27;b&#x27;\n",
              "&gt;&gt;&gt; c[&#x27;b&#x27;]                          # now there are zero &#x27;b&#x27;\n",
              "0\n",
              "\n",
              "&gt;&gt;&gt; d = Counter(&#x27;simsalabim&#x27;)       # make another counter\n",
              "&gt;&gt;&gt; c.update(d)                     # add in the second counter\n",
              "&gt;&gt;&gt; c[&#x27;a&#x27;]                          # now there are nine &#x27;a&#x27;\n",
              "9\n",
              "\n",
              "&gt;&gt;&gt; c.clear()                       # empty the counter\n",
              "&gt;&gt;&gt; c\n",
              "Counter()\n",
              "\n",
              "Note:  If a count is set to zero or reduced to zero, it will remain\n",
              "in the counter until the entry is deleted or the counter is cleared:\n",
              "\n",
              "&gt;&gt;&gt; c = Counter(&#x27;aaabbc&#x27;)\n",
              "&gt;&gt;&gt; c[&#x27;b&#x27;] -= 2                     # reduce the count of &#x27;b&#x27; by two\n",
              "&gt;&gt;&gt; c.most_common()                 # &#x27;b&#x27; is still in, but its count is zero\n",
              "[(&#x27;a&#x27;, 3), (&#x27;c&#x27;, 1), (&#x27;b&#x27;, 0)]</pre>\n",
              "      <script>\n",
              "      if (google.colab.kernel.accessAllowed && google.colab.files && google.colab.files.view) {\n",
              "        for (const element of document.querySelectorAll('.filepath')) {\n",
              "          element.style.display = 'block'\n",
              "          element.onclick = (event) => {\n",
              "            event.preventDefault();\n",
              "            event.stopPropagation();\n",
              "            google.colab.files.view(element.textContent, 536);\n",
              "          };\n",
              "        }\n",
              "      }\n",
              "      for (const element of document.querySelectorAll('.function-repr-contents')) {\n",
              "        element.onclick = (event) => {\n",
              "          event.preventDefault();\n",
              "          event.stopPropagation();\n",
              "          element.classList.toggle('function-repr-contents-collapsed');\n",
              "        };\n",
              "      }\n",
              "      </script>\n",
              "      </div>"
            ]
          },
          "metadata": {},
          "execution_count": 63
        }
      ],
      "source": [
        "counter = collections.Counter(letter_counts)\n",
        "type(counter)"
      ]
    },
    {
      "cell_type": "markdown",
      "metadata": {
        "id": "jiTh9Qesf1Ty"
      },
      "source": [
        "`Counter` provides a function called `most_common` we can use to get the most common characters:"
      ]
    },
    {
      "cell_type": "code",
      "execution_count": 67,
      "metadata": {
        "id": "rebGNesLf1Ty",
        "outputId": "185d66ce-40aa-4a36-edac-60bdbfb1e60b",
        "colab": {
          "base_uri": "https://localhost:8080/"
        }
      },
      "outputs": [
        {
          "output_type": "execute_result",
          "data": {
            "text/plain": [
              "[('i', 4), ('s', 4), ('p', 2)]"
            ]
          },
          "metadata": {},
          "execution_count": 67
        }
      ],
      "source": [
        "counter.most_common(3)"
      ]
    },
    {
      "cell_type": "markdown",
      "metadata": {
        "id": "puNL6dGof1Tz"
      },
      "source": [
        "The result is a list of tuples, where each tuple contains a character and count, sorted by count."
      ]
    },
    {
      "cell_type": "markdown",
      "metadata": {
        "id": "mG3RAEbrf1Tz"
      },
      "source": [
        "**Exercise:** Modify the loop from the previous exercise to count the frequency of the words in *War and Peace*. Then print the 20 most common words and the number of times each one appears."
      ]
    },
    {
      "cell_type": "code",
      "execution_count": 79,
      "metadata": {
        "id": "7T9sfDGzf1T0"
      },
      "outputs": [],
      "source": [
        "# Solution goes here\n",
        "\n",
        "fp = open('2600-0.txt')\n",
        "unique_words = {}\n",
        "for line in fp:\n",
        "    for word in line.split():\n",
        "        clean = word.strip(all_punctuation)\n",
        "        key = clean.lower()\n",
        "        count = unique_words.setdefault(key, 0)\n",
        "        unique_words[key] = count + 1\n",
        "\n",
        "counter = collections.Counter(unique_words)\n"
      ]
    },
    {
      "cell_type": "markdown",
      "metadata": {
        "id": "8jNkiMPYf1T0"
      },
      "source": [
        "**Exercise:** You can run `most_common` with no value in parentheses, like this:\n",
        "\n",
        "```\n",
        "word_freq_pairs = counter.most_common()\n",
        "```\n",
        "\n",
        "The result is a list of tuples, with one tuple for every unique word in the book.\n",
        "Use it to answer the following questions:\n",
        "\n",
        "1. How many times does the #1 ranked word appear (that is, the first element of the list)?\n",
        "\n",
        "2. How many times does the #10 ranked word appear?\n",
        "\n",
        "3. How many times does the #100 ranked word appear?\n",
        "\n",
        "4. How many times does the #1000 ranked word appear?\n",
        "\n",
        "5. How many times does the #10000 ranked word appear?\n",
        "\n",
        "Do you see a pattern in the results?  We will explore this pattern more in the next chapter."
      ]
    },
    {
      "cell_type": "code",
      "execution_count": 88,
      "metadata": {
        "id": "O4s_tDYbf1T1",
        "outputId": "f25a525b-9e32-48c6-8f18-bb3527d090ca",
        "colab": {
          "base_uri": "https://localhost:8080/"
        }
      },
      "outputs": [
        {
          "output_type": "execute_result",
          "data": {
            "text/plain": [
              "('was', 7331)"
            ]
          },
          "metadata": {},
          "execution_count": 88
        }
      ],
      "source": [
        "# Solution goes here\n",
        "\n",
        "word_freq_pairs = counter.most_common()[9]\n",
        "\n",
        "word_freq_pairs"
      ]
    },
    {
      "cell_type": "code",
      "execution_count": null,
      "metadata": {
        "id": "d8dWroRPf1T1"
      },
      "outputs": [],
      "source": [
        "# Solution goes here"
      ]
    },
    {
      "cell_type": "code",
      "execution_count": null,
      "metadata": {
        "id": "a5EwY0Gqf1T1"
      },
      "outputs": [],
      "source": [
        "# Solution goes here"
      ]
    },
    {
      "cell_type": "code",
      "execution_count": null,
      "metadata": {
        "id": "8u7ZKV_8f1T1"
      },
      "outputs": [],
      "source": [
        "# Solution goes here"
      ]
    },
    {
      "cell_type": "code",
      "execution_count": null,
      "metadata": {
        "id": "goe86Ppqf1T1"
      },
      "outputs": [],
      "source": [
        "# Solution goes here"
      ]
    },
    {
      "cell_type": "markdown",
      "metadata": {
        "id": "RONSPlutf1T2"
      },
      "source": [
        "**Exercise:** Write a loop that counts how many words appear 200 times.  What are they?  How many words appear 100 times, 50 times, and 20 times?\n",
        "\n",
        "**Optional:** If you know how to define a function, write a function that takes a `Counter` and a frequency as arguments, prints all words with that frequency, and returns the number of words with that frequency."
      ]
    },
    {
      "cell_type": "code",
      "execution_count": 96,
      "metadata": {
        "id": "v5ijHfHIf1T2",
        "outputId": "511fd696-3a0e-4333-b27d-0f9c8037f644",
        "colab": {
          "base_uri": "https://localhost:8080/"
        }
      },
      "outputs": [
        {
          "output_type": "execute_result",
          "data": {
            "text/plain": [
              "['king',\n",
              " 'mentioned',\n",
              " 'gesture',\n",
              " 'relation',\n",
              " 'nose',\n",
              " 'wine',\n",
              " 'shouts',\n",
              " 'loud',\n",
              " 'common',\n",
              " 'interests',\n",
              " 'purpose',\n",
              " 'journey',\n",
              " 'darkness',\n",
              " 'division',\n",
              " 'burned',\n",
              " 'austerlitz']"
            ]
          },
          "metadata": {},
          "execution_count": 96
        }
      ],
      "source": [
        "# Solution goes here\n",
        "\n",
        "def print_freq (d, num):\n",
        "    res = []\n",
        "    for word in d:\n",
        "        if d[word] == num:\n",
        "            res.append(word)\n",
        "    return res\n",
        "\n",
        "\n",
        "print_freq(counter, 50)"
      ]
    },
    {
      "cell_type": "code",
      "execution_count": null,
      "metadata": {
        "id": "35EUW6Jzf1T2"
      },
      "outputs": [],
      "source": [
        "# Solution goes here"
      ]
    },
    {
      "cell_type": "code",
      "execution_count": null,
      "metadata": {
        "id": "U5plXDuJf1T2"
      },
      "outputs": [],
      "source": [
        "# Solution goes here"
      ]
    },
    {
      "cell_type": "code",
      "execution_count": null,
      "metadata": {
        "id": "u4BdOVRpf1T3"
      },
      "outputs": [],
      "source": [
        "# Solution goes here"
      ]
    },
    {
      "cell_type": "code",
      "execution_count": null,
      "metadata": {
        "id": "kBXSjcC7f1T3"
      },
      "outputs": [],
      "source": [
        "# Solution goes here"
      ]
    },
    {
      "cell_type": "markdown",
      "metadata": {
        "id": "XoWJHRGJf1T3"
      },
      "source": [
        "## Summary\n",
        "\n",
        "This chapter introduces dictionaries, which are collections of keys and corresponding values.\n",
        "We used a dictionary to count the number of unique words in a file and the number of times each one appears.\n",
        "\n",
        "It also introduces the bracket operator, which selects an element from a list or tuple, or looks up a key in a dictionary and finds the corresponding value.\n",
        "\n",
        "We saw some new methods for working with strings, including `lower` and `strip`.\n",
        "Also, we used the `unicodedata` library to identify characters that are considered punctuation."
      ]
    },
    {
      "cell_type": "markdown",
      "metadata": {
        "tags": [],
        "id": "02S6sSMHf1T3"
      },
      "source": [
        "*Elements of Data Science*\n",
        "\n",
        "Copyright 2021 [Allen B. Downey](https://allendowney.com)\n",
        "\n",
        "License: [Creative Commons Attribution-NonCommercial-ShareAlike 4.0 International](https://creativecommons.org/licenses/by-nc-sa/4.0/)"
      ]
    }
  ],
  "metadata": {
    "celltoolbar": "Tags",
    "kernelspec": {
      "display_name": "Python 3 (ipykernel)",
      "language": "python",
      "name": "python3"
    },
    "language_info": {
      "codemirror_mode": {
        "name": "ipython",
        "version": 3
      },
      "file_extension": ".py",
      "mimetype": "text/x-python",
      "name": "python",
      "nbconvert_exporter": "python",
      "pygments_lexer": "ipython3",
      "version": "3.10.14"
    },
    "colab": {
      "provenance": []
    }
  },
  "nbformat": 4,
  "nbformat_minor": 0
}